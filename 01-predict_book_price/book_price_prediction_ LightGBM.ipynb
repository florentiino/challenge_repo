{
 "cells": [
  {
   "cell_type": "code",
   "execution_count": 69,
   "id": "32392fa4",
   "metadata": {},
   "outputs": [],
   "source": [
    "# Data Manipulation\n",
    "import numpy as np\n",
    "import pandas as pd\n",
    "\n",
    "# Data Visualisation\n",
    "import matplotlib.pyplot as plt\n",
    "import seaborn as sns\n",
    "\n",
    "# Lists' manipulations\n",
    "import itertools\n",
    "\n",
    "# Gaussianity\n",
    "from statsmodels.graphics.gofplots import qqplot    # Gaussianity\n",
    "\n",
    "# Stats\n",
    "from scipy.stats import skew,kurtosis,zscore\n",
    "\n",
    "# Machine Learning - Preprocessing the Dataset\n",
    "from sklearn.preprocessing import RobustScaler      # Scaling Numerical Features\n",
    "from sklearn.preprocessing import OneHotEncoder     # Encoding Categorical Variables\n",
    "from sklearn.preprocessing import LabelEncoder     # Encoding the Target\n",
    "\n",
    "\n",
    "# Machine Learning - \"Workflow\"\n",
    "from sklearn.pipeline import Pipeline, make_pipeline\n",
    "from sklearn.impute import SimpleImputer\n",
    "from sklearn.compose import ColumnTransformer, make_column_selector\n",
    "from sklearn import set_config; set_config(display = \"diagram\")\n",
    "\n",
    "# Machine Learning - Tools\n",
    "from sklearn.model_selection import train_test_split\n",
    "from sklearn.model_selection import cross_validate\n",
    "import time\n",
    "\n",
    "# Classification Metrics\n",
    "from sklearn.metrics import confusion_matrix, ConfusionMatrixDisplay\n",
    "from sklearn.metrics import classification_report\n",
    "from sklearn.metrics import accuracy_score\n",
    "\n",
    "# Machine Learning Classifiers\n",
    "\n",
    "## Classics\n",
    "from sklearn.linear_model import LogisticRegression\n",
    "from sklearn.svm import SVC\n",
    "from sklearn.neighbors import KNeighborsClassifier\n",
    "\n",
    "## Decision Trees\n",
    "from sklearn.tree import DecisionTreeClassifier\n",
    "\n",
    "## Random Forests\n",
    "from sklearn.ensemble import RandomForestClassifier\n",
    "\n",
    "## Bootstrap Aggregating\n",
    "from sklearn.ensemble import BaggingClassifier\n",
    "\n",
    "## Adaboost\n",
    "from sklearn.ensemble import AdaBoostClassifier\n",
    "\n",
    "## Gradient Boosting\n",
    "from sklearn.ensemble import GradientBoostingClassifier\n",
    "\n",
    "## Extreme Gradient Tree Boosting\n",
    "from xgboost import XGBClassifier"
   ]
  },
  {
   "cell_type": "code",
   "execution_count": 71,
   "id": "59ffc405",
   "metadata": {},
   "outputs": [],
   "source": [
    "# Suppressing Warnings\n",
    "import warnings\n",
    "warnings.filterwarnings('ignore')"
   ]
  },
  {
   "cell_type": "code",
   "execution_count": 2,
   "id": "90a934fd",
   "metadata": {},
   "outputs": [],
   "source": [
    "# \"magic commands\" to enable autoreload of your imported packages\n",
    "%load_ext autoreload\n",
    "%autoreload 2"
   ]
  },
  {
   "cell_type": "code",
   "execution_count": 3,
   "id": "ea5b046f",
   "metadata": {},
   "outputs": [
    {
     "data": {
      "text/plain": [
       "'/Users/florianlanger/code/florentiino/competitions/01-predict_book_price'"
      ]
     },
     "execution_count": 3,
     "metadata": {},
     "output_type": "execute_result"
    }
   ],
   "source": [
    "# Check current working directory\n",
    "import os\n",
    "os.getcwd()"
   ]
  },
  {
   "cell_type": "code",
   "execution_count": 16,
   "id": "370f398e",
   "metadata": {
    "scrolled": true
   },
   "outputs": [
    {
     "data": {
      "text/html": [
       "<div>\n",
       "<style scoped>\n",
       "    .dataframe tbody tr th:only-of-type {\n",
       "        vertical-align: middle;\n",
       "    }\n",
       "\n",
       "    .dataframe tbody tr th {\n",
       "        vertical-align: top;\n",
       "    }\n",
       "\n",
       "    .dataframe thead th {\n",
       "        text-align: right;\n",
       "    }\n",
       "</style>\n",
       "<table border=\"1\" class=\"dataframe\">\n",
       "  <thead>\n",
       "    <tr style=\"text-align: right;\">\n",
       "      <th></th>\n",
       "      <th>Title</th>\n",
       "      <th>Author</th>\n",
       "      <th>Edition</th>\n",
       "      <th>Reviews</th>\n",
       "      <th>Ratings</th>\n",
       "      <th>Synopsis</th>\n",
       "      <th>Genre</th>\n",
       "      <th>BookCategory</th>\n",
       "      <th>Price</th>\n",
       "    </tr>\n",
       "  </thead>\n",
       "  <tbody>\n",
       "    <tr>\n",
       "      <th>0</th>\n",
       "      <td>The Prisoner's Gold (The Hunters 3)</td>\n",
       "      <td>Chris Kuzneski</td>\n",
       "      <td>Paperback,– 10 Mar 2016</td>\n",
       "      <td>4.0 out of 5 stars</td>\n",
       "      <td>8 customer reviews</td>\n",
       "      <td>THE HUNTERS return in their third brilliant no...</td>\n",
       "      <td>Action &amp; Adventure (Books)</td>\n",
       "      <td>Action &amp; Adventure</td>\n",
       "      <td>220.00</td>\n",
       "    </tr>\n",
       "    <tr>\n",
       "      <th>1</th>\n",
       "      <td>Guru Dutt: A Tragedy in Three Acts</td>\n",
       "      <td>Arun Khopkar</td>\n",
       "      <td>Paperback,– 7 Nov 2012</td>\n",
       "      <td>3.9 out of 5 stars</td>\n",
       "      <td>14 customer reviews</td>\n",
       "      <td>A layered portrait of a troubled genius for wh...</td>\n",
       "      <td>Cinema &amp; Broadcast (Books)</td>\n",
       "      <td>Biographies, Diaries &amp; True Accounts</td>\n",
       "      <td>202.93</td>\n",
       "    </tr>\n",
       "    <tr>\n",
       "      <th>2</th>\n",
       "      <td>Leviathan (Penguin Classics)</td>\n",
       "      <td>Thomas Hobbes</td>\n",
       "      <td>Paperback,– 25 Feb 1982</td>\n",
       "      <td>4.8 out of 5 stars</td>\n",
       "      <td>6 customer reviews</td>\n",
       "      <td>\"During the time men live without a common Pow...</td>\n",
       "      <td>International Relations</td>\n",
       "      <td>Humour</td>\n",
       "      <td>299.00</td>\n",
       "    </tr>\n",
       "    <tr>\n",
       "      <th>3</th>\n",
       "      <td>A Pocket Full of Rye (Miss Marple)</td>\n",
       "      <td>Agatha Christie</td>\n",
       "      <td>Paperback,– 5 Oct 2017</td>\n",
       "      <td>4.1 out of 5 stars</td>\n",
       "      <td>13 customer reviews</td>\n",
       "      <td>A handful of grain is found in the pocket of a...</td>\n",
       "      <td>Contemporary Fiction (Books)</td>\n",
       "      <td>Crime, Thriller &amp; Mystery</td>\n",
       "      <td>180.00</td>\n",
       "    </tr>\n",
       "    <tr>\n",
       "      <th>4</th>\n",
       "      <td>LIFE 70 Years of Extraordinary Photography</td>\n",
       "      <td>Editors of Life</td>\n",
       "      <td>Hardcover,– 10 Oct 2006</td>\n",
       "      <td>5.0 out of 5 stars</td>\n",
       "      <td>1 customer review</td>\n",
       "      <td>For seven decades, \"Life\" has been thrilling t...</td>\n",
       "      <td>Photography Textbooks</td>\n",
       "      <td>Arts, Film &amp; Photography</td>\n",
       "      <td>965.62</td>\n",
       "    </tr>\n",
       "  </tbody>\n",
       "</table>\n",
       "</div>"
      ],
      "text/plain": [
       "                                        Title           Author  \\\n",
       "0         The Prisoner's Gold (The Hunters 3)   Chris Kuzneski   \n",
       "1          Guru Dutt: A Tragedy in Three Acts     Arun Khopkar   \n",
       "2                Leviathan (Penguin Classics)    Thomas Hobbes   \n",
       "3          A Pocket Full of Rye (Miss Marple)  Agatha Christie   \n",
       "4  LIFE 70 Years of Extraordinary Photography  Editors of Life   \n",
       "\n",
       "                   Edition             Reviews              Ratings  \\\n",
       "0  Paperback,– 10 Mar 2016  4.0 out of 5 stars   8 customer reviews   \n",
       "1   Paperback,– 7 Nov 2012  3.9 out of 5 stars  14 customer reviews   \n",
       "2  Paperback,– 25 Feb 1982  4.8 out of 5 stars   6 customer reviews   \n",
       "3   Paperback,– 5 Oct 2017  4.1 out of 5 stars  13 customer reviews   \n",
       "4  Hardcover,– 10 Oct 2006  5.0 out of 5 stars    1 customer review   \n",
       "\n",
       "                                            Synopsis  \\\n",
       "0  THE HUNTERS return in their third brilliant no...   \n",
       "1  A layered portrait of a troubled genius for wh...   \n",
       "2  \"During the time men live without a common Pow...   \n",
       "3  A handful of grain is found in the pocket of a...   \n",
       "4  For seven decades, \"Life\" has been thrilling t...   \n",
       "\n",
       "                          Genre                          BookCategory   Price  \n",
       "0    Action & Adventure (Books)                    Action & Adventure  220.00  \n",
       "1    Cinema & Broadcast (Books)  Biographies, Diaries & True Accounts  202.93  \n",
       "2       International Relations                                Humour  299.00  \n",
       "3  Contemporary Fiction (Books)             Crime, Thriller & Mystery  180.00  \n",
       "4         Photography Textbooks              Arts, Film & Photography  965.62  "
      ]
     },
     "execution_count": 16,
     "metadata": {},
     "output_type": "execute_result"
    }
   ],
   "source": [
    "train = pd.read_excel('/Users/florianlanger/code/florentiino/competitions/01-predict_book_price/Participants_Data/Data_Train.xlsx')\n",
    "train.head()"
   ]
  },
  {
   "cell_type": "code",
   "execution_count": 17,
   "id": "63c8eb54",
   "metadata": {},
   "outputs": [
    {
     "data": {
      "text/html": [
       "<div>\n",
       "<style scoped>\n",
       "    .dataframe tbody tr th:only-of-type {\n",
       "        vertical-align: middle;\n",
       "    }\n",
       "\n",
       "    .dataframe tbody tr th {\n",
       "        vertical-align: top;\n",
       "    }\n",
       "\n",
       "    .dataframe thead th {\n",
       "        text-align: right;\n",
       "    }\n",
       "</style>\n",
       "<table border=\"1\" class=\"dataframe\">\n",
       "  <thead>\n",
       "    <tr style=\"text-align: right;\">\n",
       "      <th></th>\n",
       "      <th>Title</th>\n",
       "      <th>Author</th>\n",
       "      <th>Edition</th>\n",
       "      <th>Reviews</th>\n",
       "      <th>Ratings</th>\n",
       "      <th>Synopsis</th>\n",
       "      <th>Genre</th>\n",
       "      <th>BookCategory</th>\n",
       "    </tr>\n",
       "  </thead>\n",
       "  <tbody>\n",
       "    <tr>\n",
       "      <th>0</th>\n",
       "      <td>The Complete Sherlock Holmes: 2 Boxes sets</td>\n",
       "      <td>Sir Arthur Conan Doyle</td>\n",
       "      <td>Mass Market Paperback,– 1 Oct 1986</td>\n",
       "      <td>4.4 out of 5 stars</td>\n",
       "      <td>960 customer reviews</td>\n",
       "      <td>A collection of entire body of work of the She...</td>\n",
       "      <td>Short Stories (Books)</td>\n",
       "      <td>Crime, Thriller &amp; Mystery</td>\n",
       "    </tr>\n",
       "    <tr>\n",
       "      <th>1</th>\n",
       "      <td>Learn Docker - Fundamentals of Docker 18.x: Ev...</td>\n",
       "      <td>Gabriel N. Schenker</td>\n",
       "      <td>Paperback,– Import, 26 Apr 2018</td>\n",
       "      <td>5.0 out of 5 stars</td>\n",
       "      <td>1 customer review</td>\n",
       "      <td>Enhance your software deployment workflow usin...</td>\n",
       "      <td>Operating Systems Textbooks</td>\n",
       "      <td>Computing, Internet &amp; Digital Media</td>\n",
       "    </tr>\n",
       "    <tr>\n",
       "      <th>2</th>\n",
       "      <td>Big Girl</td>\n",
       "      <td>Danielle Steel</td>\n",
       "      <td>Paperback,– 17 Mar 2011</td>\n",
       "      <td>5.0 out of 5 stars</td>\n",
       "      <td>4 customer reviews</td>\n",
       "      <td>'Watch out, world. Here I come!'\\nFor Victoria...</td>\n",
       "      <td>Romance (Books)</td>\n",
       "      <td>Romance</td>\n",
       "    </tr>\n",
       "    <tr>\n",
       "      <th>3</th>\n",
       "      <td>Think Python: How to Think Like a Computer Sci...</td>\n",
       "      <td>Allen B. Downey</td>\n",
       "      <td>Paperback,– 2016</td>\n",
       "      <td>4.1 out of 5 stars</td>\n",
       "      <td>11 customer reviews</td>\n",
       "      <td>If you want to learn how to program, working w...</td>\n",
       "      <td>Programming &amp; Software Development (Books)</td>\n",
       "      <td>Computing, Internet &amp; Digital Media</td>\n",
       "    </tr>\n",
       "    <tr>\n",
       "      <th>4</th>\n",
       "      <td>Oxford Word Skills: Advanced - Idioms &amp; Phrasa...</td>\n",
       "      <td>Redman Gairns</td>\n",
       "      <td>Paperback,– 26 Dec 2011</td>\n",
       "      <td>4.4 out of 5 stars</td>\n",
       "      <td>9 customer reviews</td>\n",
       "      <td>Learn and practise the verbs, prepositions and...</td>\n",
       "      <td>Linguistics (Books)</td>\n",
       "      <td>Language, Linguistics &amp; Writing</td>\n",
       "    </tr>\n",
       "  </tbody>\n",
       "</table>\n",
       "</div>"
      ],
      "text/plain": [
       "                                               Title                  Author  \\\n",
       "0         The Complete Sherlock Holmes: 2 Boxes sets  Sir Arthur Conan Doyle   \n",
       "1  Learn Docker - Fundamentals of Docker 18.x: Ev...     Gabriel N. Schenker   \n",
       "2                                           Big Girl          Danielle Steel   \n",
       "3  Think Python: How to Think Like a Computer Sci...         Allen B. Downey   \n",
       "4  Oxford Word Skills: Advanced - Idioms & Phrasa...           Redman Gairns   \n",
       "\n",
       "                              Edition             Reviews  \\\n",
       "0  Mass Market Paperback,– 1 Oct 1986  4.4 out of 5 stars   \n",
       "1     Paperback,– Import, 26 Apr 2018  5.0 out of 5 stars   \n",
       "2             Paperback,– 17 Mar 2011  5.0 out of 5 stars   \n",
       "3                    Paperback,– 2016  4.1 out of 5 stars   \n",
       "4             Paperback,– 26 Dec 2011  4.4 out of 5 stars   \n",
       "\n",
       "                Ratings                                           Synopsis  \\\n",
       "0  960 customer reviews  A collection of entire body of work of the She...   \n",
       "1     1 customer review  Enhance your software deployment workflow usin...   \n",
       "2    4 customer reviews  'Watch out, world. Here I come!'\\nFor Victoria...   \n",
       "3   11 customer reviews  If you want to learn how to program, working w...   \n",
       "4    9 customer reviews  Learn and practise the verbs, prepositions and...   \n",
       "\n",
       "                                        Genre  \\\n",
       "0                       Short Stories (Books)   \n",
       "1                 Operating Systems Textbooks   \n",
       "2                             Romance (Books)   \n",
       "3  Programming & Software Development (Books)   \n",
       "4                         Linguistics (Books)   \n",
       "\n",
       "                          BookCategory  \n",
       "0            Crime, Thriller & Mystery  \n",
       "1  Computing, Internet & Digital Media  \n",
       "2                              Romance  \n",
       "3  Computing, Internet & Digital Media  \n",
       "4      Language, Linguistics & Writing  "
      ]
     },
     "execution_count": 17,
     "metadata": {},
     "output_type": "execute_result"
    }
   ],
   "source": [
    "test = pd.read_excel('/Users/florianlanger/code/florentiino/competitions/01-predict_book_price/Participants_Data/Data_Test.xlsx')\n",
    "test.head()"
   ]
  },
  {
   "cell_type": "code",
   "execution_count": 20,
   "id": "b8f6cedd",
   "metadata": {},
   "outputs": [
    {
     "name": "stdout",
     "output_type": "stream",
     "text": [
      "(6237, 9)\n",
      "(1560, 8)\n"
     ]
    }
   ],
   "source": [
    "print(train.shape)\n",
    "print(test.shape)"
   ]
  },
  {
   "cell_type": "code",
   "execution_count": 21,
   "id": "dd1fd93b",
   "metadata": {},
   "outputs": [
    {
     "name": "stdout",
     "output_type": "stream",
     "text": [
      "<class 'pandas.core.frame.DataFrame'>\n",
      "RangeIndex: 6237 entries, 0 to 6236\n",
      "Data columns (total 9 columns):\n",
      " #   Column        Non-Null Count  Dtype  \n",
      "---  ------        --------------  -----  \n",
      " 0   Title         6237 non-null   object \n",
      " 1   Author        6237 non-null   object \n",
      " 2   Edition       6237 non-null   object \n",
      " 3   Reviews       6237 non-null   object \n",
      " 4   Ratings       6237 non-null   object \n",
      " 5   Synopsis      6237 non-null   object \n",
      " 6   Genre         6237 non-null   object \n",
      " 7   BookCategory  6237 non-null   object \n",
      " 8   Price         6237 non-null   float64\n",
      "dtypes: float64(1), object(8)\n",
      "memory usage: 438.7+ KB\n",
      "None\n",
      "<class 'pandas.core.frame.DataFrame'>\n",
      "RangeIndex: 1560 entries, 0 to 1559\n",
      "Data columns (total 8 columns):\n",
      " #   Column        Non-Null Count  Dtype \n",
      "---  ------        --------------  ----- \n",
      " 0   Title         1560 non-null   object\n",
      " 1   Author        1560 non-null   object\n",
      " 2   Edition       1560 non-null   object\n",
      " 3   Reviews       1560 non-null   object\n",
      " 4   Ratings       1560 non-null   object\n",
      " 5   Synopsis      1560 non-null   object\n",
      " 6   Genre         1560 non-null   object\n",
      " 7   BookCategory  1560 non-null   object\n",
      "dtypes: object(8)\n",
      "memory usage: 97.6+ KB\n",
      "None\n"
     ]
    }
   ],
   "source": [
    "print(train.info())\n",
    "print(test.info())"
   ]
  },
  {
   "cell_type": "code",
   "execution_count": 23,
   "id": "bdd289e8",
   "metadata": {},
   "outputs": [
    {
     "data": {
      "text/plain": [
       "Title           0\n",
       "Author          0\n",
       "Edition         0\n",
       "Reviews         0\n",
       "Ratings         0\n",
       "Synopsis        0\n",
       "Genre           0\n",
       "BookCategory    0\n",
       "dtype: int64"
      ]
     },
     "execution_count": 23,
     "metadata": {},
     "output_type": "execute_result"
    }
   ],
   "source": [
    "## missing values\n",
    "test.isna().sum()"
   ]
  },
  {
   "cell_type": "code",
   "execution_count": 25,
   "id": "c5539d45",
   "metadata": {},
   "outputs": [
    {
     "data": {
      "text/plain": [
       "Title           0\n",
       "Author          0\n",
       "Edition         0\n",
       "Reviews         0\n",
       "Ratings         0\n",
       "Synopsis        0\n",
       "Genre           0\n",
       "BookCategory    0\n",
       "Price           0\n",
       "dtype: int64"
      ]
     },
     "execution_count": 25,
     "metadata": {},
     "output_type": "execute_result"
    }
   ],
   "source": [
    "train.isna().sum()"
   ]
  },
  {
   "cell_type": "markdown",
   "id": "5eef48ac",
   "metadata": {},
   "source": [
    "> * Feature engineering "
   ]
  },
  {
   "cell_type": "code",
   "execution_count": 26,
   "id": "b7e057a5",
   "metadata": {},
   "outputs": [],
   "source": [
    "#having numerical values for reviews\n",
    "train['Reviews'] = train['Reviews'].apply(lambda x: float(x.split()[0]))\n",
    "test['Reviews'] = test['Reviews'].apply(lambda x: float(x.split()[0]))"
   ]
  },
  {
   "cell_type": "code",
   "execution_count": 27,
   "id": "6905edb4",
   "metadata": {},
   "outputs": [],
   "source": [
    "# having numerical values for ratings\n",
    "train['Ratings'] = train['Ratings'].apply(lambda x: (x.split()[0].replace(',',''))).astype(int)\n",
    "test['Ratings'] = test['Ratings'].apply(lambda x: (x.split()[0].replace(',',''))).astype(int)"
   ]
  },
  {
   "cell_type": "code",
   "execution_count": 28,
   "id": "d8dec474",
   "metadata": {},
   "outputs": [
    {
     "data": {
      "text/plain": [
       "1      1040\n",
       "2       708\n",
       "3       491\n",
       "4       355\n",
       "5       300\n",
       "       ... \n",
       "207       1\n",
       "764       1\n",
       "279       1\n",
       "255       1\n",
       "483       1\n",
       "Name: Ratings, Length: 342, dtype: int64"
      ]
     },
     "execution_count": 28,
     "metadata": {},
     "output_type": "execute_result"
    }
   ],
   "source": [
    "train['Ratings'].value_counts()"
   ]
  },
  {
   "cell_type": "code",
   "execution_count": 30,
   "id": "fb34a070",
   "metadata": {},
   "outputs": [],
   "source": [
    "def lowercase(df,cols):\n",
    "    for col in cols:\n",
    "        df[col] = df[col].str.lower()"
   ]
  },
  {
   "cell_type": "code",
   "execution_count": 34,
   "id": "95faba80",
   "metadata": {},
   "outputs": [],
   "source": [
    "# standardize categorical features \n",
    "cols = ['Title','Author','Edition','Synopsis','Genre','BookCategory']\n",
    "\n",
    "#train dataset\n",
    "lowercase(train,cols)\n",
    "#teset dataset\n",
    "lowercase(test,cols)"
   ]
  },
  {
   "cell_type": "code",
   "execution_count": 39,
   "id": "3501911e",
   "metadata": {},
   "outputs": [],
   "source": [
    "# making genre more clean by removing \"books\" and \"textbooks\"\n",
    "train.Genre = train.Genre.apply(lambda x: x.strip('(books)').strip('Textbooks'))\n",
    "test.Genre = test.Genre.apply(lambda x: x.strip('(books)').strip('Textbooks'))"
   ]
  },
  {
   "cell_type": "code",
   "execution_count": 40,
   "id": "8780b96e",
   "metadata": {},
   "outputs": [
    {
     "data": {
      "text/html": [
       "<div>\n",
       "<style scoped>\n",
       "    .dataframe tbody tr th:only-of-type {\n",
       "        vertical-align: middle;\n",
       "    }\n",
       "\n",
       "    .dataframe tbody tr th {\n",
       "        vertical-align: top;\n",
       "    }\n",
       "\n",
       "    .dataframe thead th {\n",
       "        text-align: right;\n",
       "    }\n",
       "</style>\n",
       "<table border=\"1\" class=\"dataframe\">\n",
       "  <thead>\n",
       "    <tr style=\"text-align: right;\">\n",
       "      <th></th>\n",
       "      <th>Title</th>\n",
       "      <th>Author</th>\n",
       "      <th>Edition</th>\n",
       "      <th>Reviews</th>\n",
       "      <th>Ratings</th>\n",
       "      <th>Synopsis</th>\n",
       "      <th>Genre</th>\n",
       "      <th>BookCategory</th>\n",
       "      <th>Price</th>\n",
       "    </tr>\n",
       "  </thead>\n",
       "  <tbody>\n",
       "    <tr>\n",
       "      <th>0</th>\n",
       "      <td>the prisoner's gold (the hunters 3)</td>\n",
       "      <td>chris kuzneski</td>\n",
       "      <td>paperback,– 10 mar 2016</td>\n",
       "      <td>4.0</td>\n",
       "      <td>8</td>\n",
       "      <td>the hunters return in their third brilliant no...</td>\n",
       "      <td>action &amp; adventure</td>\n",
       "      <td>action &amp; adventure</td>\n",
       "      <td>220.00</td>\n",
       "    </tr>\n",
       "    <tr>\n",
       "      <th>1</th>\n",
       "      <td>guru dutt: a tragedy in three acts</td>\n",
       "      <td>arun khopkar</td>\n",
       "      <td>paperback,– 7 nov 2012</td>\n",
       "      <td>3.9</td>\n",
       "      <td>14</td>\n",
       "      <td>a layered portrait of a troubled genius for wh...</td>\n",
       "      <td>cinema &amp; broadcast</td>\n",
       "      <td>biographies, diaries &amp; true accounts</td>\n",
       "      <td>202.93</td>\n",
       "    </tr>\n",
       "    <tr>\n",
       "      <th>2</th>\n",
       "      <td>leviathan (penguin classics)</td>\n",
       "      <td>thomas hobbes</td>\n",
       "      <td>paperback,– 25 feb 1982</td>\n",
       "      <td>4.8</td>\n",
       "      <td>6</td>\n",
       "      <td>\"during the time men live without a common pow...</td>\n",
       "      <td>international relation</td>\n",
       "      <td>humour</td>\n",
       "      <td>299.00</td>\n",
       "    </tr>\n",
       "  </tbody>\n",
       "</table>\n",
       "</div>"
      ],
      "text/plain": [
       "                                 Title          Author  \\\n",
       "0  the prisoner's gold (the hunters 3)  chris kuzneski   \n",
       "1   guru dutt: a tragedy in three acts    arun khopkar   \n",
       "2         leviathan (penguin classics)   thomas hobbes   \n",
       "\n",
       "                   Edition  Reviews  Ratings  \\\n",
       "0  paperback,– 10 mar 2016      4.0        8   \n",
       "1   paperback,– 7 nov 2012      3.9       14   \n",
       "2  paperback,– 25 feb 1982      4.8        6   \n",
       "\n",
       "                                            Synopsis                   Genre  \\\n",
       "0  the hunters return in their third brilliant no...     action & adventure    \n",
       "1  a layered portrait of a troubled genius for wh...     cinema & broadcast    \n",
       "2  \"during the time men live without a common pow...  international relation   \n",
       "\n",
       "                           BookCategory   Price  \n",
       "0                    action & adventure  220.00  \n",
       "1  biographies, diaries & true accounts  202.93  \n",
       "2                                humour  299.00  "
      ]
     },
     "execution_count": 40,
     "metadata": {},
     "output_type": "execute_result"
    }
   ],
   "source": [
    "train.head(3)"
   ]
  },
  {
   "cell_type": "code",
   "execution_count": 41,
   "id": "29b4da06",
   "metadata": {},
   "outputs": [],
   "source": [
    "# 'Extracting' year of publish from the Edition column\n",
    "train['Edition_Year'] = train['Edition'].apply(lambda x: x.split()[-1] if x.split()[-1].isdigit() else 'na')\n",
    "test['Edition_Year'] = test['Edition'].apply(lambda x: x.split()[-1] if x.split()[-1].isdigit() else 'na')"
   ]
  },
  {
   "cell_type": "code",
   "execution_count": 43,
   "id": "70bf42f8",
   "metadata": {},
   "outputs": [
    {
     "data": {
      "text/html": [
       "<div>\n",
       "<style scoped>\n",
       "    .dataframe tbody tr th:only-of-type {\n",
       "        vertical-align: middle;\n",
       "    }\n",
       "\n",
       "    .dataframe tbody tr th {\n",
       "        vertical-align: top;\n",
       "    }\n",
       "\n",
       "    .dataframe thead th {\n",
       "        text-align: right;\n",
       "    }\n",
       "</style>\n",
       "<table border=\"1\" class=\"dataframe\">\n",
       "  <thead>\n",
       "    <tr style=\"text-align: right;\">\n",
       "      <th></th>\n",
       "      <th>Title</th>\n",
       "      <th>Author</th>\n",
       "      <th>Edition</th>\n",
       "      <th>Reviews</th>\n",
       "      <th>Ratings</th>\n",
       "      <th>Synopsis</th>\n",
       "      <th>Genre</th>\n",
       "      <th>BookCategory</th>\n",
       "      <th>Price</th>\n",
       "      <th>Edition_Year</th>\n",
       "    </tr>\n",
       "  </thead>\n",
       "  <tbody>\n",
       "    <tr>\n",
       "      <th>5364</th>\n",
       "      <td>golden son: red rising series 2</td>\n",
       "      <td>pierce brown</td>\n",
       "      <td>paperback,– 24 sep 2015</td>\n",
       "      <td>5.0</td>\n",
       "      <td>2</td>\n",
       "      <td>ender's game meets the hunger games in morning...</td>\n",
       "      <td>action &amp; adventure</td>\n",
       "      <td>action &amp; adventure</td>\n",
       "      <td>599.0</td>\n",
       "      <td>2015</td>\n",
       "    </tr>\n",
       "    <tr>\n",
       "      <th>5346</th>\n",
       "      <td>john thompson's easiest piano course 4</td>\n",
       "      <td>john thompson</td>\n",
       "      <td>paperback,– 1 jul 2005</td>\n",
       "      <td>5.0</td>\n",
       "      <td>1</td>\n",
       "      <td>(willis). a comprehensive step-by-step course ...</td>\n",
       "      <td>music</td>\n",
       "      <td>arts, film &amp; photography</td>\n",
       "      <td>429.0</td>\n",
       "      <td>2005</td>\n",
       "    </tr>\n",
       "  </tbody>\n",
       "</table>\n",
       "</div>"
      ],
      "text/plain": [
       "                                       Title         Author  \\\n",
       "5364         golden son: red rising series 2   pierce brown   \n",
       "5346  john thompson's easiest piano course 4  john thompson   \n",
       "\n",
       "                      Edition  Reviews  Ratings  \\\n",
       "5364  paperback,– 24 sep 2015      5.0        2   \n",
       "5346   paperback,– 1 jul 2005      5.0        1   \n",
       "\n",
       "                                               Synopsis                Genre  \\\n",
       "5364  ender's game meets the hunger games in morning...  action & adventure    \n",
       "5346  (willis). a comprehensive step-by-step course ...               music    \n",
       "\n",
       "                  BookCategory  Price Edition_Year  \n",
       "5364        action & adventure  599.0         2015  \n",
       "5346  arts, film & photography  429.0         2005  "
      ]
     },
     "execution_count": 43,
     "metadata": {},
     "output_type": "execute_result"
    }
   ],
   "source": [
    "train.sample(2)"
   ]
  },
  {
   "cell_type": "code",
   "execution_count": 58,
   "id": "6276be98",
   "metadata": {},
   "outputs": [],
   "source": [
    "## plotting the data\n",
    "def Analysis(df,Cols,hue=None):\n",
    "    plt.figure(figsize=(25,10))\n",
    "    fig = 1\n",
    "    i = (len(Cols)//5)+1\n",
    "    for col in Cols:\n",
    "        plt.subplot(i, 5, fig)\n",
    "        title = str(col)+\" Analysis\"\n",
    "        plot = sns.barplot(data=df,x=col,y='Price',palette='coolwarm',ci=None,order=sorted(df[col].unique()),hue=hue)\n",
    "        plot.set_title(title)\n",
    "        fig = fig+1"
   ]
  },
  {
   "cell_type": "code",
   "execution_count": 60,
   "id": "758bd169",
   "metadata": {},
   "outputs": [
    {
     "data": {
      "image/png": "[encoded data removed]",
      "text/plain": [
       "<Figure size 1440x504 with 1 Axes>"
      ]
     },
     "metadata": {
      "needs_background": "light"
     },
     "output_type": "display_data"
    }
   ],
   "source": [
    "plt.figure(figsize=(20,7))\n",
    "sns.barplot(data=train,x='BookCategory',y='Price',palette='inferno',ci=None,order=sorted(train['BookCategory'].unique()),hue=None)\n",
    "plt.xticks(rotation=90)\n",
    "plt.show()"
   ]
  },
  {
   "cell_type": "code",
   "execution_count": 61,
   "id": "1d5101ad",
   "metadata": {},
   "outputs": [],
   "source": [
    "## numerical features"
   ]
  },
  {
   "cell_type": "code",
   "execution_count": 80,
   "id": "ece26d2e",
   "metadata": {},
   "outputs": [
    {
     "data": {
      "text/plain": [
       "<AxesSubplot:xlabel='Price', ylabel='Count'>"
      ]
     },
     "execution_count": 80,
     "metadata": {},
     "output_type": "execute_result"
    },
    {
     "data": {
      "image/png": "[encoded data removed]",
      "text/plain": [
       "<Figure size 432x288 with 1 Axes>"
      ]
     },
     "metadata": {
      "needs_background": "light"
     },
     "output_type": "display_data"
    }
   ],
   "source": [
    "sns.histplot(x = train['Price'], kde=True)"
   ]
  },
  {
   "cell_type": "code",
   "execution_count": 62,
   "id": "6b487a92",
   "metadata": {},
   "outputs": [
    {
     "data": {
      "text/plain": [
       "Reviews    float64\n",
       "Ratings      int64\n",
       "Price      float64\n",
       "dtype: object"
      ]
     },
     "execution_count": 62,
     "metadata": {},
     "output_type": "execute_result"
    }
   ],
   "source": [
    "train_num = train.select_dtypes(exclude = [\"object\"])\n",
    "train_num.dtypes"
   ]
  },
  {
   "cell_type": "markdown",
   "id": "ff81b1c7",
   "metadata": {},
   "source": [
    "https://stats.stackexchange.com/questions/20793/what-is-gaussianity-and-how-do-you-perform-gaussianity-testing-in-macroeconom"
   ]
  },
  {
   "cell_type": "code",
   "execution_count": 65,
   "id": "f421bfce",
   "metadata": {},
   "outputs": [],
   "source": [
    "#Function to check the distribution across the numeric data in the dataset\n",
    "def distribution_check(df,Cols):\n",
    "    plt.figure(figsize=(25,7))\n",
    "    fig = 1\n",
    "    i = (len(Cols)//3)+1\n",
    "    for col in Cols:\n",
    "        sk = \" Skewness : \" + str(skew(df[col])) +\"\\nKurtosis :\" + str(kurtosis(df[col]))\n",
    "        plt.subplot(i, 3, fig)\n",
    "        sns.distplot(df[col]).set_title(sk)\n",
    "        fig = fig+1"
   ]
  },
  {
   "cell_type": "code",
   "execution_count": 72,
   "id": "c4f030f6",
   "metadata": {},
   "outputs": [
    {
     "data": {
      "image/png": "[encoded data removed]",
      "text/plain": [
       "<Figure size 1800x504 with 3 Axes>"
      ]
     },
     "metadata": {
      "needs_background": "light"
     },
     "output_type": "display_data"
    }
   ],
   "source": [
    "distribution_check(train,['Price','Reviews','Ratings'])"
   ]
  },
  {
   "cell_type": "code",
   "execution_count": 83,
   "id": "947f9e61",
   "metadata": {},
   "outputs": [
    {
     "data": {
      "text/plain": [
       "<AxesSubplot:>"
      ]
     },
     "execution_count": 83,
     "metadata": {},
     "output_type": "execute_result"
    },
    {
     "data": {
      "image/png": "[encoded data removed]",
      "text/plain": [
       "<Figure size 432x288 with 2 Axes>"
      ]
     },
     "metadata": {
      "needs_background": "light"
     },
     "output_type": "display_data"
    }
   ],
   "source": [
    "sns.heatmap(train.corr(),annot=True,cmap='coolwarm')\n"
   ]
  },
  {
   "cell_type": "code",
   "execution_count": 84,
   "id": "03db068d",
   "metadata": {},
   "outputs": [],
   "source": [
    "from sklearn.preprocessing import PowerTransformer\n",
    "power = PowerTransformer()"
   ]
  },
  {
   "cell_type": "code",
   "execution_count": 85,
   "id": "18b67f20",
   "metadata": {},
   "outputs": [],
   "source": [
    "train[['Reviews']] = power.fit_transform(train[['Reviews']])\n",
    "train[['Ratings']] = power.fit_transform(train[['Ratings']])\n",
    "train[['Price']] = power.fit_transform(train[['Price']])"
   ]
  },
  {
   "cell_type": "code",
   "execution_count": 86,
   "id": "fbe4a84b",
   "metadata": {},
   "outputs": [
    {
     "data": {
      "image/png": "[encoded data removed]",
      "text/plain": [
       "<Figure size 1800x504 with 3 Axes>"
      ]
     },
     "metadata": {
      "needs_background": "light"
     },
     "output_type": "display_data"
    }
   ],
   "source": [
    "distribution_check(train,['Price','Reviews','Ratings'])"
   ]
  },
  {
   "cell_type": "code",
   "execution_count": 87,
   "id": "b1db5e0e",
   "metadata": {},
   "outputs": [],
   "source": [
    "test[['Reviews']] = power.transform(test[['Reviews']])\n",
    "test[['Ratings']] = power.transform(test[['Ratings']])"
   ]
  },
  {
   "cell_type": "code",
   "execution_count": 88,
   "id": "b3d545db",
   "metadata": {},
   "outputs": [
    {
     "data": {
      "image/png": "[encoded data removed]",
      "text/plain": [
       "<Figure size 1800x504 with 2 Axes>"
      ]
     },
     "metadata": {
      "needs_background": "light"
     },
     "output_type": "display_data"
    }
   ],
   "source": [
    "distribution_check(test,['Reviews','Ratings'])"
   ]
  },
  {
   "cell_type": "code",
   "execution_count": 89,
   "id": "f24b6075",
   "metadata": {},
   "outputs": [],
   "source": [
    "train.drop(columns=['Edition','Synopsis','Title'],inplace=True)\n",
    "test.drop(columns=['Edition','Synopsis','Title'],inplace=True)"
   ]
  },
  {
   "cell_type": "code",
   "execution_count": 90,
   "id": "474933df",
   "metadata": {},
   "outputs": [
    {
     "data": {
      "text/plain": [
       "3670"
      ]
     },
     "execution_count": 90,
     "metadata": {},
     "output_type": "execute_result"
    }
   ],
   "source": [
    "len(train.Author.unique())"
   ]
  },
  {
   "cell_type": "code",
   "execution_count": 92,
   "id": "c4185255",
   "metadata": {},
   "outputs": [
    {
     "name": "stdout",
     "output_type": "stream",
     "text": [
      "<class 'pandas.core.frame.DataFrame'>\n",
      "RangeIndex: 6237 entries, 0 to 6236\n",
      "Data columns (total 7 columns):\n",
      " #   Column        Non-Null Count  Dtype  \n",
      "---  ------        --------------  -----  \n",
      " 0   Author        6237 non-null   object \n",
      " 1   Reviews       6237 non-null   float64\n",
      " 2   Ratings       6237 non-null   float64\n",
      " 3   Genre         6237 non-null   object \n",
      " 4   BookCategory  6237 non-null   object \n",
      " 5   Price         6237 non-null   float64\n",
      " 6   Edition_Year  6237 non-null   object \n",
      "dtypes: float64(3), object(4)\n",
      "memory usage: 341.2+ KB\n"
     ]
    }
   ],
   "source": [
    "train.info()"
   ]
  },
  {
   "cell_type": "code",
   "execution_count": 93,
   "id": "b16fe2ad",
   "metadata": {},
   "outputs": [],
   "source": [
    "# let's transform the objects into categories =)"
   ]
  },
  {
   "cell_type": "code",
   "execution_count": 94,
   "id": "339c8277",
   "metadata": {},
   "outputs": [],
   "source": [
    "train = train.astype({'Author':'category','Genre':'category','BookCategory':'category','Edition_Year':'category'})"
   ]
  },
  {
   "cell_type": "code",
   "execution_count": 95,
   "id": "c8baaa89",
   "metadata": {},
   "outputs": [
    {
     "name": "stdout",
     "output_type": "stream",
     "text": [
      "<class 'pandas.core.frame.DataFrame'>\n",
      "RangeIndex: 6237 entries, 0 to 6236\n",
      "Data columns (total 7 columns):\n",
      " #   Column        Non-Null Count  Dtype   \n",
      "---  ------        --------------  -----   \n",
      " 0   Author        6237 non-null   category\n",
      " 1   Reviews       6237 non-null   float64 \n",
      " 2   Ratings       6237 non-null   float64 \n",
      " 3   Genre         6237 non-null   category\n",
      " 4   BookCategory  6237 non-null   category\n",
      " 5   Price         6237 non-null   float64 \n",
      " 6   Edition_Year  6237 non-null   category\n",
      "dtypes: category(4), float64(3)\n",
      "memory usage: 354.2 KB\n"
     ]
    }
   ],
   "source": [
    "train.info()"
   ]
  },
  {
   "cell_type": "code",
   "execution_count": 96,
   "id": "f8cd48f0",
   "metadata": {},
   "outputs": [
    {
     "name": "stdout",
     "output_type": "stream",
     "text": [
      "<class 'pandas.core.frame.DataFrame'>\n",
      "RangeIndex: 1560 entries, 0 to 1559\n",
      "Data columns (total 6 columns):\n",
      " #   Column        Non-Null Count  Dtype   \n",
      "---  ------        --------------  -----   \n",
      " 0   Author        1560 non-null   category\n",
      " 1   Reviews       1560 non-null   float64 \n",
      " 2   Ratings       1560 non-null   float64 \n",
      " 3   Genre         1560 non-null   category\n",
      " 4   BookCategory  1560 non-null   category\n",
      " 5   Edition_Year  1560 non-null   category\n",
      "dtypes: category(4), float64(2)\n",
      "memory usage: 87.1 KB\n"
     ]
    }
   ],
   "source": [
    "test = test.astype({'Author':'category','Genre':'category','BookCategory':'category','Edition_Year':'category'})\n",
    "test.info()"
   ]
  },
  {
   "cell_type": "code",
   "execution_count": 97,
   "id": "4e189211",
   "metadata": {},
   "outputs": [],
   "source": [
    "y=train.pop('Price')"
   ]
  },
  {
   "cell_type": "code",
   "execution_count": 98,
   "id": "017573e7",
   "metadata": {},
   "outputs": [
    {
     "data": {
      "text/html": [
       "<div>\n",
       "<style scoped>\n",
       "    .dataframe tbody tr th:only-of-type {\n",
       "        vertical-align: middle;\n",
       "    }\n",
       "\n",
       "    .dataframe tbody tr th {\n",
       "        vertical-align: top;\n",
       "    }\n",
       "\n",
       "    .dataframe thead th {\n",
       "        text-align: right;\n",
       "    }\n",
       "</style>\n",
       "<table border=\"1\" class=\"dataframe\">\n",
       "  <thead>\n",
       "    <tr style=\"text-align: right;\">\n",
       "      <th></th>\n",
       "      <th>Author</th>\n",
       "      <th>Reviews</th>\n",
       "      <th>Ratings</th>\n",
       "      <th>Genre</th>\n",
       "      <th>BookCategory</th>\n",
       "      <th>Edition_Year</th>\n",
       "    </tr>\n",
       "  </thead>\n",
       "  <tbody>\n",
       "    <tr>\n",
       "      <th>0</th>\n",
       "      <td>chris kuzneski</td>\n",
       "      <td>-0.688861</td>\n",
       "      <td>0.138231</td>\n",
       "      <td>action &amp; adventure</td>\n",
       "      <td>action &amp; adventure</td>\n",
       "      <td>2016</td>\n",
       "    </tr>\n",
       "    <tr>\n",
       "      <th>1</th>\n",
       "      <td>arun khopkar</td>\n",
       "      <td>-0.834876</td>\n",
       "      <td>0.526742</td>\n",
       "      <td>cinema &amp; broadcast</td>\n",
       "      <td>biographies, diaries &amp; true accounts</td>\n",
       "      <td>2012</td>\n",
       "    </tr>\n",
       "    <tr>\n",
       "      <th>2</th>\n",
       "      <td>thomas hobbes</td>\n",
       "      <td>0.853798</td>\n",
       "      <td>-0.076231</td>\n",
       "      <td>international relation</td>\n",
       "      <td>humour</td>\n",
       "      <td>1982</td>\n",
       "    </tr>\n",
       "    <tr>\n",
       "      <th>3</th>\n",
       "      <td>agatha christie</td>\n",
       "      <td>-0.533420</td>\n",
       "      <td>0.477727</td>\n",
       "      <td>contemporary fiction</td>\n",
       "      <td>crime, thriller &amp; mystery</td>\n",
       "      <td>2017</td>\n",
       "    </tr>\n",
       "    <tr>\n",
       "      <th>4</th>\n",
       "      <td>editors of life</td>\n",
       "      <td>1.359627</td>\n",
       "      <td>-1.427835</td>\n",
       "      <td>photography</td>\n",
       "      <td>arts, film &amp; photography</td>\n",
       "      <td>2006</td>\n",
       "    </tr>\n",
       "  </tbody>\n",
       "</table>\n",
       "</div>"
      ],
      "text/plain": [
       "            Author   Reviews   Ratings                   Genre  \\\n",
       "0   chris kuzneski -0.688861  0.138231     action & adventure    \n",
       "1     arun khopkar -0.834876  0.526742     cinema & broadcast    \n",
       "2    thomas hobbes  0.853798 -0.076231  international relation   \n",
       "3  agatha christie -0.533420  0.477727   contemporary fiction    \n",
       "4  editors of life  1.359627 -1.427835            photography    \n",
       "\n",
       "                           BookCategory Edition_Year  \n",
       "0                    action & adventure         2016  \n",
       "1  biographies, diaries & true accounts         2012  \n",
       "2                                humour         1982  \n",
       "3             crime, thriller & mystery         2017  \n",
       "4              arts, film & photography         2006  "
      ]
     },
     "execution_count": 98,
     "metadata": {},
     "output_type": "execute_result"
    }
   ],
   "source": [
    "df = pd.concat(objs=[train,test],axis=0)\n",
    "df.head()"
   ]
  },
  {
   "cell_type": "code",
   "execution_count": 100,
   "id": "801ffbdf",
   "metadata": {},
   "outputs": [],
   "source": [
    "le = LabelEncoder()"
   ]
  },
  {
   "cell_type": "code",
   "execution_count": 101,
   "id": "e570b86f",
   "metadata": {},
   "outputs": [],
   "source": [
    "cols_toEncode = ['Author','Genre','BookCategory','Edition_Year']"
   ]
  },
  {
   "cell_type": "code",
   "execution_count": 102,
   "id": "cb8ff170",
   "metadata": {},
   "outputs": [],
   "source": [
    "df['Author'] = le.fit_transform(df['Author'])\n",
    "df['Genre'] = le.fit_transform(df['Genre'])\n",
    "df['BookCategory'] = le.fit_transform(df['BookCategory'])\n",
    "df['Edition_Year'] = le.fit_transform(df['Edition_Year'])\n",
    "\n"
   ]
  },
  {
   "cell_type": "code",
   "execution_count": 103,
   "id": "18b980b2",
   "metadata": {},
   "outputs": [],
   "source": [
    "train_size = len(train)"
   ]
  },
  {
   "cell_type": "code",
   "execution_count": 104,
   "id": "a6c03cdb",
   "metadata": {},
   "outputs": [],
   "source": [
    "train = df[:train_size]\n",
    "test = df[train_size:]"
   ]
  },
  {
   "cell_type": "code",
   "execution_count": 105,
   "id": "fa4119a4",
   "metadata": {},
   "outputs": [],
   "source": [
    "train = train.astype({'Author':'int','Genre':'int','BookCategory':'int','Edition_Year':'int'})"
   ]
  },
  {
   "cell_type": "code",
   "execution_count": 106,
   "id": "c509725d",
   "metadata": {},
   "outputs": [],
   "source": [
    "test = test.astype({'Author':'int','Genre':'int','BookCategory':'int','Edition_Year':'int'})"
   ]
  },
  {
   "cell_type": "code",
   "execution_count": 107,
   "id": "61ce7975",
   "metadata": {},
   "outputs": [],
   "source": [
    "## combining all the values for label encoding"
   ]
  },
  {
   "cell_type": "code",
   "execution_count": 108,
   "id": "806c5ece",
   "metadata": {},
   "outputs": [],
   "source": [
    "train['Price'] = y"
   ]
  },
  {
   "cell_type": "code",
   "execution_count": 109,
   "id": "cb7ad333",
   "metadata": {},
   "outputs": [],
   "source": [
    "# Split data to test and train"
   ]
  },
  {
   "cell_type": "code",
   "execution_count": 110,
   "id": "cc454a60",
   "metadata": {},
   "outputs": [],
   "source": [
    "y_train = train.pop('Price')\n",
    "X_train = train"
   ]
  },
  {
   "cell_type": "markdown",
   "id": "aa6c60ce",
   "metadata": {},
   "source": [
    "> https://en.wikipedia.org/wiki/LightGBM\n",
    "    LightGBM, short for Light Gradient Boosting Machine, is a free and open source distributed gradient boosting framework for machine learning originally developed by Microsoft.[4][5] It is based on decision tree algorithms and used for ranking, classification and other machine learning tasks. The development focus is on performance and scalability."
   ]
  },
  {
   "cell_type": "code",
   "execution_count": 113,
   "id": "07980464",
   "metadata": {},
   "outputs": [],
   "source": [
    "import lightgbm as lgb"
   ]
  },
  {
   "cell_type": "code",
   "execution_count": 114,
   "id": "80a2c043",
   "metadata": {},
   "outputs": [],
   "source": [
    "#convert the dataset to lgbDataset\n",
    "df_train = lgb.Dataset(X_train,y_train)"
   ]
  },
  {
   "cell_type": "markdown",
   "id": "af23f918",
   "metadata": {},
   "source": [
    "> LightGBM can use categorical features directly (without one-hot encoding). hows about 8x speed-up compared with one-hot encoding."
   ]
  },
  {
   "cell_type": "code",
   "execution_count": 115,
   "id": "b2d50615",
   "metadata": {},
   "outputs": [],
   "source": [
    "# specifiying either index, label of the categorical columns\n",
    "hyper_params = {\n",
    "    'task': 'train',\n",
    "    'boosting_type': 'gbdt',\n",
    "    'objective': 'regression',\n",
    "    'metric': ['l1', 'auc'],\n",
    "    'learning_rate': 1,\n",
    "    'categorical_feature':[0,3,4,5],\n",
    "    'num_iterations':10000\n",
    "}"
   ]
  },
  {
   "cell_type": "code",
   "execution_count": 116,
   "id": "bfaa7228",
   "metadata": {},
   "outputs": [],
   "source": [
    "rg = lgb.LGBMRegressor(**hyper_params)"
   ]
  },
  {
   "cell_type": "code",
   "execution_count": 117,
   "id": "78687a6a",
   "metadata": {},
   "outputs": [
    {
     "data": {
      "text/html": [
       "<style>#sk-764e1884-56d3-48a2-b039-7adc812e1ad0 {color: black;background-color: white;}#sk-764e1884-56d3-48a2-b039-7adc812e1ad0 pre{padding: 0;}#sk-764e1884-56d3-48a2-b039-7adc812e1ad0 div.sk-toggleable {background-color: white;}#sk-764e1884-56d3-48a2-b039-7adc812e1ad0 label.sk-toggleable__label {cursor: pointer;display: block;width: 100%;margin-bottom: 0;padding: 0.3em;box-sizing: border-box;text-align: center;}#sk-764e1884-56d3-48a2-b039-7adc812e1ad0 div.sk-toggleable__content {max-height: 0;max-width: 0;overflow: hidden;text-align: left;background-color: #f0f8ff;}#sk-764e1884-56d3-48a2-b039-7adc812e1ad0 div.sk-toggleable__content pre {margin: 0.2em;color: black;border-radius: 0.25em;background-color: #f0f8ff;}#sk-764e1884-56d3-48a2-b039-7adc812e1ad0 input.sk-toggleable__control:checked~div.sk-toggleable__content {max-height: 200px;max-width: 100%;overflow: auto;}#sk-764e1884-56d3-48a2-b039-7adc812e1ad0 div.sk-estimator input.sk-toggleable__control:checked~label.sk-toggleable__label {background-color: #d4ebff;}#sk-764e1884-56d3-48a2-b039-7adc812e1ad0 div.sk-label input.sk-toggleable__control:checked~label.sk-toggleable__label {background-color: #d4ebff;}#sk-764e1884-56d3-48a2-b039-7adc812e1ad0 input.sk-hidden--visually {border: 0;clip: rect(1px 1px 1px 1px);clip: rect(1px, 1px, 1px, 1px);height: 1px;margin: -1px;overflow: hidden;padding: 0;position: absolute;width: 1px;}#sk-764e1884-56d3-48a2-b039-7adc812e1ad0 div.sk-estimator {font-family: monospace;background-color: #f0f8ff;border: 1px dotted black;border-radius: 0.25em;box-sizing: border-box;margin-bottom: 0.5em;}#sk-764e1884-56d3-48a2-b039-7adc812e1ad0 div.sk-estimator:hover {background-color: #d4ebff;}#sk-764e1884-56d3-48a2-b039-7adc812e1ad0 div.sk-parallel-item::after {content: \"\";width: 100%;border-bottom: 1px solid gray;flex-grow: 1;}#sk-764e1884-56d3-48a2-b039-7adc812e1ad0 div.sk-label:hover label.sk-toggleable__label {background-color: #d4ebff;}#sk-764e1884-56d3-48a2-b039-7adc812e1ad0 div.sk-serial::before {content: \"\";position: absolute;border-left: 1px solid gray;box-sizing: border-box;top: 2em;bottom: 0;left: 50%;}#sk-764e1884-56d3-48a2-b039-7adc812e1ad0 div.sk-serial {display: flex;flex-direction: column;align-items: center;background-color: white;padding-right: 0.2em;padding-left: 0.2em;}#sk-764e1884-56d3-48a2-b039-7adc812e1ad0 div.sk-item {z-index: 1;}#sk-764e1884-56d3-48a2-b039-7adc812e1ad0 div.sk-parallel {display: flex;align-items: stretch;justify-content: center;background-color: white;}#sk-764e1884-56d3-48a2-b039-7adc812e1ad0 div.sk-parallel::before {content: \"\";position: absolute;border-left: 1px solid gray;box-sizing: border-box;top: 2em;bottom: 0;left: 50%;}#sk-764e1884-56d3-48a2-b039-7adc812e1ad0 div.sk-parallel-item {display: flex;flex-direction: column;position: relative;background-color: white;}#sk-764e1884-56d3-48a2-b039-7adc812e1ad0 div.sk-parallel-item:first-child::after {align-self: flex-end;width: 50%;}#sk-764e1884-56d3-48a2-b039-7adc812e1ad0 div.sk-parallel-item:last-child::after {align-self: flex-start;width: 50%;}#sk-764e1884-56d3-48a2-b039-7adc812e1ad0 div.sk-parallel-item:only-child::after {width: 0;}#sk-764e1884-56d3-48a2-b039-7adc812e1ad0 div.sk-dashed-wrapped {border: 1px dashed gray;margin: 0 0.4em 0.5em 0.4em;box-sizing: border-box;padding-bottom: 0.4em;background-color: white;position: relative;}#sk-764e1884-56d3-48a2-b039-7adc812e1ad0 div.sk-label label {font-family: monospace;font-weight: bold;background-color: white;display: inline-block;line-height: 1.2em;}#sk-764e1884-56d3-48a2-b039-7adc812e1ad0 div.sk-label-container {position: relative;z-index: 2;text-align: center;}#sk-764e1884-56d3-48a2-b039-7adc812e1ad0 div.sk-container {display: inline-block;position: relative;}</style><div id=\"sk-764e1884-56d3-48a2-b039-7adc812e1ad0\" class\"sk-top-container\"><div class=\"sk-container\"><div class=\"sk-item\"><div class=\"sk-estimator sk-toggleable\"><input class=\"sk-toggleable__control sk-hidden--visually\" id=\"5f1295cf-e18d-4a88-8f0e-76ef3316c308\" type=\"checkbox\" checked><label class=\"sk-toggleable__label\" for=\"5f1295cf-e18d-4a88-8f0e-76ef3316c308\">LGBMRegressor</label><div class=\"sk-toggleable__content\"><pre>LGBMRegressor(categorical_feature=[0, 3, 4, 5], learning_rate=1,\n",
       "              metric=['l1', 'auc'], num_iterations=10000,\n",
       "              objective='regression', task='train')</pre></div></div></div></div></div>"
      ],
      "text/plain": [
       "LGBMRegressor(categorical_feature=[0, 3, 4, 5], learning_rate=1,\n",
       "              metric=['l1', 'auc'], num_iterations=10000,\n",
       "              objective='regression', task='train')"
      ]
     },
     "execution_count": 117,
     "metadata": {},
     "output_type": "execute_result"
    }
   ],
   "source": [
    "rg.fit(X_train,y_train)\n"
   ]
  },
  {
   "cell_type": "code",
   "execution_count": 118,
   "id": "3bda305f",
   "metadata": {},
   "outputs": [],
   "source": [
    "y_pred_train = rg.predict(X_train)"
   ]
  },
  {
   "cell_type": "code",
   "execution_count": 119,
   "id": "6df8899d",
   "metadata": {},
   "outputs": [],
   "source": [
    "from sklearn.metrics import accuracy_score,mean_squared_error,r2_score"
   ]
  },
  {
   "cell_type": "code",
   "execution_count": 120,
   "id": "eb2a004b",
   "metadata": {},
   "outputs": [
    {
     "data": {
      "text/plain": [
       "array([-0.76923323, -0.88586557, -0.33779669, ...,  0.05151625,\n",
       "       -0.24906556, -0.38730439])"
      ]
     },
     "execution_count": 120,
     "metadata": {},
     "output_type": "execute_result"
    }
   ],
   "source": [
    "y_pred_train"
   ]
  },
  {
   "cell_type": "code",
   "execution_count": 121,
   "id": "07bcfce2",
   "metadata": {},
   "outputs": [
    {
     "name": "stdout",
     "output_type": "stream",
     "text": [
      "Train MSE: 0.17225311354181036\n"
     ]
    }
   ],
   "source": [
    "print(\"Train MSE:\",np.sqrt(mean_squared_error(y_train,y_pred_train)))"
   ]
  },
  {
   "cell_type": "code",
   "execution_count": 122,
   "id": "49d64388",
   "metadata": {},
   "outputs": [
    {
     "name": "stdout",
     "output_type": "stream",
     "text": [
      "Train r2_score: 0.9703288648751522\n"
     ]
    }
   ],
   "source": [
    "print(\"Train r2_score:\",r2_score(y_train, y_pred_train))"
   ]
  },
  {
   "cell_type": "code",
   "execution_count": 123,
   "id": "a8e4ca3e",
   "metadata": {},
   "outputs": [],
   "source": [
    "# whohoooo\n",
    "y_test_pred = rg.predict(test)"
   ]
  },
  {
   "cell_type": "code",
   "execution_count": 129,
   "id": "c83b2c85",
   "metadata": {},
   "outputs": [],
   "source": [
    "# predicting columns from test data\n",
    "\n",
    "y_test_pred = pd.DataFrame(y_test_pred,columns=['Price'])"
   ]
  },
  {
   "cell_type": "code",
   "execution_count": 125,
   "id": "7a916bfd",
   "metadata": {},
   "outputs": [],
   "source": [
    "## https://en.wikipedia.org/wiki/Inverse_transform_sampling\n",
    "predictions = power.inverse_transform(y_test_pred[['Price']])"
   ]
  },
  {
   "cell_type": "code",
   "execution_count": 126,
   "id": "52877ef7",
   "metadata": {},
   "outputs": [],
   "source": [
    "pd.DataFrame(predictions,columns=['Price']).to_csv('my_submission_LightGBM.csv',index=None)\n"
   ]
  },
  {
   "cell_type": "code",
   "execution_count": 130,
   "id": "67fa4851",
   "metadata": {},
   "outputs": [],
   "source": [
    "# putting it together"
   ]
  },
  {
   "cell_type": "code",
   "execution_count": 132,
   "id": "b56ba3ca",
   "metadata": {},
   "outputs": [
    {
     "data": {
      "text/html": [
       "<div>\n",
       "<style scoped>\n",
       "    .dataframe tbody tr th:only-of-type {\n",
       "        vertical-align: middle;\n",
       "    }\n",
       "\n",
       "    .dataframe tbody tr th {\n",
       "        vertical-align: top;\n",
       "    }\n",
       "\n",
       "    .dataframe thead th {\n",
       "        text-align: right;\n",
       "    }\n",
       "</style>\n",
       "<table border=\"1\" class=\"dataframe\">\n",
       "  <thead>\n",
       "    <tr style=\"text-align: right;\">\n",
       "      <th></th>\n",
       "      <th>Author</th>\n",
       "      <th>Reviews</th>\n",
       "      <th>Ratings</th>\n",
       "      <th>Genre</th>\n",
       "      <th>BookCategory</th>\n",
       "      <th>Edition_Year</th>\n",
       "      <th>predictions</th>\n",
       "    </tr>\n",
       "  </thead>\n",
       "  <tbody>\n",
       "    <tr>\n",
       "      <th>0</th>\n",
       "      <td>3757</td>\n",
       "      <td>-7.825036</td>\n",
       "      <td>1.143953</td>\n",
       "      <td>183</td>\n",
       "      <td>5</td>\n",
       "      <td>24</td>\n",
       "      <td>555.032629</td>\n",
       "    </tr>\n",
       "    <tr>\n",
       "      <th>1</th>\n",
       "      <td>1299</td>\n",
       "      <td>-7.569108</td>\n",
       "      <td>-10.436161</td>\n",
       "      <td>279</td>\n",
       "      <td>4</td>\n",
       "      <td>56</td>\n",
       "      <td>1100.872778</td>\n",
       "    </tr>\n",
       "    <tr>\n",
       "      <th>2</th>\n",
       "      <td>881</td>\n",
       "      <td>-7.569108</td>\n",
       "      <td>-8.014421</td>\n",
       "      <td>327</td>\n",
       "      <td>9</td>\n",
       "      <td>49</td>\n",
       "      <td>128.620404</td>\n",
       "    </tr>\n",
       "    <tr>\n",
       "      <th>3</th>\n",
       "      <td>162</td>\n",
       "      <td>-7.965493</td>\n",
       "      <td>-5.977825</td>\n",
       "      <td>300</td>\n",
       "      <td>4</td>\n",
       "      <td>54</td>\n",
       "      <td>474.194908</td>\n",
       "    </tr>\n",
       "    <tr>\n",
       "      <th>4</th>\n",
       "      <td>3247</td>\n",
       "      <td>-7.825036</td>\n",
       "      <td>-6.381285</td>\n",
       "      <td>231</td>\n",
       "      <td>7</td>\n",
       "      <td>49</td>\n",
       "      <td>474.820254</td>\n",
       "    </tr>\n",
       "  </tbody>\n",
       "</table>\n",
       "</div>"
      ],
      "text/plain": [
       "   Author   Reviews    Ratings  Genre  BookCategory  Edition_Year  predictions\n",
       "0    3757 -7.825036   1.143953    183             5            24   555.032629\n",
       "1    1299 -7.569108 -10.436161    279             4            56  1100.872778\n",
       "2     881 -7.569108  -8.014421    327             9            49   128.620404\n",
       "3     162 -7.965493  -5.977825    300             4            54   474.194908\n",
       "4    3247 -7.825036  -6.381285    231             7            49   474.820254"
      ]
     },
     "execution_count": 132,
     "metadata": {},
     "output_type": "execute_result"
    }
   ],
   "source": [
    "test['predictions'] = predictions\n",
    "test.head()"
   ]
  },
  {
   "cell_type": "code",
   "execution_count": null,
   "id": "1e16c379",
   "metadata": {},
   "outputs": [],
   "source": []
  }
 ],
 "metadata": {
  "kernelspec": {
   "display_name": "Python 3 (ipykernel)",
   "language": "python",
   "name": "python3"
  },
  "language_info": {
   "codemirror_mode": {
    "name": "ipython",
    "version": 3
   },
   "file_extension": ".py",
   "mimetype": "text/x-python",
   "name": "python",
   "nbconvert_exporter": "python",
   "pygments_lexer": "ipython3",
   "version": "3.8.6"
  },
  "toc": {
   "base_numbering": 1,
   "nav_menu": {},
   "number_sections": true,
   "sideBar": true,
   "skip_h1_title": false,
   "title_cell": "Table of Contents",
   "title_sidebar": "Contents",
   "toc_cell": false,
   "toc_position": {},
   "toc_section_display": true,
   "toc_window_display": false
  }
 },
 "nbformat": 4,
 "nbformat_minor": 5
}
