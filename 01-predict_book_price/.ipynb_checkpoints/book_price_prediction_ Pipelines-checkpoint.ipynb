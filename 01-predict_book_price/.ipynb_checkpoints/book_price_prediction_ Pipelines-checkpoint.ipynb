{
 "cells": [
  {
   "cell_type": "code",
   "execution_count": 1,
   "id": "d9acd079",
   "metadata": {},
   "outputs": [],
   "source": [
    "# Data Manipulation\n",
    "import numpy as np\n",
    "import pandas as pd\n",
    "\n",
    "# Data Visualisation\n",
    "import matplotlib.pyplot as plt\n",
    "import seaborn as sns\n",
    "\n",
    "# Lists' manipulations\n",
    "import itertools\n",
    "\n",
    "# Gaussianity\n",
    "from statsmodels.graphics.gofplots import qqplot    # Gaussianity\n",
    "\n",
    "# Stats\n",
    "from scipy.stats import skew,kurtosis,zscore\n",
    "\n",
    "# Machine Learning - Preprocessing the Dataset\n",
    "from sklearn.preprocessing import RobustScaler      # Scaling Numerical Features\n",
    "from sklearn.preprocessing import OneHotEncoder     # Encoding Categorical Variables\n",
    "from sklearn.preprocessing import LabelEncoder     # Encoding the Target\n",
    "\n",
    "\n",
    "# Machine Learning - \"Workflow\"\n",
    "from sklearn.pipeline import Pipeline, make_pipeline\n",
    "from sklearn.impute import SimpleImputer\n",
    "from sklearn.compose import ColumnTransformer, make_column_selector\n",
    "from sklearn import set_config; set_config(display = \"diagram\")\n",
    "\n",
    "# Machine Learning - Tools\n",
    "from sklearn.model_selection import train_test_split\n",
    "from sklearn.model_selection import cross_validate\n",
    "import time\n",
    "\n",
    "# Classification Metrics\n",
    "from sklearn.metrics import confusion_matrix, ConfusionMatrixDisplay\n",
    "from sklearn.metrics import classification_report\n",
    "from sklearn.metrics import accuracy_score\n",
    "\n",
    "# Machine Learning Classifiers\n",
    "\n",
    "## Classics\n",
    "from sklearn.linear_model import LogisticRegression\n",
    "from sklearn.svm import SVC\n",
    "from sklearn.neighbors import KNeighborsClassifier\n",
    "\n",
    "## Decision Trees\n",
    "from sklearn.tree import DecisionTreeClassifier\n",
    "\n",
    "## Random Forests\n",
    "from sklearn.ensemble import RandomForestClassifier\n",
    "\n",
    "## Bootstrap Aggregating\n",
    "from sklearn.ensemble import BaggingClassifier\n",
    "\n",
    "## Adaboost\n",
    "from sklearn.ensemble import AdaBoostClassifier\n",
    "\n",
    "## Gradient Boosting\n",
    "from sklearn.ensemble import GradientBoostingClassifier\n",
    "\n",
    "## Extreme Gradient Tree Boosting\n",
    "from xgboost import XGBClassifier"
   ]
  },
  {
   "cell_type": "code",
   "execution_count": 2,
   "id": "b1d73131",
   "metadata": {},
   "outputs": [],
   "source": [
    "# Suppressing Warnings\n",
    "import warnings\n",
    "warnings.filterwarnings('ignore')"
   ]
  },
  {
   "cell_type": "code",
   "execution_count": 3,
   "id": "5a1c1214",
   "metadata": {},
   "outputs": [],
   "source": [
    "# \"magic commands\" to enable autoreload of your imported packages\n",
    "%load_ext autoreload\n",
    "%autoreload 2"
   ]
  },
  {
   "cell_type": "code",
   "execution_count": 4,
   "id": "566126b7",
   "metadata": {},
   "outputs": [
    {
     "data": {
      "text/html": [
       "<div>\n",
       "<style scoped>\n",
       "    .dataframe tbody tr th:only-of-type {\n",
       "        vertical-align: middle;\n",
       "    }\n",
       "\n",
       "    .dataframe tbody tr th {\n",
       "        vertical-align: top;\n",
       "    }\n",
       "\n",
       "    .dataframe thead th {\n",
       "        text-align: right;\n",
       "    }\n",
       "</style>\n",
       "<table border=\"1\" class=\"dataframe\">\n",
       "  <thead>\n",
       "    <tr style=\"text-align: right;\">\n",
       "      <th></th>\n",
       "      <th>Title</th>\n",
       "      <th>Author</th>\n",
       "      <th>Edition</th>\n",
       "      <th>Reviews</th>\n",
       "      <th>Ratings</th>\n",
       "      <th>Synopsis</th>\n",
       "      <th>Genre</th>\n",
       "      <th>BookCategory</th>\n",
       "      <th>Price</th>\n",
       "    </tr>\n",
       "  </thead>\n",
       "  <tbody>\n",
       "    <tr>\n",
       "      <th>0</th>\n",
       "      <td>The Prisoner's Gold (The Hunters 3)</td>\n",
       "      <td>Chris Kuzneski</td>\n",
       "      <td>Paperback,– 10 Mar 2016</td>\n",
       "      <td>4.0 out of 5 stars</td>\n",
       "      <td>8 customer reviews</td>\n",
       "      <td>THE HUNTERS return in their third brilliant no...</td>\n",
       "      <td>Action &amp; Adventure (Books)</td>\n",
       "      <td>Action &amp; Adventure</td>\n",
       "      <td>220.00</td>\n",
       "    </tr>\n",
       "    <tr>\n",
       "      <th>1</th>\n",
       "      <td>Guru Dutt: A Tragedy in Three Acts</td>\n",
       "      <td>Arun Khopkar</td>\n",
       "      <td>Paperback,– 7 Nov 2012</td>\n",
       "      <td>3.9 out of 5 stars</td>\n",
       "      <td>14 customer reviews</td>\n",
       "      <td>A layered portrait of a troubled genius for wh...</td>\n",
       "      <td>Cinema &amp; Broadcast (Books)</td>\n",
       "      <td>Biographies, Diaries &amp; True Accounts</td>\n",
       "      <td>202.93</td>\n",
       "    </tr>\n",
       "    <tr>\n",
       "      <th>2</th>\n",
       "      <td>Leviathan (Penguin Classics)</td>\n",
       "      <td>Thomas Hobbes</td>\n",
       "      <td>Paperback,– 25 Feb 1982</td>\n",
       "      <td>4.8 out of 5 stars</td>\n",
       "      <td>6 customer reviews</td>\n",
       "      <td>\"During the time men live without a common Pow...</td>\n",
       "      <td>International Relations</td>\n",
       "      <td>Humour</td>\n",
       "      <td>299.00</td>\n",
       "    </tr>\n",
       "    <tr>\n",
       "      <th>3</th>\n",
       "      <td>A Pocket Full of Rye (Miss Marple)</td>\n",
       "      <td>Agatha Christie</td>\n",
       "      <td>Paperback,– 5 Oct 2017</td>\n",
       "      <td>4.1 out of 5 stars</td>\n",
       "      <td>13 customer reviews</td>\n",
       "      <td>A handful of grain is found in the pocket of a...</td>\n",
       "      <td>Contemporary Fiction (Books)</td>\n",
       "      <td>Crime, Thriller &amp; Mystery</td>\n",
       "      <td>180.00</td>\n",
       "    </tr>\n",
       "    <tr>\n",
       "      <th>4</th>\n",
       "      <td>LIFE 70 Years of Extraordinary Photography</td>\n",
       "      <td>Editors of Life</td>\n",
       "      <td>Hardcover,– 10 Oct 2006</td>\n",
       "      <td>5.0 out of 5 stars</td>\n",
       "      <td>1 customer review</td>\n",
       "      <td>For seven decades, \"Life\" has been thrilling t...</td>\n",
       "      <td>Photography Textbooks</td>\n",
       "      <td>Arts, Film &amp; Photography</td>\n",
       "      <td>965.62</td>\n",
       "    </tr>\n",
       "  </tbody>\n",
       "</table>\n",
       "</div>"
      ],
      "text/plain": [
       "                                        Title           Author  \\\n",
       "0         The Prisoner's Gold (The Hunters 3)   Chris Kuzneski   \n",
       "1          Guru Dutt: A Tragedy in Three Acts     Arun Khopkar   \n",
       "2                Leviathan (Penguin Classics)    Thomas Hobbes   \n",
       "3          A Pocket Full of Rye (Miss Marple)  Agatha Christie   \n",
       "4  LIFE 70 Years of Extraordinary Photography  Editors of Life   \n",
       "\n",
       "                   Edition             Reviews              Ratings  \\\n",
       "0  Paperback,– 10 Mar 2016  4.0 out of 5 stars   8 customer reviews   \n",
       "1   Paperback,– 7 Nov 2012  3.9 out of 5 stars  14 customer reviews   \n",
       "2  Paperback,– 25 Feb 1982  4.8 out of 5 stars   6 customer reviews   \n",
       "3   Paperback,– 5 Oct 2017  4.1 out of 5 stars  13 customer reviews   \n",
       "4  Hardcover,– 10 Oct 2006  5.0 out of 5 stars    1 customer review   \n",
       "\n",
       "                                            Synopsis  \\\n",
       "0  THE HUNTERS return in their third brilliant no...   \n",
       "1  A layered portrait of a troubled genius for wh...   \n",
       "2  \"During the time men live without a common Pow...   \n",
       "3  A handful of grain is found in the pocket of a...   \n",
       "4  For seven decades, \"Life\" has been thrilling t...   \n",
       "\n",
       "                          Genre                          BookCategory   Price  \n",
       "0    Action & Adventure (Books)                    Action & Adventure  220.00  \n",
       "1    Cinema & Broadcast (Books)  Biographies, Diaries & True Accounts  202.93  \n",
       "2       International Relations                                Humour  299.00  \n",
       "3  Contemporary Fiction (Books)             Crime, Thriller & Mystery  180.00  \n",
       "4         Photography Textbooks              Arts, Film & Photography  965.62  "
      ]
     },
     "execution_count": 4,
     "metadata": {},
     "output_type": "execute_result"
    }
   ],
   "source": [
    "train = pd.read_excel('/Users/florianlanger/code/florentiino/competitions/01-predict_book_price/Participants_Data/Data_Train.xlsx')\n",
    "train.head()"
   ]
  },
  {
   "cell_type": "code",
   "execution_count": 5,
   "id": "11d0b452",
   "metadata": {
    "scrolled": true
   },
   "outputs": [
    {
     "data": {
      "text/html": [
       "<div>\n",
       "<style scoped>\n",
       "    .dataframe tbody tr th:only-of-type {\n",
       "        vertical-align: middle;\n",
       "    }\n",
       "\n",
       "    .dataframe tbody tr th {\n",
       "        vertical-align: top;\n",
       "    }\n",
       "\n",
       "    .dataframe thead th {\n",
       "        text-align: right;\n",
       "    }\n",
       "</style>\n",
       "<table border=\"1\" class=\"dataframe\">\n",
       "  <thead>\n",
       "    <tr style=\"text-align: right;\">\n",
       "      <th></th>\n",
       "      <th>Title</th>\n",
       "      <th>Author</th>\n",
       "      <th>Edition</th>\n",
       "      <th>Reviews</th>\n",
       "      <th>Ratings</th>\n",
       "      <th>Synopsis</th>\n",
       "      <th>Genre</th>\n",
       "      <th>BookCategory</th>\n",
       "      <th>Price</th>\n",
       "    </tr>\n",
       "  </thead>\n",
       "  <tbody>\n",
       "    <tr>\n",
       "      <th>0</th>\n",
       "      <td>The Prisoner's Gold (The Hunters 3)</td>\n",
       "      <td>Chris Kuzneski</td>\n",
       "      <td>Paperback,– 10 Mar 2016</td>\n",
       "      <td>4.0 out of 5 stars</td>\n",
       "      <td>8 customer reviews</td>\n",
       "      <td>THE HUNTERS return in their third brilliant no...</td>\n",
       "      <td>Action &amp; Adventure (Books)</td>\n",
       "      <td>Action &amp; Adventure</td>\n",
       "      <td>220.00</td>\n",
       "    </tr>\n",
       "    <tr>\n",
       "      <th>1</th>\n",
       "      <td>Guru Dutt: A Tragedy in Three Acts</td>\n",
       "      <td>Arun Khopkar</td>\n",
       "      <td>Paperback,– 7 Nov 2012</td>\n",
       "      <td>3.9 out of 5 stars</td>\n",
       "      <td>14 customer reviews</td>\n",
       "      <td>A layered portrait of a troubled genius for wh...</td>\n",
       "      <td>Cinema &amp; Broadcast (Books)</td>\n",
       "      <td>Biographies, Diaries &amp; True Accounts</td>\n",
       "      <td>202.93</td>\n",
       "    </tr>\n",
       "    <tr>\n",
       "      <th>2</th>\n",
       "      <td>Leviathan (Penguin Classics)</td>\n",
       "      <td>Thomas Hobbes</td>\n",
       "      <td>Paperback,– 25 Feb 1982</td>\n",
       "      <td>4.8 out of 5 stars</td>\n",
       "      <td>6 customer reviews</td>\n",
       "      <td>\"During the time men live without a common Pow...</td>\n",
       "      <td>International Relations</td>\n",
       "      <td>Humour</td>\n",
       "      <td>299.00</td>\n",
       "    </tr>\n",
       "    <tr>\n",
       "      <th>3</th>\n",
       "      <td>A Pocket Full of Rye (Miss Marple)</td>\n",
       "      <td>Agatha Christie</td>\n",
       "      <td>Paperback,– 5 Oct 2017</td>\n",
       "      <td>4.1 out of 5 stars</td>\n",
       "      <td>13 customer reviews</td>\n",
       "      <td>A handful of grain is found in the pocket of a...</td>\n",
       "      <td>Contemporary Fiction (Books)</td>\n",
       "      <td>Crime, Thriller &amp; Mystery</td>\n",
       "      <td>180.00</td>\n",
       "    </tr>\n",
       "    <tr>\n",
       "      <th>4</th>\n",
       "      <td>LIFE 70 Years of Extraordinary Photography</td>\n",
       "      <td>Editors of Life</td>\n",
       "      <td>Hardcover,– 10 Oct 2006</td>\n",
       "      <td>5.0 out of 5 stars</td>\n",
       "      <td>1 customer review</td>\n",
       "      <td>For seven decades, \"Life\" has been thrilling t...</td>\n",
       "      <td>Photography Textbooks</td>\n",
       "      <td>Arts, Film &amp; Photography</td>\n",
       "      <td>965.62</td>\n",
       "    </tr>\n",
       "  </tbody>\n",
       "</table>\n",
       "</div>"
      ],
      "text/plain": [
       "                                        Title           Author  \\\n",
       "0         The Prisoner's Gold (The Hunters 3)   Chris Kuzneski   \n",
       "1          Guru Dutt: A Tragedy in Three Acts     Arun Khopkar   \n",
       "2                Leviathan (Penguin Classics)    Thomas Hobbes   \n",
       "3          A Pocket Full of Rye (Miss Marple)  Agatha Christie   \n",
       "4  LIFE 70 Years of Extraordinary Photography  Editors of Life   \n",
       "\n",
       "                   Edition             Reviews              Ratings  \\\n",
       "0  Paperback,– 10 Mar 2016  4.0 out of 5 stars   8 customer reviews   \n",
       "1   Paperback,– 7 Nov 2012  3.9 out of 5 stars  14 customer reviews   \n",
       "2  Paperback,– 25 Feb 1982  4.8 out of 5 stars   6 customer reviews   \n",
       "3   Paperback,– 5 Oct 2017  4.1 out of 5 stars  13 customer reviews   \n",
       "4  Hardcover,– 10 Oct 2006  5.0 out of 5 stars    1 customer review   \n",
       "\n",
       "                                            Synopsis  \\\n",
       "0  THE HUNTERS return in their third brilliant no...   \n",
       "1  A layered portrait of a troubled genius for wh...   \n",
       "2  \"During the time men live without a common Pow...   \n",
       "3  A handful of grain is found in the pocket of a...   \n",
       "4  For seven decades, \"Life\" has been thrilling t...   \n",
       "\n",
       "                          Genre                          BookCategory   Price  \n",
       "0    Action & Adventure (Books)                    Action & Adventure  220.00  \n",
       "1    Cinema & Broadcast (Books)  Biographies, Diaries & True Accounts  202.93  \n",
       "2       International Relations                                Humour  299.00  \n",
       "3  Contemporary Fiction (Books)             Crime, Thriller & Mystery  180.00  \n",
       "4         Photography Textbooks              Arts, Film & Photography  965.62  "
      ]
     },
     "execution_count": 5,
     "metadata": {},
     "output_type": "execute_result"
    }
   ],
   "source": [
    "test = pd.read_excel('/Users/florianlanger/code/florentiino/competitions/01-predict_book_price/Participants_Data/Data_Test.xlsx')\n",
    "train.head()"
   ]
  },
  {
   "cell_type": "code",
   "execution_count": 7,
   "id": "d2db2741",
   "metadata": {},
   "outputs": [],
   "source": [
    "#having numerical values for reviews\n",
    "train['Reviews'] = train['Reviews'].apply(lambda x: float(x.split()[0]))\n",
    "test['Reviews'] = test['Reviews'].apply(lambda x: float(x.split()[0]))"
   ]
  },
  {
   "cell_type": "code",
   "execution_count": 8,
   "id": "312d78be",
   "metadata": {},
   "outputs": [],
   "source": [
    "# having numerical values for ratings\n",
    "train['Ratings'] = train['Ratings'].apply(lambda x: (x.split()[0].replace(',',''))).astype(int)\n",
    "test['Ratings'] = test['Ratings'].apply(lambda x: (x.split()[0].replace(',',''))).astype(int)"
   ]
  },
  {
   "cell_type": "code",
   "execution_count": 9,
   "id": "f53482ea",
   "metadata": {},
   "outputs": [],
   "source": [
    "def lowercase(df,cols):\n",
    "    for col in cols:\n",
    "        df[col] = df[col].str.lower()"
   ]
  },
  {
   "cell_type": "code",
   "execution_count": 10,
   "id": "eab0fb7b",
   "metadata": {},
   "outputs": [],
   "source": [
    "# standardize categorical features \n",
    "cols = ['Title','Author','Edition','Synopsis','Genre','BookCategory']\n",
    "\n",
    "#train dataset\n",
    "lowercase(train,cols)\n",
    "#teset dataset\n",
    "lowercase(test,cols)"
   ]
  },
  {
   "cell_type": "code",
   "execution_count": 11,
   "id": "bbf4c60e",
   "metadata": {},
   "outputs": [],
   "source": [
    "# making genre more clean by removing \"books\" and \"textbooks\"\n",
    "train.Genre = train.Genre.apply(lambda x: x.strip('(books)').strip('Textbooks'))\n",
    "test.Genre = test.Genre.apply(lambda x: x.strip('(books)').strip('Textbooks'))"
   ]
  },
  {
   "cell_type": "code",
   "execution_count": 12,
   "id": "1cda58cc",
   "metadata": {},
   "outputs": [],
   "source": [
    "# 'Extracting' year of publish from the Edition column\n",
    "train['Edition_Year'] = train['Edition'].apply(lambda x: x.split()[-1] if x.split()[-1].isdigit() else 'na')\n",
    "test['Edition_Year'] = test['Edition'].apply(lambda x: x.split()[-1] if x.split()[-1].isdigit() else 'na')"
   ]
  },
  {
   "cell_type": "code",
   "execution_count": 13,
   "id": "293dec3f",
   "metadata": {},
   "outputs": [
    {
     "data": {
      "text/html": [
       "<div>\n",
       "<style scoped>\n",
       "    .dataframe tbody tr th:only-of-type {\n",
       "        vertical-align: middle;\n",
       "    }\n",
       "\n",
       "    .dataframe tbody tr th {\n",
       "        vertical-align: top;\n",
       "    }\n",
       "\n",
       "    .dataframe thead th {\n",
       "        text-align: right;\n",
       "    }\n",
       "</style>\n",
       "<table border=\"1\" class=\"dataframe\">\n",
       "  <thead>\n",
       "    <tr style=\"text-align: right;\">\n",
       "      <th></th>\n",
       "      <th>Title</th>\n",
       "      <th>Author</th>\n",
       "      <th>Edition</th>\n",
       "      <th>Reviews</th>\n",
       "      <th>Ratings</th>\n",
       "      <th>Synopsis</th>\n",
       "      <th>Genre</th>\n",
       "      <th>BookCategory</th>\n",
       "      <th>Price</th>\n",
       "      <th>Edition_Year</th>\n",
       "    </tr>\n",
       "  </thead>\n",
       "  <tbody>\n",
       "    <tr>\n",
       "      <th>0</th>\n",
       "      <td>the prisoner's gold (the hunters 3)</td>\n",
       "      <td>chris kuzneski</td>\n",
       "      <td>paperback,– 10 mar 2016</td>\n",
       "      <td>4.0</td>\n",
       "      <td>8</td>\n",
       "      <td>the hunters return in their third brilliant no...</td>\n",
       "      <td>action &amp; adventure</td>\n",
       "      <td>action &amp; adventure</td>\n",
       "      <td>220.00</td>\n",
       "      <td>2016</td>\n",
       "    </tr>\n",
       "    <tr>\n",
       "      <th>1</th>\n",
       "      <td>guru dutt: a tragedy in three acts</td>\n",
       "      <td>arun khopkar</td>\n",
       "      <td>paperback,– 7 nov 2012</td>\n",
       "      <td>3.9</td>\n",
       "      <td>14</td>\n",
       "      <td>a layered portrait of a troubled genius for wh...</td>\n",
       "      <td>cinema &amp; broadcast</td>\n",
       "      <td>biographies, diaries &amp; true accounts</td>\n",
       "      <td>202.93</td>\n",
       "      <td>2012</td>\n",
       "    </tr>\n",
       "  </tbody>\n",
       "</table>\n",
       "</div>"
      ],
      "text/plain": [
       "                                 Title          Author  \\\n",
       "0  the prisoner's gold (the hunters 3)  chris kuzneski   \n",
       "1   guru dutt: a tragedy in three acts    arun khopkar   \n",
       "\n",
       "                   Edition  Reviews  Ratings  \\\n",
       "0  paperback,– 10 mar 2016      4.0        8   \n",
       "1   paperback,– 7 nov 2012      3.9       14   \n",
       "\n",
       "                                            Synopsis                Genre  \\\n",
       "0  the hunters return in their third brilliant no...  action & adventure    \n",
       "1  a layered portrait of a troubled genius for wh...  cinema & broadcast    \n",
       "\n",
       "                           BookCategory   Price Edition_Year  \n",
       "0                    action & adventure  220.00         2016  \n",
       "1  biographies, diaries & true accounts  202.93         2012  "
      ]
     },
     "execution_count": 13,
     "metadata": {},
     "output_type": "execute_result"
    }
   ],
   "source": [
    "train.head(2)"
   ]
  },
  {
   "cell_type": "code",
   "execution_count": 14,
   "id": "07a72672",
   "metadata": {},
   "outputs": [
    {
     "data": {
      "text/html": [
       "<style>#sk-13881da1-a164-4f3d-b47b-e6b0a722d22c {color: black;background-color: white;}#sk-13881da1-a164-4f3d-b47b-e6b0a722d22c pre{padding: 0;}#sk-13881da1-a164-4f3d-b47b-e6b0a722d22c div.sk-toggleable {background-color: white;}#sk-13881da1-a164-4f3d-b47b-e6b0a722d22c label.sk-toggleable__label {cursor: pointer;display: block;width: 100%;margin-bottom: 0;padding: 0.3em;box-sizing: border-box;text-align: center;}#sk-13881da1-a164-4f3d-b47b-e6b0a722d22c div.sk-toggleable__content {max-height: 0;max-width: 0;overflow: hidden;text-align: left;background-color: #f0f8ff;}#sk-13881da1-a164-4f3d-b47b-e6b0a722d22c div.sk-toggleable__content pre {margin: 0.2em;color: black;border-radius: 0.25em;background-color: #f0f8ff;}#sk-13881da1-a164-4f3d-b47b-e6b0a722d22c input.sk-toggleable__control:checked~div.sk-toggleable__content {max-height: 200px;max-width: 100%;overflow: auto;}#sk-13881da1-a164-4f3d-b47b-e6b0a722d22c div.sk-estimator input.sk-toggleable__control:checked~label.sk-toggleable__label {background-color: #d4ebff;}#sk-13881da1-a164-4f3d-b47b-e6b0a722d22c div.sk-label input.sk-toggleable__control:checked~label.sk-toggleable__label {background-color: #d4ebff;}#sk-13881da1-a164-4f3d-b47b-e6b0a722d22c input.sk-hidden--visually {border: 0;clip: rect(1px 1px 1px 1px);clip: rect(1px, 1px, 1px, 1px);height: 1px;margin: -1px;overflow: hidden;padding: 0;position: absolute;width: 1px;}#sk-13881da1-a164-4f3d-b47b-e6b0a722d22c div.sk-estimator {font-family: monospace;background-color: #f0f8ff;border: 1px dotted black;border-radius: 0.25em;box-sizing: border-box;margin-bottom: 0.5em;}#sk-13881da1-a164-4f3d-b47b-e6b0a722d22c div.sk-estimator:hover {background-color: #d4ebff;}#sk-13881da1-a164-4f3d-b47b-e6b0a722d22c div.sk-parallel-item::after {content: \"\";width: 100%;border-bottom: 1px solid gray;flex-grow: 1;}#sk-13881da1-a164-4f3d-b47b-e6b0a722d22c div.sk-label:hover label.sk-toggleable__label {background-color: #d4ebff;}#sk-13881da1-a164-4f3d-b47b-e6b0a722d22c div.sk-serial::before {content: \"\";position: absolute;border-left: 1px solid gray;box-sizing: border-box;top: 2em;bottom: 0;left: 50%;}#sk-13881da1-a164-4f3d-b47b-e6b0a722d22c div.sk-serial {display: flex;flex-direction: column;align-items: center;background-color: white;padding-right: 0.2em;padding-left: 0.2em;}#sk-13881da1-a164-4f3d-b47b-e6b0a722d22c div.sk-item {z-index: 1;}#sk-13881da1-a164-4f3d-b47b-e6b0a722d22c div.sk-parallel {display: flex;align-items: stretch;justify-content: center;background-color: white;}#sk-13881da1-a164-4f3d-b47b-e6b0a722d22c div.sk-parallel::before {content: \"\";position: absolute;border-left: 1px solid gray;box-sizing: border-box;top: 2em;bottom: 0;left: 50%;}#sk-13881da1-a164-4f3d-b47b-e6b0a722d22c div.sk-parallel-item {display: flex;flex-direction: column;position: relative;background-color: white;}#sk-13881da1-a164-4f3d-b47b-e6b0a722d22c div.sk-parallel-item:first-child::after {align-self: flex-end;width: 50%;}#sk-13881da1-a164-4f3d-b47b-e6b0a722d22c div.sk-parallel-item:last-child::after {align-self: flex-start;width: 50%;}#sk-13881da1-a164-4f3d-b47b-e6b0a722d22c div.sk-parallel-item:only-child::after {width: 0;}#sk-13881da1-a164-4f3d-b47b-e6b0a722d22c div.sk-dashed-wrapped {border: 1px dashed gray;margin: 0 0.4em 0.5em 0.4em;box-sizing: border-box;padding-bottom: 0.4em;background-color: white;position: relative;}#sk-13881da1-a164-4f3d-b47b-e6b0a722d22c div.sk-label label {font-family: monospace;font-weight: bold;background-color: white;display: inline-block;line-height: 1.2em;}#sk-13881da1-a164-4f3d-b47b-e6b0a722d22c div.sk-label-container {position: relative;z-index: 2;text-align: center;}#sk-13881da1-a164-4f3d-b47b-e6b0a722d22c div.sk-container {display: inline-block;position: relative;}</style><div id=\"sk-13881da1-a164-4f3d-b47b-e6b0a722d22c\" class\"sk-top-container\"><div class=\"sk-container\"><div class=\"sk-item sk-dashed-wrapped\"><div class=\"sk-label-container\"><div class=\"sk-label sk-toggleable\"><input class=\"sk-toggleable__control sk-hidden--visually\" id=\"925f65b4-5237-4354-bc05-7362565136b0\" type=\"checkbox\" ><label class=\"sk-toggleable__label\" for=\"925f65b4-5237-4354-bc05-7362565136b0\">Pipeline</label><div class=\"sk-toggleable__content\"><pre>Pipeline(steps=[('num_imputer', SimpleImputer(strategy='median')),\n",
       "                ('rb_scaler', RobustScaler())])</pre></div></div></div><div class=\"sk-serial\"><div class=\"sk-item\"><div class=\"sk-estimator sk-toggleable\"><input class=\"sk-toggleable__control sk-hidden--visually\" id=\"d0209432-5728-4383-9814-44d749b47ba6\" type=\"checkbox\" ><label class=\"sk-toggleable__label\" for=\"d0209432-5728-4383-9814-44d749b47ba6\">SimpleImputer</label><div class=\"sk-toggleable__content\"><pre>SimpleImputer(strategy='median')</pre></div></div></div><div class=\"sk-item\"><div class=\"sk-estimator sk-toggleable\"><input class=\"sk-toggleable__control sk-hidden--visually\" id=\"fa2c3595-6cf8-4410-a794-feb755380217\" type=\"checkbox\" ><label class=\"sk-toggleable__label\" for=\"fa2c3595-6cf8-4410-a794-feb755380217\">RobustScaler</label><div class=\"sk-toggleable__content\"><pre>RobustScaler()</pre></div></div></div></div></div></div></div>"
      ],
      "text/plain": [
       "Pipeline(steps=[('num_imputer', SimpleImputer(strategy='median')),\n",
       "                ('rb_scaler', RobustScaler())])"
      ]
     },
     "execution_count": 14,
     "metadata": {},
     "output_type": "execute_result"
    }
   ],
   "source": [
    "# Numerical Pipeline\n",
    "\n",
    "num_transformer = Pipeline([\n",
    "    (\"num_imputer\", SimpleImputer(strategy = \"median\")),\n",
    "    (\"rb_scaler\", RobustScaler())\n",
    "])\n",
    "\n",
    "num_transformer"
   ]
  },
  {
   "cell_type": "code",
   "execution_count": 16,
   "id": "34f13946",
   "metadata": {},
   "outputs": [],
   "source": [
    "# to check params uncomment below\n",
    "#num_transformer.__dir__()"
   ]
  },
  {
   "cell_type": "code",
   "execution_count": 17,
   "id": "a373b21f",
   "metadata": {},
   "outputs": [
    {
     "data": {
      "text/html": [
       "<style>#sk-35d5790f-4a41-48e6-84cc-a78c3f18e8d0 {color: black;background-color: white;}#sk-35d5790f-4a41-48e6-84cc-a78c3f18e8d0 pre{padding: 0;}#sk-35d5790f-4a41-48e6-84cc-a78c3f18e8d0 div.sk-toggleable {background-color: white;}#sk-35d5790f-4a41-48e6-84cc-a78c3f18e8d0 label.sk-toggleable__label {cursor: pointer;display: block;width: 100%;margin-bottom: 0;padding: 0.3em;box-sizing: border-box;text-align: center;}#sk-35d5790f-4a41-48e6-84cc-a78c3f18e8d0 div.sk-toggleable__content {max-height: 0;max-width: 0;overflow: hidden;text-align: left;background-color: #f0f8ff;}#sk-35d5790f-4a41-48e6-84cc-a78c3f18e8d0 div.sk-toggleable__content pre {margin: 0.2em;color: black;border-radius: 0.25em;background-color: #f0f8ff;}#sk-35d5790f-4a41-48e6-84cc-a78c3f18e8d0 input.sk-toggleable__control:checked~div.sk-toggleable__content {max-height: 200px;max-width: 100%;overflow: auto;}#sk-35d5790f-4a41-48e6-84cc-a78c3f18e8d0 div.sk-estimator input.sk-toggleable__control:checked~label.sk-toggleable__label {background-color: #d4ebff;}#sk-35d5790f-4a41-48e6-84cc-a78c3f18e8d0 div.sk-label input.sk-toggleable__control:checked~label.sk-toggleable__label {background-color: #d4ebff;}#sk-35d5790f-4a41-48e6-84cc-a78c3f18e8d0 input.sk-hidden--visually {border: 0;clip: rect(1px 1px 1px 1px);clip: rect(1px, 1px, 1px, 1px);height: 1px;margin: -1px;overflow: hidden;padding: 0;position: absolute;width: 1px;}#sk-35d5790f-4a41-48e6-84cc-a78c3f18e8d0 div.sk-estimator {font-family: monospace;background-color: #f0f8ff;border: 1px dotted black;border-radius: 0.25em;box-sizing: border-box;margin-bottom: 0.5em;}#sk-35d5790f-4a41-48e6-84cc-a78c3f18e8d0 div.sk-estimator:hover {background-color: #d4ebff;}#sk-35d5790f-4a41-48e6-84cc-a78c3f18e8d0 div.sk-parallel-item::after {content: \"\";width: 100%;border-bottom: 1px solid gray;flex-grow: 1;}#sk-35d5790f-4a41-48e6-84cc-a78c3f18e8d0 div.sk-label:hover label.sk-toggleable__label {background-color: #d4ebff;}#sk-35d5790f-4a41-48e6-84cc-a78c3f18e8d0 div.sk-serial::before {content: \"\";position: absolute;border-left: 1px solid gray;box-sizing: border-box;top: 2em;bottom: 0;left: 50%;}#sk-35d5790f-4a41-48e6-84cc-a78c3f18e8d0 div.sk-serial {display: flex;flex-direction: column;align-items: center;background-color: white;padding-right: 0.2em;padding-left: 0.2em;}#sk-35d5790f-4a41-48e6-84cc-a78c3f18e8d0 div.sk-item {z-index: 1;}#sk-35d5790f-4a41-48e6-84cc-a78c3f18e8d0 div.sk-parallel {display: flex;align-items: stretch;justify-content: center;background-color: white;}#sk-35d5790f-4a41-48e6-84cc-a78c3f18e8d0 div.sk-parallel::before {content: \"\";position: absolute;border-left: 1px solid gray;box-sizing: border-box;top: 2em;bottom: 0;left: 50%;}#sk-35d5790f-4a41-48e6-84cc-a78c3f18e8d0 div.sk-parallel-item {display: flex;flex-direction: column;position: relative;background-color: white;}#sk-35d5790f-4a41-48e6-84cc-a78c3f18e8d0 div.sk-parallel-item:first-child::after {align-self: flex-end;width: 50%;}#sk-35d5790f-4a41-48e6-84cc-a78c3f18e8d0 div.sk-parallel-item:last-child::after {align-self: flex-start;width: 50%;}#sk-35d5790f-4a41-48e6-84cc-a78c3f18e8d0 div.sk-parallel-item:only-child::after {width: 0;}#sk-35d5790f-4a41-48e6-84cc-a78c3f18e8d0 div.sk-dashed-wrapped {border: 1px dashed gray;margin: 0 0.4em 0.5em 0.4em;box-sizing: border-box;padding-bottom: 0.4em;background-color: white;position: relative;}#sk-35d5790f-4a41-48e6-84cc-a78c3f18e8d0 div.sk-label label {font-family: monospace;font-weight: bold;background-color: white;display: inline-block;line-height: 1.2em;}#sk-35d5790f-4a41-48e6-84cc-a78c3f18e8d0 div.sk-label-container {position: relative;z-index: 2;text-align: center;}#sk-35d5790f-4a41-48e6-84cc-a78c3f18e8d0 div.sk-container {display: inline-block;position: relative;}</style><div id=\"sk-35d5790f-4a41-48e6-84cc-a78c3f18e8d0\" class\"sk-top-container\"><div class=\"sk-container\"><div class=\"sk-item sk-dashed-wrapped\"><div class=\"sk-label-container\"><div class=\"sk-label sk-toggleable\"><input class=\"sk-toggleable__control sk-hidden--visually\" id=\"1f775c21-faf0-41f4-b7bf-436694ded8ae\" type=\"checkbox\" ><label class=\"sk-toggleable__label\" for=\"1f775c21-faf0-41f4-b7bf-436694ded8ae\">Pipeline</label><div class=\"sk-toggleable__content\"><pre>Pipeline(steps=[('multi_imputer', SimpleImputer(strategy='most_frequent')),\n",
       "                ('ohe', OneHotEncoder(handle_unknown='ignore', sparse=False))])</pre></div></div></div><div class=\"sk-serial\"><div class=\"sk-item\"><div class=\"sk-estimator sk-toggleable\"><input class=\"sk-toggleable__control sk-hidden--visually\" id=\"17483f5c-3e78-40b8-b839-4c99c88fd70c\" type=\"checkbox\" ><label class=\"sk-toggleable__label\" for=\"17483f5c-3e78-40b8-b839-4c99c88fd70c\">SimpleImputer</label><div class=\"sk-toggleable__content\"><pre>SimpleImputer(strategy='most_frequent')</pre></div></div></div><div class=\"sk-item\"><div class=\"sk-estimator sk-toggleable\"><input class=\"sk-toggleable__control sk-hidden--visually\" id=\"2eef9f8b-b079-48f6-8fe3-65ce1dc61764\" type=\"checkbox\" ><label class=\"sk-toggleable__label\" for=\"2eef9f8b-b079-48f6-8fe3-65ce1dc61764\">OneHotEncoder</label><div class=\"sk-toggleable__content\"><pre>OneHotEncoder(handle_unknown='ignore', sparse=False)</pre></div></div></div></div></div></div></div>"
      ],
      "text/plain": [
       "Pipeline(steps=[('multi_imputer', SimpleImputer(strategy='most_frequent')),\n",
       "                ('ohe', OneHotEncoder(handle_unknown='ignore', sparse=False))])"
      ]
     },
     "execution_count": 17,
     "metadata": {},
     "output_type": "execute_result"
    }
   ],
   "source": [
    "# Categorical Pipeline\n",
    "\n",
    "cat_multi_transformer = Pipeline([\n",
    "    (\"multi_imputer\", SimpleImputer(strategy = \"most_frequent\")),\n",
    "    (\"ohe\", OneHotEncoder(sparse = False,\n",
    "                         handle_unknown = \"ignore\"))\n",
    "])\n",
    "\n",
    "cat_multi_transformer"
   ]
  },
  {
   "cell_type": "code",
   "execution_count": 18,
   "id": "19ec0d15",
   "metadata": {},
   "outputs": [],
   "source": [
    "# cat_multi_transformer.__dir__()"
   ]
  },
  {
   "cell_type": "code",
   "execution_count": 19,
   "id": "45ed46a9",
   "metadata": {},
   "outputs": [
    {
     "data": {
      "text/html": [
       "<style>#sk-bd88f05d-3da3-4e36-86c7-2c6f839c5973 {color: black;background-color: white;}#sk-bd88f05d-3da3-4e36-86c7-2c6f839c5973 pre{padding: 0;}#sk-bd88f05d-3da3-4e36-86c7-2c6f839c5973 div.sk-toggleable {background-color: white;}#sk-bd88f05d-3da3-4e36-86c7-2c6f839c5973 label.sk-toggleable__label {cursor: pointer;display: block;width: 100%;margin-bottom: 0;padding: 0.3em;box-sizing: border-box;text-align: center;}#sk-bd88f05d-3da3-4e36-86c7-2c6f839c5973 div.sk-toggleable__content {max-height: 0;max-width: 0;overflow: hidden;text-align: left;background-color: #f0f8ff;}#sk-bd88f05d-3da3-4e36-86c7-2c6f839c5973 div.sk-toggleable__content pre {margin: 0.2em;color: black;border-radius: 0.25em;background-color: #f0f8ff;}#sk-bd88f05d-3da3-4e36-86c7-2c6f839c5973 input.sk-toggleable__control:checked~div.sk-toggleable__content {max-height: 200px;max-width: 100%;overflow: auto;}#sk-bd88f05d-3da3-4e36-86c7-2c6f839c5973 div.sk-estimator input.sk-toggleable__control:checked~label.sk-toggleable__label {background-color: #d4ebff;}#sk-bd88f05d-3da3-4e36-86c7-2c6f839c5973 div.sk-label input.sk-toggleable__control:checked~label.sk-toggleable__label {background-color: #d4ebff;}#sk-bd88f05d-3da3-4e36-86c7-2c6f839c5973 input.sk-hidden--visually {border: 0;clip: rect(1px 1px 1px 1px);clip: rect(1px, 1px, 1px, 1px);height: 1px;margin: -1px;overflow: hidden;padding: 0;position: absolute;width: 1px;}#sk-bd88f05d-3da3-4e36-86c7-2c6f839c5973 div.sk-estimator {font-family: monospace;background-color: #f0f8ff;border: 1px dotted black;border-radius: 0.25em;box-sizing: border-box;margin-bottom: 0.5em;}#sk-bd88f05d-3da3-4e36-86c7-2c6f839c5973 div.sk-estimator:hover {background-color: #d4ebff;}#sk-bd88f05d-3da3-4e36-86c7-2c6f839c5973 div.sk-parallel-item::after {content: \"\";width: 100%;border-bottom: 1px solid gray;flex-grow: 1;}#sk-bd88f05d-3da3-4e36-86c7-2c6f839c5973 div.sk-label:hover label.sk-toggleable__label {background-color: #d4ebff;}#sk-bd88f05d-3da3-4e36-86c7-2c6f839c5973 div.sk-serial::before {content: \"\";position: absolute;border-left: 1px solid gray;box-sizing: border-box;top: 2em;bottom: 0;left: 50%;}#sk-bd88f05d-3da3-4e36-86c7-2c6f839c5973 div.sk-serial {display: flex;flex-direction: column;align-items: center;background-color: white;padding-right: 0.2em;padding-left: 0.2em;}#sk-bd88f05d-3da3-4e36-86c7-2c6f839c5973 div.sk-item {z-index: 1;}#sk-bd88f05d-3da3-4e36-86c7-2c6f839c5973 div.sk-parallel {display: flex;align-items: stretch;justify-content: center;background-color: white;}#sk-bd88f05d-3da3-4e36-86c7-2c6f839c5973 div.sk-parallel::before {content: \"\";position: absolute;border-left: 1px solid gray;box-sizing: border-box;top: 2em;bottom: 0;left: 50%;}#sk-bd88f05d-3da3-4e36-86c7-2c6f839c5973 div.sk-parallel-item {display: flex;flex-direction: column;position: relative;background-color: white;}#sk-bd88f05d-3da3-4e36-86c7-2c6f839c5973 div.sk-parallel-item:first-child::after {align-self: flex-end;width: 50%;}#sk-bd88f05d-3da3-4e36-86c7-2c6f839c5973 div.sk-parallel-item:last-child::after {align-self: flex-start;width: 50%;}#sk-bd88f05d-3da3-4e36-86c7-2c6f839c5973 div.sk-parallel-item:only-child::after {width: 0;}#sk-bd88f05d-3da3-4e36-86c7-2c6f839c5973 div.sk-dashed-wrapped {border: 1px dashed gray;margin: 0 0.4em 0.5em 0.4em;box-sizing: border-box;padding-bottom: 0.4em;background-color: white;position: relative;}#sk-bd88f05d-3da3-4e36-86c7-2c6f839c5973 div.sk-label label {font-family: monospace;font-weight: bold;background-color: white;display: inline-block;line-height: 1.2em;}#sk-bd88f05d-3da3-4e36-86c7-2c6f839c5973 div.sk-label-container {position: relative;z-index: 2;text-align: center;}#sk-bd88f05d-3da3-4e36-86c7-2c6f839c5973 div.sk-container {display: inline-block;position: relative;}</style><div id=\"sk-bd88f05d-3da3-4e36-86c7-2c6f839c5973\" class\"sk-top-container\"><div class=\"sk-container\"><div class=\"sk-item sk-dashed-wrapped\"><div class=\"sk-label-container\"><div class=\"sk-label sk-toggleable\"><input class=\"sk-toggleable__control sk-hidden--visually\" id=\"8f0db0fb-3d87-4bdc-a915-9ba1f10d867b\" type=\"checkbox\" ><label class=\"sk-toggleable__label\" for=\"8f0db0fb-3d87-4bdc-a915-9ba1f10d867b\">Pipeline</label><div class=\"sk-toggleable__content\"><pre>Pipeline(steps=[('binary_imputer', SimpleImputer(strategy='most_frequent')),\n",
       "                ('ohe_binary',\n",
       "                 OneHotEncoder(drop='if_binary', handle_unknown='ignore',\n",
       "                               sparse=False))])</pre></div></div></div><div class=\"sk-serial\"><div class=\"sk-item\"><div class=\"sk-estimator sk-toggleable\"><input class=\"sk-toggleable__control sk-hidden--visually\" id=\"764811e9-0c5a-4f9e-9395-008ab62df939\" type=\"checkbox\" ><label class=\"sk-toggleable__label\" for=\"764811e9-0c5a-4f9e-9395-008ab62df939\">SimpleImputer</label><div class=\"sk-toggleable__content\"><pre>SimpleImputer(strategy='most_frequent')</pre></div></div></div><div class=\"sk-item\"><div class=\"sk-estimator sk-toggleable\"><input class=\"sk-toggleable__control sk-hidden--visually\" id=\"37c88e0d-0691-4aff-9270-8c44fcfe8506\" type=\"checkbox\" ><label class=\"sk-toggleable__label\" for=\"37c88e0d-0691-4aff-9270-8c44fcfe8506\">OneHotEncoder</label><div class=\"sk-toggleable__content\"><pre>OneHotEncoder(drop='if_binary', handle_unknown='ignore', sparse=False)</pre></div></div></div></div></div></div></div>"
      ],
      "text/plain": [
       "Pipeline(steps=[('binary_imputer', SimpleImputer(strategy='most_frequent')),\n",
       "                ('ohe_binary',\n",
       "                 OneHotEncoder(drop='if_binary', handle_unknown='ignore',\n",
       "                               sparse=False))])"
      ]
     },
     "execution_count": 19,
     "metadata": {},
     "output_type": "execute_result"
    }
   ],
   "source": [
    "# Binary Categorical Pipeline\n",
    "\n",
    "cat_binary_transformer = Pipeline([\n",
    "    (\"binary_imputer\", SimpleImputer(strategy = \"most_frequent\")),\n",
    "    (\"ohe_binary\", OneHotEncoder(sparse = False,\n",
    "                                drop = \"if_binary\",\n",
    "                                handle_unknown = \"ignore\"))\n",
    "])\n",
    "\n",
    "cat_binary_transformer"
   ]
  },
  {
   "cell_type": "code",
   "execution_count": 20,
   "id": "588de429",
   "metadata": {},
   "outputs": [],
   "source": [
    "# cat_binary_transformer.__dir__()"
   ]
  },
  {
   "cell_type": "code",
   "execution_count": 21,
   "id": "f150f402",
   "metadata": {},
   "outputs": [
    {
     "data": {
      "text/plain": [
       "Title            object\n",
       "Author           object\n",
       "Edition          object\n",
       "Reviews         float64\n",
       "Ratings           int64\n",
       "Synopsis         object\n",
       "Genre            object\n",
       "BookCategory     object\n",
       "Price           float64\n",
       "Edition_Year     object\n",
       "dtype: object"
      ]
     },
     "execution_count": 21,
     "metadata": {},
     "output_type": "execute_result"
    }
   ],
   "source": [
    "train.dtypes"
   ]
  },
  {
   "cell_type": "code",
   "execution_count": 24,
   "id": "78f8521b",
   "metadata": {},
   "outputs": [
    {
     "data": {
      "text/plain": [
       "299.00     108\n",
       "399.00      85\n",
       "449.00      59\n",
       "295.00      49\n",
       "319.00      48\n",
       "          ... \n",
       "259.35       1\n",
       "1138.00      1\n",
       "129.65       1\n",
       "294.25       1\n",
       "2729.00      1\n",
       "Name: Price, Length: 1614, dtype: int64"
      ]
     },
     "execution_count": 24,
     "metadata": {},
     "output_type": "execute_result"
    }
   ],
   "source": [
    "y = train.Price\n",
    "y.value_counts()"
   ]
  },
  {
   "cell_type": "code",
   "execution_count": 72,
   "id": "133c24cb",
   "metadata": {},
   "outputs": [
    {
     "data": {
      "text/html": [
       "<div>\n",
       "<style scoped>\n",
       "    .dataframe tbody tr th:only-of-type {\n",
       "        vertical-align: middle;\n",
       "    }\n",
       "\n",
       "    .dataframe tbody tr th {\n",
       "        vertical-align: top;\n",
       "    }\n",
       "\n",
       "    .dataframe thead th {\n",
       "        text-align: right;\n",
       "    }\n",
       "</style>\n",
       "<table border=\"1\" class=\"dataframe\">\n",
       "  <thead>\n",
       "    <tr style=\"text-align: right;\">\n",
       "      <th></th>\n",
       "      <th>Title</th>\n",
       "      <th>Author</th>\n",
       "      <th>Edition</th>\n",
       "      <th>Reviews</th>\n",
       "      <th>Ratings</th>\n",
       "      <th>Synopsis</th>\n",
       "      <th>Genre</th>\n",
       "      <th>BookCategory</th>\n",
       "      <th>Edition_Year</th>\n",
       "    </tr>\n",
       "  </thead>\n",
       "  <tbody>\n",
       "    <tr>\n",
       "      <th>0</th>\n",
       "      <td>the prisoner's gold (the hunters 3)</td>\n",
       "      <td>chris kuzneski</td>\n",
       "      <td>paperback,– 10 mar 2016</td>\n",
       "      <td>4.0</td>\n",
       "      <td>8</td>\n",
       "      <td>the hunters return in their third brilliant no...</td>\n",
       "      <td>action &amp; adventure</td>\n",
       "      <td>action &amp; adventure</td>\n",
       "      <td>2016</td>\n",
       "    </tr>\n",
       "    <tr>\n",
       "      <th>1</th>\n",
       "      <td>guru dutt: a tragedy in three acts</td>\n",
       "      <td>arun khopkar</td>\n",
       "      <td>paperback,– 7 nov 2012</td>\n",
       "      <td>3.9</td>\n",
       "      <td>14</td>\n",
       "      <td>a layered portrait of a troubled genius for wh...</td>\n",
       "      <td>cinema &amp; broadcast</td>\n",
       "      <td>biographies, diaries &amp; true accounts</td>\n",
       "      <td>2012</td>\n",
       "    </tr>\n",
       "    <tr>\n",
       "      <th>2</th>\n",
       "      <td>leviathan (penguin classics)</td>\n",
       "      <td>thomas hobbes</td>\n",
       "      <td>paperback,– 25 feb 1982</td>\n",
       "      <td>4.8</td>\n",
       "      <td>6</td>\n",
       "      <td>\"during the time men live without a common pow...</td>\n",
       "      <td>international relation</td>\n",
       "      <td>humour</td>\n",
       "      <td>1982</td>\n",
       "    </tr>\n",
       "    <tr>\n",
       "      <th>3</th>\n",
       "      <td>a pocket full of rye (miss marple)</td>\n",
       "      <td>agatha christie</td>\n",
       "      <td>paperback,– 5 oct 2017</td>\n",
       "      <td>4.1</td>\n",
       "      <td>13</td>\n",
       "      <td>a handful of grain is found in the pocket of a...</td>\n",
       "      <td>contemporary fiction</td>\n",
       "      <td>crime, thriller &amp; mystery</td>\n",
       "      <td>2017</td>\n",
       "    </tr>\n",
       "    <tr>\n",
       "      <th>4</th>\n",
       "      <td>life 70 years of extraordinary photography</td>\n",
       "      <td>editors of life</td>\n",
       "      <td>hardcover,– 10 oct 2006</td>\n",
       "      <td>5.0</td>\n",
       "      <td>1</td>\n",
       "      <td>for seven decades, \"life\" has been thrilling t...</td>\n",
       "      <td>photography</td>\n",
       "      <td>arts, film &amp; photography</td>\n",
       "      <td>2006</td>\n",
       "    </tr>\n",
       "  </tbody>\n",
       "</table>\n",
       "</div>"
      ],
      "text/plain": [
       "                                        Title           Author  \\\n",
       "0         the prisoner's gold (the hunters 3)   chris kuzneski   \n",
       "1          guru dutt: a tragedy in three acts     arun khopkar   \n",
       "2                leviathan (penguin classics)    thomas hobbes   \n",
       "3          a pocket full of rye (miss marple)  agatha christie   \n",
       "4  life 70 years of extraordinary photography  editors of life   \n",
       "\n",
       "                   Edition  Reviews  Ratings  \\\n",
       "0  paperback,– 10 mar 2016      4.0        8   \n",
       "1   paperback,– 7 nov 2012      3.9       14   \n",
       "2  paperback,– 25 feb 1982      4.8        6   \n",
       "3   paperback,– 5 oct 2017      4.1       13   \n",
       "4  hardcover,– 10 oct 2006      5.0        1   \n",
       "\n",
       "                                            Synopsis                   Genre  \\\n",
       "0  the hunters return in their third brilliant no...     action & adventure    \n",
       "1  a layered portrait of a troubled genius for wh...     cinema & broadcast    \n",
       "2  \"during the time men live without a common pow...  international relation   \n",
       "3  a handful of grain is found in the pocket of a...   contemporary fiction    \n",
       "4  for seven decades, \"life\" has been thrilling t...            photography    \n",
       "\n",
       "                           BookCategory Edition_Year  \n",
       "0                    action & adventure         2016  \n",
       "1  biographies, diaries & true accounts         2012  \n",
       "2                                humour         1982  \n",
       "3             crime, thriller & mystery         2017  \n",
       "4              arts, film & photography         2006  "
      ]
     },
     "execution_count": 72,
     "metadata": {},
     "output_type": "execute_result"
    }
   ],
   "source": [
    "X = train.drop(columns = [\"Price\"])\n",
    "X.head()"
   ]
  },
  {
   "cell_type": "code",
   "execution_count": 73,
   "id": "c495e0a0",
   "metadata": {},
   "outputs": [
    {
     "data": {
      "text/plain": [
       "Reviews    float64\n",
       "Ratings      int64\n",
       "dtype: object"
      ]
     },
     "execution_count": 73,
     "metadata": {},
     "output_type": "execute_result"
    }
   ],
   "source": [
    "X_num = X.select_dtypes(exclude = [\"object\"])\n",
    "X_num.dtypes"
   ]
  },
  {
   "cell_type": "code",
   "execution_count": 74,
   "id": "f6f24002",
   "metadata": {
    "scrolled": false
   },
   "outputs": [
    {
     "data": {
      "text/plain": [
       "Title           object\n",
       "Author          object\n",
       "Edition         object\n",
       "Synopsis        object\n",
       "Genre           object\n",
       "BookCategory    object\n",
       "Edition_Year    object\n",
       "dtype: object"
      ]
     },
     "execution_count": 74,
     "metadata": {},
     "output_type": "execute_result"
    }
   ],
   "source": [
    "X_cat = X.select_dtypes(include = [\"object\"])\n",
    "X_cat.dtypes"
   ]
  },
  {
   "cell_type": "code",
   "execution_count": 106,
   "id": "31daa3f3",
   "metadata": {},
   "outputs": [
    {
     "data": {
      "text/html": [
       "<div>\n",
       "<style scoped>\n",
       "    .dataframe tbody tr th:only-of-type {\n",
       "        vertical-align: middle;\n",
       "    }\n",
       "\n",
       "    .dataframe tbody tr th {\n",
       "        vertical-align: top;\n",
       "    }\n",
       "\n",
       "    .dataframe thead th {\n",
       "        text-align: right;\n",
       "    }\n",
       "</style>\n",
       "<table border=\"1\" class=\"dataframe\">\n",
       "  <thead>\n",
       "    <tr style=\"text-align: right;\">\n",
       "      <th></th>\n",
       "      <th>features</th>\n",
       "      <th>unique_values</th>\n",
       "    </tr>\n",
       "  </thead>\n",
       "  <tbody>\n",
       "    <tr>\n",
       "      <th>0</th>\n",
       "      <td>Title</td>\n",
       "      <td>5564</td>\n",
       "    </tr>\n",
       "    <tr>\n",
       "      <th>1</th>\n",
       "      <td>Author</td>\n",
       "      <td>3670</td>\n",
       "    </tr>\n",
       "    <tr>\n",
       "      <th>2</th>\n",
       "      <td>Edition</td>\n",
       "      <td>3370</td>\n",
       "    </tr>\n",
       "    <tr>\n",
       "      <th>3</th>\n",
       "      <td>Synopsis</td>\n",
       "      <td>5548</td>\n",
       "    </tr>\n",
       "    <tr>\n",
       "      <th>4</th>\n",
       "      <td>Genre</td>\n",
       "      <td>341</td>\n",
       "    </tr>\n",
       "    <tr>\n",
       "      <th>5</th>\n",
       "      <td>BookCategory</td>\n",
       "      <td>11</td>\n",
       "    </tr>\n",
       "    <tr>\n",
       "      <th>6</th>\n",
       "      <td>Edition_Year</td>\n",
       "      <td>57</td>\n",
       "    </tr>\n",
       "  </tbody>\n",
       "</table>\n",
       "</div>"
      ],
      "text/plain": [
       "       features  unique_values\n",
       "0         Title           5564\n",
       "1        Author           3670\n",
       "2       Edition           3370\n",
       "3      Synopsis           5548\n",
       "4         Genre            341\n",
       "5  BookCategory             11\n",
       "6  Edition_Year             57"
      ]
     },
     "execution_count": 106,
     "metadata": {},
     "output_type": "execute_result"
    }
   ],
   "source": [
    "ohe_selection = pd.DataFrame(X_cat.nunique()).reset_index()\n",
    "ohe_selection.columns = [\"features\", \"unique_values\"]\n",
    "ohe_selection"
   ]
  },
  {
   "cell_type": "code",
   "execution_count": 108,
   "id": "08a11efc",
   "metadata": {},
   "outputs": [
    {
     "data": {
      "text/plain": [
       "'Title'"
      ]
     },
     "execution_count": 108,
     "metadata": {},
     "output_type": "execute_result"
    }
   ],
   "source": [
    "ohe_features = ohe_selection.query(\"unique_values > 2\").reset_index(drop=True)[\"features\"][0]\n",
    "ohe_features"
   ]
  },
  {
   "cell_type": "code",
   "execution_count": 109,
   "id": "5c5d29ec",
   "metadata": {},
   "outputs": [],
   "source": [
    "ohe_features = 'BookCategory'"
   ]
  },
  {
   "cell_type": "code",
   "execution_count": 110,
   "id": "dddd74ec",
   "metadata": {},
   "outputs": [
    {
     "data": {
      "text/html": [
       "<style>#sk-97338f0f-7099-4e55-a180-ecb4be95ec76 {color: black;background-color: white;}#sk-97338f0f-7099-4e55-a180-ecb4be95ec76 pre{padding: 0;}#sk-97338f0f-7099-4e55-a180-ecb4be95ec76 div.sk-toggleable {background-color: white;}#sk-97338f0f-7099-4e55-a180-ecb4be95ec76 label.sk-toggleable__label {cursor: pointer;display: block;width: 100%;margin-bottom: 0;padding: 0.3em;box-sizing: border-box;text-align: center;}#sk-97338f0f-7099-4e55-a180-ecb4be95ec76 div.sk-toggleable__content {max-height: 0;max-width: 0;overflow: hidden;text-align: left;background-color: #f0f8ff;}#sk-97338f0f-7099-4e55-a180-ecb4be95ec76 div.sk-toggleable__content pre {margin: 0.2em;color: black;border-radius: 0.25em;background-color: #f0f8ff;}#sk-97338f0f-7099-4e55-a180-ecb4be95ec76 input.sk-toggleable__control:checked~div.sk-toggleable__content {max-height: 200px;max-width: 100%;overflow: auto;}#sk-97338f0f-7099-4e55-a180-ecb4be95ec76 div.sk-estimator input.sk-toggleable__control:checked~label.sk-toggleable__label {background-color: #d4ebff;}#sk-97338f0f-7099-4e55-a180-ecb4be95ec76 div.sk-label input.sk-toggleable__control:checked~label.sk-toggleable__label {background-color: #d4ebff;}#sk-97338f0f-7099-4e55-a180-ecb4be95ec76 input.sk-hidden--visually {border: 0;clip: rect(1px 1px 1px 1px);clip: rect(1px, 1px, 1px, 1px);height: 1px;margin: -1px;overflow: hidden;padding: 0;position: absolute;width: 1px;}#sk-97338f0f-7099-4e55-a180-ecb4be95ec76 div.sk-estimator {font-family: monospace;background-color: #f0f8ff;border: 1px dotted black;border-radius: 0.25em;box-sizing: border-box;margin-bottom: 0.5em;}#sk-97338f0f-7099-4e55-a180-ecb4be95ec76 div.sk-estimator:hover {background-color: #d4ebff;}#sk-97338f0f-7099-4e55-a180-ecb4be95ec76 div.sk-parallel-item::after {content: \"\";width: 100%;border-bottom: 1px solid gray;flex-grow: 1;}#sk-97338f0f-7099-4e55-a180-ecb4be95ec76 div.sk-label:hover label.sk-toggleable__label {background-color: #d4ebff;}#sk-97338f0f-7099-4e55-a180-ecb4be95ec76 div.sk-serial::before {content: \"\";position: absolute;border-left: 1px solid gray;box-sizing: border-box;top: 2em;bottom: 0;left: 50%;}#sk-97338f0f-7099-4e55-a180-ecb4be95ec76 div.sk-serial {display: flex;flex-direction: column;align-items: center;background-color: white;padding-right: 0.2em;padding-left: 0.2em;}#sk-97338f0f-7099-4e55-a180-ecb4be95ec76 div.sk-item {z-index: 1;}#sk-97338f0f-7099-4e55-a180-ecb4be95ec76 div.sk-parallel {display: flex;align-items: stretch;justify-content: center;background-color: white;}#sk-97338f0f-7099-4e55-a180-ecb4be95ec76 div.sk-parallel::before {content: \"\";position: absolute;border-left: 1px solid gray;box-sizing: border-box;top: 2em;bottom: 0;left: 50%;}#sk-97338f0f-7099-4e55-a180-ecb4be95ec76 div.sk-parallel-item {display: flex;flex-direction: column;position: relative;background-color: white;}#sk-97338f0f-7099-4e55-a180-ecb4be95ec76 div.sk-parallel-item:first-child::after {align-self: flex-end;width: 50%;}#sk-97338f0f-7099-4e55-a180-ecb4be95ec76 div.sk-parallel-item:last-child::after {align-self: flex-start;width: 50%;}#sk-97338f0f-7099-4e55-a180-ecb4be95ec76 div.sk-parallel-item:only-child::after {width: 0;}#sk-97338f0f-7099-4e55-a180-ecb4be95ec76 div.sk-dashed-wrapped {border: 1px dashed gray;margin: 0 0.4em 0.5em 0.4em;box-sizing: border-box;padding-bottom: 0.4em;background-color: white;position: relative;}#sk-97338f0f-7099-4e55-a180-ecb4be95ec76 div.sk-label label {font-family: monospace;font-weight: bold;background-color: white;display: inline-block;line-height: 1.2em;}#sk-97338f0f-7099-4e55-a180-ecb4be95ec76 div.sk-label-container {position: relative;z-index: 2;text-align: center;}#sk-97338f0f-7099-4e55-a180-ecb4be95ec76 div.sk-container {display: inline-block;position: relative;}</style><div id=\"sk-97338f0f-7099-4e55-a180-ecb4be95ec76\" class\"sk-top-container\"><div class=\"sk-container\"><div class=\"sk-item\"><div class=\"sk-estimator sk-toggleable\"><input class=\"sk-toggleable__control sk-hidden--visually\" id=\"6df23b17-3a27-4dbe-91a8-f6dbe1faa473\" type=\"checkbox\" checked><label class=\"sk-toggleable__label\" for=\"6df23b17-3a27-4dbe-91a8-f6dbe1faa473\">OneHotEncoder</label><div class=\"sk-toggleable__content\"><pre>OneHotEncoder(sparse=False)</pre></div></div></div></div></div>"
      ],
      "text/plain": [
       "OneHotEncoder(sparse=False)"
      ]
     },
     "execution_count": 110,
     "metadata": {},
     "output_type": "execute_result"
    }
   ],
   "source": [
    "ohe = OneHotEncoder(sparse = False)\n",
    "ohe.fit(X_cat[[ohe_features]])"
   ]
  },
  {
   "cell_type": "code",
   "execution_count": 111,
   "id": "56336e1b",
   "metadata": {},
   "outputs": [
    {
     "data": {
      "text/html": [
       "<style>#sk-c0a5f369-1590-4052-bdf9-0a7b5d0d2a1a {color: black;background-color: white;}#sk-c0a5f369-1590-4052-bdf9-0a7b5d0d2a1a pre{padding: 0;}#sk-c0a5f369-1590-4052-bdf9-0a7b5d0d2a1a div.sk-toggleable {background-color: white;}#sk-c0a5f369-1590-4052-bdf9-0a7b5d0d2a1a label.sk-toggleable__label {cursor: pointer;display: block;width: 100%;margin-bottom: 0;padding: 0.3em;box-sizing: border-box;text-align: center;}#sk-c0a5f369-1590-4052-bdf9-0a7b5d0d2a1a div.sk-toggleable__content {max-height: 0;max-width: 0;overflow: hidden;text-align: left;background-color: #f0f8ff;}#sk-c0a5f369-1590-4052-bdf9-0a7b5d0d2a1a div.sk-toggleable__content pre {margin: 0.2em;color: black;border-radius: 0.25em;background-color: #f0f8ff;}#sk-c0a5f369-1590-4052-bdf9-0a7b5d0d2a1a input.sk-toggleable__control:checked~div.sk-toggleable__content {max-height: 200px;max-width: 100%;overflow: auto;}#sk-c0a5f369-1590-4052-bdf9-0a7b5d0d2a1a div.sk-estimator input.sk-toggleable__control:checked~label.sk-toggleable__label {background-color: #d4ebff;}#sk-c0a5f369-1590-4052-bdf9-0a7b5d0d2a1a div.sk-label input.sk-toggleable__control:checked~label.sk-toggleable__label {background-color: #d4ebff;}#sk-c0a5f369-1590-4052-bdf9-0a7b5d0d2a1a input.sk-hidden--visually {border: 0;clip: rect(1px 1px 1px 1px);clip: rect(1px, 1px, 1px, 1px);height: 1px;margin: -1px;overflow: hidden;padding: 0;position: absolute;width: 1px;}#sk-c0a5f369-1590-4052-bdf9-0a7b5d0d2a1a div.sk-estimator {font-family: monospace;background-color: #f0f8ff;border: 1px dotted black;border-radius: 0.25em;box-sizing: border-box;margin-bottom: 0.5em;}#sk-c0a5f369-1590-4052-bdf9-0a7b5d0d2a1a div.sk-estimator:hover {background-color: #d4ebff;}#sk-c0a5f369-1590-4052-bdf9-0a7b5d0d2a1a div.sk-parallel-item::after {content: \"\";width: 100%;border-bottom: 1px solid gray;flex-grow: 1;}#sk-c0a5f369-1590-4052-bdf9-0a7b5d0d2a1a div.sk-label:hover label.sk-toggleable__label {background-color: #d4ebff;}#sk-c0a5f369-1590-4052-bdf9-0a7b5d0d2a1a div.sk-serial::before {content: \"\";position: absolute;border-left: 1px solid gray;box-sizing: border-box;top: 2em;bottom: 0;left: 50%;}#sk-c0a5f369-1590-4052-bdf9-0a7b5d0d2a1a div.sk-serial {display: flex;flex-direction: column;align-items: center;background-color: white;padding-right: 0.2em;padding-left: 0.2em;}#sk-c0a5f369-1590-4052-bdf9-0a7b5d0d2a1a div.sk-item {z-index: 1;}#sk-c0a5f369-1590-4052-bdf9-0a7b5d0d2a1a div.sk-parallel {display: flex;align-items: stretch;justify-content: center;background-color: white;}#sk-c0a5f369-1590-4052-bdf9-0a7b5d0d2a1a div.sk-parallel::before {content: \"\";position: absolute;border-left: 1px solid gray;box-sizing: border-box;top: 2em;bottom: 0;left: 50%;}#sk-c0a5f369-1590-4052-bdf9-0a7b5d0d2a1a div.sk-parallel-item {display: flex;flex-direction: column;position: relative;background-color: white;}#sk-c0a5f369-1590-4052-bdf9-0a7b5d0d2a1a div.sk-parallel-item:first-child::after {align-self: flex-end;width: 50%;}#sk-c0a5f369-1590-4052-bdf9-0a7b5d0d2a1a div.sk-parallel-item:last-child::after {align-self: flex-start;width: 50%;}#sk-c0a5f369-1590-4052-bdf9-0a7b5d0d2a1a div.sk-parallel-item:only-child::after {width: 0;}#sk-c0a5f369-1590-4052-bdf9-0a7b5d0d2a1a div.sk-dashed-wrapped {border: 1px dashed gray;margin: 0 0.4em 0.5em 0.4em;box-sizing: border-box;padding-bottom: 0.4em;background-color: white;position: relative;}#sk-c0a5f369-1590-4052-bdf9-0a7b5d0d2a1a div.sk-label label {font-family: monospace;font-weight: bold;background-color: white;display: inline-block;line-height: 1.2em;}#sk-c0a5f369-1590-4052-bdf9-0a7b5d0d2a1a div.sk-label-container {position: relative;z-index: 2;text-align: center;}#sk-c0a5f369-1590-4052-bdf9-0a7b5d0d2a1a div.sk-container {display: inline-block;position: relative;}</style><div id=\"sk-c0a5f369-1590-4052-bdf9-0a7b5d0d2a1a\" class\"sk-top-container\"><div class=\"sk-container\"><div class=\"sk-item sk-dashed-wrapped\"><div class=\"sk-label-container\"><div class=\"sk-label sk-toggleable\"><input class=\"sk-toggleable__control sk-hidden--visually\" id=\"fbec67c7-d023-44b9-88db-e1d9caf246d4\" type=\"checkbox\" ><label class=\"sk-toggleable__label\" for=\"fbec67c7-d023-44b9-88db-e1d9caf246d4\">ColumnTransformer</label><div class=\"sk-toggleable__content\"><pre>ColumnTransformer(transformers=[('num_transformer',\n",
       "                                 Pipeline(steps=[('num_imputer',\n",
       "                                                  SimpleImputer(strategy='median')),\n",
       "                                                 ('rb_scaler',\n",
       "                                                  RobustScaler())]),\n",
       "                                 <sklearn.compose._column_transformer.make_column_selector object at 0x136b182e0>),\n",
       "                                ('cat_multi_transformer',\n",
       "                                 Pipeline(steps=[('multi_imputer',\n",
       "                                                  SimpleImputer(strategy='most_frequent')),\n",
       "                                                 ('ohe',\n",
       "                                                  OneHotEncoder(handle_unknown='ignore',\n",
       "                                                                sparse=False))]),\n",
       "                                 ['BookCategory'])])</pre></div></div></div><div class=\"sk-parallel\"><div class=\"sk-parallel-item\"><div class=\"sk-item\"><div class=\"sk-label-container\"><div class=\"sk-label sk-toggleable\"><input class=\"sk-toggleable__control sk-hidden--visually\" id=\"8214b2fa-7180-49f5-974f-1d0397dd35bf\" type=\"checkbox\" ><label class=\"sk-toggleable__label\" for=\"8214b2fa-7180-49f5-974f-1d0397dd35bf\">num_transformer</label><div class=\"sk-toggleable__content\"><pre><sklearn.compose._column_transformer.make_column_selector object at 0x136b182e0></pre></div></div></div><div class=\"sk-serial\"><div class=\"sk-item\"><div class=\"sk-serial\"><div class=\"sk-item\"><div class=\"sk-estimator sk-toggleable\"><input class=\"sk-toggleable__control sk-hidden--visually\" id=\"9b7f8b08-058a-473a-b249-8b4c5f9dcf3d\" type=\"checkbox\" ><label class=\"sk-toggleable__label\" for=\"9b7f8b08-058a-473a-b249-8b4c5f9dcf3d\">SimpleImputer</label><div class=\"sk-toggleable__content\"><pre>SimpleImputer(strategy='median')</pre></div></div></div><div class=\"sk-item\"><div class=\"sk-estimator sk-toggleable\"><input class=\"sk-toggleable__control sk-hidden--visually\" id=\"6619388a-46cb-478e-9f21-0d542ff73180\" type=\"checkbox\" ><label class=\"sk-toggleable__label\" for=\"6619388a-46cb-478e-9f21-0d542ff73180\">RobustScaler</label><div class=\"sk-toggleable__content\"><pre>RobustScaler()</pre></div></div></div></div></div></div></div></div><div class=\"sk-parallel-item\"><div class=\"sk-item\"><div class=\"sk-label-container\"><div class=\"sk-label sk-toggleable\"><input class=\"sk-toggleable__control sk-hidden--visually\" id=\"dc0e2b8c-03da-40ad-b0d8-f16b5f1fa46a\" type=\"checkbox\" ><label class=\"sk-toggleable__label\" for=\"dc0e2b8c-03da-40ad-b0d8-f16b5f1fa46a\">cat_multi_transformer</label><div class=\"sk-toggleable__content\"><pre>['BookCategory']</pre></div></div></div><div class=\"sk-serial\"><div class=\"sk-item\"><div class=\"sk-serial\"><div class=\"sk-item\"><div class=\"sk-estimator sk-toggleable\"><input class=\"sk-toggleable__control sk-hidden--visually\" id=\"69090598-780e-47d0-870a-b519e2283bce\" type=\"checkbox\" ><label class=\"sk-toggleable__label\" for=\"69090598-780e-47d0-870a-b519e2283bce\">SimpleImputer</label><div class=\"sk-toggleable__content\"><pre>SimpleImputer(strategy='most_frequent')</pre></div></div></div><div class=\"sk-item\"><div class=\"sk-estimator sk-toggleable\"><input class=\"sk-toggleable__control sk-hidden--visually\" id=\"5263f2ef-5cdc-401e-8c29-d517f09dde2b\" type=\"checkbox\" ><label class=\"sk-toggleable__label\" for=\"5263f2ef-5cdc-401e-8c29-d517f09dde2b\">OneHotEncoder</label><div class=\"sk-toggleable__content\"><pre>OneHotEncoder(handle_unknown='ignore', sparse=False)</pre></div></div></div></div></div></div></div></div></div></div></div></div>"
      ],
      "text/plain": [
       "ColumnTransformer(transformers=[('num_transformer',\n",
       "                                 Pipeline(steps=[('num_imputer',\n",
       "                                                  SimpleImputer(strategy='median')),\n",
       "                                                 ('rb_scaler',\n",
       "                                                  RobustScaler())]),\n",
       "                                 <sklearn.compose._column_transformer.make_column_selector object at 0x136b182e0>),\n",
       "                                ('cat_multi_transformer',\n",
       "                                 Pipeline(steps=[('multi_imputer',\n",
       "                                                  SimpleImputer(strategy='most_frequent')),\n",
       "                                                 ('ohe',\n",
       "                                                  OneHotEncoder(handle_unknown='ignore',\n",
       "                                                                sparse=False))]),\n",
       "                                 ['BookCategory'])])"
      ]
     },
     "execution_count": 111,
     "metadata": {},
     "output_type": "execute_result"
    }
   ],
   "source": [
    "preprocessor = ColumnTransformer([\n",
    "    ('num_transformer', num_transformer, make_column_selector(dtype_include = [\"float64\", \"int64\"])),\n",
    "    ('cat_multi_transformer', cat_multi_transformer, [ohe_features])\n",
    "])\n",
    "\n",
    "preprocessor"
   ]
  },
  {
   "cell_type": "code",
   "execution_count": 112,
   "id": "6db2a08d",
   "metadata": {},
   "outputs": [
    {
     "data": {
      "text/html": [
       "<div>\n",
       "<style scoped>\n",
       "    .dataframe tbody tr th:only-of-type {\n",
       "        vertical-align: middle;\n",
       "    }\n",
       "\n",
       "    .dataframe tbody tr th {\n",
       "        vertical-align: top;\n",
       "    }\n",
       "\n",
       "    .dataframe thead th {\n",
       "        text-align: right;\n",
       "    }\n",
       "</style>\n",
       "<table border=\"1\" class=\"dataframe\">\n",
       "  <thead>\n",
       "    <tr style=\"text-align: right;\">\n",
       "      <th></th>\n",
       "      <th>Reviews</th>\n",
       "      <th>Ratings</th>\n",
       "    </tr>\n",
       "  </thead>\n",
       "  <tbody>\n",
       "    <tr>\n",
       "      <th>0</th>\n",
       "      <td>-0.500</td>\n",
       "      <td>0.05</td>\n",
       "    </tr>\n",
       "    <tr>\n",
       "      <th>1</th>\n",
       "      <td>-0.625</td>\n",
       "      <td>0.35</td>\n",
       "    </tr>\n",
       "    <tr>\n",
       "      <th>2</th>\n",
       "      <td>0.500</td>\n",
       "      <td>-0.05</td>\n",
       "    </tr>\n",
       "    <tr>\n",
       "      <th>3</th>\n",
       "      <td>-0.375</td>\n",
       "      <td>0.30</td>\n",
       "    </tr>\n",
       "    <tr>\n",
       "      <th>4</th>\n",
       "      <td>0.750</td>\n",
       "      <td>-0.30</td>\n",
       "    </tr>\n",
       "  </tbody>\n",
       "</table>\n",
       "</div>"
      ],
      "text/plain": [
       "   Reviews  Ratings\n",
       "0   -0.500     0.05\n",
       "1   -0.625     0.35\n",
       "2    0.500    -0.05\n",
       "3   -0.375     0.30\n",
       "4    0.750    -0.30"
      ]
     },
     "execution_count": 112,
     "metadata": {},
     "output_type": "execute_result"
    }
   ],
   "source": [
    "#scaling numerical features\n",
    "\n",
    "rb_scaler = RobustScaler()\n",
    "X_num_scaled = pd.DataFrame(rb_scaler.fit_transform(X_num.copy()), # copy only values, not references\n",
    "                            columns = X_num.columns) \n",
    "X_num_scaled.head()"
   ]
  },
  {
   "cell_type": "code",
   "execution_count": 113,
   "id": "dd8d3a10",
   "metadata": {},
   "outputs": [
    {
     "data": {
      "text/plain": [
       "(6237, 2)"
      ]
     },
     "execution_count": 113,
     "metadata": {},
     "output_type": "execute_result"
    }
   ],
   "source": [
    "# scaled numerical features\n",
    "X_num_scaled.shape"
   ]
  },
  {
   "cell_type": "markdown",
   "id": "3690c2e9",
   "metadata": {},
   "source": [
    "⚠️ When we use Pipeline, we lose the `get_feature_names()`... \n",
    "\n",
    "👉 Let's not use the SimpleImputer for the moment in our transformer:"
   ]
  },
  {
   "cell_type": "code",
   "execution_count": 114,
   "id": "4e5df3a3",
   "metadata": {},
   "outputs": [
    {
     "data": {
      "text/html": [
       "<style>#sk-6de200c1-621d-4343-b82e-d0ff4ff82672 {color: black;background-color: white;}#sk-6de200c1-621d-4343-b82e-d0ff4ff82672 pre{padding: 0;}#sk-6de200c1-621d-4343-b82e-d0ff4ff82672 div.sk-toggleable {background-color: white;}#sk-6de200c1-621d-4343-b82e-d0ff4ff82672 label.sk-toggleable__label {cursor: pointer;display: block;width: 100%;margin-bottom: 0;padding: 0.3em;box-sizing: border-box;text-align: center;}#sk-6de200c1-621d-4343-b82e-d0ff4ff82672 div.sk-toggleable__content {max-height: 0;max-width: 0;overflow: hidden;text-align: left;background-color: #f0f8ff;}#sk-6de200c1-621d-4343-b82e-d0ff4ff82672 div.sk-toggleable__content pre {margin: 0.2em;color: black;border-radius: 0.25em;background-color: #f0f8ff;}#sk-6de200c1-621d-4343-b82e-d0ff4ff82672 input.sk-toggleable__control:checked~div.sk-toggleable__content {max-height: 200px;max-width: 100%;overflow: auto;}#sk-6de200c1-621d-4343-b82e-d0ff4ff82672 div.sk-estimator input.sk-toggleable__control:checked~label.sk-toggleable__label {background-color: #d4ebff;}#sk-6de200c1-621d-4343-b82e-d0ff4ff82672 div.sk-label input.sk-toggleable__control:checked~label.sk-toggleable__label {background-color: #d4ebff;}#sk-6de200c1-621d-4343-b82e-d0ff4ff82672 input.sk-hidden--visually {border: 0;clip: rect(1px 1px 1px 1px);clip: rect(1px, 1px, 1px, 1px);height: 1px;margin: -1px;overflow: hidden;padding: 0;position: absolute;width: 1px;}#sk-6de200c1-621d-4343-b82e-d0ff4ff82672 div.sk-estimator {font-family: monospace;background-color: #f0f8ff;border: 1px dotted black;border-radius: 0.25em;box-sizing: border-box;margin-bottom: 0.5em;}#sk-6de200c1-621d-4343-b82e-d0ff4ff82672 div.sk-estimator:hover {background-color: #d4ebff;}#sk-6de200c1-621d-4343-b82e-d0ff4ff82672 div.sk-parallel-item::after {content: \"\";width: 100%;border-bottom: 1px solid gray;flex-grow: 1;}#sk-6de200c1-621d-4343-b82e-d0ff4ff82672 div.sk-label:hover label.sk-toggleable__label {background-color: #d4ebff;}#sk-6de200c1-621d-4343-b82e-d0ff4ff82672 div.sk-serial::before {content: \"\";position: absolute;border-left: 1px solid gray;box-sizing: border-box;top: 2em;bottom: 0;left: 50%;}#sk-6de200c1-621d-4343-b82e-d0ff4ff82672 div.sk-serial {display: flex;flex-direction: column;align-items: center;background-color: white;padding-right: 0.2em;padding-left: 0.2em;}#sk-6de200c1-621d-4343-b82e-d0ff4ff82672 div.sk-item {z-index: 1;}#sk-6de200c1-621d-4343-b82e-d0ff4ff82672 div.sk-parallel {display: flex;align-items: stretch;justify-content: center;background-color: white;}#sk-6de200c1-621d-4343-b82e-d0ff4ff82672 div.sk-parallel::before {content: \"\";position: absolute;border-left: 1px solid gray;box-sizing: border-box;top: 2em;bottom: 0;left: 50%;}#sk-6de200c1-621d-4343-b82e-d0ff4ff82672 div.sk-parallel-item {display: flex;flex-direction: column;position: relative;background-color: white;}#sk-6de200c1-621d-4343-b82e-d0ff4ff82672 div.sk-parallel-item:first-child::after {align-self: flex-end;width: 50%;}#sk-6de200c1-621d-4343-b82e-d0ff4ff82672 div.sk-parallel-item:last-child::after {align-self: flex-start;width: 50%;}#sk-6de200c1-621d-4343-b82e-d0ff4ff82672 div.sk-parallel-item:only-child::after {width: 0;}#sk-6de200c1-621d-4343-b82e-d0ff4ff82672 div.sk-dashed-wrapped {border: 1px dashed gray;margin: 0 0.4em 0.5em 0.4em;box-sizing: border-box;padding-bottom: 0.4em;background-color: white;position: relative;}#sk-6de200c1-621d-4343-b82e-d0ff4ff82672 div.sk-label label {font-family: monospace;font-weight: bold;background-color: white;display: inline-block;line-height: 1.2em;}#sk-6de200c1-621d-4343-b82e-d0ff4ff82672 div.sk-label-container {position: relative;z-index: 2;text-align: center;}#sk-6de200c1-621d-4343-b82e-d0ff4ff82672 div.sk-container {display: inline-block;position: relative;}</style><div id=\"sk-6de200c1-621d-4343-b82e-d0ff4ff82672\" class\"sk-top-container\"><div class=\"sk-container\"><div class=\"sk-item sk-dashed-wrapped\"><div class=\"sk-label-container\"><div class=\"sk-label sk-toggleable\"><input class=\"sk-toggleable__control sk-hidden--visually\" id=\"0ea26a8d-8788-4b43-ac73-51ae6818a07a\" type=\"checkbox\" ><label class=\"sk-toggleable__label\" for=\"0ea26a8d-8788-4b43-ac73-51ae6818a07a\">ColumnTransformer</label><div class=\"sk-toggleable__content\"><pre>ColumnTransformer(transformers=[('num_transformer',\n",
       "                                 Pipeline(steps=[('num_imputer',\n",
       "                                                  SimpleImputer(strategy='median')),\n",
       "                                                 ('rb_scaler',\n",
       "                                                  RobustScaler())]),\n",
       "                                 <sklearn.compose._column_transformer.make_column_selector object at 0x136b16bb0>),\n",
       "                                ('cat_multi_transformer',\n",
       "                                 OneHotEncoder(handle_unknown='ignore',\n",
       "                                               sparse=False),\n",
       "                                 ['BookCategory'])])</pre></div></div></div><div class=\"sk-parallel\"><div class=\"sk-parallel-item\"><div class=\"sk-item\"><div class=\"sk-label-container\"><div class=\"sk-label sk-toggleable\"><input class=\"sk-toggleable__control sk-hidden--visually\" id=\"41902ec4-0659-4162-8542-546cbdf349f0\" type=\"checkbox\" ><label class=\"sk-toggleable__label\" for=\"41902ec4-0659-4162-8542-546cbdf349f0\">num_transformer</label><div class=\"sk-toggleable__content\"><pre><sklearn.compose._column_transformer.make_column_selector object at 0x136b16bb0></pre></div></div></div><div class=\"sk-serial\"><div class=\"sk-item\"><div class=\"sk-serial\"><div class=\"sk-item\"><div class=\"sk-estimator sk-toggleable\"><input class=\"sk-toggleable__control sk-hidden--visually\" id=\"9fce3933-2086-4098-bb5b-0e7730d701d6\" type=\"checkbox\" ><label class=\"sk-toggleable__label\" for=\"9fce3933-2086-4098-bb5b-0e7730d701d6\">SimpleImputer</label><div class=\"sk-toggleable__content\"><pre>SimpleImputer(strategy='median')</pre></div></div></div><div class=\"sk-item\"><div class=\"sk-estimator sk-toggleable\"><input class=\"sk-toggleable__control sk-hidden--visually\" id=\"ef6e9094-5c29-46ba-bce6-1a16be7c8d1d\" type=\"checkbox\" ><label class=\"sk-toggleable__label\" for=\"ef6e9094-5c29-46ba-bce6-1a16be7c8d1d\">RobustScaler</label><div class=\"sk-toggleable__content\"><pre>RobustScaler()</pre></div></div></div></div></div></div></div></div><div class=\"sk-parallel-item\"><div class=\"sk-item\"><div class=\"sk-label-container\"><div class=\"sk-label sk-toggleable\"><input class=\"sk-toggleable__control sk-hidden--visually\" id=\"3e72ba09-ce08-414f-b3c9-1c98ec868c4b\" type=\"checkbox\" ><label class=\"sk-toggleable__label\" for=\"3e72ba09-ce08-414f-b3c9-1c98ec868c4b\">cat_multi_transformer</label><div class=\"sk-toggleable__content\"><pre>['BookCategory']</pre></div></div></div><div class=\"sk-serial\"><div class=\"sk-item\"><div class=\"sk-estimator sk-toggleable\"><input class=\"sk-toggleable__control sk-hidden--visually\" id=\"0f8cb517-eb80-437d-96f9-dd54a8b53129\" type=\"checkbox\" ><label class=\"sk-toggleable__label\" for=\"0f8cb517-eb80-437d-96f9-dd54a8b53129\">OneHotEncoder</label><div class=\"sk-toggleable__content\"><pre>OneHotEncoder(handle_unknown='ignore', sparse=False)</pre></div></div></div></div></div></div></div></div></div></div>"
      ],
      "text/plain": [
       "ColumnTransformer(transformers=[('num_transformer',\n",
       "                                 Pipeline(steps=[('num_imputer',\n",
       "                                                  SimpleImputer(strategy='median')),\n",
       "                                                 ('rb_scaler',\n",
       "                                                  RobustScaler())]),\n",
       "                                 <sklearn.compose._column_transformer.make_column_selector object at 0x136b16bb0>),\n",
       "                                ('cat_multi_transformer',\n",
       "                                 OneHotEncoder(handle_unknown='ignore',\n",
       "                                               sparse=False),\n",
       "                                 ['BookCategory'])])"
      ]
     },
     "execution_count": 114,
     "metadata": {},
     "output_type": "execute_result"
    }
   ],
   "source": [
    "preprocessor = ColumnTransformer([\n",
    "    ('num_transformer', num_transformer, make_column_selector(dtype_include = [\"float64\", \"int64\"])),\n",
    "    ('cat_multi_transformer', OneHotEncoder(sparse = False,\n",
    "                         handle_unknown = \"ignore\"), [ohe_features])\n",
    "])\n",
    "\n",
    "preprocessor"
   ]
  },
  {
   "cell_type": "markdown",
   "id": "70df33fa",
   "metadata": {},
   "source": [
    "*Let's transform the dataset using these Pipelines and ColumnTransformer !*"
   ]
  },
  {
   "cell_type": "code",
   "execution_count": 115,
   "id": "8d7582ef",
   "metadata": {},
   "outputs": [
    {
     "data": {
      "text/html": [
       "<div>\n",
       "<style scoped>\n",
       "    .dataframe tbody tr th:only-of-type {\n",
       "        vertical-align: middle;\n",
       "    }\n",
       "\n",
       "    .dataframe tbody tr th {\n",
       "        vertical-align: top;\n",
       "    }\n",
       "\n",
       "    .dataframe thead th {\n",
       "        text-align: right;\n",
       "    }\n",
       "</style>\n",
       "<table border=\"1\" class=\"dataframe\">\n",
       "  <thead>\n",
       "    <tr style=\"text-align: right;\">\n",
       "      <th></th>\n",
       "      <th>0</th>\n",
       "      <th>1</th>\n",
       "      <th>2</th>\n",
       "      <th>3</th>\n",
       "      <th>4</th>\n",
       "      <th>5</th>\n",
       "      <th>6</th>\n",
       "      <th>7</th>\n",
       "      <th>8</th>\n",
       "      <th>9</th>\n",
       "      <th>10</th>\n",
       "      <th>11</th>\n",
       "      <th>12</th>\n",
       "    </tr>\n",
       "  </thead>\n",
       "  <tbody>\n",
       "    <tr>\n",
       "      <th>0</th>\n",
       "      <td>-0.500</td>\n",
       "      <td>0.05</td>\n",
       "      <td>1.0</td>\n",
       "      <td>0.0</td>\n",
       "      <td>0.0</td>\n",
       "      <td>0.0</td>\n",
       "      <td>0.0</td>\n",
       "      <td>0.0</td>\n",
       "      <td>0.0</td>\n",
       "      <td>0.0</td>\n",
       "      <td>0.0</td>\n",
       "      <td>0.0</td>\n",
       "      <td>0.0</td>\n",
       "    </tr>\n",
       "    <tr>\n",
       "      <th>1</th>\n",
       "      <td>-0.625</td>\n",
       "      <td>0.35</td>\n",
       "      <td>0.0</td>\n",
       "      <td>0.0</td>\n",
       "      <td>1.0</td>\n",
       "      <td>0.0</td>\n",
       "      <td>0.0</td>\n",
       "      <td>0.0</td>\n",
       "      <td>0.0</td>\n",
       "      <td>0.0</td>\n",
       "      <td>0.0</td>\n",
       "      <td>0.0</td>\n",
       "      <td>0.0</td>\n",
       "    </tr>\n",
       "    <tr>\n",
       "      <th>2</th>\n",
       "      <td>0.500</td>\n",
       "      <td>-0.05</td>\n",
       "      <td>0.0</td>\n",
       "      <td>0.0</td>\n",
       "      <td>0.0</td>\n",
       "      <td>0.0</td>\n",
       "      <td>0.0</td>\n",
       "      <td>0.0</td>\n",
       "      <td>1.0</td>\n",
       "      <td>0.0</td>\n",
       "      <td>0.0</td>\n",
       "      <td>0.0</td>\n",
       "      <td>0.0</td>\n",
       "    </tr>\n",
       "    <tr>\n",
       "      <th>3</th>\n",
       "      <td>-0.375</td>\n",
       "      <td>0.30</td>\n",
       "      <td>0.0</td>\n",
       "      <td>0.0</td>\n",
       "      <td>0.0</td>\n",
       "      <td>0.0</td>\n",
       "      <td>0.0</td>\n",
       "      <td>1.0</td>\n",
       "      <td>0.0</td>\n",
       "      <td>0.0</td>\n",
       "      <td>0.0</td>\n",
       "      <td>0.0</td>\n",
       "      <td>0.0</td>\n",
       "    </tr>\n",
       "    <tr>\n",
       "      <th>4</th>\n",
       "      <td>0.750</td>\n",
       "      <td>-0.30</td>\n",
       "      <td>0.0</td>\n",
       "      <td>1.0</td>\n",
       "      <td>0.0</td>\n",
       "      <td>0.0</td>\n",
       "      <td>0.0</td>\n",
       "      <td>0.0</td>\n",
       "      <td>0.0</td>\n",
       "      <td>0.0</td>\n",
       "      <td>0.0</td>\n",
       "      <td>0.0</td>\n",
       "      <td>0.0</td>\n",
       "    </tr>\n",
       "    <tr>\n",
       "      <th>...</th>\n",
       "      <td>...</td>\n",
       "      <td>...</td>\n",
       "      <td>...</td>\n",
       "      <td>...</td>\n",
       "      <td>...</td>\n",
       "      <td>...</td>\n",
       "      <td>...</td>\n",
       "      <td>...</td>\n",
       "      <td>...</td>\n",
       "      <td>...</td>\n",
       "      <td>...</td>\n",
       "      <td>...</td>\n",
       "      <td>...</td>\n",
       "    </tr>\n",
       "    <tr>\n",
       "      <th>6232</th>\n",
       "      <td>0.750</td>\n",
       "      <td>-0.25</td>\n",
       "      <td>0.0</td>\n",
       "      <td>0.0</td>\n",
       "      <td>0.0</td>\n",
       "      <td>0.0</td>\n",
       "      <td>0.0</td>\n",
       "      <td>0.0</td>\n",
       "      <td>1.0</td>\n",
       "      <td>0.0</td>\n",
       "      <td>0.0</td>\n",
       "      <td>0.0</td>\n",
       "      <td>0.0</td>\n",
       "    </tr>\n",
       "    <tr>\n",
       "      <th>6233</th>\n",
       "      <td>-1.375</td>\n",
       "      <td>0.10</td>\n",
       "      <td>0.0</td>\n",
       "      <td>0.0</td>\n",
       "      <td>0.0</td>\n",
       "      <td>0.0</td>\n",
       "      <td>0.0</td>\n",
       "      <td>1.0</td>\n",
       "      <td>0.0</td>\n",
       "      <td>0.0</td>\n",
       "      <td>0.0</td>\n",
       "      <td>0.0</td>\n",
       "      <td>0.0</td>\n",
       "    </tr>\n",
       "    <tr>\n",
       "      <th>6234</th>\n",
       "      <td>-0.750</td>\n",
       "      <td>-0.20</td>\n",
       "      <td>0.0</td>\n",
       "      <td>0.0</td>\n",
       "      <td>0.0</td>\n",
       "      <td>0.0</td>\n",
       "      <td>0.0</td>\n",
       "      <td>0.0</td>\n",
       "      <td>0.0</td>\n",
       "      <td>0.0</td>\n",
       "      <td>0.0</td>\n",
       "      <td>1.0</td>\n",
       "      <td>0.0</td>\n",
       "    </tr>\n",
       "    <tr>\n",
       "      <th>6235</th>\n",
       "      <td>-1.125</td>\n",
       "      <td>-0.15</td>\n",
       "      <td>1.0</td>\n",
       "      <td>0.0</td>\n",
       "      <td>0.0</td>\n",
       "      <td>0.0</td>\n",
       "      <td>0.0</td>\n",
       "      <td>0.0</td>\n",
       "      <td>0.0</td>\n",
       "      <td>0.0</td>\n",
       "      <td>0.0</td>\n",
       "      <td>0.0</td>\n",
       "      <td>0.0</td>\n",
       "    </tr>\n",
       "    <tr>\n",
       "      <th>6236</th>\n",
       "      <td>-0.625</td>\n",
       "      <td>-0.25</td>\n",
       "      <td>1.0</td>\n",
       "      <td>0.0</td>\n",
       "      <td>0.0</td>\n",
       "      <td>0.0</td>\n",
       "      <td>0.0</td>\n",
       "      <td>0.0</td>\n",
       "      <td>0.0</td>\n",
       "      <td>0.0</td>\n",
       "      <td>0.0</td>\n",
       "      <td>0.0</td>\n",
       "      <td>0.0</td>\n",
       "    </tr>\n",
       "  </tbody>\n",
       "</table>\n",
       "<p>6237 rows × 13 columns</p>\n",
       "</div>"
      ],
      "text/plain": [
       "         0     1    2    3    4    5    6    7    8    9    10   11   12\n",
       "0    -0.500  0.05  1.0  0.0  0.0  0.0  0.0  0.0  0.0  0.0  0.0  0.0  0.0\n",
       "1    -0.625  0.35  0.0  0.0  1.0  0.0  0.0  0.0  0.0  0.0  0.0  0.0  0.0\n",
       "2     0.500 -0.05  0.0  0.0  0.0  0.0  0.0  0.0  1.0  0.0  0.0  0.0  0.0\n",
       "3    -0.375  0.30  0.0  0.0  0.0  0.0  0.0  1.0  0.0  0.0  0.0  0.0  0.0\n",
       "4     0.750 -0.30  0.0  1.0  0.0  0.0  0.0  0.0  0.0  0.0  0.0  0.0  0.0\n",
       "...     ...   ...  ...  ...  ...  ...  ...  ...  ...  ...  ...  ...  ...\n",
       "6232  0.750 -0.25  0.0  0.0  0.0  0.0  0.0  0.0  1.0  0.0  0.0  0.0  0.0\n",
       "6233 -1.375  0.10  0.0  0.0  0.0  0.0  0.0  1.0  0.0  0.0  0.0  0.0  0.0\n",
       "6234 -0.750 -0.20  0.0  0.0  0.0  0.0  0.0  0.0  0.0  0.0  0.0  1.0  0.0\n",
       "6235 -1.125 -0.15  1.0  0.0  0.0  0.0  0.0  0.0  0.0  0.0  0.0  0.0  0.0\n",
       "6236 -0.625 -0.25  1.0  0.0  0.0  0.0  0.0  0.0  0.0  0.0  0.0  0.0  0.0\n",
       "\n",
       "[6237 rows x 13 columns]"
      ]
     },
     "execution_count": 115,
     "metadata": {},
     "output_type": "execute_result"
    }
   ],
   "source": [
    "X_transformed = pd.DataFrame(preprocessor.fit_transform(X))\n",
    "X_transformed"
   ]
  },
  {
   "cell_type": "markdown",
   "id": "d72bbfd2",
   "metadata": {},
   "source": [
    "Getting the features' names...\n",
    "\n",
    "✅ Actually, we could fit any ML with this transformed dataset and use for example `feature_permutation` to detect which column/feature is important or not...\n",
    "\n",
    "❗️ But without the features' names, we are losing some interpretability...\n",
    "\n",
    "🤔 So, how can we collect them ? "
   ]
  },
  {
   "cell_type": "markdown",
   "id": "dee6d8e2",
   "metadata": {},
   "source": [
    "> Investigating the different transformers in the ColumnTransformer..."
   ]
  },
  {
   "cell_type": "code",
   "execution_count": 116,
   "id": "6c7cb8aa",
   "metadata": {},
   "outputs": [
    {
     "data": {
      "text/html": [
       "<style>#sk-e896186e-237d-4c02-b24c-7e9daeaf33b3 {color: black;background-color: white;}#sk-e896186e-237d-4c02-b24c-7e9daeaf33b3 pre{padding: 0;}#sk-e896186e-237d-4c02-b24c-7e9daeaf33b3 div.sk-toggleable {background-color: white;}#sk-e896186e-237d-4c02-b24c-7e9daeaf33b3 label.sk-toggleable__label {cursor: pointer;display: block;width: 100%;margin-bottom: 0;padding: 0.3em;box-sizing: border-box;text-align: center;}#sk-e896186e-237d-4c02-b24c-7e9daeaf33b3 div.sk-toggleable__content {max-height: 0;max-width: 0;overflow: hidden;text-align: left;background-color: #f0f8ff;}#sk-e896186e-237d-4c02-b24c-7e9daeaf33b3 div.sk-toggleable__content pre {margin: 0.2em;color: black;border-radius: 0.25em;background-color: #f0f8ff;}#sk-e896186e-237d-4c02-b24c-7e9daeaf33b3 input.sk-toggleable__control:checked~div.sk-toggleable__content {max-height: 200px;max-width: 100%;overflow: auto;}#sk-e896186e-237d-4c02-b24c-7e9daeaf33b3 div.sk-estimator input.sk-toggleable__control:checked~label.sk-toggleable__label {background-color: #d4ebff;}#sk-e896186e-237d-4c02-b24c-7e9daeaf33b3 div.sk-label input.sk-toggleable__control:checked~label.sk-toggleable__label {background-color: #d4ebff;}#sk-e896186e-237d-4c02-b24c-7e9daeaf33b3 input.sk-hidden--visually {border: 0;clip: rect(1px 1px 1px 1px);clip: rect(1px, 1px, 1px, 1px);height: 1px;margin: -1px;overflow: hidden;padding: 0;position: absolute;width: 1px;}#sk-e896186e-237d-4c02-b24c-7e9daeaf33b3 div.sk-estimator {font-family: monospace;background-color: #f0f8ff;border: 1px dotted black;border-radius: 0.25em;box-sizing: border-box;margin-bottom: 0.5em;}#sk-e896186e-237d-4c02-b24c-7e9daeaf33b3 div.sk-estimator:hover {background-color: #d4ebff;}#sk-e896186e-237d-4c02-b24c-7e9daeaf33b3 div.sk-parallel-item::after {content: \"\";width: 100%;border-bottom: 1px solid gray;flex-grow: 1;}#sk-e896186e-237d-4c02-b24c-7e9daeaf33b3 div.sk-label:hover label.sk-toggleable__label {background-color: #d4ebff;}#sk-e896186e-237d-4c02-b24c-7e9daeaf33b3 div.sk-serial::before {content: \"\";position: absolute;border-left: 1px solid gray;box-sizing: border-box;top: 2em;bottom: 0;left: 50%;}#sk-e896186e-237d-4c02-b24c-7e9daeaf33b3 div.sk-serial {display: flex;flex-direction: column;align-items: center;background-color: white;padding-right: 0.2em;padding-left: 0.2em;}#sk-e896186e-237d-4c02-b24c-7e9daeaf33b3 div.sk-item {z-index: 1;}#sk-e896186e-237d-4c02-b24c-7e9daeaf33b3 div.sk-parallel {display: flex;align-items: stretch;justify-content: center;background-color: white;}#sk-e896186e-237d-4c02-b24c-7e9daeaf33b3 div.sk-parallel::before {content: \"\";position: absolute;border-left: 1px solid gray;box-sizing: border-box;top: 2em;bottom: 0;left: 50%;}#sk-e896186e-237d-4c02-b24c-7e9daeaf33b3 div.sk-parallel-item {display: flex;flex-direction: column;position: relative;background-color: white;}#sk-e896186e-237d-4c02-b24c-7e9daeaf33b3 div.sk-parallel-item:first-child::after {align-self: flex-end;width: 50%;}#sk-e896186e-237d-4c02-b24c-7e9daeaf33b3 div.sk-parallel-item:last-child::after {align-self: flex-start;width: 50%;}#sk-e896186e-237d-4c02-b24c-7e9daeaf33b3 div.sk-parallel-item:only-child::after {width: 0;}#sk-e896186e-237d-4c02-b24c-7e9daeaf33b3 div.sk-dashed-wrapped {border: 1px dashed gray;margin: 0 0.4em 0.5em 0.4em;box-sizing: border-box;padding-bottom: 0.4em;background-color: white;position: relative;}#sk-e896186e-237d-4c02-b24c-7e9daeaf33b3 div.sk-label label {font-family: monospace;font-weight: bold;background-color: white;display: inline-block;line-height: 1.2em;}#sk-e896186e-237d-4c02-b24c-7e9daeaf33b3 div.sk-label-container {position: relative;z-index: 2;text-align: center;}#sk-e896186e-237d-4c02-b24c-7e9daeaf33b3 div.sk-container {display: inline-block;position: relative;}</style><div id=\"sk-e896186e-237d-4c02-b24c-7e9daeaf33b3\" class\"sk-top-container\"><div class=\"sk-container\"><div class=\"sk-item sk-dashed-wrapped\"><div class=\"sk-label-container\"><div class=\"sk-label sk-toggleable\"><input class=\"sk-toggleable__control sk-hidden--visually\" id=\"ee280ccf-9012-41a2-89a1-12604d2ada0e\" type=\"checkbox\" ><label class=\"sk-toggleable__label\" for=\"ee280ccf-9012-41a2-89a1-12604d2ada0e\">ColumnTransformer</label><div class=\"sk-toggleable__content\"><pre>ColumnTransformer(transformers=[('num_transformer',\n",
       "                                 Pipeline(steps=[('num_imputer',\n",
       "                                                  SimpleImputer(strategy='median')),\n",
       "                                                 ('rb_scaler',\n",
       "                                                  RobustScaler())]),\n",
       "                                 <sklearn.compose._column_transformer.make_column_selector object at 0x136b16bb0>),\n",
       "                                ('cat_multi_transformer',\n",
       "                                 OneHotEncoder(handle_unknown='ignore',\n",
       "                                               sparse=False),\n",
       "                                 ['BookCategory'])])</pre></div></div></div><div class=\"sk-parallel\"><div class=\"sk-parallel-item\"><div class=\"sk-item\"><div class=\"sk-label-container\"><div class=\"sk-label sk-toggleable\"><input class=\"sk-toggleable__control sk-hidden--visually\" id=\"30caec4f-a437-438e-892c-78b1ac09cbf2\" type=\"checkbox\" ><label class=\"sk-toggleable__label\" for=\"30caec4f-a437-438e-892c-78b1ac09cbf2\">num_transformer</label><div class=\"sk-toggleable__content\"><pre><sklearn.compose._column_transformer.make_column_selector object at 0x136b16bb0></pre></div></div></div><div class=\"sk-serial\"><div class=\"sk-item\"><div class=\"sk-serial\"><div class=\"sk-item\"><div class=\"sk-estimator sk-toggleable\"><input class=\"sk-toggleable__control sk-hidden--visually\" id=\"5abdc56d-d6da-4cb7-ace9-10170b8edc88\" type=\"checkbox\" ><label class=\"sk-toggleable__label\" for=\"5abdc56d-d6da-4cb7-ace9-10170b8edc88\">SimpleImputer</label><div class=\"sk-toggleable__content\"><pre>SimpleImputer(strategy='median')</pre></div></div></div><div class=\"sk-item\"><div class=\"sk-estimator sk-toggleable\"><input class=\"sk-toggleable__control sk-hidden--visually\" id=\"e6693174-3aed-4beb-8d5d-3559df319e1a\" type=\"checkbox\" ><label class=\"sk-toggleable__label\" for=\"e6693174-3aed-4beb-8d5d-3559df319e1a\">RobustScaler</label><div class=\"sk-toggleable__content\"><pre>RobustScaler()</pre></div></div></div></div></div></div></div></div><div class=\"sk-parallel-item\"><div class=\"sk-item\"><div class=\"sk-label-container\"><div class=\"sk-label sk-toggleable\"><input class=\"sk-toggleable__control sk-hidden--visually\" id=\"fa66bd62-d5da-43a9-942b-f55f05fb531c\" type=\"checkbox\" ><label class=\"sk-toggleable__label\" for=\"fa66bd62-d5da-43a9-942b-f55f05fb531c\">cat_multi_transformer</label><div class=\"sk-toggleable__content\"><pre>['BookCategory']</pre></div></div></div><div class=\"sk-serial\"><div class=\"sk-item\"><div class=\"sk-estimator sk-toggleable\"><input class=\"sk-toggleable__control sk-hidden--visually\" id=\"fef88857-8f55-4368-824f-09d9ceca38b8\" type=\"checkbox\" ><label class=\"sk-toggleable__label\" for=\"fef88857-8f55-4368-824f-09d9ceca38b8\">OneHotEncoder</label><div class=\"sk-toggleable__content\"><pre>OneHotEncoder(handle_unknown='ignore', sparse=False)</pre></div></div></div></div></div></div></div></div></div></div>"
      ],
      "text/plain": [
       "ColumnTransformer(transformers=[('num_transformer',\n",
       "                                 Pipeline(steps=[('num_imputer',\n",
       "                                                  SimpleImputer(strategy='median')),\n",
       "                                                 ('rb_scaler',\n",
       "                                                  RobustScaler())]),\n",
       "                                 <sklearn.compose._column_transformer.make_column_selector object at 0x136b16bb0>),\n",
       "                                ('cat_multi_transformer',\n",
       "                                 OneHotEncoder(handle_unknown='ignore',\n",
       "                                               sparse=False),\n",
       "                                 ['BookCategory'])])"
      ]
     },
     "execution_count": 116,
     "metadata": {},
     "output_type": "execute_result"
    }
   ],
   "source": [
    "preprocessor"
   ]
  },
  {
   "cell_type": "code",
   "execution_count": 117,
   "id": "c0e12f71",
   "metadata": {},
   "outputs": [
    {
     "data": {
      "text/plain": [
       "[('num_transformer',\n",
       "  Pipeline(steps=[('num_imputer', SimpleImputer(strategy='median')),\n",
       "                  ('rb_scaler', RobustScaler())]),\n",
       "  ['Reviews', 'Ratings']),\n",
       " ('cat_multi_transformer',\n",
       "  OneHotEncoder(handle_unknown='ignore', sparse=False),\n",
       "  ['BookCategory']),\n",
       " ('remainder', 'drop', [0, 1, 2, 5, 6, 8])]"
      ]
     },
     "execution_count": 117,
     "metadata": {},
     "output_type": "execute_result"
    }
   ],
   "source": [
    "preprocessor.transformers_"
   ]
  },
  {
   "cell_type": "code",
   "execution_count": 118,
   "id": "fda83ba5",
   "metadata": {},
   "outputs": [
    {
     "data": {
      "text/plain": [
       "list"
      ]
     },
     "execution_count": 118,
     "metadata": {},
     "output_type": "execute_result"
    }
   ],
   "source": [
    "type(preprocessor.transformers_)"
   ]
  },
  {
   "cell_type": "code",
   "execution_count": 119,
   "id": "80fd0029",
   "metadata": {},
   "outputs": [
    {
     "data": {
      "text/plain": [
       "3"
      ]
     },
     "execution_count": 119,
     "metadata": {},
     "output_type": "execute_result"
    }
   ],
   "source": [
    "len(preprocessor.transformers_)"
   ]
  },
  {
   "cell_type": "code",
   "execution_count": 120,
   "id": "ebcca8aa",
   "metadata": {},
   "outputs": [
    {
     "data": {
      "text/plain": [
       "('num_transformer',\n",
       " Pipeline(steps=[('num_imputer', SimpleImputer(strategy='median')),\n",
       "                 ('rb_scaler', RobustScaler())]),\n",
       " ['Reviews', 'Ratings'])"
      ]
     },
     "execution_count": 120,
     "metadata": {},
     "output_type": "execute_result"
    }
   ],
   "source": [
    "# numerical transformed features \n",
    "\n",
    "preprocessor.transformers_[0]"
   ]
  },
  {
   "cell_type": "code",
   "execution_count": 121,
   "id": "3511abf2",
   "metadata": {},
   "outputs": [
    {
     "data": {
      "text/plain": [
       "['Reviews', 'Ratings']"
      ]
     },
     "execution_count": 121,
     "metadata": {},
     "output_type": "execute_result"
    }
   ],
   "source": [
    "## numerical columns\n",
    "num_columns = preprocessor.transformers_[0][-1]\n",
    "num_columns"
   ]
  },
  {
   "cell_type": "code",
   "execution_count": 122,
   "id": "da7ecf9e",
   "metadata": {},
   "outputs": [
    {
     "data": {
      "text/plain": [
       "array(['BookCategory_action & adventure',\n",
       "       'BookCategory_arts, film & photography',\n",
       "       'BookCategory_biographies, diaries & true accounts',\n",
       "       'BookCategory_comics & mangas',\n",
       "       'BookCategory_computing, internet & digital media',\n",
       "       'BookCategory_crime, thriller & mystery', 'BookCategory_humour',\n",
       "       'BookCategory_language, linguistics & writing',\n",
       "       'BookCategory_politics', 'BookCategory_romance',\n",
       "       'BookCategory_sports'], dtype=object)"
      ]
     },
     "execution_count": 122,
     "metadata": {},
     "output_type": "execute_result"
    }
   ],
   "source": [
    "ohe_columns = preprocessor.transformers_[1][1].get_feature_names_out()\n",
    "ohe_columns"
   ]
  },
  {
   "cell_type": "code",
   "execution_count": 133,
   "id": "7bb313cc",
   "metadata": {},
   "outputs": [],
   "source": [
    "#### Aggregating the different lists of features' names"
   ]
  },
  {
   "cell_type": "code",
   "execution_count": null,
   "id": "b9d7c636",
   "metadata": {},
   "outputs": [],
   "source": []
  },
  {
   "cell_type": "code",
   "execution_count": 123,
   "id": "c26b8713",
   "metadata": {},
   "outputs": [
    {
     "data": {
      "text/plain": [
       "(['Reviews', 'Ratings'],\n",
       " array(['BookCategory_action & adventure',\n",
       "        'BookCategory_arts, film & photography',\n",
       "        'BookCategory_biographies, diaries & true accounts',\n",
       "        'BookCategory_comics & mangas',\n",
       "        'BookCategory_computing, internet & digital media',\n",
       "        'BookCategory_crime, thriller & mystery', 'BookCategory_humour',\n",
       "        'BookCategory_language, linguistics & writing',\n",
       "        'BookCategory_politics', 'BookCategory_romance',\n",
       "        'BookCategory_sports'], dtype=object))"
      ]
     },
     "execution_count": 123,
     "metadata": {},
     "output_type": "execute_result"
    }
   ],
   "source": [
    "num_columns, ohe_columns"
   ]
  },
  {
   "cell_type": "code",
   "execution_count": 124,
   "id": "41d681d2",
   "metadata": {},
   "outputs": [
    {
     "data": {
      "text/plain": [
       "<itertools.chain at 0x1367cbf40>"
      ]
     },
     "execution_count": 124,
     "metadata": {},
     "output_type": "execute_result"
    }
   ],
   "source": [
    "itertools.chain(num_columns, ohe_columns)"
   ]
  },
  {
   "cell_type": "code",
   "execution_count": 125,
   "id": "8ebd9264",
   "metadata": {},
   "outputs": [
    {
     "data": {
      "text/plain": [
       "['Reviews',\n",
       " 'Ratings',\n",
       " 'BookCategory_action & adventure',\n",
       " 'BookCategory_arts, film & photography',\n",
       " 'BookCategory_biographies, diaries & true accounts',\n",
       " 'BookCategory_comics & mangas',\n",
       " 'BookCategory_computing, internet & digital media',\n",
       " 'BookCategory_crime, thriller & mystery',\n",
       " 'BookCategory_humour',\n",
       " 'BookCategory_language, linguistics & writing',\n",
       " 'BookCategory_politics',\n",
       " 'BookCategory_romance',\n",
       " 'BookCategory_sports']"
      ]
     },
     "execution_count": 125,
     "metadata": {},
     "output_type": "execute_result"
    }
   ],
   "source": [
    "features_names_after = list(itertools.chain(num_columns, ohe_columns))\n",
    "features_names_after"
   ]
  },
  {
   "cell_type": "code",
   "execution_count": 126,
   "id": "218bf616",
   "metadata": {},
   "outputs": [],
   "source": [
    "X_transformed.columns = features_names_after"
   ]
  },
  {
   "cell_type": "code",
   "execution_count": 127,
   "id": "4e1d764b",
   "metadata": {},
   "outputs": [
    {
     "data": {
      "text/html": [
       "<div>\n",
       "<style scoped>\n",
       "    .dataframe tbody tr th:only-of-type {\n",
       "        vertical-align: middle;\n",
       "    }\n",
       "\n",
       "    .dataframe tbody tr th {\n",
       "        vertical-align: top;\n",
       "    }\n",
       "\n",
       "    .dataframe thead th {\n",
       "        text-align: right;\n",
       "    }\n",
       "</style>\n",
       "<table border=\"1\" class=\"dataframe\">\n",
       "  <thead>\n",
       "    <tr style=\"text-align: right;\">\n",
       "      <th></th>\n",
       "      <th>Reviews</th>\n",
       "      <th>Ratings</th>\n",
       "      <th>BookCategory_action &amp; adventure</th>\n",
       "      <th>BookCategory_arts, film &amp; photography</th>\n",
       "      <th>BookCategory_biographies, diaries &amp; true accounts</th>\n",
       "      <th>BookCategory_comics &amp; mangas</th>\n",
       "      <th>BookCategory_computing, internet &amp; digital media</th>\n",
       "      <th>BookCategory_crime, thriller &amp; mystery</th>\n",
       "      <th>BookCategory_humour</th>\n",
       "      <th>BookCategory_language, linguistics &amp; writing</th>\n",
       "      <th>BookCategory_politics</th>\n",
       "      <th>BookCategory_romance</th>\n",
       "      <th>BookCategory_sports</th>\n",
       "    </tr>\n",
       "  </thead>\n",
       "  <tbody>\n",
       "    <tr>\n",
       "      <th>0</th>\n",
       "      <td>-0.500</td>\n",
       "      <td>0.05</td>\n",
       "      <td>1.0</td>\n",
       "      <td>0.0</td>\n",
       "      <td>0.0</td>\n",
       "      <td>0.0</td>\n",
       "      <td>0.0</td>\n",
       "      <td>0.0</td>\n",
       "      <td>0.0</td>\n",
       "      <td>0.0</td>\n",
       "      <td>0.0</td>\n",
       "      <td>0.0</td>\n",
       "      <td>0.0</td>\n",
       "    </tr>\n",
       "    <tr>\n",
       "      <th>1</th>\n",
       "      <td>-0.625</td>\n",
       "      <td>0.35</td>\n",
       "      <td>0.0</td>\n",
       "      <td>0.0</td>\n",
       "      <td>1.0</td>\n",
       "      <td>0.0</td>\n",
       "      <td>0.0</td>\n",
       "      <td>0.0</td>\n",
       "      <td>0.0</td>\n",
       "      <td>0.0</td>\n",
       "      <td>0.0</td>\n",
       "      <td>0.0</td>\n",
       "      <td>0.0</td>\n",
       "    </tr>\n",
       "    <tr>\n",
       "      <th>2</th>\n",
       "      <td>0.500</td>\n",
       "      <td>-0.05</td>\n",
       "      <td>0.0</td>\n",
       "      <td>0.0</td>\n",
       "      <td>0.0</td>\n",
       "      <td>0.0</td>\n",
       "      <td>0.0</td>\n",
       "      <td>0.0</td>\n",
       "      <td>1.0</td>\n",
       "      <td>0.0</td>\n",
       "      <td>0.0</td>\n",
       "      <td>0.0</td>\n",
       "      <td>0.0</td>\n",
       "    </tr>\n",
       "    <tr>\n",
       "      <th>3</th>\n",
       "      <td>-0.375</td>\n",
       "      <td>0.30</td>\n",
       "      <td>0.0</td>\n",
       "      <td>0.0</td>\n",
       "      <td>0.0</td>\n",
       "      <td>0.0</td>\n",
       "      <td>0.0</td>\n",
       "      <td>1.0</td>\n",
       "      <td>0.0</td>\n",
       "      <td>0.0</td>\n",
       "      <td>0.0</td>\n",
       "      <td>0.0</td>\n",
       "      <td>0.0</td>\n",
       "    </tr>\n",
       "    <tr>\n",
       "      <th>4</th>\n",
       "      <td>0.750</td>\n",
       "      <td>-0.30</td>\n",
       "      <td>0.0</td>\n",
       "      <td>1.0</td>\n",
       "      <td>0.0</td>\n",
       "      <td>0.0</td>\n",
       "      <td>0.0</td>\n",
       "      <td>0.0</td>\n",
       "      <td>0.0</td>\n",
       "      <td>0.0</td>\n",
       "      <td>0.0</td>\n",
       "      <td>0.0</td>\n",
       "      <td>0.0</td>\n",
       "    </tr>\n",
       "  </tbody>\n",
       "</table>\n",
       "</div>"
      ],
      "text/plain": [
       "   Reviews  Ratings  BookCategory_action & adventure  \\\n",
       "0   -0.500     0.05                              1.0   \n",
       "1   -0.625     0.35                              0.0   \n",
       "2    0.500    -0.05                              0.0   \n",
       "3   -0.375     0.30                              0.0   \n",
       "4    0.750    -0.30                              0.0   \n",
       "\n",
       "   BookCategory_arts, film & photography  \\\n",
       "0                                    0.0   \n",
       "1                                    0.0   \n",
       "2                                    0.0   \n",
       "3                                    0.0   \n",
       "4                                    1.0   \n",
       "\n",
       "   BookCategory_biographies, diaries & true accounts  \\\n",
       "0                                                0.0   \n",
       "1                                                1.0   \n",
       "2                                                0.0   \n",
       "3                                                0.0   \n",
       "4                                                0.0   \n",
       "\n",
       "   BookCategory_comics & mangas  \\\n",
       "0                           0.0   \n",
       "1                           0.0   \n",
       "2                           0.0   \n",
       "3                           0.0   \n",
       "4                           0.0   \n",
       "\n",
       "   BookCategory_computing, internet & digital media  \\\n",
       "0                                               0.0   \n",
       "1                                               0.0   \n",
       "2                                               0.0   \n",
       "3                                               0.0   \n",
       "4                                               0.0   \n",
       "\n",
       "   BookCategory_crime, thriller & mystery  BookCategory_humour  \\\n",
       "0                                     0.0                  0.0   \n",
       "1                                     0.0                  0.0   \n",
       "2                                     0.0                  1.0   \n",
       "3                                     1.0                  0.0   \n",
       "4                                     0.0                  0.0   \n",
       "\n",
       "   BookCategory_language, linguistics & writing  BookCategory_politics  \\\n",
       "0                                           0.0                    0.0   \n",
       "1                                           0.0                    0.0   \n",
       "2                                           0.0                    0.0   \n",
       "3                                           0.0                    0.0   \n",
       "4                                           0.0                    0.0   \n",
       "\n",
       "   BookCategory_romance  BookCategory_sports  \n",
       "0                   0.0                  0.0  \n",
       "1                   0.0                  0.0  \n",
       "2                   0.0                  0.0  \n",
       "3                   0.0                  0.0  \n",
       "4                   0.0                  0.0  "
      ]
     },
     "execution_count": 127,
     "metadata": {},
     "output_type": "execute_result"
    }
   ],
   "source": [
    "X_transformed.head()"
   ]
  },
  {
   "cell_type": "code",
   "execution_count": 134,
   "id": "46610f54",
   "metadata": {},
   "outputs": [],
   "source": [
    "## `Label Encoder` the target"
   ]
  },
  {
   "cell_type": "code",
   "execution_count": 135,
   "id": "f8ff9df5",
   "metadata": {},
   "outputs": [
    {
     "data": {
      "text/plain": [
       "299.00     108\n",
       "399.00      85\n",
       "449.00      59\n",
       "295.00      49\n",
       "319.00      48\n",
       "          ... \n",
       "259.35       1\n",
       "1138.00      1\n",
       "129.65       1\n",
       "294.25       1\n",
       "2729.00      1\n",
       "Name: Price, Length: 1614, dtype: int64"
      ]
     },
     "execution_count": 135,
     "metadata": {},
     "output_type": "execute_result"
    }
   ],
   "source": [
    "y.value_counts(normalize = False) # normalize is set to False by default"
   ]
  },
  {
   "cell_type": "code",
   "execution_count": 136,
   "id": "f919dcb8",
   "metadata": {},
   "outputs": [
    {
     "data": {
      "text/plain": [
       "299.00     0.017316\n",
       "399.00     0.013628\n",
       "449.00     0.009460\n",
       "295.00     0.007856\n",
       "319.00     0.007696\n",
       "             ...   \n",
       "259.35     0.000160\n",
       "1138.00    0.000160\n",
       "129.65     0.000160\n",
       "294.25     0.000160\n",
       "2729.00    0.000160\n",
       "Name: Price, Length: 1614, dtype: float64"
      ]
     },
     "execution_count": 136,
     "metadata": {},
     "output_type": "execute_result"
    }
   ],
   "source": [
    "y.value_counts(normalize = True)"
   ]
  },
  {
   "cell_type": "code",
   "execution_count": 137,
   "id": "da80679f",
   "metadata": {},
   "outputs": [
    {
     "data": {
      "text/html": [
       "<div>\n",
       "<style scoped>\n",
       "    .dataframe tbody tr th:only-of-type {\n",
       "        vertical-align: middle;\n",
       "    }\n",
       "\n",
       "    .dataframe tbody tr th {\n",
       "        vertical-align: top;\n",
       "    }\n",
       "\n",
       "    .dataframe thead th {\n",
       "        text-align: right;\n",
       "    }\n",
       "</style>\n",
       "<table border=\"1\" class=\"dataframe\">\n",
       "  <thead>\n",
       "    <tr style=\"text-align: right;\">\n",
       "      <th></th>\n",
       "      <th>target</th>\n",
       "    </tr>\n",
       "  </thead>\n",
       "  <tbody>\n",
       "    <tr>\n",
       "      <th>1249</th>\n",
       "      <td>531</td>\n",
       "    </tr>\n",
       "    <tr>\n",
       "      <th>5419</th>\n",
       "      <td>521</td>\n",
       "    </tr>\n",
       "    <tr>\n",
       "      <th>1126</th>\n",
       "      <td>457</td>\n",
       "    </tr>\n",
       "    <tr>\n",
       "      <th>4991</th>\n",
       "      <td>638</td>\n",
       "    </tr>\n",
       "    <tr>\n",
       "      <th>3112</th>\n",
       "      <td>502</td>\n",
       "    </tr>\n",
       "    <tr>\n",
       "      <th>1050</th>\n",
       "      <td>865</td>\n",
       "    </tr>\n",
       "    <tr>\n",
       "      <th>1298</th>\n",
       "      <td>490</td>\n",
       "    </tr>\n",
       "    <tr>\n",
       "      <th>2710</th>\n",
       "      <td>141</td>\n",
       "    </tr>\n",
       "    <tr>\n",
       "      <th>1713</th>\n",
       "      <td>148</td>\n",
       "    </tr>\n",
       "    <tr>\n",
       "      <th>2376</th>\n",
       "      <td>251</td>\n",
       "    </tr>\n",
       "  </tbody>\n",
       "</table>\n",
       "</div>"
      ],
      "text/plain": [
       "      target\n",
       "1249     531\n",
       "5419     521\n",
       "1126     457\n",
       "4991     638\n",
       "3112     502\n",
       "1050     865\n",
       "1298     490\n",
       "2710     141\n",
       "1713     148\n",
       "2376     251"
      ]
     },
     "execution_count": 137,
     "metadata": {},
     "output_type": "execute_result"
    }
   ],
   "source": [
    "label_encoder = LabelEncoder()\n",
    "\n",
    "target = pd.DataFrame(label_encoder.fit_transform(y), columns = [\"target\"])\n",
    "target.sample(10)"
   ]
  },
  {
   "cell_type": "code",
   "execution_count": 138,
   "id": "9939e237",
   "metadata": {},
   "outputs": [
    {
     "data": {
      "text/plain": [
       "target\n",
       "297       108\n",
       "457        85\n",
       "526        59\n",
       "291        49\n",
       "326        48\n",
       "         ... \n",
       "920         1\n",
       "921         1\n",
       "922         1\n",
       "923         1\n",
       "1613        1\n",
       "Length: 1614, dtype: int64"
      ]
     },
     "execution_count": 138,
     "metadata": {},
     "output_type": "execute_result"
    }
   ],
   "source": [
    "target.value_counts(normalize = False) # normalize is set to False by default"
   ]
  },
  {
   "cell_type": "code",
   "execution_count": 139,
   "id": "51a7f055",
   "metadata": {},
   "outputs": [
    {
     "data": {
      "text/plain": [
       "target\n",
       "297       0.017316\n",
       "457       0.013628\n",
       "526       0.009460\n",
       "291       0.007856\n",
       "326       0.007696\n",
       "            ...   \n",
       "920       0.000160\n",
       "921       0.000160\n",
       "922       0.000160\n",
       "923       0.000160\n",
       "1613      0.000160\n",
       "Length: 1614, dtype: float64"
      ]
     },
     "execution_count": 139,
     "metadata": {},
     "output_type": "execute_result"
    }
   ],
   "source": [
    "target.value_counts(normalize = True)"
   ]
  },
  {
   "cell_type": "code",
   "execution_count": 142,
   "id": "177a7b95",
   "metadata": {},
   "outputs": [
    {
     "data": {
      "text/html": [
       "<div>\n",
       "<style scoped>\n",
       "    .dataframe tbody tr th:only-of-type {\n",
       "        vertical-align: middle;\n",
       "    }\n",
       "\n",
       "    .dataframe tbody tr th {\n",
       "        vertical-align: top;\n",
       "    }\n",
       "\n",
       "    .dataframe thead th {\n",
       "        text-align: right;\n",
       "    }\n",
       "</style>\n",
       "<table border=\"1\" class=\"dataframe\">\n",
       "  <thead>\n",
       "    <tr style=\"text-align: right;\">\n",
       "      <th></th>\n",
       "      <th>Reviews</th>\n",
       "      <th>Ratings</th>\n",
       "      <th>BookCategory_action &amp; adventure</th>\n",
       "      <th>BookCategory_arts, film &amp; photography</th>\n",
       "      <th>BookCategory_biographies, diaries &amp; true accounts</th>\n",
       "      <th>BookCategory_comics &amp; mangas</th>\n",
       "      <th>BookCategory_computing, internet &amp; digital media</th>\n",
       "      <th>BookCategory_crime, thriller &amp; mystery</th>\n",
       "      <th>BookCategory_humour</th>\n",
       "      <th>BookCategory_language, linguistics &amp; writing</th>\n",
       "      <th>BookCategory_politics</th>\n",
       "      <th>BookCategory_romance</th>\n",
       "      <th>BookCategory_sports</th>\n",
       "    </tr>\n",
       "  </thead>\n",
       "  <tbody>\n",
       "    <tr>\n",
       "      <th>0</th>\n",
       "      <td>-0.500</td>\n",
       "      <td>0.05</td>\n",
       "      <td>1.0</td>\n",
       "      <td>0.0</td>\n",
       "      <td>0.0</td>\n",
       "      <td>0.0</td>\n",
       "      <td>0.0</td>\n",
       "      <td>0.0</td>\n",
       "      <td>0.0</td>\n",
       "      <td>0.0</td>\n",
       "      <td>0.0</td>\n",
       "      <td>0.0</td>\n",
       "      <td>0.0</td>\n",
       "    </tr>\n",
       "    <tr>\n",
       "      <th>1</th>\n",
       "      <td>-0.625</td>\n",
       "      <td>0.35</td>\n",
       "      <td>0.0</td>\n",
       "      <td>0.0</td>\n",
       "      <td>1.0</td>\n",
       "      <td>0.0</td>\n",
       "      <td>0.0</td>\n",
       "      <td>0.0</td>\n",
       "      <td>0.0</td>\n",
       "      <td>0.0</td>\n",
       "      <td>0.0</td>\n",
       "      <td>0.0</td>\n",
       "      <td>0.0</td>\n",
       "    </tr>\n",
       "    <tr>\n",
       "      <th>2</th>\n",
       "      <td>0.500</td>\n",
       "      <td>-0.05</td>\n",
       "      <td>0.0</td>\n",
       "      <td>0.0</td>\n",
       "      <td>0.0</td>\n",
       "      <td>0.0</td>\n",
       "      <td>0.0</td>\n",
       "      <td>0.0</td>\n",
       "      <td>1.0</td>\n",
       "      <td>0.0</td>\n",
       "      <td>0.0</td>\n",
       "      <td>0.0</td>\n",
       "      <td>0.0</td>\n",
       "    </tr>\n",
       "    <tr>\n",
       "      <th>3</th>\n",
       "      <td>-0.375</td>\n",
       "      <td>0.30</td>\n",
       "      <td>0.0</td>\n",
       "      <td>0.0</td>\n",
       "      <td>0.0</td>\n",
       "      <td>0.0</td>\n",
       "      <td>0.0</td>\n",
       "      <td>1.0</td>\n",
       "      <td>0.0</td>\n",
       "      <td>0.0</td>\n",
       "      <td>0.0</td>\n",
       "      <td>0.0</td>\n",
       "      <td>0.0</td>\n",
       "    </tr>\n",
       "    <tr>\n",
       "      <th>4</th>\n",
       "      <td>0.750</td>\n",
       "      <td>-0.30</td>\n",
       "      <td>0.0</td>\n",
       "      <td>1.0</td>\n",
       "      <td>0.0</td>\n",
       "      <td>0.0</td>\n",
       "      <td>0.0</td>\n",
       "      <td>0.0</td>\n",
       "      <td>0.0</td>\n",
       "      <td>0.0</td>\n",
       "      <td>0.0</td>\n",
       "      <td>0.0</td>\n",
       "      <td>0.0</td>\n",
       "    </tr>\n",
       "  </tbody>\n",
       "</table>\n",
       "</div>"
      ],
      "text/plain": [
       "   Reviews  Ratings  BookCategory_action & adventure  \\\n",
       "0   -0.500     0.05                              1.0   \n",
       "1   -0.625     0.35                              0.0   \n",
       "2    0.500    -0.05                              0.0   \n",
       "3   -0.375     0.30                              0.0   \n",
       "4    0.750    -0.30                              0.0   \n",
       "\n",
       "   BookCategory_arts, film & photography  \\\n",
       "0                                    0.0   \n",
       "1                                    0.0   \n",
       "2                                    0.0   \n",
       "3                                    0.0   \n",
       "4                                    1.0   \n",
       "\n",
       "   BookCategory_biographies, diaries & true accounts  \\\n",
       "0                                                0.0   \n",
       "1                                                1.0   \n",
       "2                                                0.0   \n",
       "3                                                0.0   \n",
       "4                                                0.0   \n",
       "\n",
       "   BookCategory_comics & mangas  \\\n",
       "0                           0.0   \n",
       "1                           0.0   \n",
       "2                           0.0   \n",
       "3                           0.0   \n",
       "4                           0.0   \n",
       "\n",
       "   BookCategory_computing, internet & digital media  \\\n",
       "0                                               0.0   \n",
       "1                                               0.0   \n",
       "2                                               0.0   \n",
       "3                                               0.0   \n",
       "4                                               0.0   \n",
       "\n",
       "   BookCategory_crime, thriller & mystery  BookCategory_humour  \\\n",
       "0                                     0.0                  0.0   \n",
       "1                                     0.0                  0.0   \n",
       "2                                     0.0                  1.0   \n",
       "3                                     1.0                  0.0   \n",
       "4                                     0.0                  0.0   \n",
       "\n",
       "   BookCategory_language, linguistics & writing  BookCategory_politics  \\\n",
       "0                                           0.0                    0.0   \n",
       "1                                           0.0                    0.0   \n",
       "2                                           0.0                    0.0   \n",
       "3                                           0.0                    0.0   \n",
       "4                                           0.0                    0.0   \n",
       "\n",
       "   BookCategory_romance  BookCategory_sports  \n",
       "0                   0.0                  0.0  \n",
       "1                   0.0                  0.0  \n",
       "2                   0.0                  0.0  \n",
       "3                   0.0                  0.0  \n",
       "4                   0.0                  0.0  "
      ]
     },
     "execution_count": 142,
     "metadata": {},
     "output_type": "execute_result"
    }
   ],
   "source": [
    "X_transformed.head()"
   ]
  },
  {
   "cell_type": "code",
   "execution_count": 143,
   "id": "b718cb8b",
   "metadata": {},
   "outputs": [],
   "source": [
    "## Modelling\n"
   ]
  },
  {
   "cell_type": "code",
   "execution_count": 144,
   "id": "4c0e7de7",
   "metadata": {},
   "outputs": [],
   "source": [
    "### Reshuffling the entire dataset"
   ]
  },
  {
   "cell_type": "code",
   "execution_count": 145,
   "id": "6e5f3cd1",
   "metadata": {},
   "outputs": [],
   "source": [
    "df = train.copy()\n",
    "df[\"price\"] = target"
   ]
  },
  {
   "cell_type": "code",
   "execution_count": 146,
   "id": "d391b6c5",
   "metadata": {},
   "outputs": [
    {
     "data": {
      "text/html": [
       "<div>\n",
       "<style scoped>\n",
       "    .dataframe tbody tr th:only-of-type {\n",
       "        vertical-align: middle;\n",
       "    }\n",
       "\n",
       "    .dataframe tbody tr th {\n",
       "        vertical-align: top;\n",
       "    }\n",
       "\n",
       "    .dataframe thead th {\n",
       "        text-align: right;\n",
       "    }\n",
       "</style>\n",
       "<table border=\"1\" class=\"dataframe\">\n",
       "  <thead>\n",
       "    <tr style=\"text-align: right;\">\n",
       "      <th></th>\n",
       "      <th>Title</th>\n",
       "      <th>Author</th>\n",
       "      <th>Edition</th>\n",
       "      <th>Reviews</th>\n",
       "      <th>Ratings</th>\n",
       "      <th>Synopsis</th>\n",
       "      <th>Genre</th>\n",
       "      <th>BookCategory</th>\n",
       "      <th>Price</th>\n",
       "      <th>Edition_Year</th>\n",
       "      <th>price</th>\n",
       "    </tr>\n",
       "  </thead>\n",
       "  <tbody>\n",
       "    <tr>\n",
       "      <th>3179</th>\n",
       "      <td>asterix and the class act: album 32</td>\n",
       "      <td>albert uderzo</td>\n",
       "      <td>paperback,– 18 nov 2004</td>\n",
       "      <td>3.1</td>\n",
       "      <td>6</td>\n",
       "      <td>vintage asterx!\\n14 new stories including tale...</td>\n",
       "      <td>manga</td>\n",
       "      <td>comics &amp; mangas</td>\n",
       "      <td>449.0</td>\n",
       "      <td>2004</td>\n",
       "      <td>526</td>\n",
       "    </tr>\n",
       "    <tr>\n",
       "      <th>3263</th>\n",
       "      <td>ronin: the deluxe edition</td>\n",
       "      <td>frank miller, frank miler</td>\n",
       "      <td>hardcover,– 28 oct 2014</td>\n",
       "      <td>4.0</td>\n",
       "      <td>1</td>\n",
       "      <td>ronin is the acclaimed epic by frank miller, t...</td>\n",
       "      <td>comics &amp; mangas</td>\n",
       "      <td>comics &amp; mangas</td>\n",
       "      <td>590.0</td>\n",
       "      <td>2014</td>\n",
       "      <td>722</td>\n",
       "    </tr>\n",
       "    <tr>\n",
       "      <th>3995</th>\n",
       "      <td>brazen: rebel ladies who rocked the world</td>\n",
       "      <td>pénélope bagieu</td>\n",
       "      <td>hardcover,– 8 mar 2018</td>\n",
       "      <td>5.0</td>\n",
       "      <td>3</td>\n",
       "      <td>'pénélope bagieu … is a kind of genius. this b...</td>\n",
       "      <td>comics &amp; mangas</td>\n",
       "      <td>humour</td>\n",
       "      <td>591.0</td>\n",
       "      <td>2018</td>\n",
       "      <td>723</td>\n",
       "    </tr>\n",
       "    <tr>\n",
       "      <th>3971</th>\n",
       "      <td>krishna gopeshvara: the truth of vrishnis (boo...</td>\n",
       "      <td>sanjay dixit</td>\n",
       "      <td>paperback,– 29 may 2018</td>\n",
       "      <td>4.5</td>\n",
       "      <td>45</td>\n",
       "      <td>a never-before action packed retelling of lord...</td>\n",
       "      <td>action &amp; adventure</td>\n",
       "      <td>action &amp; adventure</td>\n",
       "      <td>239.0</td>\n",
       "      <td>2018</td>\n",
       "      <td>217</td>\n",
       "    </tr>\n",
       "    <tr>\n",
       "      <th>1548</th>\n",
       "      <td>harry potter hogwarts castle and sticker book ...</td>\n",
       "      <td>running press</td>\n",
       "      <td>paperback,– import, 2 oct 2018</td>\n",
       "      <td>5.0</td>\n",
       "      <td>1</td>\n",
       "      <td>a one-of-a-kind miniature replica of the hogwa...</td>\n",
       "      <td>film &amp; television</td>\n",
       "      <td>arts, film &amp; photography</td>\n",
       "      <td>749.0</td>\n",
       "      <td>2018</td>\n",
       "      <td>888</td>\n",
       "    </tr>\n",
       "    <tr>\n",
       "      <th>...</th>\n",
       "      <td>...</td>\n",
       "      <td>...</td>\n",
       "      <td>...</td>\n",
       "      <td>...</td>\n",
       "      <td>...</td>\n",
       "      <td>...</td>\n",
       "      <td>...</td>\n",
       "      <td>...</td>\n",
       "      <td>...</td>\n",
       "      <td>...</td>\n",
       "      <td>...</td>\n",
       "    </tr>\n",
       "    <tr>\n",
       "      <th>5565</th>\n",
       "      <td>man vs ocean: one man's journey to swim the se...</td>\n",
       "      <td>adam walker</td>\n",
       "      <td>paperback,– import, 5 jan 2017</td>\n",
       "      <td>5.0</td>\n",
       "      <td>1</td>\n",
       "      <td>in 2007, adam, then a toaster salesman, was in...</td>\n",
       "      <td>iographies &amp; autobiographies</td>\n",
       "      <td>sports</td>\n",
       "      <td>713.0</td>\n",
       "      <td>2017</td>\n",
       "      <td>856</td>\n",
       "    </tr>\n",
       "    <tr>\n",
       "      <th>3200</th>\n",
       "      <td>my princely colleges</td>\n",
       "      <td>harkishan lal dutt</td>\n",
       "      <td>paperback,– import, 22 may 2019</td>\n",
       "      <td>5.0</td>\n",
       "      <td>1</td>\n",
       "      <td>has your life ever been a proverbial bed of ro...</td>\n",
       "      <td>iographies &amp; autobiographies</td>\n",
       "      <td>biographies, diaries &amp; true accounts</td>\n",
       "      <td>450.0</td>\n",
       "      <td>2019</td>\n",
       "      <td>531</td>\n",
       "    </tr>\n",
       "    <tr>\n",
       "      <th>3859</th>\n",
       "      <td>guinness world records: gamer's edition 2019</td>\n",
       "      <td>guinness world records</td>\n",
       "      <td>paperback,– 28 aug 2018</td>\n",
       "      <td>2.0</td>\n",
       "      <td>1</td>\n",
       "      <td>the guinness world records gamer’s edition 201...</td>\n",
       "      <td>children's games, toys &amp; activities</td>\n",
       "      <td>computing, internet &amp; digital media</td>\n",
       "      <td>848.0</td>\n",
       "      <td>2018</td>\n",
       "      <td>968</td>\n",
       "    </tr>\n",
       "    <tr>\n",
       "      <th>5879</th>\n",
       "      <td>my journey: transforming dreams into actions</td>\n",
       "      <td>a.p.j. abdul kalam</td>\n",
       "      <td>paperback,– 27 aug 2013</td>\n",
       "      <td>4.7</td>\n",
       "      <td>615</td>\n",
       "      <td>the book, ‘my journey: transforming dreams int...</td>\n",
       "      <td>asian history</td>\n",
       "      <td>biographies, diaries &amp; true accounts</td>\n",
       "      <td>167.0</td>\n",
       "      <td>2013</td>\n",
       "      <td>125</td>\n",
       "    </tr>\n",
       "    <tr>\n",
       "      <th>309</th>\n",
       "      <td>supreme whispers: supreme court judges, 1980-90</td>\n",
       "      <td>abhinav chandrachud</td>\n",
       "      <td>hardcover,– 30 may 2018</td>\n",
       "      <td>4.6</td>\n",
       "      <td>10</td>\n",
       "      <td>in 1980, a brilliant young american scholar, g...</td>\n",
       "      <td>arts history, theory &amp; criticism</td>\n",
       "      <td>arts, film &amp; photography</td>\n",
       "      <td>350.0</td>\n",
       "      <td>2018</td>\n",
       "      <td>376</td>\n",
       "    </tr>\n",
       "  </tbody>\n",
       "</table>\n",
       "<p>6237 rows × 11 columns</p>\n",
       "</div>"
      ],
      "text/plain": [
       "                                                  Title  \\\n",
       "3179                asterix and the class act: album 32   \n",
       "3263                          ronin: the deluxe edition   \n",
       "3995          brazen: rebel ladies who rocked the world   \n",
       "3971  krishna gopeshvara: the truth of vrishnis (boo...   \n",
       "1548  harry potter hogwarts castle and sticker book ...   \n",
       "...                                                 ...   \n",
       "5565  man vs ocean: one man's journey to swim the se...   \n",
       "3200                               my princely colleges   \n",
       "3859       guinness world records: gamer's edition 2019   \n",
       "5879       my journey: transforming dreams into actions   \n",
       "309     supreme whispers: supreme court judges, 1980-90   \n",
       "\n",
       "                         Author                          Edition  Reviews  \\\n",
       "3179              albert uderzo          paperback,– 18 nov 2004      3.1   \n",
       "3263  frank miller, frank miler          hardcover,– 28 oct 2014      4.0   \n",
       "3995            pénélope bagieu           hardcover,– 8 mar 2018      5.0   \n",
       "3971               sanjay dixit          paperback,– 29 may 2018      4.5   \n",
       "1548              running press   paperback,– import, 2 oct 2018      5.0   \n",
       "...                         ...                              ...      ...   \n",
       "5565                adam walker   paperback,– import, 5 jan 2017      5.0   \n",
       "3200         harkishan lal dutt  paperback,– import, 22 may 2019      5.0   \n",
       "3859     guinness world records          paperback,– 28 aug 2018      2.0   \n",
       "5879         a.p.j. abdul kalam          paperback,– 27 aug 2013      4.7   \n",
       "309         abhinav chandrachud          hardcover,– 30 may 2018      4.6   \n",
       "\n",
       "      Ratings                                           Synopsis  \\\n",
       "3179        6  vintage asterx!\\n14 new stories including tale...   \n",
       "3263        1  ronin is the acclaimed epic by frank miller, t...   \n",
       "3995        3  'pénélope bagieu … is a kind of genius. this b...   \n",
       "3971       45  a never-before action packed retelling of lord...   \n",
       "1548        1  a one-of-a-kind miniature replica of the hogwa...   \n",
       "...       ...                                                ...   \n",
       "5565        1  in 2007, adam, then a toaster salesman, was in...   \n",
       "3200        1  has your life ever been a proverbial bed of ro...   \n",
       "3859        1  the guinness world records gamer’s edition 201...   \n",
       "5879      615  the book, ‘my journey: transforming dreams int...   \n",
       "309        10  in 1980, a brilliant young american scholar, g...   \n",
       "\n",
       "                                     Genre  \\\n",
       "3179                                 manga   \n",
       "3263                      comics & mangas    \n",
       "3995                      comics & mangas    \n",
       "3971                   action & adventure    \n",
       "1548                     film & television   \n",
       "...                                    ...   \n",
       "5565         iographies & autobiographies    \n",
       "3200         iographies & autobiographies    \n",
       "3859  children's games, toys & activities    \n",
       "5879                         asian history   \n",
       "309      arts history, theory & criticism    \n",
       "\n",
       "                              BookCategory  Price Edition_Year  price  \n",
       "3179                       comics & mangas  449.0         2004    526  \n",
       "3263                       comics & mangas  590.0         2014    722  \n",
       "3995                                humour  591.0         2018    723  \n",
       "3971                    action & adventure  239.0         2018    217  \n",
       "1548              arts, film & photography  749.0         2018    888  \n",
       "...                                    ...    ...          ...    ...  \n",
       "5565                                sports  713.0         2017    856  \n",
       "3200  biographies, diaries & true accounts  450.0         2019    531  \n",
       "3859   computing, internet & digital media  848.0         2018    968  \n",
       "5879  biographies, diaries & true accounts  167.0         2013    125  \n",
       "309               arts, film & photography  350.0         2018    376  \n",
       "\n",
       "[6237 rows x 11 columns]"
      ]
     },
     "execution_count": 146,
     "metadata": {},
     "output_type": "execute_result"
    }
   ],
   "source": [
    "df_reshuffled = df.sample(len(df))\n",
    "df_reshuffled"
   ]
  },
  {
   "cell_type": "code",
   "execution_count": 147,
   "id": "f7485c8b",
   "metadata": {},
   "outputs": [],
   "source": [
    "## holdout"
   ]
  },
  {
   "cell_type": "code",
   "execution_count": 148,
   "id": "eec9c4e8",
   "metadata": {},
   "outputs": [],
   "source": [
    "y = df_reshuffled[\"price\"]\n",
    "X = df_reshuffled.drop(columns = \"price\")"
   ]
  },
  {
   "cell_type": "code",
   "execution_count": 149,
   "id": "d44775e3",
   "metadata": {},
   "outputs": [],
   "source": [
    "X_train, X_test, y_train, y_test = train_test_split(X, y, test_size = 0.30)"
   ]
  },
  {
   "cell_type": "code",
   "execution_count": 150,
   "id": "4fe6ff5e",
   "metadata": {},
   "outputs": [
    {
     "data": {
      "text/plain": [
       "((4365, 10), (1872, 10), (4365,), (1872,))"
      ]
     },
     "execution_count": 150,
     "metadata": {},
     "output_type": "execute_result"
    }
   ],
   "source": [
    "X_train.shape, X_test.shape, y_train.shape, y_test.shape"
   ]
  },
  {
   "cell_type": "code",
   "execution_count": 151,
   "id": "be7db9cc",
   "metadata": {},
   "outputs": [
    {
     "data": {
      "text/plain": [
       "297    0.02\n",
       "457    0.01\n",
       "526    0.01\n",
       "291    0.01\n",
       "326    0.01\n",
       "       ... \n",
       "954    0.00\n",
       "577    0.00\n",
       "416    0.00\n",
       "932    0.00\n",
       "968    0.00\n",
       "Name: price, Length: 1614, dtype: float64"
      ]
     },
     "execution_count": 151,
     "metadata": {},
     "output_type": "execute_result"
    }
   ],
   "source": [
    "round(y.value_counts(normalize = True),2)"
   ]
  },
  {
   "cell_type": "code",
   "execution_count": 152,
   "id": "eb5f4af0",
   "metadata": {},
   "outputs": [
    {
     "data": {
      "text/plain": [
       "297     0.02\n",
       "457     0.01\n",
       "197     0.01\n",
       "526     0.01\n",
       "326     0.01\n",
       "        ... \n",
       "1518    0.00\n",
       "1136    0.00\n",
       "1318    0.00\n",
       "1270    0.00\n",
       "914     0.00\n",
       "Name: price, Length: 1352, dtype: float64"
      ]
     },
     "execution_count": 152,
     "metadata": {},
     "output_type": "execute_result"
    }
   ],
   "source": [
    "round(y_train.value_counts(normalize = True),2)"
   ]
  },
  {
   "cell_type": "code",
   "execution_count": 153,
   "id": "6673cf35",
   "metadata": {},
   "outputs": [
    {
     "data": {
      "text/plain": [
       "297     0.02\n",
       "457     0.01\n",
       "526     0.01\n",
       "609     0.01\n",
       "312     0.01\n",
       "        ... \n",
       "1250    0.00\n",
       "1082    0.00\n",
       "467     0.00\n",
       "235     0.00\n",
       "1018    0.00\n",
       "Name: price, Length: 846, dtype: float64"
      ]
     },
     "execution_count": 153,
     "metadata": {},
     "output_type": "execute_result"
    }
   ],
   "source": [
    "round(y_test.value_counts(normalize = True),2)"
   ]
  },
  {
   "cell_type": "markdown",
   "id": "d1dae43d",
   "metadata": {},
   "source": [
    "**Chaining model to pipeline**"
   ]
  },
  {
   "cell_type": "code",
   "execution_count": 158,
   "id": "f76adaa4",
   "metadata": {},
   "outputs": [
    {
     "data": {
      "text/html": [
       "<style>#sk-02ca5fb5-3c5a-425f-8072-0a6c58a666ab {color: black;background-color: white;}#sk-02ca5fb5-3c5a-425f-8072-0a6c58a666ab pre{padding: 0;}#sk-02ca5fb5-3c5a-425f-8072-0a6c58a666ab div.sk-toggleable {background-color: white;}#sk-02ca5fb5-3c5a-425f-8072-0a6c58a666ab label.sk-toggleable__label {cursor: pointer;display: block;width: 100%;margin-bottom: 0;padding: 0.3em;box-sizing: border-box;text-align: center;}#sk-02ca5fb5-3c5a-425f-8072-0a6c58a666ab div.sk-toggleable__content {max-height: 0;max-width: 0;overflow: hidden;text-align: left;background-color: #f0f8ff;}#sk-02ca5fb5-3c5a-425f-8072-0a6c58a666ab div.sk-toggleable__content pre {margin: 0.2em;color: black;border-radius: 0.25em;background-color: #f0f8ff;}#sk-02ca5fb5-3c5a-425f-8072-0a6c58a666ab input.sk-toggleable__control:checked~div.sk-toggleable__content {max-height: 200px;max-width: 100%;overflow: auto;}#sk-02ca5fb5-3c5a-425f-8072-0a6c58a666ab div.sk-estimator input.sk-toggleable__control:checked~label.sk-toggleable__label {background-color: #d4ebff;}#sk-02ca5fb5-3c5a-425f-8072-0a6c58a666ab div.sk-label input.sk-toggleable__control:checked~label.sk-toggleable__label {background-color: #d4ebff;}#sk-02ca5fb5-3c5a-425f-8072-0a6c58a666ab input.sk-hidden--visually {border: 0;clip: rect(1px 1px 1px 1px);clip: rect(1px, 1px, 1px, 1px);height: 1px;margin: -1px;overflow: hidden;padding: 0;position: absolute;width: 1px;}#sk-02ca5fb5-3c5a-425f-8072-0a6c58a666ab div.sk-estimator {font-family: monospace;background-color: #f0f8ff;border: 1px dotted black;border-radius: 0.25em;box-sizing: border-box;margin-bottom: 0.5em;}#sk-02ca5fb5-3c5a-425f-8072-0a6c58a666ab div.sk-estimator:hover {background-color: #d4ebff;}#sk-02ca5fb5-3c5a-425f-8072-0a6c58a666ab div.sk-parallel-item::after {content: \"\";width: 100%;border-bottom: 1px solid gray;flex-grow: 1;}#sk-02ca5fb5-3c5a-425f-8072-0a6c58a666ab div.sk-label:hover label.sk-toggleable__label {background-color: #d4ebff;}#sk-02ca5fb5-3c5a-425f-8072-0a6c58a666ab div.sk-serial::before {content: \"\";position: absolute;border-left: 1px solid gray;box-sizing: border-box;top: 2em;bottom: 0;left: 50%;}#sk-02ca5fb5-3c5a-425f-8072-0a6c58a666ab div.sk-serial {display: flex;flex-direction: column;align-items: center;background-color: white;padding-right: 0.2em;padding-left: 0.2em;}#sk-02ca5fb5-3c5a-425f-8072-0a6c58a666ab div.sk-item {z-index: 1;}#sk-02ca5fb5-3c5a-425f-8072-0a6c58a666ab div.sk-parallel {display: flex;align-items: stretch;justify-content: center;background-color: white;}#sk-02ca5fb5-3c5a-425f-8072-0a6c58a666ab div.sk-parallel::before {content: \"\";position: absolute;border-left: 1px solid gray;box-sizing: border-box;top: 2em;bottom: 0;left: 50%;}#sk-02ca5fb5-3c5a-425f-8072-0a6c58a666ab div.sk-parallel-item {display: flex;flex-direction: column;position: relative;background-color: white;}#sk-02ca5fb5-3c5a-425f-8072-0a6c58a666ab div.sk-parallel-item:first-child::after {align-self: flex-end;width: 50%;}#sk-02ca5fb5-3c5a-425f-8072-0a6c58a666ab div.sk-parallel-item:last-child::after {align-self: flex-start;width: 50%;}#sk-02ca5fb5-3c5a-425f-8072-0a6c58a666ab div.sk-parallel-item:only-child::after {width: 0;}#sk-02ca5fb5-3c5a-425f-8072-0a6c58a666ab div.sk-dashed-wrapped {border: 1px dashed gray;margin: 0 0.4em 0.5em 0.4em;box-sizing: border-box;padding-bottom: 0.4em;background-color: white;position: relative;}#sk-02ca5fb5-3c5a-425f-8072-0a6c58a666ab div.sk-label label {font-family: monospace;font-weight: bold;background-color: white;display: inline-block;line-height: 1.2em;}#sk-02ca5fb5-3c5a-425f-8072-0a6c58a666ab div.sk-label-container {position: relative;z-index: 2;text-align: center;}#sk-02ca5fb5-3c5a-425f-8072-0a6c58a666ab div.sk-container {display: inline-block;position: relative;}</style><div id=\"sk-02ca5fb5-3c5a-425f-8072-0a6c58a666ab\" class\"sk-top-container\"><div class=\"sk-container\"><div class=\"sk-item sk-dashed-wrapped\"><div class=\"sk-label-container\"><div class=\"sk-label sk-toggleable\"><input class=\"sk-toggleable__control sk-hidden--visually\" id=\"4602ec36-c9cf-43d3-9528-e1a41554c268\" type=\"checkbox\" ><label class=\"sk-toggleable__label\" for=\"4602ec36-c9cf-43d3-9528-e1a41554c268\">Pipeline</label><div class=\"sk-toggleable__content\"><pre>Pipeline(steps=[('preprocessing',\n",
       "                 ColumnTransformer(transformers=[('num_transformer',\n",
       "                                                  Pipeline(steps=[('num_imputer',\n",
       "                                                                   SimpleImputer(strategy='median')),\n",
       "                                                                  ('rb_scaler',\n",
       "                                                                   RobustScaler())]),\n",
       "                                                  <sklearn.compose._column_transformer.make_column_selector object at 0x136b16bb0>),\n",
       "                                                 ('cat_multi_transformer',\n",
       "                                                  OneHotEncoder(handle_unknown='ignore',\n",
       "                                                                sparse=False),\n",
       "                                                  ['BookCategory'])])),\n",
       "                ('linear_regression', Ridge())])</pre></div></div></div><div class=\"sk-serial\"><div class=\"sk-item sk-dashed-wrapped\"><div class=\"sk-label-container\"><div class=\"sk-label sk-toggleable\"><input class=\"sk-toggleable__control sk-hidden--visually\" id=\"84e26644-5272-41b6-86e3-57f9039dfd33\" type=\"checkbox\" ><label class=\"sk-toggleable__label\" for=\"84e26644-5272-41b6-86e3-57f9039dfd33\">preprocessing: ColumnTransformer</label><div class=\"sk-toggleable__content\"><pre>ColumnTransformer(transformers=[('num_transformer',\n",
       "                                 Pipeline(steps=[('num_imputer',\n",
       "                                                  SimpleImputer(strategy='median')),\n",
       "                                                 ('rb_scaler',\n",
       "                                                  RobustScaler())]),\n",
       "                                 <sklearn.compose._column_transformer.make_column_selector object at 0x136b16bb0>),\n",
       "                                ('cat_multi_transformer',\n",
       "                                 OneHotEncoder(handle_unknown='ignore',\n",
       "                                               sparse=False),\n",
       "                                 ['BookCategory'])])</pre></div></div></div><div class=\"sk-parallel\"><div class=\"sk-parallel-item\"><div class=\"sk-item\"><div class=\"sk-label-container\"><div class=\"sk-label sk-toggleable\"><input class=\"sk-toggleable__control sk-hidden--visually\" id=\"9bfb1c6a-5ddd-4872-aabc-1bbdac18fdf9\" type=\"checkbox\" ><label class=\"sk-toggleable__label\" for=\"9bfb1c6a-5ddd-4872-aabc-1bbdac18fdf9\">num_transformer</label><div class=\"sk-toggleable__content\"><pre><sklearn.compose._column_transformer.make_column_selector object at 0x136b16bb0></pre></div></div></div><div class=\"sk-serial\"><div class=\"sk-item\"><div class=\"sk-serial\"><div class=\"sk-item\"><div class=\"sk-estimator sk-toggleable\"><input class=\"sk-toggleable__control sk-hidden--visually\" id=\"f8c687a8-475a-44f6-97f9-d271dc27ade3\" type=\"checkbox\" ><label class=\"sk-toggleable__label\" for=\"f8c687a8-475a-44f6-97f9-d271dc27ade3\">SimpleImputer</label><div class=\"sk-toggleable__content\"><pre>SimpleImputer(strategy='median')</pre></div></div></div><div class=\"sk-item\"><div class=\"sk-estimator sk-toggleable\"><input class=\"sk-toggleable__control sk-hidden--visually\" id=\"bd162c89-d53a-49ef-87a2-a05279407287\" type=\"checkbox\" ><label class=\"sk-toggleable__label\" for=\"bd162c89-d53a-49ef-87a2-a05279407287\">RobustScaler</label><div class=\"sk-toggleable__content\"><pre>RobustScaler()</pre></div></div></div></div></div></div></div></div><div class=\"sk-parallel-item\"><div class=\"sk-item\"><div class=\"sk-label-container\"><div class=\"sk-label sk-toggleable\"><input class=\"sk-toggleable__control sk-hidden--visually\" id=\"2c569da2-af00-4cda-a7ee-6b44f6afc327\" type=\"checkbox\" ><label class=\"sk-toggleable__label\" for=\"2c569da2-af00-4cda-a7ee-6b44f6afc327\">cat_multi_transformer</label><div class=\"sk-toggleable__content\"><pre>['BookCategory']</pre></div></div></div><div class=\"sk-serial\"><div class=\"sk-item\"><div class=\"sk-estimator sk-toggleable\"><input class=\"sk-toggleable__control sk-hidden--visually\" id=\"cb9d3705-601b-41c1-a66c-3d5df593b6d1\" type=\"checkbox\" ><label class=\"sk-toggleable__label\" for=\"cb9d3705-601b-41c1-a66c-3d5df593b6d1\">OneHotEncoder</label><div class=\"sk-toggleable__content\"><pre>OneHotEncoder(handle_unknown='ignore', sparse=False)</pre></div></div></div></div></div></div></div></div><div class=\"sk-item\"><div class=\"sk-estimator sk-toggleable\"><input class=\"sk-toggleable__control sk-hidden--visually\" id=\"8694683c-3441-442b-9d4c-9854463f457a\" type=\"checkbox\" ><label class=\"sk-toggleable__label\" for=\"8694683c-3441-442b-9d4c-9854463f457a\">Ridge</label><div class=\"sk-toggleable__content\"><pre>Ridge()</pre></div></div></div></div></div></div></div>"
      ],
      "text/plain": [
       "Pipeline(steps=[('preprocessing',\n",
       "                 ColumnTransformer(transformers=[('num_transformer',\n",
       "                                                  Pipeline(steps=[('num_imputer',\n",
       "                                                                   SimpleImputer(strategy='median')),\n",
       "                                                                  ('rb_scaler',\n",
       "                                                                   RobustScaler())]),\n",
       "                                                  <sklearn.compose._column_transformer.make_column_selector object at 0x136b16bb0>),\n",
       "                                                 ('cat_multi_transformer',\n",
       "                                                  OneHotEncoder(handle_unknown='ignore',\n",
       "                                                                sparse=False),\n",
       "                                                  ['BookCategory'])])),\n",
       "                ('linear_regression', Ridge())])"
      ]
     },
     "execution_count": 158,
     "metadata": {},
     "output_type": "execute_result"
    }
   ],
   "source": [
    "from sklearn.linear_model import Ridge\n",
    "\n",
    "# Combine preprocessor and Ridge regressor in pipeline\n",
    "pipe_baseline = Pipeline([\n",
    "    ('preprocessing', preprocessor),\n",
    "    ('linear_regression', Ridge())])\n",
    "pipe_baseline"
   ]
  },
  {
   "cell_type": "code",
   "execution_count": 169,
   "id": "66cd48a4",
   "metadata": {},
   "outputs": [],
   "source": [
    "from sklearn.metrics import mean_squared_log_error, make_scorer\n",
    "\n",
    "def root_mean_squared_log_error(y_true, y_pred):\n",
    "    t = np.array(y_true)\n",
    "    p = np.array(y_pred)\n",
    "    log_error = np.log(1+t) - np.log(1+p)\n",
    "    return ((log_error**2).mean())**0.5\n",
    "\n",
    "# Minimize this one \n",
    "rmsle = make_scorer(root_mean_squared_log_error)\n",
    "\n",
    "# Maximize this one\n",
    "rmsle_neg = make_scorer(lambda y_true, y_pred: -1 * root_mean_squared_log_error(y_true, y_pred))"
   ]
  },
  {
   "cell_type": "code",
   "execution_count": 178,
   "id": "cc5b1954",
   "metadata": {},
   "outputs": [
    {
     "data": {
      "text/html": [
       "<style>#sk-45e8229d-1539-4b2d-9cbc-406ecd0adbd6 {color: black;background-color: white;}#sk-45e8229d-1539-4b2d-9cbc-406ecd0adbd6 pre{padding: 0;}#sk-45e8229d-1539-4b2d-9cbc-406ecd0adbd6 div.sk-toggleable {background-color: white;}#sk-45e8229d-1539-4b2d-9cbc-406ecd0adbd6 label.sk-toggleable__label {cursor: pointer;display: block;width: 100%;margin-bottom: 0;padding: 0.3em;box-sizing: border-box;text-align: center;}#sk-45e8229d-1539-4b2d-9cbc-406ecd0adbd6 div.sk-toggleable__content {max-height: 0;max-width: 0;overflow: hidden;text-align: left;background-color: #f0f8ff;}#sk-45e8229d-1539-4b2d-9cbc-406ecd0adbd6 div.sk-toggleable__content pre {margin: 0.2em;color: black;border-radius: 0.25em;background-color: #f0f8ff;}#sk-45e8229d-1539-4b2d-9cbc-406ecd0adbd6 input.sk-toggleable__control:checked~div.sk-toggleable__content {max-height: 200px;max-width: 100%;overflow: auto;}#sk-45e8229d-1539-4b2d-9cbc-406ecd0adbd6 div.sk-estimator input.sk-toggleable__control:checked~label.sk-toggleable__label {background-color: #d4ebff;}#sk-45e8229d-1539-4b2d-9cbc-406ecd0adbd6 div.sk-label input.sk-toggleable__control:checked~label.sk-toggleable__label {background-color: #d4ebff;}#sk-45e8229d-1539-4b2d-9cbc-406ecd0adbd6 input.sk-hidden--visually {border: 0;clip: rect(1px 1px 1px 1px);clip: rect(1px, 1px, 1px, 1px);height: 1px;margin: -1px;overflow: hidden;padding: 0;position: absolute;width: 1px;}#sk-45e8229d-1539-4b2d-9cbc-406ecd0adbd6 div.sk-estimator {font-family: monospace;background-color: #f0f8ff;border: 1px dotted black;border-radius: 0.25em;box-sizing: border-box;margin-bottom: 0.5em;}#sk-45e8229d-1539-4b2d-9cbc-406ecd0adbd6 div.sk-estimator:hover {background-color: #d4ebff;}#sk-45e8229d-1539-4b2d-9cbc-406ecd0adbd6 div.sk-parallel-item::after {content: \"\";width: 100%;border-bottom: 1px solid gray;flex-grow: 1;}#sk-45e8229d-1539-4b2d-9cbc-406ecd0adbd6 div.sk-label:hover label.sk-toggleable__label {background-color: #d4ebff;}#sk-45e8229d-1539-4b2d-9cbc-406ecd0adbd6 div.sk-serial::before {content: \"\";position: absolute;border-left: 1px solid gray;box-sizing: border-box;top: 2em;bottom: 0;left: 50%;}#sk-45e8229d-1539-4b2d-9cbc-406ecd0adbd6 div.sk-serial {display: flex;flex-direction: column;align-items: center;background-color: white;padding-right: 0.2em;padding-left: 0.2em;}#sk-45e8229d-1539-4b2d-9cbc-406ecd0adbd6 div.sk-item {z-index: 1;}#sk-45e8229d-1539-4b2d-9cbc-406ecd0adbd6 div.sk-parallel {display: flex;align-items: stretch;justify-content: center;background-color: white;}#sk-45e8229d-1539-4b2d-9cbc-406ecd0adbd6 div.sk-parallel::before {content: \"\";position: absolute;border-left: 1px solid gray;box-sizing: border-box;top: 2em;bottom: 0;left: 50%;}#sk-45e8229d-1539-4b2d-9cbc-406ecd0adbd6 div.sk-parallel-item {display: flex;flex-direction: column;position: relative;background-color: white;}#sk-45e8229d-1539-4b2d-9cbc-406ecd0adbd6 div.sk-parallel-item:first-child::after {align-self: flex-end;width: 50%;}#sk-45e8229d-1539-4b2d-9cbc-406ecd0adbd6 div.sk-parallel-item:last-child::after {align-self: flex-start;width: 50%;}#sk-45e8229d-1539-4b2d-9cbc-406ecd0adbd6 div.sk-parallel-item:only-child::after {width: 0;}#sk-45e8229d-1539-4b2d-9cbc-406ecd0adbd6 div.sk-dashed-wrapped {border: 1px dashed gray;margin: 0 0.4em 0.5em 0.4em;box-sizing: border-box;padding-bottom: 0.4em;background-color: white;position: relative;}#sk-45e8229d-1539-4b2d-9cbc-406ecd0adbd6 div.sk-label label {font-family: monospace;font-weight: bold;background-color: white;display: inline-block;line-height: 1.2em;}#sk-45e8229d-1539-4b2d-9cbc-406ecd0adbd6 div.sk-label-container {position: relative;z-index: 2;text-align: center;}#sk-45e8229d-1539-4b2d-9cbc-406ecd0adbd6 div.sk-container {display: inline-block;position: relative;}</style><div id=\"sk-45e8229d-1539-4b2d-9cbc-406ecd0adbd6\" class\"sk-top-container\"><div class=\"sk-container\"><div class=\"sk-item sk-dashed-wrapped\"><div class=\"sk-label-container\"><div class=\"sk-label sk-toggleable\"><input class=\"sk-toggleable__control sk-hidden--visually\" id=\"42822d5d-4d9e-44ad-908e-e6b2235fa465\" type=\"checkbox\" ><label class=\"sk-toggleable__label\" for=\"42822d5d-4d9e-44ad-908e-e6b2235fa465\">Pipeline</label><div class=\"sk-toggleable__content\"><pre>Pipeline(steps=[('preprocessing',\n",
       "                 ColumnTransformer(transformers=[('num_transformer',\n",
       "                                                  Pipeline(steps=[('num_imputer',\n",
       "                                                                   SimpleImputer(strategy='median')),\n",
       "                                                                  ('rb_scaler',\n",
       "                                                                   RobustScaler())]),\n",
       "                                                  <sklearn.compose._column_transformer.make_column_selector object at 0x136b16bb0>),\n",
       "                                                 ('cat_multi_transformer',\n",
       "                                                  OneHotEncoder(handle_unknown='ignore',\n",
       "                                                                sparse=False),\n",
       "                                                  ['BookCategory'])])),\n",
       "                ('linear_regression', Ridge())])</pre></div></div></div><div class=\"sk-serial\"><div class=\"sk-item sk-dashed-wrapped\"><div class=\"sk-label-container\"><div class=\"sk-label sk-toggleable\"><input class=\"sk-toggleable__control sk-hidden--visually\" id=\"6b0acc5f-76be-4a2a-a4b6-08001165d653\" type=\"checkbox\" ><label class=\"sk-toggleable__label\" for=\"6b0acc5f-76be-4a2a-a4b6-08001165d653\">preprocessing: ColumnTransformer</label><div class=\"sk-toggleable__content\"><pre>ColumnTransformer(transformers=[('num_transformer',\n",
       "                                 Pipeline(steps=[('num_imputer',\n",
       "                                                  SimpleImputer(strategy='median')),\n",
       "                                                 ('rb_scaler',\n",
       "                                                  RobustScaler())]),\n",
       "                                 <sklearn.compose._column_transformer.make_column_selector object at 0x136b16bb0>),\n",
       "                                ('cat_multi_transformer',\n",
       "                                 OneHotEncoder(handle_unknown='ignore',\n",
       "                                               sparse=False),\n",
       "                                 ['BookCategory'])])</pre></div></div></div><div class=\"sk-parallel\"><div class=\"sk-parallel-item\"><div class=\"sk-item\"><div class=\"sk-label-container\"><div class=\"sk-label sk-toggleable\"><input class=\"sk-toggleable__control sk-hidden--visually\" id=\"6f1b8e36-a09b-4437-aebb-e857668c214f\" type=\"checkbox\" ><label class=\"sk-toggleable__label\" for=\"6f1b8e36-a09b-4437-aebb-e857668c214f\">num_transformer</label><div class=\"sk-toggleable__content\"><pre><sklearn.compose._column_transformer.make_column_selector object at 0x136b16bb0></pre></div></div></div><div class=\"sk-serial\"><div class=\"sk-item\"><div class=\"sk-serial\"><div class=\"sk-item\"><div class=\"sk-estimator sk-toggleable\"><input class=\"sk-toggleable__control sk-hidden--visually\" id=\"904e947b-d6b7-4783-ac83-180b5830e9a3\" type=\"checkbox\" ><label class=\"sk-toggleable__label\" for=\"904e947b-d6b7-4783-ac83-180b5830e9a3\">SimpleImputer</label><div class=\"sk-toggleable__content\"><pre>SimpleImputer(strategy='median')</pre></div></div></div><div class=\"sk-item\"><div class=\"sk-estimator sk-toggleable\"><input class=\"sk-toggleable__control sk-hidden--visually\" id=\"b8029c3d-78d8-41ac-96a7-02f998839d86\" type=\"checkbox\" ><label class=\"sk-toggleable__label\" for=\"b8029c3d-78d8-41ac-96a7-02f998839d86\">RobustScaler</label><div class=\"sk-toggleable__content\"><pre>RobustScaler()</pre></div></div></div></div></div></div></div></div><div class=\"sk-parallel-item\"><div class=\"sk-item\"><div class=\"sk-label-container\"><div class=\"sk-label sk-toggleable\"><input class=\"sk-toggleable__control sk-hidden--visually\" id=\"f8dea8b5-c12c-42fc-841b-1a9af67632c6\" type=\"checkbox\" ><label class=\"sk-toggleable__label\" for=\"f8dea8b5-c12c-42fc-841b-1a9af67632c6\">cat_multi_transformer</label><div class=\"sk-toggleable__content\"><pre>['BookCategory']</pre></div></div></div><div class=\"sk-serial\"><div class=\"sk-item\"><div class=\"sk-estimator sk-toggleable\"><input class=\"sk-toggleable__control sk-hidden--visually\" id=\"d343268d-200a-422b-b21c-a0520d0d2c50\" type=\"checkbox\" ><label class=\"sk-toggleable__label\" for=\"d343268d-200a-422b-b21c-a0520d0d2c50\">OneHotEncoder</label><div class=\"sk-toggleable__content\"><pre>OneHotEncoder(handle_unknown='ignore', sparse=False)</pre></div></div></div></div></div></div></div></div><div class=\"sk-item\"><div class=\"sk-estimator sk-toggleable\"><input class=\"sk-toggleable__control sk-hidden--visually\" id=\"b9e39b83-8b97-4502-9040-c2786e6edd95\" type=\"checkbox\" ><label class=\"sk-toggleable__label\" for=\"b9e39b83-8b97-4502-9040-c2786e6edd95\">Ridge</label><div class=\"sk-toggleable__content\"><pre>Ridge()</pre></div></div></div></div></div></div></div>"
      ],
      "text/plain": [
       "Pipeline(steps=[('preprocessing',\n",
       "                 ColumnTransformer(transformers=[('num_transformer',\n",
       "                                                  Pipeline(steps=[('num_imputer',\n",
       "                                                                   SimpleImputer(strategy='median')),\n",
       "                                                                  ('rb_scaler',\n",
       "                                                                   RobustScaler())]),\n",
       "                                                  <sklearn.compose._column_transformer.make_column_selector object at 0x136b16bb0>),\n",
       "                                                 ('cat_multi_transformer',\n",
       "                                                  OneHotEncoder(handle_unknown='ignore',\n",
       "                                                                sparse=False),\n",
       "                                                  ['BookCategory'])])),\n",
       "                ('linear_regression', Ridge())])"
      ]
     },
     "execution_count": 178,
     "metadata": {},
     "output_type": "execute_result"
    }
   ],
   "source": [
    "pipe_baseline.fit(X_train, np.array(y_train).ravel())"
   ]
  },
  {
   "cell_type": "code",
   "execution_count": 179,
   "id": "d190dc77",
   "metadata": {},
   "outputs": [
    {
     "data": {
      "text/plain": [
       "array([961.66962951, 221.80992114, 420.49625184, ..., 457.96892993,\n",
       "       370.81402847, 609.71168855])"
      ]
     },
     "execution_count": 179,
     "metadata": {},
     "output_type": "execute_result"
    },
    {
     "name": "stderr",
     "output_type": "stream",
     "text": [
      "/Users/florianlanger/.pyenv/versions/3.8.6/envs/lewagon/lib/python3.8/site-packages/sklearn/linear_model/_logistic.py:814: ConvergenceWarning: lbfgs failed to converge (status=1):\n",
      "STOP: TOTAL NO. of ITERATIONS REACHED LIMIT.\n",
      "\n",
      "Increase the number of iterations (max_iter) or scale the data as shown in:\n",
      "    https://scikit-learn.org/stable/modules/preprocessing.html\n",
      "Please also refer to the documentation for alternative solver options:\n",
      "    https://scikit-learn.org/stable/modules/linear_model.html#logistic-regression\n",
      "  n_iter_i = _check_optimize_result(\n",
      "/Users/florianlanger/.pyenv/versions/3.8.6/envs/lewagon/lib/python3.8/site-packages/sklearn/model_selection/_validation.py:771: UserWarning: Scoring failed. The score on this train-test partition for these parameters will be set to nan. Details: \n",
      "Traceback (most recent call last):\n",
      "  File \"/Users/florianlanger/.pyenv/versions/3.8.6/envs/lewagon/lib/python3.8/site-packages/sklearn/model_selection/_validation.py\", line 762, in _score\n",
      "    scores = scorer(estimator, X_test, y_test)\n",
      "  File \"/Users/florianlanger/.pyenv/versions/3.8.6/envs/lewagon/lib/python3.8/site-packages/sklearn/metrics/_scorer.py\", line 216, in __call__\n",
      "    return self._score(\n",
      "  File \"/Users/florianlanger/.pyenv/versions/3.8.6/envs/lewagon/lib/python3.8/site-packages/sklearn/metrics/_scorer.py\", line 264, in _score\n",
      "    return self._sign * self._score_func(y_true, y_pred, **self._kwargs)\n",
      "  File \"/Users/florianlanger/.pyenv/versions/3.8.6/envs/lewagon/lib/python3.8/site-packages/sklearn/metrics/_classification.py\", line 205, in accuracy_score\n",
      "    y_type, y_true, y_pred = _check_targets(y_true, y_pred)\n",
      "  File \"/Users/florianlanger/.pyenv/versions/3.8.6/envs/lewagon/lib/python3.8/site-packages/sklearn/metrics/_classification.py\", line 93, in _check_targets\n",
      "    raise ValueError(\n",
      "ValueError: Classification metrics can't handle a mix of multiclass and continuous targets\n",
      "\n",
      "  warnings.warn(\n",
      "/Users/florianlanger/.pyenv/versions/3.8.6/envs/lewagon/lib/python3.8/site-packages/sklearn/linear_model/_logistic.py:814: ConvergenceWarning: lbfgs failed to converge (status=1):\n",
      "STOP: TOTAL NO. of ITERATIONS REACHED LIMIT.\n",
      "\n",
      "Increase the number of iterations (max_iter) or scale the data as shown in:\n",
      "    https://scikit-learn.org/stable/modules/preprocessing.html\n",
      "Please also refer to the documentation for alternative solver options:\n",
      "    https://scikit-learn.org/stable/modules/linear_model.html#logistic-regression\n",
      "  n_iter_i = _check_optimize_result(\n",
      "/Users/florianlanger/.pyenv/versions/3.8.6/envs/lewagon/lib/python3.8/site-packages/sklearn/model_selection/_validation.py:771: UserWarning: Scoring failed. The score on this train-test partition for these parameters will be set to nan. Details: \n",
      "Traceback (most recent call last):\n",
      "  File \"/Users/florianlanger/.pyenv/versions/3.8.6/envs/lewagon/lib/python3.8/site-packages/sklearn/model_selection/_validation.py\", line 762, in _score\n",
      "    scores = scorer(estimator, X_test, y_test)\n",
      "  File \"/Users/florianlanger/.pyenv/versions/3.8.6/envs/lewagon/lib/python3.8/site-packages/sklearn/metrics/_scorer.py\", line 216, in __call__\n",
      "    return self._score(\n",
      "  File \"/Users/florianlanger/.pyenv/versions/3.8.6/envs/lewagon/lib/python3.8/site-packages/sklearn/metrics/_scorer.py\", line 264, in _score\n",
      "    return self._sign * self._score_func(y_true, y_pred, **self._kwargs)\n",
      "  File \"/Users/florianlanger/.pyenv/versions/3.8.6/envs/lewagon/lib/python3.8/site-packages/sklearn/metrics/_classification.py\", line 205, in accuracy_score\n",
      "    y_type, y_true, y_pred = _check_targets(y_true, y_pred)\n",
      "  File \"/Users/florianlanger/.pyenv/versions/3.8.6/envs/lewagon/lib/python3.8/site-packages/sklearn/metrics/_classification.py\", line 93, in _check_targets\n",
      "    raise ValueError(\n",
      "ValueError: Classification metrics can't handle a mix of multiclass and continuous targets\n",
      "\n",
      "  warnings.warn(\n",
      "/Users/florianlanger/.pyenv/versions/3.8.6/envs/lewagon/lib/python3.8/site-packages/sklearn/model_selection/_validation.py:771: UserWarning: Scoring failed. The score on this train-test partition for these parameters will be set to nan. Details: \n",
      "Traceback (most recent call last):\n",
      "  File \"/Users/florianlanger/.pyenv/versions/3.8.6/envs/lewagon/lib/python3.8/site-packages/sklearn/model_selection/_validation.py\", line 762, in _score\n",
      "    scores = scorer(estimator, X_test, y_test)\n",
      "  File \"/Users/florianlanger/.pyenv/versions/3.8.6/envs/lewagon/lib/python3.8/site-packages/sklearn/metrics/_scorer.py\", line 216, in __call__\n",
      "    return self._score(\n",
      "  File \"/Users/florianlanger/.pyenv/versions/3.8.6/envs/lewagon/lib/python3.8/site-packages/sklearn/metrics/_scorer.py\", line 264, in _score\n",
      "    return self._sign * self._score_func(y_true, y_pred, **self._kwargs)\n",
      "  File \"/Users/florianlanger/.pyenv/versions/3.8.6/envs/lewagon/lib/python3.8/site-packages/sklearn/metrics/_classification.py\", line 205, in accuracy_score\n",
      "    y_type, y_true, y_pred = _check_targets(y_true, y_pred)\n",
      "  File \"/Users/florianlanger/.pyenv/versions/3.8.6/envs/lewagon/lib/python3.8/site-packages/sklearn/metrics/_classification.py\", line 93, in _check_targets\n",
      "    raise ValueError(\n",
      "ValueError: Classification metrics can't handle a mix of multiclass and continuous targets\n",
      "\n",
      "  warnings.warn(\n",
      "/Users/florianlanger/.pyenv/versions/3.8.6/envs/lewagon/lib/python3.8/site-packages/sklearn/linear_model/_logistic.py:814: ConvergenceWarning: lbfgs failed to converge (status=1):\n",
      "STOP: TOTAL NO. of ITERATIONS REACHED LIMIT.\n",
      "\n",
      "Increase the number of iterations (max_iter) or scale the data as shown in:\n",
      "    https://scikit-learn.org/stable/modules/preprocessing.html\n",
      "Please also refer to the documentation for alternative solver options:\n",
      "    https://scikit-learn.org/stable/modules/linear_model.html#logistic-regression\n",
      "  n_iter_i = _check_optimize_result(\n",
      "/Users/florianlanger/.pyenv/versions/3.8.6/envs/lewagon/lib/python3.8/site-packages/sklearn/model_selection/_validation.py:771: UserWarning: Scoring failed. The score on this train-test partition for these parameters will be set to nan. Details: \n",
      "Traceback (most recent call last):\n",
      "  File \"/Users/florianlanger/.pyenv/versions/3.8.6/envs/lewagon/lib/python3.8/site-packages/sklearn/model_selection/_validation.py\", line 762, in _score\n",
      "    scores = scorer(estimator, X_test, y_test)\n",
      "  File \"/Users/florianlanger/.pyenv/versions/3.8.6/envs/lewagon/lib/python3.8/site-packages/sklearn/metrics/_scorer.py\", line 216, in __call__\n",
      "    return self._score(\n",
      "  File \"/Users/florianlanger/.pyenv/versions/3.8.6/envs/lewagon/lib/python3.8/site-packages/sklearn/metrics/_scorer.py\", line 264, in _score\n",
      "    return self._sign * self._score_func(y_true, y_pred, **self._kwargs)\n",
      "  File \"/Users/florianlanger/.pyenv/versions/3.8.6/envs/lewagon/lib/python3.8/site-packages/sklearn/metrics/_classification.py\", line 205, in accuracy_score\n",
      "    y_type, y_true, y_pred = _check_targets(y_true, y_pred)\n",
      "  File \"/Users/florianlanger/.pyenv/versions/3.8.6/envs/lewagon/lib/python3.8/site-packages/sklearn/metrics/_classification.py\", line 93, in _check_targets\n",
      "    raise ValueError(\n",
      "ValueError: Classification metrics can't handle a mix of multiclass and continuous targets\n",
      "\n",
      "  warnings.warn(\n",
      "/Users/florianlanger/.pyenv/versions/3.8.6/envs/lewagon/lib/python3.8/site-packages/sklearn/model_selection/_validation.py:771: UserWarning: Scoring failed. The score on this train-test partition for these parameters will be set to nan. Details: \n",
      "Traceback (most recent call last):\n",
      "  File \"/Users/florianlanger/.pyenv/versions/3.8.6/envs/lewagon/lib/python3.8/site-packages/sklearn/model_selection/_validation.py\", line 762, in _score\n",
      "    scores = scorer(estimator, X_test, y_test)\n",
      "  File \"/Users/florianlanger/.pyenv/versions/3.8.6/envs/lewagon/lib/python3.8/site-packages/sklearn/metrics/_scorer.py\", line 216, in __call__\n",
      "    return self._score(\n",
      "  File \"/Users/florianlanger/.pyenv/versions/3.8.6/envs/lewagon/lib/python3.8/site-packages/sklearn/metrics/_scorer.py\", line 264, in _score\n",
      "    return self._sign * self._score_func(y_true, y_pred, **self._kwargs)\n",
      "  File \"/Users/florianlanger/.pyenv/versions/3.8.6/envs/lewagon/lib/python3.8/site-packages/sklearn/metrics/_classification.py\", line 205, in accuracy_score\n",
      "    y_type, y_true, y_pred = _check_targets(y_true, y_pred)\n",
      "  File \"/Users/florianlanger/.pyenv/versions/3.8.6/envs/lewagon/lib/python3.8/site-packages/sklearn/metrics/_classification.py\", line 93, in _check_targets\n",
      "    raise ValueError(\n",
      "ValueError: Classification metrics can't handle a mix of multiclass and continuous targets\n",
      "\n",
      "  warnings.warn(\n"
     ]
    }
   ],
   "source": [
    "predictions = pipe_baseline.predict(X_test)\n",
    "predictions"
   ]
  },
  {
   "cell_type": "code",
   "execution_count": null,
   "id": "e56bde83",
   "metadata": {},
   "outputs": [],
   "source": []
  }
 ],
 "metadata": {
  "kernelspec": {
   "display_name": "Python 3 (ipykernel)",
   "language": "python",
   "name": "python3"
  },
  "language_info": {
   "codemirror_mode": {
    "name": "ipython",
    "version": 3
   },
   "file_extension": ".py",
   "mimetype": "text/x-python",
   "name": "python",
   "nbconvert_exporter": "python",
   "pygments_lexer": "ipython3",
   "version": "3.8.6"
  },
  "toc": {
   "base_numbering": 1,
   "nav_menu": {},
   "number_sections": true,
   "sideBar": true,
   "skip_h1_title": false,
   "title_cell": "Table of Contents",
   "title_sidebar": "Contents",
   "toc_cell": false,
   "toc_position": {},
   "toc_section_display": true,
   "toc_window_display": false
  }
 },
 "nbformat": 4,
 "nbformat_minor": 5
}
