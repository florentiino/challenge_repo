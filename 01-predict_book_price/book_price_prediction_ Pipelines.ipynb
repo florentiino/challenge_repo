{
 "cells": [
  {
   "cell_type": "code",
   "execution_count": 1,
   "id": "d9acd079",
   "metadata": {},
   "outputs": [],
   "source": [
    "# Data Manipulation\n",
    "import numpy as np\n",
    "import pandas as pd\n",
    "\n",
    "# Data Visualisation\n",
    "import matplotlib.pyplot as plt\n",
    "import seaborn as sns\n",
    "\n",
    "# Lists' manipulations\n",
    "import itertools\n",
    "\n",
    "# Gaussianity\n",
    "from statsmodels.graphics.gofplots import qqplot    # Gaussianity\n",
    "\n",
    "# Stats\n",
    "from scipy.stats import skew,kurtosis,zscore\n",
    "\n",
    "# Machine Learning - Preprocessing the Dataset\n",
    "from sklearn.preprocessing import RobustScaler      # Scaling Numerical Features\n",
    "from sklearn.preprocessing import OneHotEncoder     # Encoding Categorical Variables\n",
    "from sklearn.preprocessing import LabelEncoder     # Encoding the Target\n",
    "\n",
    "\n",
    "# Machine Learning - \"Workflow\"\n",
    "from sklearn.pipeline import Pipeline, make_pipeline\n",
    "from sklearn.impute import SimpleImputer\n",
    "from sklearn.compose import ColumnTransformer, make_column_selector\n",
    "from sklearn import set_config; set_config(display = \"diagram\")\n",
    "\n",
    "# Machine Learning - Tools\n",
    "from sklearn.model_selection import train_test_split\n",
    "from sklearn.model_selection import cross_validate\n",
    "import time\n",
    "\n",
    "# Classification Metrics\n",
    "from sklearn.metrics import confusion_matrix, ConfusionMatrixDisplay\n",
    "from sklearn.metrics import classification_report\n",
    "from sklearn.metrics import accuracy_score\n",
    "\n",
    "# Machine Learning Classifiers\n",
    "\n",
    "## Classics\n",
    "from sklearn.linear_model import LogisticRegression\n",
    "from sklearn.svm import SVC\n",
    "from sklearn.neighbors import KNeighborsClassifier\n",
    "\n",
    "## Decision Trees\n",
    "from sklearn.tree import DecisionTreeClassifier\n",
    "\n",
    "## Random Forests\n",
    "from sklearn.ensemble import RandomForestClassifier\n",
    "\n",
    "## Bootstrap Aggregating\n",
    "from sklearn.ensemble import BaggingClassifier\n",
    "\n",
    "## Adaboost\n",
    "from sklearn.ensemble import AdaBoostClassifier\n",
    "\n",
    "## Gradient Boosting\n",
    "from sklearn.ensemble import GradientBoostingClassifier\n",
    "\n",
    "## Extreme Gradient Tree Boosting\n",
    "from xgboost import XGBClassifier"
   ]
  },
  {
   "cell_type": "code",
   "execution_count": 2,
   "id": "b1d73131",
   "metadata": {},
   "outputs": [],
   "source": [
    "# Suppressing Warnings\n",
    "import warnings\n",
    "warnings.filterwarnings('ignore')"
   ]
  },
  {
   "cell_type": "code",
   "execution_count": 3,
   "id": "5a1c1214",
   "metadata": {},
   "outputs": [],
   "source": [
    "# \"magic commands\" to enable autoreload of your imported packages\n",
    "%load_ext autoreload\n",
    "%autoreload 2"
   ]
  },
  {
   "cell_type": "code",
   "execution_count": 4,
   "id": "566126b7",
   "metadata": {},
   "outputs": [
    {
     "data": {
      "text/html": [
       "<div>\n",
       "<style scoped>\n",
       "    .dataframe tbody tr th:only-of-type {\n",
       "        vertical-align: middle;\n",
       "    }\n",
       "\n",
       "    .dataframe tbody tr th {\n",
       "        vertical-align: top;\n",
       "    }\n",
       "\n",
       "    .dataframe thead th {\n",
       "        text-align: right;\n",
       "    }\n",
       "</style>\n",
       "<table border=\"1\" class=\"dataframe\">\n",
       "  <thead>\n",
       "    <tr style=\"text-align: right;\">\n",
       "      <th></th>\n",
       "      <th>Title</th>\n",
       "      <th>Author</th>\n",
       "      <th>Edition</th>\n",
       "      <th>Reviews</th>\n",
       "      <th>Ratings</th>\n",
       "      <th>Synopsis</th>\n",
       "      <th>Genre</th>\n",
       "      <th>BookCategory</th>\n",
       "      <th>Price</th>\n",
       "    </tr>\n",
       "  </thead>\n",
       "  <tbody>\n",
       "    <tr>\n",
       "      <th>0</th>\n",
       "      <td>The Prisoner's Gold (The Hunters 3)</td>\n",
       "      <td>Chris Kuzneski</td>\n",
       "      <td>Paperback,– 10 Mar 2016</td>\n",
       "      <td>4.0 out of 5 stars</td>\n",
       "      <td>8 customer reviews</td>\n",
       "      <td>THE HUNTERS return in their third brilliant no...</td>\n",
       "      <td>Action &amp; Adventure (Books)</td>\n",
       "      <td>Action &amp; Adventure</td>\n",
       "      <td>220.00</td>\n",
       "    </tr>\n",
       "    <tr>\n",
       "      <th>1</th>\n",
       "      <td>Guru Dutt: A Tragedy in Three Acts</td>\n",
       "      <td>Arun Khopkar</td>\n",
       "      <td>Paperback,– 7 Nov 2012</td>\n",
       "      <td>3.9 out of 5 stars</td>\n",
       "      <td>14 customer reviews</td>\n",
       "      <td>A layered portrait of a troubled genius for wh...</td>\n",
       "      <td>Cinema &amp; Broadcast (Books)</td>\n",
       "      <td>Biographies, Diaries &amp; True Accounts</td>\n",
       "      <td>202.93</td>\n",
       "    </tr>\n",
       "    <tr>\n",
       "      <th>2</th>\n",
       "      <td>Leviathan (Penguin Classics)</td>\n",
       "      <td>Thomas Hobbes</td>\n",
       "      <td>Paperback,– 25 Feb 1982</td>\n",
       "      <td>4.8 out of 5 stars</td>\n",
       "      <td>6 customer reviews</td>\n",
       "      <td>\"During the time men live without a common Pow...</td>\n",
       "      <td>International Relations</td>\n",
       "      <td>Humour</td>\n",
       "      <td>299.00</td>\n",
       "    </tr>\n",
       "    <tr>\n",
       "      <th>3</th>\n",
       "      <td>A Pocket Full of Rye (Miss Marple)</td>\n",
       "      <td>Agatha Christie</td>\n",
       "      <td>Paperback,– 5 Oct 2017</td>\n",
       "      <td>4.1 out of 5 stars</td>\n",
       "      <td>13 customer reviews</td>\n",
       "      <td>A handful of grain is found in the pocket of a...</td>\n",
       "      <td>Contemporary Fiction (Books)</td>\n",
       "      <td>Crime, Thriller &amp; Mystery</td>\n",
       "      <td>180.00</td>\n",
       "    </tr>\n",
       "    <tr>\n",
       "      <th>4</th>\n",
       "      <td>LIFE 70 Years of Extraordinary Photography</td>\n",
       "      <td>Editors of Life</td>\n",
       "      <td>Hardcover,– 10 Oct 2006</td>\n",
       "      <td>5.0 out of 5 stars</td>\n",
       "      <td>1 customer review</td>\n",
       "      <td>For seven decades, \"Life\" has been thrilling t...</td>\n",
       "      <td>Photography Textbooks</td>\n",
       "      <td>Arts, Film &amp; Photography</td>\n",
       "      <td>965.62</td>\n",
       "    </tr>\n",
       "  </tbody>\n",
       "</table>\n",
       "</div>"
      ],
      "text/plain": [
       "                                        Title           Author  \\\n",
       "0         The Prisoner's Gold (The Hunters 3)   Chris Kuzneski   \n",
       "1          Guru Dutt: A Tragedy in Three Acts     Arun Khopkar   \n",
       "2                Leviathan (Penguin Classics)    Thomas Hobbes   \n",
       "3          A Pocket Full of Rye (Miss Marple)  Agatha Christie   \n",
       "4  LIFE 70 Years of Extraordinary Photography  Editors of Life   \n",
       "\n",
       "                   Edition             Reviews              Ratings  \\\n",
       "0  Paperback,– 10 Mar 2016  4.0 out of 5 stars   8 customer reviews   \n",
       "1   Paperback,– 7 Nov 2012  3.9 out of 5 stars  14 customer reviews   \n",
       "2  Paperback,– 25 Feb 1982  4.8 out of 5 stars   6 customer reviews   \n",
       "3   Paperback,– 5 Oct 2017  4.1 out of 5 stars  13 customer reviews   \n",
       "4  Hardcover,– 10 Oct 2006  5.0 out of 5 stars    1 customer review   \n",
       "\n",
       "                                            Synopsis  \\\n",
       "0  THE HUNTERS return in their third brilliant no...   \n",
       "1  A layered portrait of a troubled genius for wh...   \n",
       "2  \"During the time men live without a common Pow...   \n",
       "3  A handful of grain is found in the pocket of a...   \n",
       "4  For seven decades, \"Life\" has been thrilling t...   \n",
       "\n",
       "                          Genre                          BookCategory   Price  \n",
       "0    Action & Adventure (Books)                    Action & Adventure  220.00  \n",
       "1    Cinema & Broadcast (Books)  Biographies, Diaries & True Accounts  202.93  \n",
       "2       International Relations                                Humour  299.00  \n",
       "3  Contemporary Fiction (Books)             Crime, Thriller & Mystery  180.00  \n",
       "4         Photography Textbooks              Arts, Film & Photography  965.62  "
      ]
     },
     "execution_count": 4,
     "metadata": {},
     "output_type": "execute_result"
    }
   ],
   "source": [
    "train = pd.read_excel('/Users/florianlanger/code/florentiino/challenge_repo/01-predict_book_price/Participants_Data/Data_Train.xlsx')\n",
    "train.head()"
   ]
  },
  {
   "cell_type": "code",
   "execution_count": 5,
   "id": "11d0b452",
   "metadata": {
    "scrolled": true
   },
   "outputs": [
    {
     "data": {
      "text/html": [
       "<div>\n",
       "<style scoped>\n",
       "    .dataframe tbody tr th:only-of-type {\n",
       "        vertical-align: middle;\n",
       "    }\n",
       "\n",
       "    .dataframe tbody tr th {\n",
       "        vertical-align: top;\n",
       "    }\n",
       "\n",
       "    .dataframe thead th {\n",
       "        text-align: right;\n",
       "    }\n",
       "</style>\n",
       "<table border=\"1\" class=\"dataframe\">\n",
       "  <thead>\n",
       "    <tr style=\"text-align: right;\">\n",
       "      <th></th>\n",
       "      <th>Title</th>\n",
       "      <th>Author</th>\n",
       "      <th>Edition</th>\n",
       "      <th>Reviews</th>\n",
       "      <th>Ratings</th>\n",
       "      <th>Synopsis</th>\n",
       "      <th>Genre</th>\n",
       "      <th>BookCategory</th>\n",
       "      <th>Price</th>\n",
       "    </tr>\n",
       "  </thead>\n",
       "  <tbody>\n",
       "    <tr>\n",
       "      <th>0</th>\n",
       "      <td>The Prisoner's Gold (The Hunters 3)</td>\n",
       "      <td>Chris Kuzneski</td>\n",
       "      <td>Paperback,– 10 Mar 2016</td>\n",
       "      <td>4.0 out of 5 stars</td>\n",
       "      <td>8 customer reviews</td>\n",
       "      <td>THE HUNTERS return in their third brilliant no...</td>\n",
       "      <td>Action &amp; Adventure (Books)</td>\n",
       "      <td>Action &amp; Adventure</td>\n",
       "      <td>220.00</td>\n",
       "    </tr>\n",
       "    <tr>\n",
       "      <th>1</th>\n",
       "      <td>Guru Dutt: A Tragedy in Three Acts</td>\n",
       "      <td>Arun Khopkar</td>\n",
       "      <td>Paperback,– 7 Nov 2012</td>\n",
       "      <td>3.9 out of 5 stars</td>\n",
       "      <td>14 customer reviews</td>\n",
       "      <td>A layered portrait of a troubled genius for wh...</td>\n",
       "      <td>Cinema &amp; Broadcast (Books)</td>\n",
       "      <td>Biographies, Diaries &amp; True Accounts</td>\n",
       "      <td>202.93</td>\n",
       "    </tr>\n",
       "    <tr>\n",
       "      <th>2</th>\n",
       "      <td>Leviathan (Penguin Classics)</td>\n",
       "      <td>Thomas Hobbes</td>\n",
       "      <td>Paperback,– 25 Feb 1982</td>\n",
       "      <td>4.8 out of 5 stars</td>\n",
       "      <td>6 customer reviews</td>\n",
       "      <td>\"During the time men live without a common Pow...</td>\n",
       "      <td>International Relations</td>\n",
       "      <td>Humour</td>\n",
       "      <td>299.00</td>\n",
       "    </tr>\n",
       "    <tr>\n",
       "      <th>3</th>\n",
       "      <td>A Pocket Full of Rye (Miss Marple)</td>\n",
       "      <td>Agatha Christie</td>\n",
       "      <td>Paperback,– 5 Oct 2017</td>\n",
       "      <td>4.1 out of 5 stars</td>\n",
       "      <td>13 customer reviews</td>\n",
       "      <td>A handful of grain is found in the pocket of a...</td>\n",
       "      <td>Contemporary Fiction (Books)</td>\n",
       "      <td>Crime, Thriller &amp; Mystery</td>\n",
       "      <td>180.00</td>\n",
       "    </tr>\n",
       "    <tr>\n",
       "      <th>4</th>\n",
       "      <td>LIFE 70 Years of Extraordinary Photography</td>\n",
       "      <td>Editors of Life</td>\n",
       "      <td>Hardcover,– 10 Oct 2006</td>\n",
       "      <td>5.0 out of 5 stars</td>\n",
       "      <td>1 customer review</td>\n",
       "      <td>For seven decades, \"Life\" has been thrilling t...</td>\n",
       "      <td>Photography Textbooks</td>\n",
       "      <td>Arts, Film &amp; Photography</td>\n",
       "      <td>965.62</td>\n",
       "    </tr>\n",
       "  </tbody>\n",
       "</table>\n",
       "</div>"
      ],
      "text/plain": [
       "                                        Title           Author  \\\n",
       "0         The Prisoner's Gold (The Hunters 3)   Chris Kuzneski   \n",
       "1          Guru Dutt: A Tragedy in Three Acts     Arun Khopkar   \n",
       "2                Leviathan (Penguin Classics)    Thomas Hobbes   \n",
       "3          A Pocket Full of Rye (Miss Marple)  Agatha Christie   \n",
       "4  LIFE 70 Years of Extraordinary Photography  Editors of Life   \n",
       "\n",
       "                   Edition             Reviews              Ratings  \\\n",
       "0  Paperback,– 10 Mar 2016  4.0 out of 5 stars   8 customer reviews   \n",
       "1   Paperback,– 7 Nov 2012  3.9 out of 5 stars  14 customer reviews   \n",
       "2  Paperback,– 25 Feb 1982  4.8 out of 5 stars   6 customer reviews   \n",
       "3   Paperback,– 5 Oct 2017  4.1 out of 5 stars  13 customer reviews   \n",
       "4  Hardcover,– 10 Oct 2006  5.0 out of 5 stars    1 customer review   \n",
       "\n",
       "                                            Synopsis  \\\n",
       "0  THE HUNTERS return in their third brilliant no...   \n",
       "1  A layered portrait of a troubled genius for wh...   \n",
       "2  \"During the time men live without a common Pow...   \n",
       "3  A handful of grain is found in the pocket of a...   \n",
       "4  For seven decades, \"Life\" has been thrilling t...   \n",
       "\n",
       "                          Genre                          BookCategory   Price  \n",
       "0    Action & Adventure (Books)                    Action & Adventure  220.00  \n",
       "1    Cinema & Broadcast (Books)  Biographies, Diaries & True Accounts  202.93  \n",
       "2       International Relations                                Humour  299.00  \n",
       "3  Contemporary Fiction (Books)             Crime, Thriller & Mystery  180.00  \n",
       "4         Photography Textbooks              Arts, Film & Photography  965.62  "
      ]
     },
     "execution_count": 5,
     "metadata": {},
     "output_type": "execute_result"
    }
   ],
   "source": [
    "test = pd.read_excel('/Users/florianlanger/code/florentiino/challenge_repo/01-predict_book_price/Participants_Data/Data_Test.xlsx')\n",
    "train.head()"
   ]
  },
  {
   "cell_type": "code",
   "execution_count": 6,
   "id": "d2db2741",
   "metadata": {},
   "outputs": [],
   "source": [
    "#having numerical values for reviews\n",
    "train['Reviews'] = train['Reviews'].apply(lambda x: float(x.split()[0]))\n",
    "test['Reviews'] = test['Reviews'].apply(lambda x: float(x.split()[0]))"
   ]
  },
  {
   "cell_type": "code",
   "execution_count": 7,
   "id": "312d78be",
   "metadata": {},
   "outputs": [],
   "source": [
    "# having numerical values for ratings\n",
    "train['Ratings'] = train['Ratings'].apply(lambda x: (x.split()[0].replace(',',''))).astype(int)\n",
    "test['Ratings'] = test['Ratings'].apply(lambda x: (x.split()[0].replace(',',''))).astype(int)"
   ]
  },
  {
   "cell_type": "code",
   "execution_count": 8,
   "id": "f53482ea",
   "metadata": {},
   "outputs": [],
   "source": [
    "def lowercase(df,cols):\n",
    "    for col in cols:\n",
    "        df[col] = df[col].str.lower()"
   ]
  },
  {
   "cell_type": "code",
   "execution_count": 9,
   "id": "eab0fb7b",
   "metadata": {},
   "outputs": [],
   "source": [
    "# standardize categorical features \n",
    "cols = ['Title','Author','Edition','Synopsis','Genre','BookCategory']\n",
    "\n",
    "#train dataset\n",
    "lowercase(train,cols)\n",
    "#teset dataset\n",
    "lowercase(test,cols)"
   ]
  },
  {
   "cell_type": "code",
   "execution_count": 10,
   "id": "bbf4c60e",
   "metadata": {},
   "outputs": [],
   "source": [
    "# making genre more clean by removing \"books\" and \"textbooks\"\n",
    "train.Genre = train.Genre.apply(lambda x: x.strip('(books)').strip('Textbooks'))\n",
    "test.Genre = test.Genre.apply(lambda x: x.strip('(books)').strip('Textbooks'))"
   ]
  },
  {
   "cell_type": "code",
   "execution_count": 11,
   "id": "1cda58cc",
   "metadata": {},
   "outputs": [],
   "source": [
    "# 'Extracting' year of publish from the Edition column\n",
    "train['Edition_Year'] = train['Edition'].apply(lambda x: x.split()[-1] if x.split()[-1].isdigit() else 'na')\n",
    "test['Edition_Year'] = test['Edition'].apply(lambda x: x.split()[-1] if x.split()[-1].isdigit() else 'na')"
   ]
  },
  {
   "cell_type": "code",
   "execution_count": 12,
   "id": "293dec3f",
   "metadata": {},
   "outputs": [
    {
     "data": {
      "text/html": [
       "<div>\n",
       "<style scoped>\n",
       "    .dataframe tbody tr th:only-of-type {\n",
       "        vertical-align: middle;\n",
       "    }\n",
       "\n",
       "    .dataframe tbody tr th {\n",
       "        vertical-align: top;\n",
       "    }\n",
       "\n",
       "    .dataframe thead th {\n",
       "        text-align: right;\n",
       "    }\n",
       "</style>\n",
       "<table border=\"1\" class=\"dataframe\">\n",
       "  <thead>\n",
       "    <tr style=\"text-align: right;\">\n",
       "      <th></th>\n",
       "      <th>Title</th>\n",
       "      <th>Author</th>\n",
       "      <th>Edition</th>\n",
       "      <th>Reviews</th>\n",
       "      <th>Ratings</th>\n",
       "      <th>Synopsis</th>\n",
       "      <th>Genre</th>\n",
       "      <th>BookCategory</th>\n",
       "      <th>Price</th>\n",
       "      <th>Edition_Year</th>\n",
       "    </tr>\n",
       "  </thead>\n",
       "  <tbody>\n",
       "    <tr>\n",
       "      <th>0</th>\n",
       "      <td>the prisoner's gold (the hunters 3)</td>\n",
       "      <td>chris kuzneski</td>\n",
       "      <td>paperback,– 10 mar 2016</td>\n",
       "      <td>4.0</td>\n",
       "      <td>8</td>\n",
       "      <td>the hunters return in their third brilliant no...</td>\n",
       "      <td>action &amp; adventure</td>\n",
       "      <td>action &amp; adventure</td>\n",
       "      <td>220.00</td>\n",
       "      <td>2016</td>\n",
       "    </tr>\n",
       "    <tr>\n",
       "      <th>1</th>\n",
       "      <td>guru dutt: a tragedy in three acts</td>\n",
       "      <td>arun khopkar</td>\n",
       "      <td>paperback,– 7 nov 2012</td>\n",
       "      <td>3.9</td>\n",
       "      <td>14</td>\n",
       "      <td>a layered portrait of a troubled genius for wh...</td>\n",
       "      <td>cinema &amp; broadcast</td>\n",
       "      <td>biographies, diaries &amp; true accounts</td>\n",
       "      <td>202.93</td>\n",
       "      <td>2012</td>\n",
       "    </tr>\n",
       "  </tbody>\n",
       "</table>\n",
       "</div>"
      ],
      "text/plain": [
       "                                 Title          Author  \\\n",
       "0  the prisoner's gold (the hunters 3)  chris kuzneski   \n",
       "1   guru dutt: a tragedy in three acts    arun khopkar   \n",
       "\n",
       "                   Edition  Reviews  Ratings  \\\n",
       "0  paperback,– 10 mar 2016      4.0        8   \n",
       "1   paperback,– 7 nov 2012      3.9       14   \n",
       "\n",
       "                                            Synopsis                Genre  \\\n",
       "0  the hunters return in their third brilliant no...  action & adventure    \n",
       "1  a layered portrait of a troubled genius for wh...  cinema & broadcast    \n",
       "\n",
       "                           BookCategory   Price Edition_Year  \n",
       "0                    action & adventure  220.00         2016  \n",
       "1  biographies, diaries & true accounts  202.93         2012  "
      ]
     },
     "execution_count": 12,
     "metadata": {},
     "output_type": "execute_result"
    }
   ],
   "source": [
    "train.head(2)"
   ]
  },
  {
   "cell_type": "code",
   "execution_count": 13,
   "id": "07a72672",
   "metadata": {},
   "outputs": [
    {
     "data": {
      "text/html": [
       "<style>#sk-15590d67-cdb7-49a4-ace6-b2221ef906ed {color: black;background-color: white;}#sk-15590d67-cdb7-49a4-ace6-b2221ef906ed pre{padding: 0;}#sk-15590d67-cdb7-49a4-ace6-b2221ef906ed div.sk-toggleable {background-color: white;}#sk-15590d67-cdb7-49a4-ace6-b2221ef906ed label.sk-toggleable__label {cursor: pointer;display: block;width: 100%;margin-bottom: 0;padding: 0.3em;box-sizing: border-box;text-align: center;}#sk-15590d67-cdb7-49a4-ace6-b2221ef906ed div.sk-toggleable__content {max-height: 0;max-width: 0;overflow: hidden;text-align: left;background-color: #f0f8ff;}#sk-15590d67-cdb7-49a4-ace6-b2221ef906ed div.sk-toggleable__content pre {margin: 0.2em;color: black;border-radius: 0.25em;background-color: #f0f8ff;}#sk-15590d67-cdb7-49a4-ace6-b2221ef906ed input.sk-toggleable__control:checked~div.sk-toggleable__content {max-height: 200px;max-width: 100%;overflow: auto;}#sk-15590d67-cdb7-49a4-ace6-b2221ef906ed div.sk-estimator input.sk-toggleable__control:checked~label.sk-toggleable__label {background-color: #d4ebff;}#sk-15590d67-cdb7-49a4-ace6-b2221ef906ed div.sk-label input.sk-toggleable__control:checked~label.sk-toggleable__label {background-color: #d4ebff;}#sk-15590d67-cdb7-49a4-ace6-b2221ef906ed input.sk-hidden--visually {border: 0;clip: rect(1px 1px 1px 1px);clip: rect(1px, 1px, 1px, 1px);height: 1px;margin: -1px;overflow: hidden;padding: 0;position: absolute;width: 1px;}#sk-15590d67-cdb7-49a4-ace6-b2221ef906ed div.sk-estimator {font-family: monospace;background-color: #f0f8ff;border: 1px dotted black;border-radius: 0.25em;box-sizing: border-box;margin-bottom: 0.5em;}#sk-15590d67-cdb7-49a4-ace6-b2221ef906ed div.sk-estimator:hover {background-color: #d4ebff;}#sk-15590d67-cdb7-49a4-ace6-b2221ef906ed div.sk-parallel-item::after {content: \"\";width: 100%;border-bottom: 1px solid gray;flex-grow: 1;}#sk-15590d67-cdb7-49a4-ace6-b2221ef906ed div.sk-label:hover label.sk-toggleable__label {background-color: #d4ebff;}#sk-15590d67-cdb7-49a4-ace6-b2221ef906ed div.sk-serial::before {content: \"\";position: absolute;border-left: 1px solid gray;box-sizing: border-box;top: 2em;bottom: 0;left: 50%;}#sk-15590d67-cdb7-49a4-ace6-b2221ef906ed div.sk-serial {display: flex;flex-direction: column;align-items: center;background-color: white;padding-right: 0.2em;padding-left: 0.2em;}#sk-15590d67-cdb7-49a4-ace6-b2221ef906ed div.sk-item {z-index: 1;}#sk-15590d67-cdb7-49a4-ace6-b2221ef906ed div.sk-parallel {display: flex;align-items: stretch;justify-content: center;background-color: white;}#sk-15590d67-cdb7-49a4-ace6-b2221ef906ed div.sk-parallel::before {content: \"\";position: absolute;border-left: 1px solid gray;box-sizing: border-box;top: 2em;bottom: 0;left: 50%;}#sk-15590d67-cdb7-49a4-ace6-b2221ef906ed div.sk-parallel-item {display: flex;flex-direction: column;position: relative;background-color: white;}#sk-15590d67-cdb7-49a4-ace6-b2221ef906ed div.sk-parallel-item:first-child::after {align-self: flex-end;width: 50%;}#sk-15590d67-cdb7-49a4-ace6-b2221ef906ed div.sk-parallel-item:last-child::after {align-self: flex-start;width: 50%;}#sk-15590d67-cdb7-49a4-ace6-b2221ef906ed div.sk-parallel-item:only-child::after {width: 0;}#sk-15590d67-cdb7-49a4-ace6-b2221ef906ed div.sk-dashed-wrapped {border: 1px dashed gray;margin: 0 0.4em 0.5em 0.4em;box-sizing: border-box;padding-bottom: 0.4em;background-color: white;position: relative;}#sk-15590d67-cdb7-49a4-ace6-b2221ef906ed div.sk-label label {font-family: monospace;font-weight: bold;background-color: white;display: inline-block;line-height: 1.2em;}#sk-15590d67-cdb7-49a4-ace6-b2221ef906ed div.sk-label-container {position: relative;z-index: 2;text-align: center;}#sk-15590d67-cdb7-49a4-ace6-b2221ef906ed div.sk-container {display: inline-block;position: relative;}</style><div id=\"sk-15590d67-cdb7-49a4-ace6-b2221ef906ed\" class\"sk-top-container\"><div class=\"sk-container\"><div class=\"sk-item sk-dashed-wrapped\"><div class=\"sk-label-container\"><div class=\"sk-label sk-toggleable\"><input class=\"sk-toggleable__control sk-hidden--visually\" id=\"ebd3805a-545d-4fad-8bae-195bbb75f3ff\" type=\"checkbox\" ><label class=\"sk-toggleable__label\" for=\"ebd3805a-545d-4fad-8bae-195bbb75f3ff\">Pipeline</label><div class=\"sk-toggleable__content\"><pre>Pipeline(steps=[('num_imputer', SimpleImputer(strategy='median')),\n",
       "                ('rb_scaler', RobustScaler())])</pre></div></div></div><div class=\"sk-serial\"><div class=\"sk-item\"><div class=\"sk-estimator sk-toggleable\"><input class=\"sk-toggleable__control sk-hidden--visually\" id=\"a19e6980-f7c3-44be-af88-4d6e6fa233b6\" type=\"checkbox\" ><label class=\"sk-toggleable__label\" for=\"a19e6980-f7c3-44be-af88-4d6e6fa233b6\">SimpleImputer</label><div class=\"sk-toggleable__content\"><pre>SimpleImputer(strategy='median')</pre></div></div></div><div class=\"sk-item\"><div class=\"sk-estimator sk-toggleable\"><input class=\"sk-toggleable__control sk-hidden--visually\" id=\"6916feea-fff6-49b4-bdd6-39d161f54c89\" type=\"checkbox\" ><label class=\"sk-toggleable__label\" for=\"6916feea-fff6-49b4-bdd6-39d161f54c89\">RobustScaler</label><div class=\"sk-toggleable__content\"><pre>RobustScaler()</pre></div></div></div></div></div></div></div>"
      ],
      "text/plain": [
       "Pipeline(steps=[('num_imputer', SimpleImputer(strategy='median')),\n",
       "                ('rb_scaler', RobustScaler())])"
      ]
     },
     "execution_count": 13,
     "metadata": {},
     "output_type": "execute_result"
    }
   ],
   "source": [
    "# Numerical Pipeline\n",
    "\n",
    "num_transformer = Pipeline([\n",
    "    (\"num_imputer\", SimpleImputer(strategy = \"median\")),\n",
    "    (\"rb_scaler\", RobustScaler())\n",
    "])\n",
    "\n",
    "num_transformer"
   ]
  },
  {
   "cell_type": "code",
   "execution_count": 14,
   "id": "34f13946",
   "metadata": {},
   "outputs": [],
   "source": [
    "# to check params uncomment below\n",
    "#num_transformer.__dir__()"
   ]
  },
  {
   "cell_type": "code",
   "execution_count": 15,
   "id": "a373b21f",
   "metadata": {},
   "outputs": [
    {
     "data": {
      "text/html": [
       "<style>#sk-723638ac-d03b-41e4-9dd7-764a8b03a80f {color: black;background-color: white;}#sk-723638ac-d03b-41e4-9dd7-764a8b03a80f pre{padding: 0;}#sk-723638ac-d03b-41e4-9dd7-764a8b03a80f div.sk-toggleable {background-color: white;}#sk-723638ac-d03b-41e4-9dd7-764a8b03a80f label.sk-toggleable__label {cursor: pointer;display: block;width: 100%;margin-bottom: 0;padding: 0.3em;box-sizing: border-box;text-align: center;}#sk-723638ac-d03b-41e4-9dd7-764a8b03a80f div.sk-toggleable__content {max-height: 0;max-width: 0;overflow: hidden;text-align: left;background-color: #f0f8ff;}#sk-723638ac-d03b-41e4-9dd7-764a8b03a80f div.sk-toggleable__content pre {margin: 0.2em;color: black;border-radius: 0.25em;background-color: #f0f8ff;}#sk-723638ac-d03b-41e4-9dd7-764a8b03a80f input.sk-toggleable__control:checked~div.sk-toggleable__content {max-height: 200px;max-width: 100%;overflow: auto;}#sk-723638ac-d03b-41e4-9dd7-764a8b03a80f div.sk-estimator input.sk-toggleable__control:checked~label.sk-toggleable__label {background-color: #d4ebff;}#sk-723638ac-d03b-41e4-9dd7-764a8b03a80f div.sk-label input.sk-toggleable__control:checked~label.sk-toggleable__label {background-color: #d4ebff;}#sk-723638ac-d03b-41e4-9dd7-764a8b03a80f input.sk-hidden--visually {border: 0;clip: rect(1px 1px 1px 1px);clip: rect(1px, 1px, 1px, 1px);height: 1px;margin: -1px;overflow: hidden;padding: 0;position: absolute;width: 1px;}#sk-723638ac-d03b-41e4-9dd7-764a8b03a80f div.sk-estimator {font-family: monospace;background-color: #f0f8ff;border: 1px dotted black;border-radius: 0.25em;box-sizing: border-box;margin-bottom: 0.5em;}#sk-723638ac-d03b-41e4-9dd7-764a8b03a80f div.sk-estimator:hover {background-color: #d4ebff;}#sk-723638ac-d03b-41e4-9dd7-764a8b03a80f div.sk-parallel-item::after {content: \"\";width: 100%;border-bottom: 1px solid gray;flex-grow: 1;}#sk-723638ac-d03b-41e4-9dd7-764a8b03a80f div.sk-label:hover label.sk-toggleable__label {background-color: #d4ebff;}#sk-723638ac-d03b-41e4-9dd7-764a8b03a80f div.sk-serial::before {content: \"\";position: absolute;border-left: 1px solid gray;box-sizing: border-box;top: 2em;bottom: 0;left: 50%;}#sk-723638ac-d03b-41e4-9dd7-764a8b03a80f div.sk-serial {display: flex;flex-direction: column;align-items: center;background-color: white;padding-right: 0.2em;padding-left: 0.2em;}#sk-723638ac-d03b-41e4-9dd7-764a8b03a80f div.sk-item {z-index: 1;}#sk-723638ac-d03b-41e4-9dd7-764a8b03a80f div.sk-parallel {display: flex;align-items: stretch;justify-content: center;background-color: white;}#sk-723638ac-d03b-41e4-9dd7-764a8b03a80f div.sk-parallel::before {content: \"\";position: absolute;border-left: 1px solid gray;box-sizing: border-box;top: 2em;bottom: 0;left: 50%;}#sk-723638ac-d03b-41e4-9dd7-764a8b03a80f div.sk-parallel-item {display: flex;flex-direction: column;position: relative;background-color: white;}#sk-723638ac-d03b-41e4-9dd7-764a8b03a80f div.sk-parallel-item:first-child::after {align-self: flex-end;width: 50%;}#sk-723638ac-d03b-41e4-9dd7-764a8b03a80f div.sk-parallel-item:last-child::after {align-self: flex-start;width: 50%;}#sk-723638ac-d03b-41e4-9dd7-764a8b03a80f div.sk-parallel-item:only-child::after {width: 0;}#sk-723638ac-d03b-41e4-9dd7-764a8b03a80f div.sk-dashed-wrapped {border: 1px dashed gray;margin: 0 0.4em 0.5em 0.4em;box-sizing: border-box;padding-bottom: 0.4em;background-color: white;position: relative;}#sk-723638ac-d03b-41e4-9dd7-764a8b03a80f div.sk-label label {font-family: monospace;font-weight: bold;background-color: white;display: inline-block;line-height: 1.2em;}#sk-723638ac-d03b-41e4-9dd7-764a8b03a80f div.sk-label-container {position: relative;z-index: 2;text-align: center;}#sk-723638ac-d03b-41e4-9dd7-764a8b03a80f div.sk-container {display: inline-block;position: relative;}</style><div id=\"sk-723638ac-d03b-41e4-9dd7-764a8b03a80f\" class\"sk-top-container\"><div class=\"sk-container\"><div class=\"sk-item sk-dashed-wrapped\"><div class=\"sk-label-container\"><div class=\"sk-label sk-toggleable\"><input class=\"sk-toggleable__control sk-hidden--visually\" id=\"8ef958ad-1460-410a-905f-f5cafb60e17e\" type=\"checkbox\" ><label class=\"sk-toggleable__label\" for=\"8ef958ad-1460-410a-905f-f5cafb60e17e\">Pipeline</label><div class=\"sk-toggleable__content\"><pre>Pipeline(steps=[('multi_imputer', SimpleImputer(strategy='most_frequent')),\n",
       "                ('ohe', OneHotEncoder(handle_unknown='ignore', sparse=False))])</pre></div></div></div><div class=\"sk-serial\"><div class=\"sk-item\"><div class=\"sk-estimator sk-toggleable\"><input class=\"sk-toggleable__control sk-hidden--visually\" id=\"204dfb81-f9bf-42ad-9bea-1a37a18ddf9d\" type=\"checkbox\" ><label class=\"sk-toggleable__label\" for=\"204dfb81-f9bf-42ad-9bea-1a37a18ddf9d\">SimpleImputer</label><div class=\"sk-toggleable__content\"><pre>SimpleImputer(strategy='most_frequent')</pre></div></div></div><div class=\"sk-item\"><div class=\"sk-estimator sk-toggleable\"><input class=\"sk-toggleable__control sk-hidden--visually\" id=\"d6c27120-bff0-4312-a5b1-886b3e3c2d8a\" type=\"checkbox\" ><label class=\"sk-toggleable__label\" for=\"d6c27120-bff0-4312-a5b1-886b3e3c2d8a\">OneHotEncoder</label><div class=\"sk-toggleable__content\"><pre>OneHotEncoder(handle_unknown='ignore', sparse=False)</pre></div></div></div></div></div></div></div>"
      ],
      "text/plain": [
       "Pipeline(steps=[('multi_imputer', SimpleImputer(strategy='most_frequent')),\n",
       "                ('ohe', OneHotEncoder(handle_unknown='ignore', sparse=False))])"
      ]
     },
     "execution_count": 15,
     "metadata": {},
     "output_type": "execute_result"
    }
   ],
   "source": [
    "# Categorical Pipeline\n",
    "\n",
    "cat_multi_transformer = Pipeline([\n",
    "    (\"multi_imputer\", SimpleImputer(strategy = \"most_frequent\")),\n",
    "    (\"ohe\", OneHotEncoder(sparse = False,\n",
    "                         handle_unknown = \"ignore\"))\n",
    "])\n",
    "\n",
    "cat_multi_transformer"
   ]
  },
  {
   "cell_type": "code",
   "execution_count": 16,
   "id": "19ec0d15",
   "metadata": {},
   "outputs": [],
   "source": [
    "# cat_multi_transformer.__dir__()"
   ]
  },
  {
   "cell_type": "code",
   "execution_count": 17,
   "id": "45ed46a9",
   "metadata": {},
   "outputs": [
    {
     "data": {
      "text/html": [
       "<style>#sk-0262e70d-c6b8-4d62-b289-0113b525057c {color: black;background-color: white;}#sk-0262e70d-c6b8-4d62-b289-0113b525057c pre{padding: 0;}#sk-0262e70d-c6b8-4d62-b289-0113b525057c div.sk-toggleable {background-color: white;}#sk-0262e70d-c6b8-4d62-b289-0113b525057c label.sk-toggleable__label {cursor: pointer;display: block;width: 100%;margin-bottom: 0;padding: 0.3em;box-sizing: border-box;text-align: center;}#sk-0262e70d-c6b8-4d62-b289-0113b525057c div.sk-toggleable__content {max-height: 0;max-width: 0;overflow: hidden;text-align: left;background-color: #f0f8ff;}#sk-0262e70d-c6b8-4d62-b289-0113b525057c div.sk-toggleable__content pre {margin: 0.2em;color: black;border-radius: 0.25em;background-color: #f0f8ff;}#sk-0262e70d-c6b8-4d62-b289-0113b525057c input.sk-toggleable__control:checked~div.sk-toggleable__content {max-height: 200px;max-width: 100%;overflow: auto;}#sk-0262e70d-c6b8-4d62-b289-0113b525057c div.sk-estimator input.sk-toggleable__control:checked~label.sk-toggleable__label {background-color: #d4ebff;}#sk-0262e70d-c6b8-4d62-b289-0113b525057c div.sk-label input.sk-toggleable__control:checked~label.sk-toggleable__label {background-color: #d4ebff;}#sk-0262e70d-c6b8-4d62-b289-0113b525057c input.sk-hidden--visually {border: 0;clip: rect(1px 1px 1px 1px);clip: rect(1px, 1px, 1px, 1px);height: 1px;margin: -1px;overflow: hidden;padding: 0;position: absolute;width: 1px;}#sk-0262e70d-c6b8-4d62-b289-0113b525057c div.sk-estimator {font-family: monospace;background-color: #f0f8ff;border: 1px dotted black;border-radius: 0.25em;box-sizing: border-box;margin-bottom: 0.5em;}#sk-0262e70d-c6b8-4d62-b289-0113b525057c div.sk-estimator:hover {background-color: #d4ebff;}#sk-0262e70d-c6b8-4d62-b289-0113b525057c div.sk-parallel-item::after {content: \"\";width: 100%;border-bottom: 1px solid gray;flex-grow: 1;}#sk-0262e70d-c6b8-4d62-b289-0113b525057c div.sk-label:hover label.sk-toggleable__label {background-color: #d4ebff;}#sk-0262e70d-c6b8-4d62-b289-0113b525057c div.sk-serial::before {content: \"\";position: absolute;border-left: 1px solid gray;box-sizing: border-box;top: 2em;bottom: 0;left: 50%;}#sk-0262e70d-c6b8-4d62-b289-0113b525057c div.sk-serial {display: flex;flex-direction: column;align-items: center;background-color: white;padding-right: 0.2em;padding-left: 0.2em;}#sk-0262e70d-c6b8-4d62-b289-0113b525057c div.sk-item {z-index: 1;}#sk-0262e70d-c6b8-4d62-b289-0113b525057c div.sk-parallel {display: flex;align-items: stretch;justify-content: center;background-color: white;}#sk-0262e70d-c6b8-4d62-b289-0113b525057c div.sk-parallel::before {content: \"\";position: absolute;border-left: 1px solid gray;box-sizing: border-box;top: 2em;bottom: 0;left: 50%;}#sk-0262e70d-c6b8-4d62-b289-0113b525057c div.sk-parallel-item {display: flex;flex-direction: column;position: relative;background-color: white;}#sk-0262e70d-c6b8-4d62-b289-0113b525057c div.sk-parallel-item:first-child::after {align-self: flex-end;width: 50%;}#sk-0262e70d-c6b8-4d62-b289-0113b525057c div.sk-parallel-item:last-child::after {align-self: flex-start;width: 50%;}#sk-0262e70d-c6b8-4d62-b289-0113b525057c div.sk-parallel-item:only-child::after {width: 0;}#sk-0262e70d-c6b8-4d62-b289-0113b525057c div.sk-dashed-wrapped {border: 1px dashed gray;margin: 0 0.4em 0.5em 0.4em;box-sizing: border-box;padding-bottom: 0.4em;background-color: white;position: relative;}#sk-0262e70d-c6b8-4d62-b289-0113b525057c div.sk-label label {font-family: monospace;font-weight: bold;background-color: white;display: inline-block;line-height: 1.2em;}#sk-0262e70d-c6b8-4d62-b289-0113b525057c div.sk-label-container {position: relative;z-index: 2;text-align: center;}#sk-0262e70d-c6b8-4d62-b289-0113b525057c div.sk-container {display: inline-block;position: relative;}</style><div id=\"sk-0262e70d-c6b8-4d62-b289-0113b525057c\" class\"sk-top-container\"><div class=\"sk-container\"><div class=\"sk-item sk-dashed-wrapped\"><div class=\"sk-label-container\"><div class=\"sk-label sk-toggleable\"><input class=\"sk-toggleable__control sk-hidden--visually\" id=\"5992ec1a-446b-494f-a391-eaa0f4169fcd\" type=\"checkbox\" ><label class=\"sk-toggleable__label\" for=\"5992ec1a-446b-494f-a391-eaa0f4169fcd\">Pipeline</label><div class=\"sk-toggleable__content\"><pre>Pipeline(steps=[('binary_imputer', SimpleImputer(strategy='most_frequent')),\n",
       "                ('ohe_binary',\n",
       "                 OneHotEncoder(drop='if_binary', handle_unknown='ignore',\n",
       "                               sparse=False))])</pre></div></div></div><div class=\"sk-serial\"><div class=\"sk-item\"><div class=\"sk-estimator sk-toggleable\"><input class=\"sk-toggleable__control sk-hidden--visually\" id=\"8948c213-43fa-48dd-892e-c642b36ba15c\" type=\"checkbox\" ><label class=\"sk-toggleable__label\" for=\"8948c213-43fa-48dd-892e-c642b36ba15c\">SimpleImputer</label><div class=\"sk-toggleable__content\"><pre>SimpleImputer(strategy='most_frequent')</pre></div></div></div><div class=\"sk-item\"><div class=\"sk-estimator sk-toggleable\"><input class=\"sk-toggleable__control sk-hidden--visually\" id=\"4374370a-1c3f-4d1c-bdc7-dba68b90b49a\" type=\"checkbox\" ><label class=\"sk-toggleable__label\" for=\"4374370a-1c3f-4d1c-bdc7-dba68b90b49a\">OneHotEncoder</label><div class=\"sk-toggleable__content\"><pre>OneHotEncoder(drop='if_binary', handle_unknown='ignore', sparse=False)</pre></div></div></div></div></div></div></div>"
      ],
      "text/plain": [
       "Pipeline(steps=[('binary_imputer', SimpleImputer(strategy='most_frequent')),\n",
       "                ('ohe_binary',\n",
       "                 OneHotEncoder(drop='if_binary', handle_unknown='ignore',\n",
       "                               sparse=False))])"
      ]
     },
     "execution_count": 17,
     "metadata": {},
     "output_type": "execute_result"
    }
   ],
   "source": [
    "# Binary Categorical Pipeline\n",
    "\n",
    "cat_binary_transformer = Pipeline([\n",
    "    (\"binary_imputer\", SimpleImputer(strategy = \"most_frequent\")),\n",
    "    (\"ohe_binary\", OneHotEncoder(sparse = False,\n",
    "                                drop = \"if_binary\",\n",
    "                                handle_unknown = \"ignore\"))\n",
    "])\n",
    "\n",
    "cat_binary_transformer"
   ]
  },
  {
   "cell_type": "code",
   "execution_count": 18,
   "id": "588de429",
   "metadata": {},
   "outputs": [],
   "source": [
    "# cat_binary_transformer.__dir__()"
   ]
  },
  {
   "cell_type": "code",
   "execution_count": 19,
   "id": "f150f402",
   "metadata": {},
   "outputs": [
    {
     "data": {
      "text/plain": [
       "Title            object\n",
       "Author           object\n",
       "Edition          object\n",
       "Reviews         float64\n",
       "Ratings           int64\n",
       "Synopsis         object\n",
       "Genre            object\n",
       "BookCategory     object\n",
       "Price           float64\n",
       "Edition_Year     object\n",
       "dtype: object"
      ]
     },
     "execution_count": 19,
     "metadata": {},
     "output_type": "execute_result"
    }
   ],
   "source": [
    "train.dtypes"
   ]
  },
  {
   "cell_type": "code",
   "execution_count": 20,
   "id": "78f8521b",
   "metadata": {},
   "outputs": [
    {
     "data": {
      "text/plain": [
       "299.00     108\n",
       "399.00      85\n",
       "449.00      59\n",
       "295.00      49\n",
       "319.00      48\n",
       "          ... \n",
       "259.35       1\n",
       "1138.00      1\n",
       "129.65       1\n",
       "294.25       1\n",
       "2729.00      1\n",
       "Name: Price, Length: 1614, dtype: int64"
      ]
     },
     "execution_count": 20,
     "metadata": {},
     "output_type": "execute_result"
    }
   ],
   "source": [
    "y = train.Price\n",
    "y.value_counts()"
   ]
  },
  {
   "cell_type": "code",
   "execution_count": 21,
   "id": "133c24cb",
   "metadata": {},
   "outputs": [
    {
     "data": {
      "text/html": [
       "<div>\n",
       "<style scoped>\n",
       "    .dataframe tbody tr th:only-of-type {\n",
       "        vertical-align: middle;\n",
       "    }\n",
       "\n",
       "    .dataframe tbody tr th {\n",
       "        vertical-align: top;\n",
       "    }\n",
       "\n",
       "    .dataframe thead th {\n",
       "        text-align: right;\n",
       "    }\n",
       "</style>\n",
       "<table border=\"1\" class=\"dataframe\">\n",
       "  <thead>\n",
       "    <tr style=\"text-align: right;\">\n",
       "      <th></th>\n",
       "      <th>Title</th>\n",
       "      <th>Author</th>\n",
       "      <th>Edition</th>\n",
       "      <th>Reviews</th>\n",
       "      <th>Ratings</th>\n",
       "      <th>Synopsis</th>\n",
       "      <th>Genre</th>\n",
       "      <th>BookCategory</th>\n",
       "      <th>Edition_Year</th>\n",
       "    </tr>\n",
       "  </thead>\n",
       "  <tbody>\n",
       "    <tr>\n",
       "      <th>0</th>\n",
       "      <td>the prisoner's gold (the hunters 3)</td>\n",
       "      <td>chris kuzneski</td>\n",
       "      <td>paperback,– 10 mar 2016</td>\n",
       "      <td>4.0</td>\n",
       "      <td>8</td>\n",
       "      <td>the hunters return in their third brilliant no...</td>\n",
       "      <td>action &amp; adventure</td>\n",
       "      <td>action &amp; adventure</td>\n",
       "      <td>2016</td>\n",
       "    </tr>\n",
       "    <tr>\n",
       "      <th>1</th>\n",
       "      <td>guru dutt: a tragedy in three acts</td>\n",
       "      <td>arun khopkar</td>\n",
       "      <td>paperback,– 7 nov 2012</td>\n",
       "      <td>3.9</td>\n",
       "      <td>14</td>\n",
       "      <td>a layered portrait of a troubled genius for wh...</td>\n",
       "      <td>cinema &amp; broadcast</td>\n",
       "      <td>biographies, diaries &amp; true accounts</td>\n",
       "      <td>2012</td>\n",
       "    </tr>\n",
       "    <tr>\n",
       "      <th>2</th>\n",
       "      <td>leviathan (penguin classics)</td>\n",
       "      <td>thomas hobbes</td>\n",
       "      <td>paperback,– 25 feb 1982</td>\n",
       "      <td>4.8</td>\n",
       "      <td>6</td>\n",
       "      <td>\"during the time men live without a common pow...</td>\n",
       "      <td>international relation</td>\n",
       "      <td>humour</td>\n",
       "      <td>1982</td>\n",
       "    </tr>\n",
       "    <tr>\n",
       "      <th>3</th>\n",
       "      <td>a pocket full of rye (miss marple)</td>\n",
       "      <td>agatha christie</td>\n",
       "      <td>paperback,– 5 oct 2017</td>\n",
       "      <td>4.1</td>\n",
       "      <td>13</td>\n",
       "      <td>a handful of grain is found in the pocket of a...</td>\n",
       "      <td>contemporary fiction</td>\n",
       "      <td>crime, thriller &amp; mystery</td>\n",
       "      <td>2017</td>\n",
       "    </tr>\n",
       "    <tr>\n",
       "      <th>4</th>\n",
       "      <td>life 70 years of extraordinary photography</td>\n",
       "      <td>editors of life</td>\n",
       "      <td>hardcover,– 10 oct 2006</td>\n",
       "      <td>5.0</td>\n",
       "      <td>1</td>\n",
       "      <td>for seven decades, \"life\" has been thrilling t...</td>\n",
       "      <td>photography</td>\n",
       "      <td>arts, film &amp; photography</td>\n",
       "      <td>2006</td>\n",
       "    </tr>\n",
       "  </tbody>\n",
       "</table>\n",
       "</div>"
      ],
      "text/plain": [
       "                                        Title           Author  \\\n",
       "0         the prisoner's gold (the hunters 3)   chris kuzneski   \n",
       "1          guru dutt: a tragedy in three acts     arun khopkar   \n",
       "2                leviathan (penguin classics)    thomas hobbes   \n",
       "3          a pocket full of rye (miss marple)  agatha christie   \n",
       "4  life 70 years of extraordinary photography  editors of life   \n",
       "\n",
       "                   Edition  Reviews  Ratings  \\\n",
       "0  paperback,– 10 mar 2016      4.0        8   \n",
       "1   paperback,– 7 nov 2012      3.9       14   \n",
       "2  paperback,– 25 feb 1982      4.8        6   \n",
       "3   paperback,– 5 oct 2017      4.1       13   \n",
       "4  hardcover,– 10 oct 2006      5.0        1   \n",
       "\n",
       "                                            Synopsis                   Genre  \\\n",
       "0  the hunters return in their third brilliant no...     action & adventure    \n",
       "1  a layered portrait of a troubled genius for wh...     cinema & broadcast    \n",
       "2  \"during the time men live without a common pow...  international relation   \n",
       "3  a handful of grain is found in the pocket of a...   contemporary fiction    \n",
       "4  for seven decades, \"life\" has been thrilling t...            photography    \n",
       "\n",
       "                           BookCategory Edition_Year  \n",
       "0                    action & adventure         2016  \n",
       "1  biographies, diaries & true accounts         2012  \n",
       "2                                humour         1982  \n",
       "3             crime, thriller & mystery         2017  \n",
       "4              arts, film & photography         2006  "
      ]
     },
     "execution_count": 21,
     "metadata": {},
     "output_type": "execute_result"
    }
   ],
   "source": [
    "X = train.drop(columns = [\"Price\"])\n",
    "X.head()"
   ]
  },
  {
   "cell_type": "code",
   "execution_count": 22,
   "id": "c495e0a0",
   "metadata": {},
   "outputs": [
    {
     "data": {
      "text/plain": [
       "Reviews    float64\n",
       "Ratings      int64\n",
       "dtype: object"
      ]
     },
     "execution_count": 22,
     "metadata": {},
     "output_type": "execute_result"
    }
   ],
   "source": [
    "X_num = X.select_dtypes(exclude = [\"object\"])\n",
    "X_num.dtypes"
   ]
  },
  {
   "cell_type": "code",
   "execution_count": 23,
   "id": "f6f24002",
   "metadata": {
    "scrolled": false
   },
   "outputs": [
    {
     "data": {
      "text/plain": [
       "Title           object\n",
       "Author          object\n",
       "Edition         object\n",
       "Synopsis        object\n",
       "Genre           object\n",
       "BookCategory    object\n",
       "Edition_Year    object\n",
       "dtype: object"
      ]
     },
     "execution_count": 23,
     "metadata": {},
     "output_type": "execute_result"
    }
   ],
   "source": [
    "X_cat = X.select_dtypes(include = [\"object\"])\n",
    "X_cat.dtypes"
   ]
  },
  {
   "cell_type": "code",
   "execution_count": 24,
   "id": "31daa3f3",
   "metadata": {},
   "outputs": [
    {
     "data": {
      "text/html": [
       "<div>\n",
       "<style scoped>\n",
       "    .dataframe tbody tr th:only-of-type {\n",
       "        vertical-align: middle;\n",
       "    }\n",
       "\n",
       "    .dataframe tbody tr th {\n",
       "        vertical-align: top;\n",
       "    }\n",
       "\n",
       "    .dataframe thead th {\n",
       "        text-align: right;\n",
       "    }\n",
       "</style>\n",
       "<table border=\"1\" class=\"dataframe\">\n",
       "  <thead>\n",
       "    <tr style=\"text-align: right;\">\n",
       "      <th></th>\n",
       "      <th>features</th>\n",
       "      <th>unique_values</th>\n",
       "    </tr>\n",
       "  </thead>\n",
       "  <tbody>\n",
       "    <tr>\n",
       "      <th>0</th>\n",
       "      <td>Title</td>\n",
       "      <td>5564</td>\n",
       "    </tr>\n",
       "    <tr>\n",
       "      <th>1</th>\n",
       "      <td>Author</td>\n",
       "      <td>3670</td>\n",
       "    </tr>\n",
       "    <tr>\n",
       "      <th>2</th>\n",
       "      <td>Edition</td>\n",
       "      <td>3370</td>\n",
       "    </tr>\n",
       "    <tr>\n",
       "      <th>3</th>\n",
       "      <td>Synopsis</td>\n",
       "      <td>5548</td>\n",
       "    </tr>\n",
       "    <tr>\n",
       "      <th>4</th>\n",
       "      <td>Genre</td>\n",
       "      <td>341</td>\n",
       "    </tr>\n",
       "    <tr>\n",
       "      <th>5</th>\n",
       "      <td>BookCategory</td>\n",
       "      <td>11</td>\n",
       "    </tr>\n",
       "    <tr>\n",
       "      <th>6</th>\n",
       "      <td>Edition_Year</td>\n",
       "      <td>57</td>\n",
       "    </tr>\n",
       "  </tbody>\n",
       "</table>\n",
       "</div>"
      ],
      "text/plain": [
       "       features  unique_values\n",
       "0         Title           5564\n",
       "1        Author           3670\n",
       "2       Edition           3370\n",
       "3      Synopsis           5548\n",
       "4         Genre            341\n",
       "5  BookCategory             11\n",
       "6  Edition_Year             57"
      ]
     },
     "execution_count": 24,
     "metadata": {},
     "output_type": "execute_result"
    }
   ],
   "source": [
    "ohe_selection = pd.DataFrame(X_cat.nunique()).reset_index()\n",
    "ohe_selection.columns = [\"features\", \"unique_values\"]\n",
    "ohe_selection"
   ]
  },
  {
   "cell_type": "code",
   "execution_count": 25,
   "id": "08a11efc",
   "metadata": {},
   "outputs": [
    {
     "data": {
      "text/plain": [
       "'Title'"
      ]
     },
     "execution_count": 25,
     "metadata": {},
     "output_type": "execute_result"
    }
   ],
   "source": [
    "ohe_features = ohe_selection.query(\"unique_values > 2\").reset_index(drop=True)[\"features\"][0]\n",
    "ohe_features"
   ]
  },
  {
   "cell_type": "code",
   "execution_count": 26,
   "id": "5c5d29ec",
   "metadata": {},
   "outputs": [],
   "source": [
    "ohe_features = 'BookCategory'"
   ]
  },
  {
   "cell_type": "code",
   "execution_count": 27,
   "id": "dddd74ec",
   "metadata": {},
   "outputs": [
    {
     "data": {
      "text/html": [
       "<style>#sk-cc96250c-5ac3-4167-abc3-4d3afe43cd4d {color: black;background-color: white;}#sk-cc96250c-5ac3-4167-abc3-4d3afe43cd4d pre{padding: 0;}#sk-cc96250c-5ac3-4167-abc3-4d3afe43cd4d div.sk-toggleable {background-color: white;}#sk-cc96250c-5ac3-4167-abc3-4d3afe43cd4d label.sk-toggleable__label {cursor: pointer;display: block;width: 100%;margin-bottom: 0;padding: 0.3em;box-sizing: border-box;text-align: center;}#sk-cc96250c-5ac3-4167-abc3-4d3afe43cd4d div.sk-toggleable__content {max-height: 0;max-width: 0;overflow: hidden;text-align: left;background-color: #f0f8ff;}#sk-cc96250c-5ac3-4167-abc3-4d3afe43cd4d div.sk-toggleable__content pre {margin: 0.2em;color: black;border-radius: 0.25em;background-color: #f0f8ff;}#sk-cc96250c-5ac3-4167-abc3-4d3afe43cd4d input.sk-toggleable__control:checked~div.sk-toggleable__content {max-height: 200px;max-width: 100%;overflow: auto;}#sk-cc96250c-5ac3-4167-abc3-4d3afe43cd4d div.sk-estimator input.sk-toggleable__control:checked~label.sk-toggleable__label {background-color: #d4ebff;}#sk-cc96250c-5ac3-4167-abc3-4d3afe43cd4d div.sk-label input.sk-toggleable__control:checked~label.sk-toggleable__label {background-color: #d4ebff;}#sk-cc96250c-5ac3-4167-abc3-4d3afe43cd4d input.sk-hidden--visually {border: 0;clip: rect(1px 1px 1px 1px);clip: rect(1px, 1px, 1px, 1px);height: 1px;margin: -1px;overflow: hidden;padding: 0;position: absolute;width: 1px;}#sk-cc96250c-5ac3-4167-abc3-4d3afe43cd4d div.sk-estimator {font-family: monospace;background-color: #f0f8ff;border: 1px dotted black;border-radius: 0.25em;box-sizing: border-box;margin-bottom: 0.5em;}#sk-cc96250c-5ac3-4167-abc3-4d3afe43cd4d div.sk-estimator:hover {background-color: #d4ebff;}#sk-cc96250c-5ac3-4167-abc3-4d3afe43cd4d div.sk-parallel-item::after {content: \"\";width: 100%;border-bottom: 1px solid gray;flex-grow: 1;}#sk-cc96250c-5ac3-4167-abc3-4d3afe43cd4d div.sk-label:hover label.sk-toggleable__label {background-color: #d4ebff;}#sk-cc96250c-5ac3-4167-abc3-4d3afe43cd4d div.sk-serial::before {content: \"\";position: absolute;border-left: 1px solid gray;box-sizing: border-box;top: 2em;bottom: 0;left: 50%;}#sk-cc96250c-5ac3-4167-abc3-4d3afe43cd4d div.sk-serial {display: flex;flex-direction: column;align-items: center;background-color: white;padding-right: 0.2em;padding-left: 0.2em;}#sk-cc96250c-5ac3-4167-abc3-4d3afe43cd4d div.sk-item {z-index: 1;}#sk-cc96250c-5ac3-4167-abc3-4d3afe43cd4d div.sk-parallel {display: flex;align-items: stretch;justify-content: center;background-color: white;}#sk-cc96250c-5ac3-4167-abc3-4d3afe43cd4d div.sk-parallel::before {content: \"\";position: absolute;border-left: 1px solid gray;box-sizing: border-box;top: 2em;bottom: 0;left: 50%;}#sk-cc96250c-5ac3-4167-abc3-4d3afe43cd4d div.sk-parallel-item {display: flex;flex-direction: column;position: relative;background-color: white;}#sk-cc96250c-5ac3-4167-abc3-4d3afe43cd4d div.sk-parallel-item:first-child::after {align-self: flex-end;width: 50%;}#sk-cc96250c-5ac3-4167-abc3-4d3afe43cd4d div.sk-parallel-item:last-child::after {align-self: flex-start;width: 50%;}#sk-cc96250c-5ac3-4167-abc3-4d3afe43cd4d div.sk-parallel-item:only-child::after {width: 0;}#sk-cc96250c-5ac3-4167-abc3-4d3afe43cd4d div.sk-dashed-wrapped {border: 1px dashed gray;margin: 0 0.4em 0.5em 0.4em;box-sizing: border-box;padding-bottom: 0.4em;background-color: white;position: relative;}#sk-cc96250c-5ac3-4167-abc3-4d3afe43cd4d div.sk-label label {font-family: monospace;font-weight: bold;background-color: white;display: inline-block;line-height: 1.2em;}#sk-cc96250c-5ac3-4167-abc3-4d3afe43cd4d div.sk-label-container {position: relative;z-index: 2;text-align: center;}#sk-cc96250c-5ac3-4167-abc3-4d3afe43cd4d div.sk-container {display: inline-block;position: relative;}</style><div id=\"sk-cc96250c-5ac3-4167-abc3-4d3afe43cd4d\" class\"sk-top-container\"><div class=\"sk-container\"><div class=\"sk-item\"><div class=\"sk-estimator sk-toggleable\"><input class=\"sk-toggleable__control sk-hidden--visually\" id=\"3693a705-f96c-4c97-bc8b-0ed1887e4d66\" type=\"checkbox\" checked><label class=\"sk-toggleable__label\" for=\"3693a705-f96c-4c97-bc8b-0ed1887e4d66\">OneHotEncoder</label><div class=\"sk-toggleable__content\"><pre>OneHotEncoder(sparse=False)</pre></div></div></div></div></div>"
      ],
      "text/plain": [
       "OneHotEncoder(sparse=False)"
      ]
     },
     "execution_count": 27,
     "metadata": {},
     "output_type": "execute_result"
    }
   ],
   "source": [
    "ohe = OneHotEncoder(sparse = False)\n",
    "ohe.fit(X_cat[[ohe_features]])"
   ]
  },
  {
   "cell_type": "code",
   "execution_count": 28,
   "id": "56336e1b",
   "metadata": {},
   "outputs": [
    {
     "data": {
      "text/html": [
       "<style>#sk-0afeebc1-35f6-43a3-837c-69dbb71c678f {color: black;background-color: white;}#sk-0afeebc1-35f6-43a3-837c-69dbb71c678f pre{padding: 0;}#sk-0afeebc1-35f6-43a3-837c-69dbb71c678f div.sk-toggleable {background-color: white;}#sk-0afeebc1-35f6-43a3-837c-69dbb71c678f label.sk-toggleable__label {cursor: pointer;display: block;width: 100%;margin-bottom: 0;padding: 0.3em;box-sizing: border-box;text-align: center;}#sk-0afeebc1-35f6-43a3-837c-69dbb71c678f div.sk-toggleable__content {max-height: 0;max-width: 0;overflow: hidden;text-align: left;background-color: #f0f8ff;}#sk-0afeebc1-35f6-43a3-837c-69dbb71c678f div.sk-toggleable__content pre {margin: 0.2em;color: black;border-radius: 0.25em;background-color: #f0f8ff;}#sk-0afeebc1-35f6-43a3-837c-69dbb71c678f input.sk-toggleable__control:checked~div.sk-toggleable__content {max-height: 200px;max-width: 100%;overflow: auto;}#sk-0afeebc1-35f6-43a3-837c-69dbb71c678f div.sk-estimator input.sk-toggleable__control:checked~label.sk-toggleable__label {background-color: #d4ebff;}#sk-0afeebc1-35f6-43a3-837c-69dbb71c678f div.sk-label input.sk-toggleable__control:checked~label.sk-toggleable__label {background-color: #d4ebff;}#sk-0afeebc1-35f6-43a3-837c-69dbb71c678f input.sk-hidden--visually {border: 0;clip: rect(1px 1px 1px 1px);clip: rect(1px, 1px, 1px, 1px);height: 1px;margin: -1px;overflow: hidden;padding: 0;position: absolute;width: 1px;}#sk-0afeebc1-35f6-43a3-837c-69dbb71c678f div.sk-estimator {font-family: monospace;background-color: #f0f8ff;border: 1px dotted black;border-radius: 0.25em;box-sizing: border-box;margin-bottom: 0.5em;}#sk-0afeebc1-35f6-43a3-837c-69dbb71c678f div.sk-estimator:hover {background-color: #d4ebff;}#sk-0afeebc1-35f6-43a3-837c-69dbb71c678f div.sk-parallel-item::after {content: \"\";width: 100%;border-bottom: 1px solid gray;flex-grow: 1;}#sk-0afeebc1-35f6-43a3-837c-69dbb71c678f div.sk-label:hover label.sk-toggleable__label {background-color: #d4ebff;}#sk-0afeebc1-35f6-43a3-837c-69dbb71c678f div.sk-serial::before {content: \"\";position: absolute;border-left: 1px solid gray;box-sizing: border-box;top: 2em;bottom: 0;left: 50%;}#sk-0afeebc1-35f6-43a3-837c-69dbb71c678f div.sk-serial {display: flex;flex-direction: column;align-items: center;background-color: white;padding-right: 0.2em;padding-left: 0.2em;}#sk-0afeebc1-35f6-43a3-837c-69dbb71c678f div.sk-item {z-index: 1;}#sk-0afeebc1-35f6-43a3-837c-69dbb71c678f div.sk-parallel {display: flex;align-items: stretch;justify-content: center;background-color: white;}#sk-0afeebc1-35f6-43a3-837c-69dbb71c678f div.sk-parallel::before {content: \"\";position: absolute;border-left: 1px solid gray;box-sizing: border-box;top: 2em;bottom: 0;left: 50%;}#sk-0afeebc1-35f6-43a3-837c-69dbb71c678f div.sk-parallel-item {display: flex;flex-direction: column;position: relative;background-color: white;}#sk-0afeebc1-35f6-43a3-837c-69dbb71c678f div.sk-parallel-item:first-child::after {align-self: flex-end;width: 50%;}#sk-0afeebc1-35f6-43a3-837c-69dbb71c678f div.sk-parallel-item:last-child::after {align-self: flex-start;width: 50%;}#sk-0afeebc1-35f6-43a3-837c-69dbb71c678f div.sk-parallel-item:only-child::after {width: 0;}#sk-0afeebc1-35f6-43a3-837c-69dbb71c678f div.sk-dashed-wrapped {border: 1px dashed gray;margin: 0 0.4em 0.5em 0.4em;box-sizing: border-box;padding-bottom: 0.4em;background-color: white;position: relative;}#sk-0afeebc1-35f6-43a3-837c-69dbb71c678f div.sk-label label {font-family: monospace;font-weight: bold;background-color: white;display: inline-block;line-height: 1.2em;}#sk-0afeebc1-35f6-43a3-837c-69dbb71c678f div.sk-label-container {position: relative;z-index: 2;text-align: center;}#sk-0afeebc1-35f6-43a3-837c-69dbb71c678f div.sk-container {display: inline-block;position: relative;}</style><div id=\"sk-0afeebc1-35f6-43a3-837c-69dbb71c678f\" class\"sk-top-container\"><div class=\"sk-container\"><div class=\"sk-item sk-dashed-wrapped\"><div class=\"sk-label-container\"><div class=\"sk-label sk-toggleable\"><input class=\"sk-toggleable__control sk-hidden--visually\" id=\"3049fbdb-020a-4800-9ca1-0724eca3d565\" type=\"checkbox\" ><label class=\"sk-toggleable__label\" for=\"3049fbdb-020a-4800-9ca1-0724eca3d565\">ColumnTransformer</label><div class=\"sk-toggleable__content\"><pre>ColumnTransformer(transformers=[('num_transformer',\n",
       "                                 Pipeline(steps=[('num_imputer',\n",
       "                                                  SimpleImputer(strategy='median')),\n",
       "                                                 ('rb_scaler',\n",
       "                                                  RobustScaler())]),\n",
       "                                 <sklearn.compose._column_transformer.make_column_selector object at 0x12ae42f70>),\n",
       "                                ('cat_multi_transformer',\n",
       "                                 Pipeline(steps=[('multi_imputer',\n",
       "                                                  SimpleImputer(strategy='most_frequent')),\n",
       "                                                 ('ohe',\n",
       "                                                  OneHotEncoder(handle_unknown='ignore',\n",
       "                                                                sparse=False))]),\n",
       "                                 ['BookCategory'])])</pre></div></div></div><div class=\"sk-parallel\"><div class=\"sk-parallel-item\"><div class=\"sk-item\"><div class=\"sk-label-container\"><div class=\"sk-label sk-toggleable\"><input class=\"sk-toggleable__control sk-hidden--visually\" id=\"72bfda2b-1c15-49e7-94ae-ffd11e78cd41\" type=\"checkbox\" ><label class=\"sk-toggleable__label\" for=\"72bfda2b-1c15-49e7-94ae-ffd11e78cd41\">num_transformer</label><div class=\"sk-toggleable__content\"><pre><sklearn.compose._column_transformer.make_column_selector object at 0x12ae42f70></pre></div></div></div><div class=\"sk-serial\"><div class=\"sk-item\"><div class=\"sk-serial\"><div class=\"sk-item\"><div class=\"sk-estimator sk-toggleable\"><input class=\"sk-toggleable__control sk-hidden--visually\" id=\"7d9d5c29-a126-4fa0-be68-ebd8ac585753\" type=\"checkbox\" ><label class=\"sk-toggleable__label\" for=\"7d9d5c29-a126-4fa0-be68-ebd8ac585753\">SimpleImputer</label><div class=\"sk-toggleable__content\"><pre>SimpleImputer(strategy='median')</pre></div></div></div><div class=\"sk-item\"><div class=\"sk-estimator sk-toggleable\"><input class=\"sk-toggleable__control sk-hidden--visually\" id=\"d35d49e8-3ca8-44d6-b135-15886ef3d3af\" type=\"checkbox\" ><label class=\"sk-toggleable__label\" for=\"d35d49e8-3ca8-44d6-b135-15886ef3d3af\">RobustScaler</label><div class=\"sk-toggleable__content\"><pre>RobustScaler()</pre></div></div></div></div></div></div></div></div><div class=\"sk-parallel-item\"><div class=\"sk-item\"><div class=\"sk-label-container\"><div class=\"sk-label sk-toggleable\"><input class=\"sk-toggleable__control sk-hidden--visually\" id=\"dcba23fa-52ff-47d7-bdaa-b25ec4465e83\" type=\"checkbox\" ><label class=\"sk-toggleable__label\" for=\"dcba23fa-52ff-47d7-bdaa-b25ec4465e83\">cat_multi_transformer</label><div class=\"sk-toggleable__content\"><pre>['BookCategory']</pre></div></div></div><div class=\"sk-serial\"><div class=\"sk-item\"><div class=\"sk-serial\"><div class=\"sk-item\"><div class=\"sk-estimator sk-toggleable\"><input class=\"sk-toggleable__control sk-hidden--visually\" id=\"d97311d0-3a8d-4753-adf4-aa2954fb080e\" type=\"checkbox\" ><label class=\"sk-toggleable__label\" for=\"d97311d0-3a8d-4753-adf4-aa2954fb080e\">SimpleImputer</label><div class=\"sk-toggleable__content\"><pre>SimpleImputer(strategy='most_frequent')</pre></div></div></div><div class=\"sk-item\"><div class=\"sk-estimator sk-toggleable\"><input class=\"sk-toggleable__control sk-hidden--visually\" id=\"45ce4fbb-0067-4b0c-a7e4-724b5401f4c0\" type=\"checkbox\" ><label class=\"sk-toggleable__label\" for=\"45ce4fbb-0067-4b0c-a7e4-724b5401f4c0\">OneHotEncoder</label><div class=\"sk-toggleable__content\"><pre>OneHotEncoder(handle_unknown='ignore', sparse=False)</pre></div></div></div></div></div></div></div></div></div></div></div></div>"
      ],
      "text/plain": [
       "ColumnTransformer(transformers=[('num_transformer',\n",
       "                                 Pipeline(steps=[('num_imputer',\n",
       "                                                  SimpleImputer(strategy='median')),\n",
       "                                                 ('rb_scaler',\n",
       "                                                  RobustScaler())]),\n",
       "                                 <sklearn.compose._column_transformer.make_column_selector object at 0x12ae42f70>),\n",
       "                                ('cat_multi_transformer',\n",
       "                                 Pipeline(steps=[('multi_imputer',\n",
       "                                                  SimpleImputer(strategy='most_frequent')),\n",
       "                                                 ('ohe',\n",
       "                                                  OneHotEncoder(handle_unknown='ignore',\n",
       "                                                                sparse=False))]),\n",
       "                                 ['BookCategory'])])"
      ]
     },
     "execution_count": 28,
     "metadata": {},
     "output_type": "execute_result"
    }
   ],
   "source": [
    "preprocessor = ColumnTransformer([\n",
    "    ('num_transformer', num_transformer, make_column_selector(dtype_include = [\"float64\", \"int64\"])),\n",
    "    ('cat_multi_transformer', cat_multi_transformer, [ohe_features])\n",
    "])\n",
    "\n",
    "preprocessor"
   ]
  },
  {
   "cell_type": "code",
   "execution_count": 29,
   "id": "6db2a08d",
   "metadata": {},
   "outputs": [
    {
     "data": {
      "text/html": [
       "<div>\n",
       "<style scoped>\n",
       "    .dataframe tbody tr th:only-of-type {\n",
       "        vertical-align: middle;\n",
       "    }\n",
       "\n",
       "    .dataframe tbody tr th {\n",
       "        vertical-align: top;\n",
       "    }\n",
       "\n",
       "    .dataframe thead th {\n",
       "        text-align: right;\n",
       "    }\n",
       "</style>\n",
       "<table border=\"1\" class=\"dataframe\">\n",
       "  <thead>\n",
       "    <tr style=\"text-align: right;\">\n",
       "      <th></th>\n",
       "      <th>Reviews</th>\n",
       "      <th>Ratings</th>\n",
       "    </tr>\n",
       "  </thead>\n",
       "  <tbody>\n",
       "    <tr>\n",
       "      <th>0</th>\n",
       "      <td>-0.500</td>\n",
       "      <td>0.05</td>\n",
       "    </tr>\n",
       "    <tr>\n",
       "      <th>1</th>\n",
       "      <td>-0.625</td>\n",
       "      <td>0.35</td>\n",
       "    </tr>\n",
       "    <tr>\n",
       "      <th>2</th>\n",
       "      <td>0.500</td>\n",
       "      <td>-0.05</td>\n",
       "    </tr>\n",
       "    <tr>\n",
       "      <th>3</th>\n",
       "      <td>-0.375</td>\n",
       "      <td>0.30</td>\n",
       "    </tr>\n",
       "    <tr>\n",
       "      <th>4</th>\n",
       "      <td>0.750</td>\n",
       "      <td>-0.30</td>\n",
       "    </tr>\n",
       "  </tbody>\n",
       "</table>\n",
       "</div>"
      ],
      "text/plain": [
       "   Reviews  Ratings\n",
       "0   -0.500     0.05\n",
       "1   -0.625     0.35\n",
       "2    0.500    -0.05\n",
       "3   -0.375     0.30\n",
       "4    0.750    -0.30"
      ]
     },
     "execution_count": 29,
     "metadata": {},
     "output_type": "execute_result"
    }
   ],
   "source": [
    "#scaling numerical features\n",
    "\n",
    "rb_scaler = RobustScaler()\n",
    "X_num_scaled = pd.DataFrame(rb_scaler.fit_transform(X_num.copy()), # copy only values, not references\n",
    "                            columns = X_num.columns) \n",
    "X_num_scaled.head()"
   ]
  },
  {
   "cell_type": "code",
   "execution_count": 30,
   "id": "dd8d3a10",
   "metadata": {},
   "outputs": [
    {
     "data": {
      "text/plain": [
       "(6237, 2)"
      ]
     },
     "execution_count": 30,
     "metadata": {},
     "output_type": "execute_result"
    }
   ],
   "source": [
    "# scaled numerical features\n",
    "X_num_scaled.shape"
   ]
  },
  {
   "cell_type": "markdown",
   "id": "3690c2e9",
   "metadata": {},
   "source": [
    "⚠️ When we use Pipeline, we lose the `get_feature_names()`... \n",
    "\n",
    "👉 Let's not use the SimpleImputer for the moment in our transformer:"
   ]
  },
  {
   "cell_type": "code",
   "execution_count": 31,
   "id": "4e5df3a3",
   "metadata": {},
   "outputs": [
    {
     "data": {
      "text/html": [
       "<style>#sk-cb9d2369-52bb-4f39-8e18-de7327e3c842 {color: black;background-color: white;}#sk-cb9d2369-52bb-4f39-8e18-de7327e3c842 pre{padding: 0;}#sk-cb9d2369-52bb-4f39-8e18-de7327e3c842 div.sk-toggleable {background-color: white;}#sk-cb9d2369-52bb-4f39-8e18-de7327e3c842 label.sk-toggleable__label {cursor: pointer;display: block;width: 100%;margin-bottom: 0;padding: 0.3em;box-sizing: border-box;text-align: center;}#sk-cb9d2369-52bb-4f39-8e18-de7327e3c842 div.sk-toggleable__content {max-height: 0;max-width: 0;overflow: hidden;text-align: left;background-color: #f0f8ff;}#sk-cb9d2369-52bb-4f39-8e18-de7327e3c842 div.sk-toggleable__content pre {margin: 0.2em;color: black;border-radius: 0.25em;background-color: #f0f8ff;}#sk-cb9d2369-52bb-4f39-8e18-de7327e3c842 input.sk-toggleable__control:checked~div.sk-toggleable__content {max-height: 200px;max-width: 100%;overflow: auto;}#sk-cb9d2369-52bb-4f39-8e18-de7327e3c842 div.sk-estimator input.sk-toggleable__control:checked~label.sk-toggleable__label {background-color: #d4ebff;}#sk-cb9d2369-52bb-4f39-8e18-de7327e3c842 div.sk-label input.sk-toggleable__control:checked~label.sk-toggleable__label {background-color: #d4ebff;}#sk-cb9d2369-52bb-4f39-8e18-de7327e3c842 input.sk-hidden--visually {border: 0;clip: rect(1px 1px 1px 1px);clip: rect(1px, 1px, 1px, 1px);height: 1px;margin: -1px;overflow: hidden;padding: 0;position: absolute;width: 1px;}#sk-cb9d2369-52bb-4f39-8e18-de7327e3c842 div.sk-estimator {font-family: monospace;background-color: #f0f8ff;border: 1px dotted black;border-radius: 0.25em;box-sizing: border-box;margin-bottom: 0.5em;}#sk-cb9d2369-52bb-4f39-8e18-de7327e3c842 div.sk-estimator:hover {background-color: #d4ebff;}#sk-cb9d2369-52bb-4f39-8e18-de7327e3c842 div.sk-parallel-item::after {content: \"\";width: 100%;border-bottom: 1px solid gray;flex-grow: 1;}#sk-cb9d2369-52bb-4f39-8e18-de7327e3c842 div.sk-label:hover label.sk-toggleable__label {background-color: #d4ebff;}#sk-cb9d2369-52bb-4f39-8e18-de7327e3c842 div.sk-serial::before {content: \"\";position: absolute;border-left: 1px solid gray;box-sizing: border-box;top: 2em;bottom: 0;left: 50%;}#sk-cb9d2369-52bb-4f39-8e18-de7327e3c842 div.sk-serial {display: flex;flex-direction: column;align-items: center;background-color: white;padding-right: 0.2em;padding-left: 0.2em;}#sk-cb9d2369-52bb-4f39-8e18-de7327e3c842 div.sk-item {z-index: 1;}#sk-cb9d2369-52bb-4f39-8e18-de7327e3c842 div.sk-parallel {display: flex;align-items: stretch;justify-content: center;background-color: white;}#sk-cb9d2369-52bb-4f39-8e18-de7327e3c842 div.sk-parallel::before {content: \"\";position: absolute;border-left: 1px solid gray;box-sizing: border-box;top: 2em;bottom: 0;left: 50%;}#sk-cb9d2369-52bb-4f39-8e18-de7327e3c842 div.sk-parallel-item {display: flex;flex-direction: column;position: relative;background-color: white;}#sk-cb9d2369-52bb-4f39-8e18-de7327e3c842 div.sk-parallel-item:first-child::after {align-self: flex-end;width: 50%;}#sk-cb9d2369-52bb-4f39-8e18-de7327e3c842 div.sk-parallel-item:last-child::after {align-self: flex-start;width: 50%;}#sk-cb9d2369-52bb-4f39-8e18-de7327e3c842 div.sk-parallel-item:only-child::after {width: 0;}#sk-cb9d2369-52bb-4f39-8e18-de7327e3c842 div.sk-dashed-wrapped {border: 1px dashed gray;margin: 0 0.4em 0.5em 0.4em;box-sizing: border-box;padding-bottom: 0.4em;background-color: white;position: relative;}#sk-cb9d2369-52bb-4f39-8e18-de7327e3c842 div.sk-label label {font-family: monospace;font-weight: bold;background-color: white;display: inline-block;line-height: 1.2em;}#sk-cb9d2369-52bb-4f39-8e18-de7327e3c842 div.sk-label-container {position: relative;z-index: 2;text-align: center;}#sk-cb9d2369-52bb-4f39-8e18-de7327e3c842 div.sk-container {display: inline-block;position: relative;}</style><div id=\"sk-cb9d2369-52bb-4f39-8e18-de7327e3c842\" class\"sk-top-container\"><div class=\"sk-container\"><div class=\"sk-item sk-dashed-wrapped\"><div class=\"sk-label-container\"><div class=\"sk-label sk-toggleable\"><input class=\"sk-toggleable__control sk-hidden--visually\" id=\"782ca0c2-7ca5-4407-acf7-e63ebcfcc8ce\" type=\"checkbox\" ><label class=\"sk-toggleable__label\" for=\"782ca0c2-7ca5-4407-acf7-e63ebcfcc8ce\">ColumnTransformer</label><div class=\"sk-toggleable__content\"><pre>ColumnTransformer(transformers=[('num_transformer',\n",
       "                                 Pipeline(steps=[('num_imputer',\n",
       "                                                  SimpleImputer(strategy='median')),\n",
       "                                                 ('rb_scaler',\n",
       "                                                  RobustScaler())]),\n",
       "                                 <sklearn.compose._column_transformer.make_column_selector object at 0x12ae9fbe0>),\n",
       "                                ('cat_multi_transformer',\n",
       "                                 OneHotEncoder(handle_unknown='ignore',\n",
       "                                               sparse=False),\n",
       "                                 ['BookCategory'])])</pre></div></div></div><div class=\"sk-parallel\"><div class=\"sk-parallel-item\"><div class=\"sk-item\"><div class=\"sk-label-container\"><div class=\"sk-label sk-toggleable\"><input class=\"sk-toggleable__control sk-hidden--visually\" id=\"957a1ede-fa5a-4cf7-8147-867b81917c4e\" type=\"checkbox\" ><label class=\"sk-toggleable__label\" for=\"957a1ede-fa5a-4cf7-8147-867b81917c4e\">num_transformer</label><div class=\"sk-toggleable__content\"><pre><sklearn.compose._column_transformer.make_column_selector object at 0x12ae9fbe0></pre></div></div></div><div class=\"sk-serial\"><div class=\"sk-item\"><div class=\"sk-serial\"><div class=\"sk-item\"><div class=\"sk-estimator sk-toggleable\"><input class=\"sk-toggleable__control sk-hidden--visually\" id=\"b005c62d-a08f-45c2-9b68-b1e5c0718cb4\" type=\"checkbox\" ><label class=\"sk-toggleable__label\" for=\"b005c62d-a08f-45c2-9b68-b1e5c0718cb4\">SimpleImputer</label><div class=\"sk-toggleable__content\"><pre>SimpleImputer(strategy='median')</pre></div></div></div><div class=\"sk-item\"><div class=\"sk-estimator sk-toggleable\"><input class=\"sk-toggleable__control sk-hidden--visually\" id=\"595d1362-57b6-496a-8564-e303088bc75d\" type=\"checkbox\" ><label class=\"sk-toggleable__label\" for=\"595d1362-57b6-496a-8564-e303088bc75d\">RobustScaler</label><div class=\"sk-toggleable__content\"><pre>RobustScaler()</pre></div></div></div></div></div></div></div></div><div class=\"sk-parallel-item\"><div class=\"sk-item\"><div class=\"sk-label-container\"><div class=\"sk-label sk-toggleable\"><input class=\"sk-toggleable__control sk-hidden--visually\" id=\"0d9ef1cb-6ae6-490d-ad13-5975f919e25a\" type=\"checkbox\" ><label class=\"sk-toggleable__label\" for=\"0d9ef1cb-6ae6-490d-ad13-5975f919e25a\">cat_multi_transformer</label><div class=\"sk-toggleable__content\"><pre>['BookCategory']</pre></div></div></div><div class=\"sk-serial\"><div class=\"sk-item\"><div class=\"sk-estimator sk-toggleable\"><input class=\"sk-toggleable__control sk-hidden--visually\" id=\"daf1288f-100a-4cfa-8fd3-46ee25026105\" type=\"checkbox\" ><label class=\"sk-toggleable__label\" for=\"daf1288f-100a-4cfa-8fd3-46ee25026105\">OneHotEncoder</label><div class=\"sk-toggleable__content\"><pre>OneHotEncoder(handle_unknown='ignore', sparse=False)</pre></div></div></div></div></div></div></div></div></div></div>"
      ],
      "text/plain": [
       "ColumnTransformer(transformers=[('num_transformer',\n",
       "                                 Pipeline(steps=[('num_imputer',\n",
       "                                                  SimpleImputer(strategy='median')),\n",
       "                                                 ('rb_scaler',\n",
       "                                                  RobustScaler())]),\n",
       "                                 <sklearn.compose._column_transformer.make_column_selector object at 0x12ae9fbe0>),\n",
       "                                ('cat_multi_transformer',\n",
       "                                 OneHotEncoder(handle_unknown='ignore',\n",
       "                                               sparse=False),\n",
       "                                 ['BookCategory'])])"
      ]
     },
     "execution_count": 31,
     "metadata": {},
     "output_type": "execute_result"
    }
   ],
   "source": [
    "preprocessor = ColumnTransformer([\n",
    "    ('num_transformer', num_transformer, make_column_selector(dtype_include = [\"float64\", \"int64\"])),\n",
    "    ('cat_multi_transformer', OneHotEncoder(sparse = False,\n",
    "                         handle_unknown = \"ignore\"), [ohe_features])\n",
    "])\n",
    "\n",
    "preprocessor"
   ]
  },
  {
   "cell_type": "markdown",
   "id": "70df33fa",
   "metadata": {},
   "source": [
    "*Let's transform the dataset using these Pipelines and ColumnTransformer !*"
   ]
  },
  {
   "cell_type": "code",
   "execution_count": 32,
   "id": "8d7582ef",
   "metadata": {},
   "outputs": [
    {
     "data": {
      "text/html": [
       "<div>\n",
       "<style scoped>\n",
       "    .dataframe tbody tr th:only-of-type {\n",
       "        vertical-align: middle;\n",
       "    }\n",
       "\n",
       "    .dataframe tbody tr th {\n",
       "        vertical-align: top;\n",
       "    }\n",
       "\n",
       "    .dataframe thead th {\n",
       "        text-align: right;\n",
       "    }\n",
       "</style>\n",
       "<table border=\"1\" class=\"dataframe\">\n",
       "  <thead>\n",
       "    <tr style=\"text-align: right;\">\n",
       "      <th></th>\n",
       "      <th>0</th>\n",
       "      <th>1</th>\n",
       "      <th>2</th>\n",
       "      <th>3</th>\n",
       "      <th>4</th>\n",
       "      <th>5</th>\n",
       "      <th>6</th>\n",
       "      <th>7</th>\n",
       "      <th>8</th>\n",
       "      <th>9</th>\n",
       "      <th>10</th>\n",
       "      <th>11</th>\n",
       "      <th>12</th>\n",
       "    </tr>\n",
       "  </thead>\n",
       "  <tbody>\n",
       "    <tr>\n",
       "      <th>0</th>\n",
       "      <td>-0.500</td>\n",
       "      <td>0.05</td>\n",
       "      <td>1.0</td>\n",
       "      <td>0.0</td>\n",
       "      <td>0.0</td>\n",
       "      <td>0.0</td>\n",
       "      <td>0.0</td>\n",
       "      <td>0.0</td>\n",
       "      <td>0.0</td>\n",
       "      <td>0.0</td>\n",
       "      <td>0.0</td>\n",
       "      <td>0.0</td>\n",
       "      <td>0.0</td>\n",
       "    </tr>\n",
       "    <tr>\n",
       "      <th>1</th>\n",
       "      <td>-0.625</td>\n",
       "      <td>0.35</td>\n",
       "      <td>0.0</td>\n",
       "      <td>0.0</td>\n",
       "      <td>1.0</td>\n",
       "      <td>0.0</td>\n",
       "      <td>0.0</td>\n",
       "      <td>0.0</td>\n",
       "      <td>0.0</td>\n",
       "      <td>0.0</td>\n",
       "      <td>0.0</td>\n",
       "      <td>0.0</td>\n",
       "      <td>0.0</td>\n",
       "    </tr>\n",
       "    <tr>\n",
       "      <th>2</th>\n",
       "      <td>0.500</td>\n",
       "      <td>-0.05</td>\n",
       "      <td>0.0</td>\n",
       "      <td>0.0</td>\n",
       "      <td>0.0</td>\n",
       "      <td>0.0</td>\n",
       "      <td>0.0</td>\n",
       "      <td>0.0</td>\n",
       "      <td>1.0</td>\n",
       "      <td>0.0</td>\n",
       "      <td>0.0</td>\n",
       "      <td>0.0</td>\n",
       "      <td>0.0</td>\n",
       "    </tr>\n",
       "    <tr>\n",
       "      <th>3</th>\n",
       "      <td>-0.375</td>\n",
       "      <td>0.30</td>\n",
       "      <td>0.0</td>\n",
       "      <td>0.0</td>\n",
       "      <td>0.0</td>\n",
       "      <td>0.0</td>\n",
       "      <td>0.0</td>\n",
       "      <td>1.0</td>\n",
       "      <td>0.0</td>\n",
       "      <td>0.0</td>\n",
       "      <td>0.0</td>\n",
       "      <td>0.0</td>\n",
       "      <td>0.0</td>\n",
       "    </tr>\n",
       "    <tr>\n",
       "      <th>4</th>\n",
       "      <td>0.750</td>\n",
       "      <td>-0.30</td>\n",
       "      <td>0.0</td>\n",
       "      <td>1.0</td>\n",
       "      <td>0.0</td>\n",
       "      <td>0.0</td>\n",
       "      <td>0.0</td>\n",
       "      <td>0.0</td>\n",
       "      <td>0.0</td>\n",
       "      <td>0.0</td>\n",
       "      <td>0.0</td>\n",
       "      <td>0.0</td>\n",
       "      <td>0.0</td>\n",
       "    </tr>\n",
       "    <tr>\n",
       "      <th>...</th>\n",
       "      <td>...</td>\n",
       "      <td>...</td>\n",
       "      <td>...</td>\n",
       "      <td>...</td>\n",
       "      <td>...</td>\n",
       "      <td>...</td>\n",
       "      <td>...</td>\n",
       "      <td>...</td>\n",
       "      <td>...</td>\n",
       "      <td>...</td>\n",
       "      <td>...</td>\n",
       "      <td>...</td>\n",
       "      <td>...</td>\n",
       "    </tr>\n",
       "    <tr>\n",
       "      <th>6232</th>\n",
       "      <td>0.750</td>\n",
       "      <td>-0.25</td>\n",
       "      <td>0.0</td>\n",
       "      <td>0.0</td>\n",
       "      <td>0.0</td>\n",
       "      <td>0.0</td>\n",
       "      <td>0.0</td>\n",
       "      <td>0.0</td>\n",
       "      <td>1.0</td>\n",
       "      <td>0.0</td>\n",
       "      <td>0.0</td>\n",
       "      <td>0.0</td>\n",
       "      <td>0.0</td>\n",
       "    </tr>\n",
       "    <tr>\n",
       "      <th>6233</th>\n",
       "      <td>-1.375</td>\n",
       "      <td>0.10</td>\n",
       "      <td>0.0</td>\n",
       "      <td>0.0</td>\n",
       "      <td>0.0</td>\n",
       "      <td>0.0</td>\n",
       "      <td>0.0</td>\n",
       "      <td>1.0</td>\n",
       "      <td>0.0</td>\n",
       "      <td>0.0</td>\n",
       "      <td>0.0</td>\n",
       "      <td>0.0</td>\n",
       "      <td>0.0</td>\n",
       "    </tr>\n",
       "    <tr>\n",
       "      <th>6234</th>\n",
       "      <td>-0.750</td>\n",
       "      <td>-0.20</td>\n",
       "      <td>0.0</td>\n",
       "      <td>0.0</td>\n",
       "      <td>0.0</td>\n",
       "      <td>0.0</td>\n",
       "      <td>0.0</td>\n",
       "      <td>0.0</td>\n",
       "      <td>0.0</td>\n",
       "      <td>0.0</td>\n",
       "      <td>0.0</td>\n",
       "      <td>1.0</td>\n",
       "      <td>0.0</td>\n",
       "    </tr>\n",
       "    <tr>\n",
       "      <th>6235</th>\n",
       "      <td>-1.125</td>\n",
       "      <td>-0.15</td>\n",
       "      <td>1.0</td>\n",
       "      <td>0.0</td>\n",
       "      <td>0.0</td>\n",
       "      <td>0.0</td>\n",
       "      <td>0.0</td>\n",
       "      <td>0.0</td>\n",
       "      <td>0.0</td>\n",
       "      <td>0.0</td>\n",
       "      <td>0.0</td>\n",
       "      <td>0.0</td>\n",
       "      <td>0.0</td>\n",
       "    </tr>\n",
       "    <tr>\n",
       "      <th>6236</th>\n",
       "      <td>-0.625</td>\n",
       "      <td>-0.25</td>\n",
       "      <td>1.0</td>\n",
       "      <td>0.0</td>\n",
       "      <td>0.0</td>\n",
       "      <td>0.0</td>\n",
       "      <td>0.0</td>\n",
       "      <td>0.0</td>\n",
       "      <td>0.0</td>\n",
       "      <td>0.0</td>\n",
       "      <td>0.0</td>\n",
       "      <td>0.0</td>\n",
       "      <td>0.0</td>\n",
       "    </tr>\n",
       "  </tbody>\n",
       "</table>\n",
       "<p>6237 rows × 13 columns</p>\n",
       "</div>"
      ],
      "text/plain": [
       "         0     1    2    3    4    5    6    7    8    9    10   11   12\n",
       "0    -0.500  0.05  1.0  0.0  0.0  0.0  0.0  0.0  0.0  0.0  0.0  0.0  0.0\n",
       "1    -0.625  0.35  0.0  0.0  1.0  0.0  0.0  0.0  0.0  0.0  0.0  0.0  0.0\n",
       "2     0.500 -0.05  0.0  0.0  0.0  0.0  0.0  0.0  1.0  0.0  0.0  0.0  0.0\n",
       "3    -0.375  0.30  0.0  0.0  0.0  0.0  0.0  1.0  0.0  0.0  0.0  0.0  0.0\n",
       "4     0.750 -0.30  0.0  1.0  0.0  0.0  0.0  0.0  0.0  0.0  0.0  0.0  0.0\n",
       "...     ...   ...  ...  ...  ...  ...  ...  ...  ...  ...  ...  ...  ...\n",
       "6232  0.750 -0.25  0.0  0.0  0.0  0.0  0.0  0.0  1.0  0.0  0.0  0.0  0.0\n",
       "6233 -1.375  0.10  0.0  0.0  0.0  0.0  0.0  1.0  0.0  0.0  0.0  0.0  0.0\n",
       "6234 -0.750 -0.20  0.0  0.0  0.0  0.0  0.0  0.0  0.0  0.0  0.0  1.0  0.0\n",
       "6235 -1.125 -0.15  1.0  0.0  0.0  0.0  0.0  0.0  0.0  0.0  0.0  0.0  0.0\n",
       "6236 -0.625 -0.25  1.0  0.0  0.0  0.0  0.0  0.0  0.0  0.0  0.0  0.0  0.0\n",
       "\n",
       "[6237 rows x 13 columns]"
      ]
     },
     "execution_count": 32,
     "metadata": {},
     "output_type": "execute_result"
    }
   ],
   "source": [
    "X_transformed = pd.DataFrame(preprocessor.fit_transform(X))\n",
    "X_transformed"
   ]
  },
  {
   "cell_type": "markdown",
   "id": "d72bbfd2",
   "metadata": {},
   "source": [
    "Getting the features' names...\n",
    "\n",
    "✅ Actually, we could fit any ML with this transformed dataset and use for example `feature_permutation` to detect which column/feature is important or not...\n",
    "\n",
    "❗️ But without the features' names, we are losing some interpretability...\n",
    "\n",
    "🤔 So, how can we collect them ? "
   ]
  },
  {
   "cell_type": "markdown",
   "id": "dee6d8e2",
   "metadata": {},
   "source": [
    "> Investigating the different transformers in the ColumnTransformer..."
   ]
  },
  {
   "cell_type": "code",
   "execution_count": 33,
   "id": "6c7cb8aa",
   "metadata": {},
   "outputs": [
    {
     "data": {
      "text/html": [
       "<style>#sk-cc6c0841-873c-418e-9d0e-d3b3f807ffd0 {color: black;background-color: white;}#sk-cc6c0841-873c-418e-9d0e-d3b3f807ffd0 pre{padding: 0;}#sk-cc6c0841-873c-418e-9d0e-d3b3f807ffd0 div.sk-toggleable {background-color: white;}#sk-cc6c0841-873c-418e-9d0e-d3b3f807ffd0 label.sk-toggleable__label {cursor: pointer;display: block;width: 100%;margin-bottom: 0;padding: 0.3em;box-sizing: border-box;text-align: center;}#sk-cc6c0841-873c-418e-9d0e-d3b3f807ffd0 div.sk-toggleable__content {max-height: 0;max-width: 0;overflow: hidden;text-align: left;background-color: #f0f8ff;}#sk-cc6c0841-873c-418e-9d0e-d3b3f807ffd0 div.sk-toggleable__content pre {margin: 0.2em;color: black;border-radius: 0.25em;background-color: #f0f8ff;}#sk-cc6c0841-873c-418e-9d0e-d3b3f807ffd0 input.sk-toggleable__control:checked~div.sk-toggleable__content {max-height: 200px;max-width: 100%;overflow: auto;}#sk-cc6c0841-873c-418e-9d0e-d3b3f807ffd0 div.sk-estimator input.sk-toggleable__control:checked~label.sk-toggleable__label {background-color: #d4ebff;}#sk-cc6c0841-873c-418e-9d0e-d3b3f807ffd0 div.sk-label input.sk-toggleable__control:checked~label.sk-toggleable__label {background-color: #d4ebff;}#sk-cc6c0841-873c-418e-9d0e-d3b3f807ffd0 input.sk-hidden--visually {border: 0;clip: rect(1px 1px 1px 1px);clip: rect(1px, 1px, 1px, 1px);height: 1px;margin: -1px;overflow: hidden;padding: 0;position: absolute;width: 1px;}#sk-cc6c0841-873c-418e-9d0e-d3b3f807ffd0 div.sk-estimator {font-family: monospace;background-color: #f0f8ff;border: 1px dotted black;border-radius: 0.25em;box-sizing: border-box;margin-bottom: 0.5em;}#sk-cc6c0841-873c-418e-9d0e-d3b3f807ffd0 div.sk-estimator:hover {background-color: #d4ebff;}#sk-cc6c0841-873c-418e-9d0e-d3b3f807ffd0 div.sk-parallel-item::after {content: \"\";width: 100%;border-bottom: 1px solid gray;flex-grow: 1;}#sk-cc6c0841-873c-418e-9d0e-d3b3f807ffd0 div.sk-label:hover label.sk-toggleable__label {background-color: #d4ebff;}#sk-cc6c0841-873c-418e-9d0e-d3b3f807ffd0 div.sk-serial::before {content: \"\";position: absolute;border-left: 1px solid gray;box-sizing: border-box;top: 2em;bottom: 0;left: 50%;}#sk-cc6c0841-873c-418e-9d0e-d3b3f807ffd0 div.sk-serial {display: flex;flex-direction: column;align-items: center;background-color: white;padding-right: 0.2em;padding-left: 0.2em;}#sk-cc6c0841-873c-418e-9d0e-d3b3f807ffd0 div.sk-item {z-index: 1;}#sk-cc6c0841-873c-418e-9d0e-d3b3f807ffd0 div.sk-parallel {display: flex;align-items: stretch;justify-content: center;background-color: white;}#sk-cc6c0841-873c-418e-9d0e-d3b3f807ffd0 div.sk-parallel::before {content: \"\";position: absolute;border-left: 1px solid gray;box-sizing: border-box;top: 2em;bottom: 0;left: 50%;}#sk-cc6c0841-873c-418e-9d0e-d3b3f807ffd0 div.sk-parallel-item {display: flex;flex-direction: column;position: relative;background-color: white;}#sk-cc6c0841-873c-418e-9d0e-d3b3f807ffd0 div.sk-parallel-item:first-child::after {align-self: flex-end;width: 50%;}#sk-cc6c0841-873c-418e-9d0e-d3b3f807ffd0 div.sk-parallel-item:last-child::after {align-self: flex-start;width: 50%;}#sk-cc6c0841-873c-418e-9d0e-d3b3f807ffd0 div.sk-parallel-item:only-child::after {width: 0;}#sk-cc6c0841-873c-418e-9d0e-d3b3f807ffd0 div.sk-dashed-wrapped {border: 1px dashed gray;margin: 0 0.4em 0.5em 0.4em;box-sizing: border-box;padding-bottom: 0.4em;background-color: white;position: relative;}#sk-cc6c0841-873c-418e-9d0e-d3b3f807ffd0 div.sk-label label {font-family: monospace;font-weight: bold;background-color: white;display: inline-block;line-height: 1.2em;}#sk-cc6c0841-873c-418e-9d0e-d3b3f807ffd0 div.sk-label-container {position: relative;z-index: 2;text-align: center;}#sk-cc6c0841-873c-418e-9d0e-d3b3f807ffd0 div.sk-container {display: inline-block;position: relative;}</style><div id=\"sk-cc6c0841-873c-418e-9d0e-d3b3f807ffd0\" class\"sk-top-container\"><div class=\"sk-container\"><div class=\"sk-item sk-dashed-wrapped\"><div class=\"sk-label-container\"><div class=\"sk-label sk-toggleable\"><input class=\"sk-toggleable__control sk-hidden--visually\" id=\"a915fce5-d60b-4809-924d-ecab21e7876c\" type=\"checkbox\" ><label class=\"sk-toggleable__label\" for=\"a915fce5-d60b-4809-924d-ecab21e7876c\">ColumnTransformer</label><div class=\"sk-toggleable__content\"><pre>ColumnTransformer(transformers=[('num_transformer',\n",
       "                                 Pipeline(steps=[('num_imputer',\n",
       "                                                  SimpleImputer(strategy='median')),\n",
       "                                                 ('rb_scaler',\n",
       "                                                  RobustScaler())]),\n",
       "                                 <sklearn.compose._column_transformer.make_column_selector object at 0x12ae9fbe0>),\n",
       "                                ('cat_multi_transformer',\n",
       "                                 OneHotEncoder(handle_unknown='ignore',\n",
       "                                               sparse=False),\n",
       "                                 ['BookCategory'])])</pre></div></div></div><div class=\"sk-parallel\"><div class=\"sk-parallel-item\"><div class=\"sk-item\"><div class=\"sk-label-container\"><div class=\"sk-label sk-toggleable\"><input class=\"sk-toggleable__control sk-hidden--visually\" id=\"282faddb-a27f-424f-93ce-407e77d422ab\" type=\"checkbox\" ><label class=\"sk-toggleable__label\" for=\"282faddb-a27f-424f-93ce-407e77d422ab\">num_transformer</label><div class=\"sk-toggleable__content\"><pre><sklearn.compose._column_transformer.make_column_selector object at 0x12ae9fbe0></pre></div></div></div><div class=\"sk-serial\"><div class=\"sk-item\"><div class=\"sk-serial\"><div class=\"sk-item\"><div class=\"sk-estimator sk-toggleable\"><input class=\"sk-toggleable__control sk-hidden--visually\" id=\"594eacb0-a0da-4819-a41e-013999150214\" type=\"checkbox\" ><label class=\"sk-toggleable__label\" for=\"594eacb0-a0da-4819-a41e-013999150214\">SimpleImputer</label><div class=\"sk-toggleable__content\"><pre>SimpleImputer(strategy='median')</pre></div></div></div><div class=\"sk-item\"><div class=\"sk-estimator sk-toggleable\"><input class=\"sk-toggleable__control sk-hidden--visually\" id=\"bd880c5d-61ef-496a-9357-6aceca4d8c49\" type=\"checkbox\" ><label class=\"sk-toggleable__label\" for=\"bd880c5d-61ef-496a-9357-6aceca4d8c49\">RobustScaler</label><div class=\"sk-toggleable__content\"><pre>RobustScaler()</pre></div></div></div></div></div></div></div></div><div class=\"sk-parallel-item\"><div class=\"sk-item\"><div class=\"sk-label-container\"><div class=\"sk-label sk-toggleable\"><input class=\"sk-toggleable__control sk-hidden--visually\" id=\"7729f514-1947-4b02-8d73-cacc18ab4280\" type=\"checkbox\" ><label class=\"sk-toggleable__label\" for=\"7729f514-1947-4b02-8d73-cacc18ab4280\">cat_multi_transformer</label><div class=\"sk-toggleable__content\"><pre>['BookCategory']</pre></div></div></div><div class=\"sk-serial\"><div class=\"sk-item\"><div class=\"sk-estimator sk-toggleable\"><input class=\"sk-toggleable__control sk-hidden--visually\" id=\"8cebe829-500a-4b7a-9dbc-cd8b866ac3b6\" type=\"checkbox\" ><label class=\"sk-toggleable__label\" for=\"8cebe829-500a-4b7a-9dbc-cd8b866ac3b6\">OneHotEncoder</label><div class=\"sk-toggleable__content\"><pre>OneHotEncoder(handle_unknown='ignore', sparse=False)</pre></div></div></div></div></div></div></div></div></div></div>"
      ],
      "text/plain": [
       "ColumnTransformer(transformers=[('num_transformer',\n",
       "                                 Pipeline(steps=[('num_imputer',\n",
       "                                                  SimpleImputer(strategy='median')),\n",
       "                                                 ('rb_scaler',\n",
       "                                                  RobustScaler())]),\n",
       "                                 <sklearn.compose._column_transformer.make_column_selector object at 0x12ae9fbe0>),\n",
       "                                ('cat_multi_transformer',\n",
       "                                 OneHotEncoder(handle_unknown='ignore',\n",
       "                                               sparse=False),\n",
       "                                 ['BookCategory'])])"
      ]
     },
     "execution_count": 33,
     "metadata": {},
     "output_type": "execute_result"
    }
   ],
   "source": [
    "preprocessor"
   ]
  },
  {
   "cell_type": "code",
   "execution_count": 34,
   "id": "c0e12f71",
   "metadata": {},
   "outputs": [
    {
     "data": {
      "text/plain": [
       "[('num_transformer',\n",
       "  Pipeline(steps=[('num_imputer', SimpleImputer(strategy='median')),\n",
       "                  ('rb_scaler', RobustScaler())]),\n",
       "  ['Reviews', 'Ratings']),\n",
       " ('cat_multi_transformer',\n",
       "  OneHotEncoder(handle_unknown='ignore', sparse=False),\n",
       "  ['BookCategory']),\n",
       " ('remainder', 'drop', [0, 1, 2, 5, 6, 8])]"
      ]
     },
     "execution_count": 34,
     "metadata": {},
     "output_type": "execute_result"
    }
   ],
   "source": [
    "preprocessor.transformers_"
   ]
  },
  {
   "cell_type": "code",
   "execution_count": 35,
   "id": "fda83ba5",
   "metadata": {},
   "outputs": [
    {
     "data": {
      "text/plain": [
       "list"
      ]
     },
     "execution_count": 35,
     "metadata": {},
     "output_type": "execute_result"
    }
   ],
   "source": [
    "type(preprocessor.transformers_)"
   ]
  },
  {
   "cell_type": "code",
   "execution_count": 36,
   "id": "80fd0029",
   "metadata": {},
   "outputs": [
    {
     "data": {
      "text/plain": [
       "3"
      ]
     },
     "execution_count": 36,
     "metadata": {},
     "output_type": "execute_result"
    }
   ],
   "source": [
    "len(preprocessor.transformers_)"
   ]
  },
  {
   "cell_type": "code",
   "execution_count": 37,
   "id": "ebcca8aa",
   "metadata": {},
   "outputs": [
    {
     "data": {
      "text/plain": [
       "('num_transformer',\n",
       " Pipeline(steps=[('num_imputer', SimpleImputer(strategy='median')),\n",
       "                 ('rb_scaler', RobustScaler())]),\n",
       " ['Reviews', 'Ratings'])"
      ]
     },
     "execution_count": 37,
     "metadata": {},
     "output_type": "execute_result"
    }
   ],
   "source": [
    "# numerical transformed features \n",
    "\n",
    "preprocessor.transformers_[0]"
   ]
  },
  {
   "cell_type": "code",
   "execution_count": 38,
   "id": "3511abf2",
   "metadata": {},
   "outputs": [
    {
     "data": {
      "text/plain": [
       "['Reviews', 'Ratings']"
      ]
     },
     "execution_count": 38,
     "metadata": {},
     "output_type": "execute_result"
    }
   ],
   "source": [
    "## numerical columns\n",
    "num_columns = preprocessor.transformers_[0][-1]\n",
    "num_columns"
   ]
  },
  {
   "cell_type": "code",
   "execution_count": 39,
   "id": "da7ecf9e",
   "metadata": {},
   "outputs": [
    {
     "data": {
      "text/plain": [
       "array(['BookCategory_action & adventure',\n",
       "       'BookCategory_arts, film & photography',\n",
       "       'BookCategory_biographies, diaries & true accounts',\n",
       "       'BookCategory_comics & mangas',\n",
       "       'BookCategory_computing, internet & digital media',\n",
       "       'BookCategory_crime, thriller & mystery', 'BookCategory_humour',\n",
       "       'BookCategory_language, linguistics & writing',\n",
       "       'BookCategory_politics', 'BookCategory_romance',\n",
       "       'BookCategory_sports'], dtype=object)"
      ]
     },
     "execution_count": 39,
     "metadata": {},
     "output_type": "execute_result"
    }
   ],
   "source": [
    "ohe_columns = preprocessor.transformers_[1][1].get_feature_names_out()\n",
    "ohe_columns"
   ]
  },
  {
   "cell_type": "code",
   "execution_count": 40,
   "id": "7bb313cc",
   "metadata": {},
   "outputs": [],
   "source": [
    "#### Aggregating the different lists of features' names"
   ]
  },
  {
   "cell_type": "code",
   "execution_count": null,
   "id": "b9d7c636",
   "metadata": {},
   "outputs": [],
   "source": []
  },
  {
   "cell_type": "code",
   "execution_count": 41,
   "id": "c26b8713",
   "metadata": {},
   "outputs": [
    {
     "data": {
      "text/plain": [
       "(['Reviews', 'Ratings'],\n",
       " array(['BookCategory_action & adventure',\n",
       "        'BookCategory_arts, film & photography',\n",
       "        'BookCategory_biographies, diaries & true accounts',\n",
       "        'BookCategory_comics & mangas',\n",
       "        'BookCategory_computing, internet & digital media',\n",
       "        'BookCategory_crime, thriller & mystery', 'BookCategory_humour',\n",
       "        'BookCategory_language, linguistics & writing',\n",
       "        'BookCategory_politics', 'BookCategory_romance',\n",
       "        'BookCategory_sports'], dtype=object))"
      ]
     },
     "execution_count": 41,
     "metadata": {},
     "output_type": "execute_result"
    }
   ],
   "source": [
    "num_columns, ohe_columns"
   ]
  },
  {
   "cell_type": "code",
   "execution_count": 42,
   "id": "41d681d2",
   "metadata": {},
   "outputs": [
    {
     "data": {
      "text/plain": [
       "<itertools.chain at 0x12aec3ee0>"
      ]
     },
     "execution_count": 42,
     "metadata": {},
     "output_type": "execute_result"
    }
   ],
   "source": [
    "itertools.chain(num_columns, ohe_columns)"
   ]
  },
  {
   "cell_type": "code",
   "execution_count": 43,
   "id": "8ebd9264",
   "metadata": {},
   "outputs": [
    {
     "data": {
      "text/plain": [
       "['Reviews',\n",
       " 'Ratings',\n",
       " 'BookCategory_action & adventure',\n",
       " 'BookCategory_arts, film & photography',\n",
       " 'BookCategory_biographies, diaries & true accounts',\n",
       " 'BookCategory_comics & mangas',\n",
       " 'BookCategory_computing, internet & digital media',\n",
       " 'BookCategory_crime, thriller & mystery',\n",
       " 'BookCategory_humour',\n",
       " 'BookCategory_language, linguistics & writing',\n",
       " 'BookCategory_politics',\n",
       " 'BookCategory_romance',\n",
       " 'BookCategory_sports']"
      ]
     },
     "execution_count": 43,
     "metadata": {},
     "output_type": "execute_result"
    }
   ],
   "source": [
    "features_names_after = list(itertools.chain(num_columns, ohe_columns))\n",
    "features_names_after"
   ]
  },
  {
   "cell_type": "code",
   "execution_count": 44,
   "id": "218bf616",
   "metadata": {},
   "outputs": [],
   "source": [
    "X_transformed.columns = features_names_after"
   ]
  },
  {
   "cell_type": "code",
   "execution_count": 45,
   "id": "4e1d764b",
   "metadata": {},
   "outputs": [
    {
     "data": {
      "text/html": [
       "<div>\n",
       "<style scoped>\n",
       "    .dataframe tbody tr th:only-of-type {\n",
       "        vertical-align: middle;\n",
       "    }\n",
       "\n",
       "    .dataframe tbody tr th {\n",
       "        vertical-align: top;\n",
       "    }\n",
       "\n",
       "    .dataframe thead th {\n",
       "        text-align: right;\n",
       "    }\n",
       "</style>\n",
       "<table border=\"1\" class=\"dataframe\">\n",
       "  <thead>\n",
       "    <tr style=\"text-align: right;\">\n",
       "      <th></th>\n",
       "      <th>Reviews</th>\n",
       "      <th>Ratings</th>\n",
       "      <th>BookCategory_action &amp; adventure</th>\n",
       "      <th>BookCategory_arts, film &amp; photography</th>\n",
       "      <th>BookCategory_biographies, diaries &amp; true accounts</th>\n",
       "      <th>BookCategory_comics &amp; mangas</th>\n",
       "      <th>BookCategory_computing, internet &amp; digital media</th>\n",
       "      <th>BookCategory_crime, thriller &amp; mystery</th>\n",
       "      <th>BookCategory_humour</th>\n",
       "      <th>BookCategory_language, linguistics &amp; writing</th>\n",
       "      <th>BookCategory_politics</th>\n",
       "      <th>BookCategory_romance</th>\n",
       "      <th>BookCategory_sports</th>\n",
       "    </tr>\n",
       "  </thead>\n",
       "  <tbody>\n",
       "    <tr>\n",
       "      <th>0</th>\n",
       "      <td>-0.500</td>\n",
       "      <td>0.05</td>\n",
       "      <td>1.0</td>\n",
       "      <td>0.0</td>\n",
       "      <td>0.0</td>\n",
       "      <td>0.0</td>\n",
       "      <td>0.0</td>\n",
       "      <td>0.0</td>\n",
       "      <td>0.0</td>\n",
       "      <td>0.0</td>\n",
       "      <td>0.0</td>\n",
       "      <td>0.0</td>\n",
       "      <td>0.0</td>\n",
       "    </tr>\n",
       "    <tr>\n",
       "      <th>1</th>\n",
       "      <td>-0.625</td>\n",
       "      <td>0.35</td>\n",
       "      <td>0.0</td>\n",
       "      <td>0.0</td>\n",
       "      <td>1.0</td>\n",
       "      <td>0.0</td>\n",
       "      <td>0.0</td>\n",
       "      <td>0.0</td>\n",
       "      <td>0.0</td>\n",
       "      <td>0.0</td>\n",
       "      <td>0.0</td>\n",
       "      <td>0.0</td>\n",
       "      <td>0.0</td>\n",
       "    </tr>\n",
       "    <tr>\n",
       "      <th>2</th>\n",
       "      <td>0.500</td>\n",
       "      <td>-0.05</td>\n",
       "      <td>0.0</td>\n",
       "      <td>0.0</td>\n",
       "      <td>0.0</td>\n",
       "      <td>0.0</td>\n",
       "      <td>0.0</td>\n",
       "      <td>0.0</td>\n",
       "      <td>1.0</td>\n",
       "      <td>0.0</td>\n",
       "      <td>0.0</td>\n",
       "      <td>0.0</td>\n",
       "      <td>0.0</td>\n",
       "    </tr>\n",
       "    <tr>\n",
       "      <th>3</th>\n",
       "      <td>-0.375</td>\n",
       "      <td>0.30</td>\n",
       "      <td>0.0</td>\n",
       "      <td>0.0</td>\n",
       "      <td>0.0</td>\n",
       "      <td>0.0</td>\n",
       "      <td>0.0</td>\n",
       "      <td>1.0</td>\n",
       "      <td>0.0</td>\n",
       "      <td>0.0</td>\n",
       "      <td>0.0</td>\n",
       "      <td>0.0</td>\n",
       "      <td>0.0</td>\n",
       "    </tr>\n",
       "    <tr>\n",
       "      <th>4</th>\n",
       "      <td>0.750</td>\n",
       "      <td>-0.30</td>\n",
       "      <td>0.0</td>\n",
       "      <td>1.0</td>\n",
       "      <td>0.0</td>\n",
       "      <td>0.0</td>\n",
       "      <td>0.0</td>\n",
       "      <td>0.0</td>\n",
       "      <td>0.0</td>\n",
       "      <td>0.0</td>\n",
       "      <td>0.0</td>\n",
       "      <td>0.0</td>\n",
       "      <td>0.0</td>\n",
       "    </tr>\n",
       "  </tbody>\n",
       "</table>\n",
       "</div>"
      ],
      "text/plain": [
       "   Reviews  Ratings  BookCategory_action & adventure  \\\n",
       "0   -0.500     0.05                              1.0   \n",
       "1   -0.625     0.35                              0.0   \n",
       "2    0.500    -0.05                              0.0   \n",
       "3   -0.375     0.30                              0.0   \n",
       "4    0.750    -0.30                              0.0   \n",
       "\n",
       "   BookCategory_arts, film & photography  \\\n",
       "0                                    0.0   \n",
       "1                                    0.0   \n",
       "2                                    0.0   \n",
       "3                                    0.0   \n",
       "4                                    1.0   \n",
       "\n",
       "   BookCategory_biographies, diaries & true accounts  \\\n",
       "0                                                0.0   \n",
       "1                                                1.0   \n",
       "2                                                0.0   \n",
       "3                                                0.0   \n",
       "4                                                0.0   \n",
       "\n",
       "   BookCategory_comics & mangas  \\\n",
       "0                           0.0   \n",
       "1                           0.0   \n",
       "2                           0.0   \n",
       "3                           0.0   \n",
       "4                           0.0   \n",
       "\n",
       "   BookCategory_computing, internet & digital media  \\\n",
       "0                                               0.0   \n",
       "1                                               0.0   \n",
       "2                                               0.0   \n",
       "3                                               0.0   \n",
       "4                                               0.0   \n",
       "\n",
       "   BookCategory_crime, thriller & mystery  BookCategory_humour  \\\n",
       "0                                     0.0                  0.0   \n",
       "1                                     0.0                  0.0   \n",
       "2                                     0.0                  1.0   \n",
       "3                                     1.0                  0.0   \n",
       "4                                     0.0                  0.0   \n",
       "\n",
       "   BookCategory_language, linguistics & writing  BookCategory_politics  \\\n",
       "0                                           0.0                    0.0   \n",
       "1                                           0.0                    0.0   \n",
       "2                                           0.0                    0.0   \n",
       "3                                           0.0                    0.0   \n",
       "4                                           0.0                    0.0   \n",
       "\n",
       "   BookCategory_romance  BookCategory_sports  \n",
       "0                   0.0                  0.0  \n",
       "1                   0.0                  0.0  \n",
       "2                   0.0                  0.0  \n",
       "3                   0.0                  0.0  \n",
       "4                   0.0                  0.0  "
      ]
     },
     "execution_count": 45,
     "metadata": {},
     "output_type": "execute_result"
    }
   ],
   "source": [
    "X_transformed.head()"
   ]
  },
  {
   "cell_type": "code",
   "execution_count": 46,
   "id": "46610f54",
   "metadata": {},
   "outputs": [],
   "source": [
    "## `Label Encoder` the target"
   ]
  },
  {
   "cell_type": "code",
   "execution_count": 47,
   "id": "f8ff9df5",
   "metadata": {},
   "outputs": [
    {
     "data": {
      "text/plain": [
       "299.00     108\n",
       "399.00      85\n",
       "449.00      59\n",
       "295.00      49\n",
       "319.00      48\n",
       "          ... \n",
       "259.35       1\n",
       "1138.00      1\n",
       "129.65       1\n",
       "294.25       1\n",
       "2729.00      1\n",
       "Name: Price, Length: 1614, dtype: int64"
      ]
     },
     "execution_count": 47,
     "metadata": {},
     "output_type": "execute_result"
    }
   ],
   "source": [
    "y.value_counts(normalize = False) # normalize is set to False by default"
   ]
  },
  {
   "cell_type": "code",
   "execution_count": 48,
   "id": "f919dcb8",
   "metadata": {},
   "outputs": [
    {
     "data": {
      "text/plain": [
       "299.00     0.017316\n",
       "399.00     0.013628\n",
       "449.00     0.009460\n",
       "295.00     0.007856\n",
       "319.00     0.007696\n",
       "             ...   \n",
       "259.35     0.000160\n",
       "1138.00    0.000160\n",
       "129.65     0.000160\n",
       "294.25     0.000160\n",
       "2729.00    0.000160\n",
       "Name: Price, Length: 1614, dtype: float64"
      ]
     },
     "execution_count": 48,
     "metadata": {},
     "output_type": "execute_result"
    }
   ],
   "source": [
    "y.value_counts(normalize = True)"
   ]
  },
  {
   "cell_type": "code",
   "execution_count": 49,
   "id": "da80679f",
   "metadata": {},
   "outputs": [
    {
     "data": {
      "text/html": [
       "<div>\n",
       "<style scoped>\n",
       "    .dataframe tbody tr th:only-of-type {\n",
       "        vertical-align: middle;\n",
       "    }\n",
       "\n",
       "    .dataframe tbody tr th {\n",
       "        vertical-align: top;\n",
       "    }\n",
       "\n",
       "    .dataframe thead th {\n",
       "        text-align: right;\n",
       "    }\n",
       "</style>\n",
       "<table border=\"1\" class=\"dataframe\">\n",
       "  <thead>\n",
       "    <tr style=\"text-align: right;\">\n",
       "      <th></th>\n",
       "      <th>target</th>\n",
       "    </tr>\n",
       "  </thead>\n",
       "  <tbody>\n",
       "    <tr>\n",
       "      <th>457</th>\n",
       "      <td>223</td>\n",
       "    </tr>\n",
       "    <tr>\n",
       "      <th>3145</th>\n",
       "      <td>323</td>\n",
       "    </tr>\n",
       "    <tr>\n",
       "      <th>6142</th>\n",
       "      <td>281</td>\n",
       "    </tr>\n",
       "    <tr>\n",
       "      <th>4085</th>\n",
       "      <td>166</td>\n",
       "    </tr>\n",
       "    <tr>\n",
       "      <th>1904</th>\n",
       "      <td>528</td>\n",
       "    </tr>\n",
       "    <tr>\n",
       "      <th>3950</th>\n",
       "      <td>100</td>\n",
       "    </tr>\n",
       "    <tr>\n",
       "      <th>125</th>\n",
       "      <td>526</td>\n",
       "    </tr>\n",
       "    <tr>\n",
       "      <th>2965</th>\n",
       "      <td>244</td>\n",
       "    </tr>\n",
       "    <tr>\n",
       "      <th>1185</th>\n",
       "      <td>1302</td>\n",
       "    </tr>\n",
       "    <tr>\n",
       "      <th>127</th>\n",
       "      <td>1432</td>\n",
       "    </tr>\n",
       "  </tbody>\n",
       "</table>\n",
       "</div>"
      ],
      "text/plain": [
       "      target\n",
       "457      223\n",
       "3145     323\n",
       "6142     281\n",
       "4085     166\n",
       "1904     528\n",
       "3950     100\n",
       "125      526\n",
       "2965     244\n",
       "1185    1302\n",
       "127     1432"
      ]
     },
     "execution_count": 49,
     "metadata": {},
     "output_type": "execute_result"
    }
   ],
   "source": [
    "label_encoder = LabelEncoder()\n",
    "\n",
    "target = pd.DataFrame(label_encoder.fit_transform(y), columns = [\"target\"])\n",
    "target.sample(10)"
   ]
  },
  {
   "cell_type": "code",
   "execution_count": 50,
   "id": "9939e237",
   "metadata": {},
   "outputs": [
    {
     "data": {
      "text/plain": [
       "target\n",
       "297       108\n",
       "457        85\n",
       "526        59\n",
       "291        49\n",
       "326        48\n",
       "         ... \n",
       "920         1\n",
       "921         1\n",
       "922         1\n",
       "923         1\n",
       "1613        1\n",
       "Length: 1614, dtype: int64"
      ]
     },
     "execution_count": 50,
     "metadata": {},
     "output_type": "execute_result"
    }
   ],
   "source": [
    "target.value_counts(normalize = False) # normalize is set to False by default"
   ]
  },
  {
   "cell_type": "code",
   "execution_count": 51,
   "id": "51a7f055",
   "metadata": {},
   "outputs": [
    {
     "data": {
      "text/plain": [
       "target\n",
       "297       0.017316\n",
       "457       0.013628\n",
       "526       0.009460\n",
       "291       0.007856\n",
       "326       0.007696\n",
       "            ...   \n",
       "920       0.000160\n",
       "921       0.000160\n",
       "922       0.000160\n",
       "923       0.000160\n",
       "1613      0.000160\n",
       "Length: 1614, dtype: float64"
      ]
     },
     "execution_count": 51,
     "metadata": {},
     "output_type": "execute_result"
    }
   ],
   "source": [
    "target.value_counts(normalize = True)"
   ]
  },
  {
   "cell_type": "code",
   "execution_count": 52,
   "id": "177a7b95",
   "metadata": {},
   "outputs": [
    {
     "data": {
      "text/html": [
       "<div>\n",
       "<style scoped>\n",
       "    .dataframe tbody tr th:only-of-type {\n",
       "        vertical-align: middle;\n",
       "    }\n",
       "\n",
       "    .dataframe tbody tr th {\n",
       "        vertical-align: top;\n",
       "    }\n",
       "\n",
       "    .dataframe thead th {\n",
       "        text-align: right;\n",
       "    }\n",
       "</style>\n",
       "<table border=\"1\" class=\"dataframe\">\n",
       "  <thead>\n",
       "    <tr style=\"text-align: right;\">\n",
       "      <th></th>\n",
       "      <th>Reviews</th>\n",
       "      <th>Ratings</th>\n",
       "      <th>BookCategory_action &amp; adventure</th>\n",
       "      <th>BookCategory_arts, film &amp; photography</th>\n",
       "      <th>BookCategory_biographies, diaries &amp; true accounts</th>\n",
       "      <th>BookCategory_comics &amp; mangas</th>\n",
       "      <th>BookCategory_computing, internet &amp; digital media</th>\n",
       "      <th>BookCategory_crime, thriller &amp; mystery</th>\n",
       "      <th>BookCategory_humour</th>\n",
       "      <th>BookCategory_language, linguistics &amp; writing</th>\n",
       "      <th>BookCategory_politics</th>\n",
       "      <th>BookCategory_romance</th>\n",
       "      <th>BookCategory_sports</th>\n",
       "    </tr>\n",
       "  </thead>\n",
       "  <tbody>\n",
       "    <tr>\n",
       "      <th>0</th>\n",
       "      <td>-0.500</td>\n",
       "      <td>0.05</td>\n",
       "      <td>1.0</td>\n",
       "      <td>0.0</td>\n",
       "      <td>0.0</td>\n",
       "      <td>0.0</td>\n",
       "      <td>0.0</td>\n",
       "      <td>0.0</td>\n",
       "      <td>0.0</td>\n",
       "      <td>0.0</td>\n",
       "      <td>0.0</td>\n",
       "      <td>0.0</td>\n",
       "      <td>0.0</td>\n",
       "    </tr>\n",
       "    <tr>\n",
       "      <th>1</th>\n",
       "      <td>-0.625</td>\n",
       "      <td>0.35</td>\n",
       "      <td>0.0</td>\n",
       "      <td>0.0</td>\n",
       "      <td>1.0</td>\n",
       "      <td>0.0</td>\n",
       "      <td>0.0</td>\n",
       "      <td>0.0</td>\n",
       "      <td>0.0</td>\n",
       "      <td>0.0</td>\n",
       "      <td>0.0</td>\n",
       "      <td>0.0</td>\n",
       "      <td>0.0</td>\n",
       "    </tr>\n",
       "    <tr>\n",
       "      <th>2</th>\n",
       "      <td>0.500</td>\n",
       "      <td>-0.05</td>\n",
       "      <td>0.0</td>\n",
       "      <td>0.0</td>\n",
       "      <td>0.0</td>\n",
       "      <td>0.0</td>\n",
       "      <td>0.0</td>\n",
       "      <td>0.0</td>\n",
       "      <td>1.0</td>\n",
       "      <td>0.0</td>\n",
       "      <td>0.0</td>\n",
       "      <td>0.0</td>\n",
       "      <td>0.0</td>\n",
       "    </tr>\n",
       "    <tr>\n",
       "      <th>3</th>\n",
       "      <td>-0.375</td>\n",
       "      <td>0.30</td>\n",
       "      <td>0.0</td>\n",
       "      <td>0.0</td>\n",
       "      <td>0.0</td>\n",
       "      <td>0.0</td>\n",
       "      <td>0.0</td>\n",
       "      <td>1.0</td>\n",
       "      <td>0.0</td>\n",
       "      <td>0.0</td>\n",
       "      <td>0.0</td>\n",
       "      <td>0.0</td>\n",
       "      <td>0.0</td>\n",
       "    </tr>\n",
       "    <tr>\n",
       "      <th>4</th>\n",
       "      <td>0.750</td>\n",
       "      <td>-0.30</td>\n",
       "      <td>0.0</td>\n",
       "      <td>1.0</td>\n",
       "      <td>0.0</td>\n",
       "      <td>0.0</td>\n",
       "      <td>0.0</td>\n",
       "      <td>0.0</td>\n",
       "      <td>0.0</td>\n",
       "      <td>0.0</td>\n",
       "      <td>0.0</td>\n",
       "      <td>0.0</td>\n",
       "      <td>0.0</td>\n",
       "    </tr>\n",
       "  </tbody>\n",
       "</table>\n",
       "</div>"
      ],
      "text/plain": [
       "   Reviews  Ratings  BookCategory_action & adventure  \\\n",
       "0   -0.500     0.05                              1.0   \n",
       "1   -0.625     0.35                              0.0   \n",
       "2    0.500    -0.05                              0.0   \n",
       "3   -0.375     0.30                              0.0   \n",
       "4    0.750    -0.30                              0.0   \n",
       "\n",
       "   BookCategory_arts, film & photography  \\\n",
       "0                                    0.0   \n",
       "1                                    0.0   \n",
       "2                                    0.0   \n",
       "3                                    0.0   \n",
       "4                                    1.0   \n",
       "\n",
       "   BookCategory_biographies, diaries & true accounts  \\\n",
       "0                                                0.0   \n",
       "1                                                1.0   \n",
       "2                                                0.0   \n",
       "3                                                0.0   \n",
       "4                                                0.0   \n",
       "\n",
       "   BookCategory_comics & mangas  \\\n",
       "0                           0.0   \n",
       "1                           0.0   \n",
       "2                           0.0   \n",
       "3                           0.0   \n",
       "4                           0.0   \n",
       "\n",
       "   BookCategory_computing, internet & digital media  \\\n",
       "0                                               0.0   \n",
       "1                                               0.0   \n",
       "2                                               0.0   \n",
       "3                                               0.0   \n",
       "4                                               0.0   \n",
       "\n",
       "   BookCategory_crime, thriller & mystery  BookCategory_humour  \\\n",
       "0                                     0.0                  0.0   \n",
       "1                                     0.0                  0.0   \n",
       "2                                     0.0                  1.0   \n",
       "3                                     1.0                  0.0   \n",
       "4                                     0.0                  0.0   \n",
       "\n",
       "   BookCategory_language, linguistics & writing  BookCategory_politics  \\\n",
       "0                                           0.0                    0.0   \n",
       "1                                           0.0                    0.0   \n",
       "2                                           0.0                    0.0   \n",
       "3                                           0.0                    0.0   \n",
       "4                                           0.0                    0.0   \n",
       "\n",
       "   BookCategory_romance  BookCategory_sports  \n",
       "0                   0.0                  0.0  \n",
       "1                   0.0                  0.0  \n",
       "2                   0.0                  0.0  \n",
       "3                   0.0                  0.0  \n",
       "4                   0.0                  0.0  "
      ]
     },
     "execution_count": 52,
     "metadata": {},
     "output_type": "execute_result"
    }
   ],
   "source": [
    "X_transformed.head()"
   ]
  },
  {
   "cell_type": "code",
   "execution_count": 53,
   "id": "b718cb8b",
   "metadata": {},
   "outputs": [],
   "source": [
    "## Modelling\n"
   ]
  },
  {
   "cell_type": "code",
   "execution_count": 54,
   "id": "4c0e7de7",
   "metadata": {},
   "outputs": [],
   "source": [
    "### Reshuffling the entire dataset"
   ]
  },
  {
   "cell_type": "code",
   "execution_count": 55,
   "id": "6e5f3cd1",
   "metadata": {},
   "outputs": [],
   "source": [
    "df = train.copy()\n",
    "df[\"price\"] = target"
   ]
  },
  {
   "cell_type": "code",
   "execution_count": 56,
   "id": "d391b6c5",
   "metadata": {},
   "outputs": [
    {
     "data": {
      "text/html": [
       "<div>\n",
       "<style scoped>\n",
       "    .dataframe tbody tr th:only-of-type {\n",
       "        vertical-align: middle;\n",
       "    }\n",
       "\n",
       "    .dataframe tbody tr th {\n",
       "        vertical-align: top;\n",
       "    }\n",
       "\n",
       "    .dataframe thead th {\n",
       "        text-align: right;\n",
       "    }\n",
       "</style>\n",
       "<table border=\"1\" class=\"dataframe\">\n",
       "  <thead>\n",
       "    <tr style=\"text-align: right;\">\n",
       "      <th></th>\n",
       "      <th>Title</th>\n",
       "      <th>Author</th>\n",
       "      <th>Edition</th>\n",
       "      <th>Reviews</th>\n",
       "      <th>Ratings</th>\n",
       "      <th>Synopsis</th>\n",
       "      <th>Genre</th>\n",
       "      <th>BookCategory</th>\n",
       "      <th>Price</th>\n",
       "      <th>Edition_Year</th>\n",
       "      <th>price</th>\n",
       "    </tr>\n",
       "  </thead>\n",
       "  <tbody>\n",
       "    <tr>\n",
       "      <th>2900</th>\n",
       "      <td>school essays, letters, paragraphs, comprehens...</td>\n",
       "      <td>madan sood</td>\n",
       "      <td>paperback,– 1 apr 2019</td>\n",
       "      <td>3.6</td>\n",
       "      <td>5</td>\n",
       "      <td>this book encompasses a wide range of essays p...</td>\n",
       "      <td>children's language learning</td>\n",
       "      <td>language, linguistics &amp; writing</td>\n",
       "      <td>64.0</td>\n",
       "      <td>2019</td>\n",
       "      <td>23</td>\n",
       "    </tr>\n",
       "    <tr>\n",
       "      <th>4731</th>\n",
       "      <td>a summer promise</td>\n",
       "      <td>katie flynn</td>\n",
       "      <td>paperback,– 18 jun 2015</td>\n",
       "      <td>5.0</td>\n",
       "      <td>1</td>\n",
       "      <td>from the bestselling author katie flynn. growi...</td>\n",
       "      <td>action &amp; adventure</td>\n",
       "      <td>action &amp; adventure</td>\n",
       "      <td>125.0</td>\n",
       "      <td>2015</td>\n",
       "      <td>78</td>\n",
       "    </tr>\n",
       "    <tr>\n",
       "      <th>3684</th>\n",
       "      <td>the best we could do: an illustrated memoir</td>\n",
       "      <td>thi bui</td>\n",
       "      <td>paperback,– 17 apr 2018</td>\n",
       "      <td>5.0</td>\n",
       "      <td>4</td>\n",
       "      <td>an aba indies introduce winter/ spring 2017 se...</td>\n",
       "      <td>iographies &amp; autobiographies</td>\n",
       "      <td>comics &amp; mangas</td>\n",
       "      <td>967.0</td>\n",
       "      <td>2018</td>\n",
       "      <td>1061</td>\n",
       "    </tr>\n",
       "    <tr>\n",
       "      <th>1270</th>\n",
       "      <td>dior perfume (memoire)</td>\n",
       "      <td>christine dell'amore</td>\n",
       "      <td>hardcover,– 30 may 2013</td>\n",
       "      <td>1.0</td>\n",
       "      <td>1</td>\n",
       "      <td>the pinnacle of french haute couture and savoi...</td>\n",
       "      <td>arts history, theory &amp; criticism</td>\n",
       "      <td>humour</td>\n",
       "      <td>1490.0</td>\n",
       "      <td>2013</td>\n",
       "      <td>1330</td>\n",
       "    </tr>\n",
       "    <tr>\n",
       "      <th>3429</th>\n",
       "      <td>good night stories for rebel girls 2</td>\n",
       "      <td>francesca cavallo</td>\n",
       "      <td>hardcover,– 10 sep 2018</td>\n",
       "      <td>4.2</td>\n",
       "      <td>30</td>\n",
       "      <td>100 new bedtime stories, each inspired by the ...</td>\n",
       "      <td>children's reference</td>\n",
       "      <td>biographies, diaries &amp; true accounts</td>\n",
       "      <td>560.0</td>\n",
       "      <td>2018</td>\n",
       "      <td>683</td>\n",
       "    </tr>\n",
       "    <tr>\n",
       "      <th>...</th>\n",
       "      <td>...</td>\n",
       "      <td>...</td>\n",
       "      <td>...</td>\n",
       "      <td>...</td>\n",
       "      <td>...</td>\n",
       "      <td>...</td>\n",
       "      <td>...</td>\n",
       "      <td>...</td>\n",
       "      <td>...</td>\n",
       "      <td>...</td>\n",
       "      <td>...</td>\n",
       "    </tr>\n",
       "    <tr>\n",
       "      <th>3926</th>\n",
       "      <td>one hundred names</td>\n",
       "      <td>cecelia ahern</td>\n",
       "      <td>paperback,– import, 18 jul 2013</td>\n",
       "      <td>4.4</td>\n",
       "      <td>17</td>\n",
       "      <td>the uplifting and captivating new novel from t...</td>\n",
       "      <td>action &amp; adventure</td>\n",
       "      <td>action &amp; adventure</td>\n",
       "      <td>249.0</td>\n",
       "      <td>2013</td>\n",
       "      <td>230</td>\n",
       "    </tr>\n",
       "    <tr>\n",
       "      <th>4429</th>\n",
       "      <td>captain underpants and the terrifying return o...</td>\n",
       "      <td>dav pilkey</td>\n",
       "      <td>paperback,– import, 28 aug 2012</td>\n",
       "      <td>3.9</td>\n",
       "      <td>15</td>\n",
       "      <td>captain underpants returns! in their ninth epi...</td>\n",
       "      <td>comics &amp; mangas</td>\n",
       "      <td>humour</td>\n",
       "      <td>205.0</td>\n",
       "      <td>2012</td>\n",
       "      <td>172</td>\n",
       "    </tr>\n",
       "    <tr>\n",
       "      <th>148</th>\n",
       "      <td>the deadly dozen: india's most notorious seria...</td>\n",
       "      <td>anirban bhattacharya</td>\n",
       "      <td>paperback,– 10 jun 2019</td>\n",
       "      <td>5.0</td>\n",
       "      <td>8</td>\n",
       "      <td>a schoolteacher who killed multiple paramours ...</td>\n",
       "      <td>rue accounts</td>\n",
       "      <td>crime, thriller &amp; mystery</td>\n",
       "      <td>209.0</td>\n",
       "      <td>2019</td>\n",
       "      <td>177</td>\n",
       "    </tr>\n",
       "    <tr>\n",
       "      <th>78</th>\n",
       "      <td>south by java head</td>\n",
       "      <td>alistair maclean</td>\n",
       "      <td>paperback,– special edition, 6 may 2008</td>\n",
       "      <td>4.4</td>\n",
       "      <td>7</td>\n",
       "      <td>the 50th anniversary edition of this classic w...</td>\n",
       "      <td>action &amp; adventure</td>\n",
       "      <td>crime, thriller &amp; mystery</td>\n",
       "      <td>309.0</td>\n",
       "      <td>2008</td>\n",
       "      <td>312</td>\n",
       "    </tr>\n",
       "    <tr>\n",
       "      <th>544</th>\n",
       "      <td>understanding color in photography</td>\n",
       "      <td>bryan peterson</td>\n",
       "      <td>paperback,– 26 jan 2018</td>\n",
       "      <td>4.2</td>\n",
       "      <td>4</td>\n",
       "      <td>veteran photographer and instructor bryan pete...</td>\n",
       "      <td>photography</td>\n",
       "      <td>arts, film &amp; photography</td>\n",
       "      <td>712.0</td>\n",
       "      <td>2018</td>\n",
       "      <td>855</td>\n",
       "    </tr>\n",
       "  </tbody>\n",
       "</table>\n",
       "<p>6237 rows × 11 columns</p>\n",
       "</div>"
      ],
      "text/plain": [
       "                                                  Title                Author  \\\n",
       "2900  school essays, letters, paragraphs, comprehens...            madan sood   \n",
       "4731                                   a summer promise           katie flynn   \n",
       "3684        the best we could do: an illustrated memoir               thi bui   \n",
       "1270                             dior perfume (memoire)  christine dell'amore   \n",
       "3429               good night stories for rebel girls 2     francesca cavallo   \n",
       "...                                                 ...                   ...   \n",
       "3926                                  one hundred names         cecelia ahern   \n",
       "4429  captain underpants and the terrifying return o...            dav pilkey   \n",
       "148   the deadly dozen: india's most notorious seria...  anirban bhattacharya   \n",
       "78                                   south by java head      alistair maclean   \n",
       "544                  understanding color in photography        bryan peterson   \n",
       "\n",
       "                                      Edition  Reviews  Ratings  \\\n",
       "2900                   paperback,– 1 apr 2019      3.6        5   \n",
       "4731                  paperback,– 18 jun 2015      5.0        1   \n",
       "3684                  paperback,– 17 apr 2018      5.0        4   \n",
       "1270                  hardcover,– 30 may 2013      1.0        1   \n",
       "3429                  hardcover,– 10 sep 2018      4.2       30   \n",
       "...                                       ...      ...      ...   \n",
       "3926          paperback,– import, 18 jul 2013      4.4       17   \n",
       "4429          paperback,– import, 28 aug 2012      3.9       15   \n",
       "148                   paperback,– 10 jun 2019      5.0        8   \n",
       "78    paperback,– special edition, 6 may 2008      4.4        7   \n",
       "544                   paperback,– 26 jan 2018      4.2        4   \n",
       "\n",
       "                                               Synopsis  \\\n",
       "2900  this book encompasses a wide range of essays p...   \n",
       "4731  from the bestselling author katie flynn. growi...   \n",
       "3684  an aba indies introduce winter/ spring 2017 se...   \n",
       "1270  the pinnacle of french haute couture and savoi...   \n",
       "3429  100 new bedtime stories, each inspired by the ...   \n",
       "...                                                 ...   \n",
       "3926  the uplifting and captivating new novel from t...   \n",
       "4429  captain underpants returns! in their ninth epi...   \n",
       "148   a schoolteacher who killed multiple paramours ...   \n",
       "78    the 50th anniversary edition of this classic w...   \n",
       "544   veteran photographer and instructor bryan pete...   \n",
       "\n",
       "                                  Genre                          BookCategory  \\\n",
       "2900      children's language learning        language, linguistics & writing   \n",
       "4731                action & adventure                     action & adventure   \n",
       "3684      iographies & autobiographies                        comics & mangas   \n",
       "1270  arts history, theory & criticism                                 humour   \n",
       "3429              children's reference   biographies, diaries & true accounts   \n",
       "...                                 ...                                   ...   \n",
       "3926                action & adventure                     action & adventure   \n",
       "4429                   comics & mangas                                 humour   \n",
       "148                       rue accounts              crime, thriller & mystery   \n",
       "78                  action & adventure              crime, thriller & mystery   \n",
       "544                        photography               arts, film & photography   \n",
       "\n",
       "       Price Edition_Year  price  \n",
       "2900    64.0         2019     23  \n",
       "4731   125.0         2015     78  \n",
       "3684   967.0         2018   1061  \n",
       "1270  1490.0         2013   1330  \n",
       "3429   560.0         2018    683  \n",
       "...      ...          ...    ...  \n",
       "3926   249.0         2013    230  \n",
       "4429   205.0         2012    172  \n",
       "148    209.0         2019    177  \n",
       "78     309.0         2008    312  \n",
       "544    712.0         2018    855  \n",
       "\n",
       "[6237 rows x 11 columns]"
      ]
     },
     "execution_count": 56,
     "metadata": {},
     "output_type": "execute_result"
    }
   ],
   "source": [
    "df_reshuffled = df.sample(len(df))\n",
    "df_reshuffled"
   ]
  },
  {
   "cell_type": "code",
   "execution_count": 57,
   "id": "f7485c8b",
   "metadata": {},
   "outputs": [],
   "source": [
    "## holdout"
   ]
  },
  {
   "cell_type": "code",
   "execution_count": 58,
   "id": "eec9c4e8",
   "metadata": {},
   "outputs": [],
   "source": [
    "y = df_reshuffled[\"price\"]\n",
    "X = df_reshuffled.drop(columns = \"price\")"
   ]
  },
  {
   "cell_type": "code",
   "execution_count": 59,
   "id": "d44775e3",
   "metadata": {},
   "outputs": [],
   "source": [
    "X_train, X_test, y_train, y_test = train_test_split(X, y, test_size = 0.30)"
   ]
  },
  {
   "cell_type": "code",
   "execution_count": 60,
   "id": "4fe6ff5e",
   "metadata": {},
   "outputs": [
    {
     "data": {
      "text/plain": [
       "((4365, 10), (1872, 10), (4365,), (1872,))"
      ]
     },
     "execution_count": 60,
     "metadata": {},
     "output_type": "execute_result"
    }
   ],
   "source": [
    "X_train.shape, X_test.shape, y_train.shape, y_test.shape"
   ]
  },
  {
   "cell_type": "code",
   "execution_count": 61,
   "id": "be7db9cc",
   "metadata": {},
   "outputs": [
    {
     "data": {
      "text/plain": [
       "297     0.02\n",
       "457     0.01\n",
       "526     0.01\n",
       "291     0.01\n",
       "326     0.01\n",
       "        ... \n",
       "1583    0.00\n",
       "1168    0.00\n",
       "982     0.00\n",
       "567     0.00\n",
       "1406    0.00\n",
       "Name: price, Length: 1614, dtype: float64"
      ]
     },
     "execution_count": 61,
     "metadata": {},
     "output_type": "execute_result"
    }
   ],
   "source": [
    "round(y.value_counts(normalize = True),2)"
   ]
  },
  {
   "cell_type": "code",
   "execution_count": 62,
   "id": "eb5f4af0",
   "metadata": {},
   "outputs": [
    {
     "data": {
      "text/plain": [
       "297     0.02\n",
       "457     0.01\n",
       "526     0.01\n",
       "326     0.01\n",
       "291     0.01\n",
       "        ... \n",
       "1496    0.00\n",
       "501     0.00\n",
       "1329    0.00\n",
       "754     0.00\n",
       "1296    0.00\n",
       "Name: price, Length: 1355, dtype: float64"
      ]
     },
     "execution_count": 62,
     "metadata": {},
     "output_type": "execute_result"
    }
   ],
   "source": [
    "round(y_train.value_counts(normalize = True),2)"
   ]
  },
  {
   "cell_type": "code",
   "execution_count": 63,
   "id": "6673cf35",
   "metadata": {},
   "outputs": [
    {
     "data": {
      "text/plain": [
       "297     0.02\n",
       "457     0.01\n",
       "164     0.01\n",
       "312     0.01\n",
       "526     0.01\n",
       "        ... \n",
       "1498    0.00\n",
       "1261    0.00\n",
       "303     0.00\n",
       "73      0.00\n",
       "547     0.00\n",
       "Name: price, Length: 854, dtype: float64"
      ]
     },
     "execution_count": 63,
     "metadata": {},
     "output_type": "execute_result"
    }
   ],
   "source": [
    "round(y_test.value_counts(normalize = True),2)"
   ]
  },
  {
   "cell_type": "markdown",
   "id": "d1dae43d",
   "metadata": {},
   "source": [
    "**Chaining model to pipeline**"
   ]
  },
  {
   "cell_type": "code",
   "execution_count": 64,
   "id": "f76adaa4",
   "metadata": {},
   "outputs": [
    {
     "data": {
      "text/html": [
       "<style>#sk-87871c8f-8061-4409-ba8a-5540c6312e59 {color: black;background-color: white;}#sk-87871c8f-8061-4409-ba8a-5540c6312e59 pre{padding: 0;}#sk-87871c8f-8061-4409-ba8a-5540c6312e59 div.sk-toggleable {background-color: white;}#sk-87871c8f-8061-4409-ba8a-5540c6312e59 label.sk-toggleable__label {cursor: pointer;display: block;width: 100%;margin-bottom: 0;padding: 0.3em;box-sizing: border-box;text-align: center;}#sk-87871c8f-8061-4409-ba8a-5540c6312e59 div.sk-toggleable__content {max-height: 0;max-width: 0;overflow: hidden;text-align: left;background-color: #f0f8ff;}#sk-87871c8f-8061-4409-ba8a-5540c6312e59 div.sk-toggleable__content pre {margin: 0.2em;color: black;border-radius: 0.25em;background-color: #f0f8ff;}#sk-87871c8f-8061-4409-ba8a-5540c6312e59 input.sk-toggleable__control:checked~div.sk-toggleable__content {max-height: 200px;max-width: 100%;overflow: auto;}#sk-87871c8f-8061-4409-ba8a-5540c6312e59 div.sk-estimator input.sk-toggleable__control:checked~label.sk-toggleable__label {background-color: #d4ebff;}#sk-87871c8f-8061-4409-ba8a-5540c6312e59 div.sk-label input.sk-toggleable__control:checked~label.sk-toggleable__label {background-color: #d4ebff;}#sk-87871c8f-8061-4409-ba8a-5540c6312e59 input.sk-hidden--visually {border: 0;clip: rect(1px 1px 1px 1px);clip: rect(1px, 1px, 1px, 1px);height: 1px;margin: -1px;overflow: hidden;padding: 0;position: absolute;width: 1px;}#sk-87871c8f-8061-4409-ba8a-5540c6312e59 div.sk-estimator {font-family: monospace;background-color: #f0f8ff;border: 1px dotted black;border-radius: 0.25em;box-sizing: border-box;margin-bottom: 0.5em;}#sk-87871c8f-8061-4409-ba8a-5540c6312e59 div.sk-estimator:hover {background-color: #d4ebff;}#sk-87871c8f-8061-4409-ba8a-5540c6312e59 div.sk-parallel-item::after {content: \"\";width: 100%;border-bottom: 1px solid gray;flex-grow: 1;}#sk-87871c8f-8061-4409-ba8a-5540c6312e59 div.sk-label:hover label.sk-toggleable__label {background-color: #d4ebff;}#sk-87871c8f-8061-4409-ba8a-5540c6312e59 div.sk-serial::before {content: \"\";position: absolute;border-left: 1px solid gray;box-sizing: border-box;top: 2em;bottom: 0;left: 50%;}#sk-87871c8f-8061-4409-ba8a-5540c6312e59 div.sk-serial {display: flex;flex-direction: column;align-items: center;background-color: white;padding-right: 0.2em;padding-left: 0.2em;}#sk-87871c8f-8061-4409-ba8a-5540c6312e59 div.sk-item {z-index: 1;}#sk-87871c8f-8061-4409-ba8a-5540c6312e59 div.sk-parallel {display: flex;align-items: stretch;justify-content: center;background-color: white;}#sk-87871c8f-8061-4409-ba8a-5540c6312e59 div.sk-parallel::before {content: \"\";position: absolute;border-left: 1px solid gray;box-sizing: border-box;top: 2em;bottom: 0;left: 50%;}#sk-87871c8f-8061-4409-ba8a-5540c6312e59 div.sk-parallel-item {display: flex;flex-direction: column;position: relative;background-color: white;}#sk-87871c8f-8061-4409-ba8a-5540c6312e59 div.sk-parallel-item:first-child::after {align-self: flex-end;width: 50%;}#sk-87871c8f-8061-4409-ba8a-5540c6312e59 div.sk-parallel-item:last-child::after {align-self: flex-start;width: 50%;}#sk-87871c8f-8061-4409-ba8a-5540c6312e59 div.sk-parallel-item:only-child::after {width: 0;}#sk-87871c8f-8061-4409-ba8a-5540c6312e59 div.sk-dashed-wrapped {border: 1px dashed gray;margin: 0 0.4em 0.5em 0.4em;box-sizing: border-box;padding-bottom: 0.4em;background-color: white;position: relative;}#sk-87871c8f-8061-4409-ba8a-5540c6312e59 div.sk-label label {font-family: monospace;font-weight: bold;background-color: white;display: inline-block;line-height: 1.2em;}#sk-87871c8f-8061-4409-ba8a-5540c6312e59 div.sk-label-container {position: relative;z-index: 2;text-align: center;}#sk-87871c8f-8061-4409-ba8a-5540c6312e59 div.sk-container {display: inline-block;position: relative;}</style><div id=\"sk-87871c8f-8061-4409-ba8a-5540c6312e59\" class\"sk-top-container\"><div class=\"sk-container\"><div class=\"sk-item sk-dashed-wrapped\"><div class=\"sk-label-container\"><div class=\"sk-label sk-toggleable\"><input class=\"sk-toggleable__control sk-hidden--visually\" id=\"d7b26520-20e7-4ed1-aa76-1e67cad47bd2\" type=\"checkbox\" ><label class=\"sk-toggleable__label\" for=\"d7b26520-20e7-4ed1-aa76-1e67cad47bd2\">Pipeline</label><div class=\"sk-toggleable__content\"><pre>Pipeline(steps=[('preprocessing',\n",
       "                 ColumnTransformer(transformers=[('num_transformer',\n",
       "                                                  Pipeline(steps=[('num_imputer',\n",
       "                                                                   SimpleImputer(strategy='median')),\n",
       "                                                                  ('rb_scaler',\n",
       "                                                                   RobustScaler())]),\n",
       "                                                  <sklearn.compose._column_transformer.make_column_selector object at 0x12ae9fbe0>),\n",
       "                                                 ('cat_multi_transformer',\n",
       "                                                  OneHotEncoder(handle_unknown='ignore',\n",
       "                                                                sparse=False),\n",
       "                                                  ['BookCategory'])])),\n",
       "                ('linear_regression', Ridge())])</pre></div></div></div><div class=\"sk-serial\"><div class=\"sk-item sk-dashed-wrapped\"><div class=\"sk-label-container\"><div class=\"sk-label sk-toggleable\"><input class=\"sk-toggleable__control sk-hidden--visually\" id=\"d3db78a2-7e05-4bdf-937a-53fece356404\" type=\"checkbox\" ><label class=\"sk-toggleable__label\" for=\"d3db78a2-7e05-4bdf-937a-53fece356404\">preprocessing: ColumnTransformer</label><div class=\"sk-toggleable__content\"><pre>ColumnTransformer(transformers=[('num_transformer',\n",
       "                                 Pipeline(steps=[('num_imputer',\n",
       "                                                  SimpleImputer(strategy='median')),\n",
       "                                                 ('rb_scaler',\n",
       "                                                  RobustScaler())]),\n",
       "                                 <sklearn.compose._column_transformer.make_column_selector object at 0x12ae9fbe0>),\n",
       "                                ('cat_multi_transformer',\n",
       "                                 OneHotEncoder(handle_unknown='ignore',\n",
       "                                               sparse=False),\n",
       "                                 ['BookCategory'])])</pre></div></div></div><div class=\"sk-parallel\"><div class=\"sk-parallel-item\"><div class=\"sk-item\"><div class=\"sk-label-container\"><div class=\"sk-label sk-toggleable\"><input class=\"sk-toggleable__control sk-hidden--visually\" id=\"4b0bd249-b161-4937-93a8-16154c8e22cf\" type=\"checkbox\" ><label class=\"sk-toggleable__label\" for=\"4b0bd249-b161-4937-93a8-16154c8e22cf\">num_transformer</label><div class=\"sk-toggleable__content\"><pre><sklearn.compose._column_transformer.make_column_selector object at 0x12ae9fbe0></pre></div></div></div><div class=\"sk-serial\"><div class=\"sk-item\"><div class=\"sk-serial\"><div class=\"sk-item\"><div class=\"sk-estimator sk-toggleable\"><input class=\"sk-toggleable__control sk-hidden--visually\" id=\"0b84e80a-df4a-46ae-ba35-62367c093368\" type=\"checkbox\" ><label class=\"sk-toggleable__label\" for=\"0b84e80a-df4a-46ae-ba35-62367c093368\">SimpleImputer</label><div class=\"sk-toggleable__content\"><pre>SimpleImputer(strategy='median')</pre></div></div></div><div class=\"sk-item\"><div class=\"sk-estimator sk-toggleable\"><input class=\"sk-toggleable__control sk-hidden--visually\" id=\"1ec297f3-6db4-4bf8-95bb-19e80b6d55ee\" type=\"checkbox\" ><label class=\"sk-toggleable__label\" for=\"1ec297f3-6db4-4bf8-95bb-19e80b6d55ee\">RobustScaler</label><div class=\"sk-toggleable__content\"><pre>RobustScaler()</pre></div></div></div></div></div></div></div></div><div class=\"sk-parallel-item\"><div class=\"sk-item\"><div class=\"sk-label-container\"><div class=\"sk-label sk-toggleable\"><input class=\"sk-toggleable__control sk-hidden--visually\" id=\"d690c5b4-f55b-4a5f-a8da-45707e20872e\" type=\"checkbox\" ><label class=\"sk-toggleable__label\" for=\"d690c5b4-f55b-4a5f-a8da-45707e20872e\">cat_multi_transformer</label><div class=\"sk-toggleable__content\"><pre>['BookCategory']</pre></div></div></div><div class=\"sk-serial\"><div class=\"sk-item\"><div class=\"sk-estimator sk-toggleable\"><input class=\"sk-toggleable__control sk-hidden--visually\" id=\"1afd3563-b25e-4191-be64-3a682a72adfd\" type=\"checkbox\" ><label class=\"sk-toggleable__label\" for=\"1afd3563-b25e-4191-be64-3a682a72adfd\">OneHotEncoder</label><div class=\"sk-toggleable__content\"><pre>OneHotEncoder(handle_unknown='ignore', sparse=False)</pre></div></div></div></div></div></div></div></div><div class=\"sk-item\"><div class=\"sk-estimator sk-toggleable\"><input class=\"sk-toggleable__control sk-hidden--visually\" id=\"7ca1f0e3-0b4f-49f4-a7c2-0efd06905068\" type=\"checkbox\" ><label class=\"sk-toggleable__label\" for=\"7ca1f0e3-0b4f-49f4-a7c2-0efd06905068\">Ridge</label><div class=\"sk-toggleable__content\"><pre>Ridge()</pre></div></div></div></div></div></div></div>"
      ],
      "text/plain": [
       "Pipeline(steps=[('preprocessing',\n",
       "                 ColumnTransformer(transformers=[('num_transformer',\n",
       "                                                  Pipeline(steps=[('num_imputer',\n",
       "                                                                   SimpleImputer(strategy='median')),\n",
       "                                                                  ('rb_scaler',\n",
       "                                                                   RobustScaler())]),\n",
       "                                                  <sklearn.compose._column_transformer.make_column_selector object at 0x12ae9fbe0>),\n",
       "                                                 ('cat_multi_transformer',\n",
       "                                                  OneHotEncoder(handle_unknown='ignore',\n",
       "                                                                sparse=False),\n",
       "                                                  ['BookCategory'])])),\n",
       "                ('linear_regression', Ridge())])"
      ]
     },
     "execution_count": 64,
     "metadata": {},
     "output_type": "execute_result"
    }
   ],
   "source": [
    "from sklearn.linear_model import Ridge\n",
    "\n",
    "# Combine preprocessor and Ridge regressor in pipeline\n",
    "pipe_baseline = Pipeline([\n",
    "    ('preprocessing', preprocessor),\n",
    "    ('linear_regression', Ridge())])\n",
    "pipe_baseline"
   ]
  },
  {
   "cell_type": "code",
   "execution_count": 65,
   "id": "66cd48a4",
   "metadata": {},
   "outputs": [],
   "source": [
    "from sklearn.metrics import mean_squared_log_error, make_scorer\n",
    "\n",
    "def root_mean_squared_log_error(y_true, y_pred):\n",
    "    t = np.array(y_true)\n",
    "    p = np.array(y_pred)\n",
    "    log_error = np.log(1+t) - np.log(1+p)\n",
    "    return ((log_error**2).mean())**0.5\n",
    "\n",
    "# Minimize this one \n",
    "rmsle = make_scorer(root_mean_squared_log_error)\n",
    "\n",
    "# Maximize this one\n",
    "rmsle_neg = make_scorer(lambda y_true, y_pred: -1 * root_mean_squared_log_error(y_true, y_pred))"
   ]
  },
  {
   "cell_type": "code",
   "execution_count": 66,
   "id": "cc5b1954",
   "metadata": {},
   "outputs": [
    {
     "data": {
      "text/html": [
       "<style>#sk-db883676-8cef-485a-a68e-b14a99b466f1 {color: black;background-color: white;}#sk-db883676-8cef-485a-a68e-b14a99b466f1 pre{padding: 0;}#sk-db883676-8cef-485a-a68e-b14a99b466f1 div.sk-toggleable {background-color: white;}#sk-db883676-8cef-485a-a68e-b14a99b466f1 label.sk-toggleable__label {cursor: pointer;display: block;width: 100%;margin-bottom: 0;padding: 0.3em;box-sizing: border-box;text-align: center;}#sk-db883676-8cef-485a-a68e-b14a99b466f1 div.sk-toggleable__content {max-height: 0;max-width: 0;overflow: hidden;text-align: left;background-color: #f0f8ff;}#sk-db883676-8cef-485a-a68e-b14a99b466f1 div.sk-toggleable__content pre {margin: 0.2em;color: black;border-radius: 0.25em;background-color: #f0f8ff;}#sk-db883676-8cef-485a-a68e-b14a99b466f1 input.sk-toggleable__control:checked~div.sk-toggleable__content {max-height: 200px;max-width: 100%;overflow: auto;}#sk-db883676-8cef-485a-a68e-b14a99b466f1 div.sk-estimator input.sk-toggleable__control:checked~label.sk-toggleable__label {background-color: #d4ebff;}#sk-db883676-8cef-485a-a68e-b14a99b466f1 div.sk-label input.sk-toggleable__control:checked~label.sk-toggleable__label {background-color: #d4ebff;}#sk-db883676-8cef-485a-a68e-b14a99b466f1 input.sk-hidden--visually {border: 0;clip: rect(1px 1px 1px 1px);clip: rect(1px, 1px, 1px, 1px);height: 1px;margin: -1px;overflow: hidden;padding: 0;position: absolute;width: 1px;}#sk-db883676-8cef-485a-a68e-b14a99b466f1 div.sk-estimator {font-family: monospace;background-color: #f0f8ff;border: 1px dotted black;border-radius: 0.25em;box-sizing: border-box;margin-bottom: 0.5em;}#sk-db883676-8cef-485a-a68e-b14a99b466f1 div.sk-estimator:hover {background-color: #d4ebff;}#sk-db883676-8cef-485a-a68e-b14a99b466f1 div.sk-parallel-item::after {content: \"\";width: 100%;border-bottom: 1px solid gray;flex-grow: 1;}#sk-db883676-8cef-485a-a68e-b14a99b466f1 div.sk-label:hover label.sk-toggleable__label {background-color: #d4ebff;}#sk-db883676-8cef-485a-a68e-b14a99b466f1 div.sk-serial::before {content: \"\";position: absolute;border-left: 1px solid gray;box-sizing: border-box;top: 2em;bottom: 0;left: 50%;}#sk-db883676-8cef-485a-a68e-b14a99b466f1 div.sk-serial {display: flex;flex-direction: column;align-items: center;background-color: white;padding-right: 0.2em;padding-left: 0.2em;}#sk-db883676-8cef-485a-a68e-b14a99b466f1 div.sk-item {z-index: 1;}#sk-db883676-8cef-485a-a68e-b14a99b466f1 div.sk-parallel {display: flex;align-items: stretch;justify-content: center;background-color: white;}#sk-db883676-8cef-485a-a68e-b14a99b466f1 div.sk-parallel::before {content: \"\";position: absolute;border-left: 1px solid gray;box-sizing: border-box;top: 2em;bottom: 0;left: 50%;}#sk-db883676-8cef-485a-a68e-b14a99b466f1 div.sk-parallel-item {display: flex;flex-direction: column;position: relative;background-color: white;}#sk-db883676-8cef-485a-a68e-b14a99b466f1 div.sk-parallel-item:first-child::after {align-self: flex-end;width: 50%;}#sk-db883676-8cef-485a-a68e-b14a99b466f1 div.sk-parallel-item:last-child::after {align-self: flex-start;width: 50%;}#sk-db883676-8cef-485a-a68e-b14a99b466f1 div.sk-parallel-item:only-child::after {width: 0;}#sk-db883676-8cef-485a-a68e-b14a99b466f1 div.sk-dashed-wrapped {border: 1px dashed gray;margin: 0 0.4em 0.5em 0.4em;box-sizing: border-box;padding-bottom: 0.4em;background-color: white;position: relative;}#sk-db883676-8cef-485a-a68e-b14a99b466f1 div.sk-label label {font-family: monospace;font-weight: bold;background-color: white;display: inline-block;line-height: 1.2em;}#sk-db883676-8cef-485a-a68e-b14a99b466f1 div.sk-label-container {position: relative;z-index: 2;text-align: center;}#sk-db883676-8cef-485a-a68e-b14a99b466f1 div.sk-container {display: inline-block;position: relative;}</style><div id=\"sk-db883676-8cef-485a-a68e-b14a99b466f1\" class\"sk-top-container\"><div class=\"sk-container\"><div class=\"sk-item sk-dashed-wrapped\"><div class=\"sk-label-container\"><div class=\"sk-label sk-toggleable\"><input class=\"sk-toggleable__control sk-hidden--visually\" id=\"81e017da-243e-4a37-8660-5c17f07b134e\" type=\"checkbox\" ><label class=\"sk-toggleable__label\" for=\"81e017da-243e-4a37-8660-5c17f07b134e\">Pipeline</label><div class=\"sk-toggleable__content\"><pre>Pipeline(steps=[('preprocessing',\n",
       "                 ColumnTransformer(transformers=[('num_transformer',\n",
       "                                                  Pipeline(steps=[('num_imputer',\n",
       "                                                                   SimpleImputer(strategy='median')),\n",
       "                                                                  ('rb_scaler',\n",
       "                                                                   RobustScaler())]),\n",
       "                                                  <sklearn.compose._column_transformer.make_column_selector object at 0x12ae9fbe0>),\n",
       "                                                 ('cat_multi_transformer',\n",
       "                                                  OneHotEncoder(handle_unknown='ignore',\n",
       "                                                                sparse=False),\n",
       "                                                  ['BookCategory'])])),\n",
       "                ('linear_regression', Ridge())])</pre></div></div></div><div class=\"sk-serial\"><div class=\"sk-item sk-dashed-wrapped\"><div class=\"sk-label-container\"><div class=\"sk-label sk-toggleable\"><input class=\"sk-toggleable__control sk-hidden--visually\" id=\"fa763bdd-1ec8-4bdf-83d4-4a3aa79765b2\" type=\"checkbox\" ><label class=\"sk-toggleable__label\" for=\"fa763bdd-1ec8-4bdf-83d4-4a3aa79765b2\">preprocessing: ColumnTransformer</label><div class=\"sk-toggleable__content\"><pre>ColumnTransformer(transformers=[('num_transformer',\n",
       "                                 Pipeline(steps=[('num_imputer',\n",
       "                                                  SimpleImputer(strategy='median')),\n",
       "                                                 ('rb_scaler',\n",
       "                                                  RobustScaler())]),\n",
       "                                 <sklearn.compose._column_transformer.make_column_selector object at 0x12ae9fbe0>),\n",
       "                                ('cat_multi_transformer',\n",
       "                                 OneHotEncoder(handle_unknown='ignore',\n",
       "                                               sparse=False),\n",
       "                                 ['BookCategory'])])</pre></div></div></div><div class=\"sk-parallel\"><div class=\"sk-parallel-item\"><div class=\"sk-item\"><div class=\"sk-label-container\"><div class=\"sk-label sk-toggleable\"><input class=\"sk-toggleable__control sk-hidden--visually\" id=\"928d265b-eb97-425d-baa7-8dfc258140bd\" type=\"checkbox\" ><label class=\"sk-toggleable__label\" for=\"928d265b-eb97-425d-baa7-8dfc258140bd\">num_transformer</label><div class=\"sk-toggleable__content\"><pre><sklearn.compose._column_transformer.make_column_selector object at 0x12ae9fbe0></pre></div></div></div><div class=\"sk-serial\"><div class=\"sk-item\"><div class=\"sk-serial\"><div class=\"sk-item\"><div class=\"sk-estimator sk-toggleable\"><input class=\"sk-toggleable__control sk-hidden--visually\" id=\"d5a33652-3dfb-4d16-b521-1f7eb6da47aa\" type=\"checkbox\" ><label class=\"sk-toggleable__label\" for=\"d5a33652-3dfb-4d16-b521-1f7eb6da47aa\">SimpleImputer</label><div class=\"sk-toggleable__content\"><pre>SimpleImputer(strategy='median')</pre></div></div></div><div class=\"sk-item\"><div class=\"sk-estimator sk-toggleable\"><input class=\"sk-toggleable__control sk-hidden--visually\" id=\"4c85f055-c8b7-4cce-8e5f-d090ca3ff9f1\" type=\"checkbox\" ><label class=\"sk-toggleable__label\" for=\"4c85f055-c8b7-4cce-8e5f-d090ca3ff9f1\">RobustScaler</label><div class=\"sk-toggleable__content\"><pre>RobustScaler()</pre></div></div></div></div></div></div></div></div><div class=\"sk-parallel-item\"><div class=\"sk-item\"><div class=\"sk-label-container\"><div class=\"sk-label sk-toggleable\"><input class=\"sk-toggleable__control sk-hidden--visually\" id=\"93c099de-05d6-4266-b23b-bb1056ae7e42\" type=\"checkbox\" ><label class=\"sk-toggleable__label\" for=\"93c099de-05d6-4266-b23b-bb1056ae7e42\">cat_multi_transformer</label><div class=\"sk-toggleable__content\"><pre>['BookCategory']</pre></div></div></div><div class=\"sk-serial\"><div class=\"sk-item\"><div class=\"sk-estimator sk-toggleable\"><input class=\"sk-toggleable__control sk-hidden--visually\" id=\"51741cf9-7066-4704-9275-4910114f6450\" type=\"checkbox\" ><label class=\"sk-toggleable__label\" for=\"51741cf9-7066-4704-9275-4910114f6450\">OneHotEncoder</label><div class=\"sk-toggleable__content\"><pre>OneHotEncoder(handle_unknown='ignore', sparse=False)</pre></div></div></div></div></div></div></div></div><div class=\"sk-item\"><div class=\"sk-estimator sk-toggleable\"><input class=\"sk-toggleable__control sk-hidden--visually\" id=\"605a71bb-bdd3-4a76-a92d-cf58233a8336\" type=\"checkbox\" ><label class=\"sk-toggleable__label\" for=\"605a71bb-bdd3-4a76-a92d-cf58233a8336\">Ridge</label><div class=\"sk-toggleable__content\"><pre>Ridge()</pre></div></div></div></div></div></div></div>"
      ],
      "text/plain": [
       "Pipeline(steps=[('preprocessing',\n",
       "                 ColumnTransformer(transformers=[('num_transformer',\n",
       "                                                  Pipeline(steps=[('num_imputer',\n",
       "                                                                   SimpleImputer(strategy='median')),\n",
       "                                                                  ('rb_scaler',\n",
       "                                                                   RobustScaler())]),\n",
       "                                                  <sklearn.compose._column_transformer.make_column_selector object at 0x12ae9fbe0>),\n",
       "                                                 ('cat_multi_transformer',\n",
       "                                                  OneHotEncoder(handle_unknown='ignore',\n",
       "                                                                sparse=False),\n",
       "                                                  ['BookCategory'])])),\n",
       "                ('linear_regression', Ridge())])"
      ]
     },
     "execution_count": 66,
     "metadata": {},
     "output_type": "execute_result"
    }
   ],
   "source": [
    "pipe_baseline.fit(X_train, np.array(y_train).ravel())"
   ]
  },
  {
   "cell_type": "code",
   "execution_count": 67,
   "id": "d190dc77",
   "metadata": {},
   "outputs": [
    {
     "data": {
      "text/plain": [
       "array([444.43714833, 865.68202134, 348.35738677, ..., 400.45524457,\n",
       "       685.60976207, 457.42738003])"
      ]
     },
     "execution_count": 67,
     "metadata": {},
     "output_type": "execute_result"
    }
   ],
   "source": [
    "predictions = pipe_baseline.predict(X_test)\n",
    "predictions"
   ]
  },
  {
   "cell_type": "code",
   "execution_count": 70,
   "id": "e56bde83",
   "metadata": {},
   "outputs": [
    {
     "data": {
      "text/plain": [
       "nan"
      ]
     },
     "execution_count": 70,
     "metadata": {},
     "output_type": "execute_result"
    }
   ],
   "source": [
    "from sklearn.model_selection import cross_val_score\n",
    "from sklearn.model_selection import cross_validate\n",
    "\n",
    "score_baseline = cross_validate(pipe_baseline, X, y, cv=5, scoring = rmsle, n_jobs = -1)[\"test_score\"].mean()\n",
    "score_baseline"
   ]
  },
  {
   "cell_type": "code",
   "execution_count": 75,
   "id": "83eb7fa2",
   "metadata": {},
   "outputs": [],
   "source": [
    "cv_results = cross_validate(pipe_baseline,\n",
    "                           X_train,\n",
    "                           y_train,\n",
    "                           cv = 5,\n",
    "                           n_jobs = -1,\n",
    "                           scoring = \"r2\")"
   ]
  },
  {
   "cell_type": "code",
   "execution_count": 77,
   "id": "df72714e",
   "metadata": {},
   "outputs": [
    {
     "data": {
      "text/plain": [
       "0.600283582323131"
      ]
     },
     "execution_count": 77,
     "metadata": {},
     "output_type": "execute_result"
    }
   ],
   "source": [
    "cv_results['test_score'].mean()"
   ]
  },
  {
   "cell_type": "code",
   "execution_count": 71,
   "id": "9217273b",
   "metadata": {},
   "outputs": [
    {
     "data": {
      "text/plain": [
       "array([420.080638  , 861.3489948 , 347.26341234, ..., 403.54718813,\n",
       "       688.56140793, 461.73116224])"
      ]
     },
     "execution_count": 71,
     "metadata": {},
     "output_type": "execute_result"
    }
   ],
   "source": [
    "pipe_baseline.fit(X,y)\n",
    "y_pred_baseline = pipe_baseline.predict(X_test)\n",
    "y_pred_baseline"
   ]
  },
  {
   "cell_type": "markdown",
   "id": "6f3f92f8",
   "metadata": {},
   "source": [
    "> **Chosing a Model**"
   ]
  },
  {
   "cell_type": "code",
   "execution_count": 79,
   "id": "ea49f986",
   "metadata": {},
   "outputs": [],
   "source": [
    "from sklearn.ensemble import RandomForestRegressor\n",
    "from sklearn.ensemble import GradientBoostingRegressor\n",
    "from sklearn.tree import DecisionTreeRegressor"
   ]
  },
  {
   "cell_type": "code",
   "execution_count": 82,
   "id": "12d191f9",
   "metadata": {},
   "outputs": [],
   "source": [
    "rfr = RandomForestRegressor()\n",
    "gbr = GradientBoostingRegressor()\n",
    "dtr = DecisionTreeRegressor()"
   ]
  },
  {
   "cell_type": "code",
   "execution_count": 83,
   "id": "d76d2efe",
   "metadata": {},
   "outputs": [],
   "source": [
    "competitors_names = [\"rdforest\",\n",
    "                     \"gradBoost\",\n",
    "                     \"Tree\"]"
   ]
  },
  {
   "cell_type": "code",
   "execution_count": 84,
   "id": "61bcec59",
   "metadata": {},
   "outputs": [],
   "source": [
    "competitors = [rfr,gbr,dtr]"
   ]
  },
  {
   "cell_type": "code",
   "execution_count": 103,
   "id": "3481c1d2",
   "metadata": {},
   "outputs": [],
   "source": [
    "from sklearn.metrics import accuracy_score,mean_squared_error,r2_score"
   ]
  },
  {
   "cell_type": "code",
   "execution_count": 104,
   "id": "4cea5f34",
   "metadata": {},
   "outputs": [
    {
     "name": "stdout",
     "output_type": "stream",
     "text": [
      "CPU times: user 1.37 s, sys: 55.8 ms, total: 1.43 s\n",
      "Wall time: 1.68 s\n"
     ]
    }
   ],
   "source": [
    "%%time\n",
    "\n",
    "models = []\n",
    "train_mse = []\n",
    "test_mse = []\n",
    "train_r2 = []\n",
    "test_r2 = []\n",
    "computational_times = []\n",
    "\n",
    "for model in competitors:\n",
    "    \n",
    "    pipelined_model = make_pipeline(\n",
    "        preprocessor,\n",
    "        model\n",
    "    )\n",
    "    start_time = time.time()\n",
    "    \n",
    "    pipelined_model.fit(X_train, np.array(y_train).ravel())\n",
    "\n",
    "    pipelined_model_predictions_train = pipelined_model.predict(X_train)\n",
    "    pipelined_model_mse_score_train = mean_squared_error(np.array(y_train).ravel(),pipelined_model_predictions_train)\n",
    "    pipelined_model_r2_score_train = r2_score(np.array(y_train).ravel(),pipelined_model_predictions_train)\n",
    "    \n",
    "    pipelined_model_predictions_test = pipelined_model.predict(X_test)\n",
    "    pipelined_model_mse_score_test = mean_squared_error(np.array(y_test).ravel(),pipelined_model_predictions_test)\n",
    "    pipelined_model_r2_score_test = r2_score(np.array(y_test).ravel(),pipelined_model_predictions_test)\n",
    "    \n",
    "    end_time = time.time()\n",
    "    computational_time = end_time - start_time\n",
    "    \n",
    "    models.append(model)\n",
    "    train_mse.append(pipelined_model_mse_score_train)\n",
    "    test_mse.append(pipelined_model_mse_score_test)\n",
    "    train_r2.append(pipelined_model_mse_score_train)\n",
    "    test_r2.append(pipelined_model_mse_score_test)\n",
    "    computational_times.append(computational_time)"
   ]
  },
  {
   "cell_type": "code",
   "execution_count": 114,
   "id": "c0a4728b",
   "metadata": {},
   "outputs": [
    {
     "data": {
      "text/plain": [
       "[0.27140176282051137, 7.676267766426039, 0.5048076923076923]"
      ]
     },
     "execution_count": 114,
     "metadata": {},
     "output_type": "execute_result"
    }
   ],
   "source": [
    "test_mse"
   ]
  },
  {
   "cell_type": "code",
   "execution_count": 122,
   "id": "b75d9c43",
   "metadata": {},
   "outputs": [
    {
     "data": {
      "text/plain": [
       "0    0.039190\n",
       "1    6.990613\n",
       "2    0.000000\n",
       "dtype: float64"
      ]
     },
     "execution_count": 122,
     "metadata": {},
     "output_type": "execute_result"
    }
   ],
   "source": [
    "pd.Series(train_mse)"
   ]
  },
  {
   "cell_type": "code",
   "execution_count": 116,
   "id": "a6c3b1c0",
   "metadata": {},
   "outputs": [
    {
     "data": {
      "text/plain": [
       "[1.0513601303100586, 0.5753262042999268, 0.05078721046447754]"
      ]
     },
     "execution_count": 116,
     "metadata": {},
     "output_type": "execute_result"
    }
   ],
   "source": [
    "computational_times"
   ]
  },
  {
   "cell_type": "code",
   "execution_count": 132,
   "id": "5699b2fa",
   "metadata": {},
   "outputs": [
    {
     "data": {
      "text/html": [
       "<div>\n",
       "<style scoped>\n",
       "    .dataframe tbody tr th:only-of-type {\n",
       "        vertical-align: middle;\n",
       "    }\n",
       "\n",
       "    .dataframe tbody tr th {\n",
       "        vertical-align: top;\n",
       "    }\n",
       "\n",
       "    .dataframe thead th {\n",
       "        text-align: right;\n",
       "    }\n",
       "</style>\n",
       "<table border=\"1\" class=\"dataframe\">\n",
       "  <thead>\n",
       "    <tr style=\"text-align: right;\">\n",
       "      <th></th>\n",
       "      <th>competitors</th>\n",
       "      <th>test_mse</th>\n",
       "      <th>train_mse</th>\n",
       "      <th>test_r2</th>\n",
       "      <th>train_r2</th>\n",
       "      <th>comp_time</th>\n",
       "    </tr>\n",
       "  </thead>\n",
       "  <tbody>\n",
       "    <tr>\n",
       "      <th>1</th>\n",
       "      <td>gradBoost</td>\n",
       "      <td>7.68</td>\n",
       "      <td>6.99</td>\n",
       "      <td>7.68</td>\n",
       "      <td>6.99</td>\n",
       "      <td>0.58</td>\n",
       "    </tr>\n",
       "    <tr>\n",
       "      <th>2</th>\n",
       "      <td>Tree</td>\n",
       "      <td>0.50</td>\n",
       "      <td>0.00</td>\n",
       "      <td>0.50</td>\n",
       "      <td>0.00</td>\n",
       "      <td>0.05</td>\n",
       "    </tr>\n",
       "    <tr>\n",
       "      <th>0</th>\n",
       "      <td>rdforest</td>\n",
       "      <td>0.27</td>\n",
       "      <td>0.04</td>\n",
       "      <td>0.27</td>\n",
       "      <td>0.04</td>\n",
       "      <td>1.05</td>\n",
       "    </tr>\n",
       "  </tbody>\n",
       "</table>\n",
       "</div>"
      ],
      "text/plain": [
       "  competitors  test_mse  train_mse  test_r2  train_r2  comp_time\n",
       "1   gradBoost      7.68       6.99     7.68      6.99       0.58\n",
       "2        Tree      0.50       0.00     0.50      0.00       0.05\n",
       "0    rdforest      0.27       0.04     0.27      0.04       1.05"
      ]
     },
     "execution_count": 132,
     "metadata": {},
     "output_type": "execute_result"
    }
   ],
   "source": [
    "summary_df = pd.concat([pd.Series(competitors_names),\n",
    "                      pd.Series(test_mse),\n",
    "                       pd.Series(train_mse),\n",
    "                       pd.Series(test_r2),\n",
    "                       pd.Series(train_r2),\n",
    "                       pd.Series(computational_times)], axis =1)\n",
    "\n",
    "summary_df.columns = [\"competitors\",\"test_mse\",'train_mse','test_r2','train_r2','comp_time']\n",
    "\n",
    "summary_df\n",
    "\n",
    "round(summary_df.sort_values(by = \"test_r2\", ascending = False),2)"
   ]
  },
  {
   "cell_type": "code",
   "execution_count": 97,
   "id": "2a6f93ee",
   "metadata": {},
   "outputs": [
    {
     "data": {
      "text/html": [
       "<style>#sk-797d4e26-7c2a-4b10-86c5-b1bb53390a8b {color: black;background-color: white;}#sk-797d4e26-7c2a-4b10-86c5-b1bb53390a8b pre{padding: 0;}#sk-797d4e26-7c2a-4b10-86c5-b1bb53390a8b div.sk-toggleable {background-color: white;}#sk-797d4e26-7c2a-4b10-86c5-b1bb53390a8b label.sk-toggleable__label {cursor: pointer;display: block;width: 100%;margin-bottom: 0;padding: 0.3em;box-sizing: border-box;text-align: center;}#sk-797d4e26-7c2a-4b10-86c5-b1bb53390a8b div.sk-toggleable__content {max-height: 0;max-width: 0;overflow: hidden;text-align: left;background-color: #f0f8ff;}#sk-797d4e26-7c2a-4b10-86c5-b1bb53390a8b div.sk-toggleable__content pre {margin: 0.2em;color: black;border-radius: 0.25em;background-color: #f0f8ff;}#sk-797d4e26-7c2a-4b10-86c5-b1bb53390a8b input.sk-toggleable__control:checked~div.sk-toggleable__content {max-height: 200px;max-width: 100%;overflow: auto;}#sk-797d4e26-7c2a-4b10-86c5-b1bb53390a8b div.sk-estimator input.sk-toggleable__control:checked~label.sk-toggleable__label {background-color: #d4ebff;}#sk-797d4e26-7c2a-4b10-86c5-b1bb53390a8b div.sk-label input.sk-toggleable__control:checked~label.sk-toggleable__label {background-color: #d4ebff;}#sk-797d4e26-7c2a-4b10-86c5-b1bb53390a8b input.sk-hidden--visually {border: 0;clip: rect(1px 1px 1px 1px);clip: rect(1px, 1px, 1px, 1px);height: 1px;margin: -1px;overflow: hidden;padding: 0;position: absolute;width: 1px;}#sk-797d4e26-7c2a-4b10-86c5-b1bb53390a8b div.sk-estimator {font-family: monospace;background-color: #f0f8ff;border: 1px dotted black;border-radius: 0.25em;box-sizing: border-box;margin-bottom: 0.5em;}#sk-797d4e26-7c2a-4b10-86c5-b1bb53390a8b div.sk-estimator:hover {background-color: #d4ebff;}#sk-797d4e26-7c2a-4b10-86c5-b1bb53390a8b div.sk-parallel-item::after {content: \"\";width: 100%;border-bottom: 1px solid gray;flex-grow: 1;}#sk-797d4e26-7c2a-4b10-86c5-b1bb53390a8b div.sk-label:hover label.sk-toggleable__label {background-color: #d4ebff;}#sk-797d4e26-7c2a-4b10-86c5-b1bb53390a8b div.sk-serial::before {content: \"\";position: absolute;border-left: 1px solid gray;box-sizing: border-box;top: 2em;bottom: 0;left: 50%;}#sk-797d4e26-7c2a-4b10-86c5-b1bb53390a8b div.sk-serial {display: flex;flex-direction: column;align-items: center;background-color: white;padding-right: 0.2em;padding-left: 0.2em;}#sk-797d4e26-7c2a-4b10-86c5-b1bb53390a8b div.sk-item {z-index: 1;}#sk-797d4e26-7c2a-4b10-86c5-b1bb53390a8b div.sk-parallel {display: flex;align-items: stretch;justify-content: center;background-color: white;}#sk-797d4e26-7c2a-4b10-86c5-b1bb53390a8b div.sk-parallel::before {content: \"\";position: absolute;border-left: 1px solid gray;box-sizing: border-box;top: 2em;bottom: 0;left: 50%;}#sk-797d4e26-7c2a-4b10-86c5-b1bb53390a8b div.sk-parallel-item {display: flex;flex-direction: column;position: relative;background-color: white;}#sk-797d4e26-7c2a-4b10-86c5-b1bb53390a8b div.sk-parallel-item:first-child::after {align-self: flex-end;width: 50%;}#sk-797d4e26-7c2a-4b10-86c5-b1bb53390a8b div.sk-parallel-item:last-child::after {align-self: flex-start;width: 50%;}#sk-797d4e26-7c2a-4b10-86c5-b1bb53390a8b div.sk-parallel-item:only-child::after {width: 0;}#sk-797d4e26-7c2a-4b10-86c5-b1bb53390a8b div.sk-dashed-wrapped {border: 1px dashed gray;margin: 0 0.4em 0.5em 0.4em;box-sizing: border-box;padding-bottom: 0.4em;background-color: white;position: relative;}#sk-797d4e26-7c2a-4b10-86c5-b1bb53390a8b div.sk-label label {font-family: monospace;font-weight: bold;background-color: white;display: inline-block;line-height: 1.2em;}#sk-797d4e26-7c2a-4b10-86c5-b1bb53390a8b div.sk-label-container {position: relative;z-index: 2;text-align: center;}#sk-797d4e26-7c2a-4b10-86c5-b1bb53390a8b div.sk-container {display: inline-block;position: relative;}</style><div id=\"sk-797d4e26-7c2a-4b10-86c5-b1bb53390a8b\" class\"sk-top-container\"><div class=\"sk-container\"><div class=\"sk-item sk-dashed-wrapped\"><div class=\"sk-label-container\"><div class=\"sk-label sk-toggleable\"><input class=\"sk-toggleable__control sk-hidden--visually\" id=\"5b06338a-1062-48d5-99ec-ec2be903791a\" type=\"checkbox\" ><label class=\"sk-toggleable__label\" for=\"5b06338a-1062-48d5-99ec-ec2be903791a\">Pipeline</label><div class=\"sk-toggleable__content\"><pre>Pipeline(steps=[('preprocessing',\n",
       "                 ColumnTransformer(transformers=[('num_transformer',\n",
       "                                                  Pipeline(steps=[('num_imputer',\n",
       "                                                                   SimpleImputer(strategy='median')),\n",
       "                                                                  ('rb_scaler',\n",
       "                                                                   RobustScaler())]),\n",
       "                                                  <sklearn.compose._column_transformer.make_column_selector object at 0x12ae9fbe0>),\n",
       "                                                 ('cat_multi_transformer',\n",
       "                                                  OneHotEncoder(handle_unknown='ignore',\n",
       "                                                                sparse=False),\n",
       "                                                  ['BookCategory'])])),\n",
       "                ('linear_regression', GradientBoostingRegressor())])</pre></div></div></div><div class=\"sk-serial\"><div class=\"sk-item sk-dashed-wrapped\"><div class=\"sk-label-container\"><div class=\"sk-label sk-toggleable\"><input class=\"sk-toggleable__control sk-hidden--visually\" id=\"4af097dd-bd48-4f83-8ba5-ddbb58dc0c7e\" type=\"checkbox\" ><label class=\"sk-toggleable__label\" for=\"4af097dd-bd48-4f83-8ba5-ddbb58dc0c7e\">preprocessing: ColumnTransformer</label><div class=\"sk-toggleable__content\"><pre>ColumnTransformer(transformers=[('num_transformer',\n",
       "                                 Pipeline(steps=[('num_imputer',\n",
       "                                                  SimpleImputer(strategy='median')),\n",
       "                                                 ('rb_scaler',\n",
       "                                                  RobustScaler())]),\n",
       "                                 <sklearn.compose._column_transformer.make_column_selector object at 0x12ae9fbe0>),\n",
       "                                ('cat_multi_transformer',\n",
       "                                 OneHotEncoder(handle_unknown='ignore',\n",
       "                                               sparse=False),\n",
       "                                 ['BookCategory'])])</pre></div></div></div><div class=\"sk-parallel\"><div class=\"sk-parallel-item\"><div class=\"sk-item\"><div class=\"sk-label-container\"><div class=\"sk-label sk-toggleable\"><input class=\"sk-toggleable__control sk-hidden--visually\" id=\"a141dbf7-0f84-4bc8-9e94-0010cb17a703\" type=\"checkbox\" ><label class=\"sk-toggleable__label\" for=\"a141dbf7-0f84-4bc8-9e94-0010cb17a703\">num_transformer</label><div class=\"sk-toggleable__content\"><pre><sklearn.compose._column_transformer.make_column_selector object at 0x12ae9fbe0></pre></div></div></div><div class=\"sk-serial\"><div class=\"sk-item\"><div class=\"sk-serial\"><div class=\"sk-item\"><div class=\"sk-estimator sk-toggleable\"><input class=\"sk-toggleable__control sk-hidden--visually\" id=\"0d39db4f-e76a-4671-b153-e4da0d531711\" type=\"checkbox\" ><label class=\"sk-toggleable__label\" for=\"0d39db4f-e76a-4671-b153-e4da0d531711\">SimpleImputer</label><div class=\"sk-toggleable__content\"><pre>SimpleImputer(strategy='median')</pre></div></div></div><div class=\"sk-item\"><div class=\"sk-estimator sk-toggleable\"><input class=\"sk-toggleable__control sk-hidden--visually\" id=\"8e39dfc9-2e07-4221-b4f7-01d8c79e8b2e\" type=\"checkbox\" ><label class=\"sk-toggleable__label\" for=\"8e39dfc9-2e07-4221-b4f7-01d8c79e8b2e\">RobustScaler</label><div class=\"sk-toggleable__content\"><pre>RobustScaler()</pre></div></div></div></div></div></div></div></div><div class=\"sk-parallel-item\"><div class=\"sk-item\"><div class=\"sk-label-container\"><div class=\"sk-label sk-toggleable\"><input class=\"sk-toggleable__control sk-hidden--visually\" id=\"1eb155dd-f89a-4b41-898f-29459e69e521\" type=\"checkbox\" ><label class=\"sk-toggleable__label\" for=\"1eb155dd-f89a-4b41-898f-29459e69e521\">cat_multi_transformer</label><div class=\"sk-toggleable__content\"><pre>['BookCategory']</pre></div></div></div><div class=\"sk-serial\"><div class=\"sk-item\"><div class=\"sk-estimator sk-toggleable\"><input class=\"sk-toggleable__control sk-hidden--visually\" id=\"46d7f064-fb99-4fb5-b4e9-95ba460661ef\" type=\"checkbox\" ><label class=\"sk-toggleable__label\" for=\"46d7f064-fb99-4fb5-b4e9-95ba460661ef\">OneHotEncoder</label><div class=\"sk-toggleable__content\"><pre>OneHotEncoder(handle_unknown='ignore', sparse=False)</pre></div></div></div></div></div></div></div></div><div class=\"sk-item\"><div class=\"sk-estimator sk-toggleable\"><input class=\"sk-toggleable__control sk-hidden--visually\" id=\"19c061b3-e525-4b86-a556-3bfd1a495270\" type=\"checkbox\" ><label class=\"sk-toggleable__label\" for=\"19c061b3-e525-4b86-a556-3bfd1a495270\">GradientBoostingRegressor</label><div class=\"sk-toggleable__content\"><pre>GradientBoostingRegressor()</pre></div></div></div></div></div></div></div>"
      ],
      "text/plain": [
       "Pipeline(steps=[('preprocessing',\n",
       "                 ColumnTransformer(transformers=[('num_transformer',\n",
       "                                                  Pipeline(steps=[('num_imputer',\n",
       "                                                                   SimpleImputer(strategy='median')),\n",
       "                                                                  ('rb_scaler',\n",
       "                                                                   RobustScaler())]),\n",
       "                                                  <sklearn.compose._column_transformer.make_column_selector object at 0x12ae9fbe0>),\n",
       "                                                 ('cat_multi_transformer',\n",
       "                                                  OneHotEncoder(handle_unknown='ignore',\n",
       "                                                                sparse=False),\n",
       "                                                  ['BookCategory'])])),\n",
       "                ('linear_regression', GradientBoostingRegressor())])"
      ]
     },
     "execution_count": 97,
     "metadata": {},
     "output_type": "execute_result"
    }
   ],
   "source": [
    "pipe_gradBoost = Pipeline([\n",
    "    ('preprocessing', preprocessor),\n",
    "    ('linear_regression', GradientBoostingRegressor())])\n",
    "pipe_gradBoost"
   ]
  },
  {
   "cell_type": "code",
   "execution_count": 98,
   "id": "e1897bbe",
   "metadata": {},
   "outputs": [
    {
     "data": {
      "text/plain": [
       "array([ 160.16836774, 1133.18757075,  202.91428414, ...,  399.38391909,\n",
       "        989.84379652,  540.18511569])"
      ]
     },
     "execution_count": 98,
     "metadata": {},
     "output_type": "execute_result"
    }
   ],
   "source": [
    "pipe_gradBoost.fit(X,y)\n",
    "y_pred_gradBoost = pipe_gradBoost.predict(X_test)\n",
    "y_pred_gradBoost"
   ]
  },
  {
   "cell_type": "code",
   "execution_count": 99,
   "id": "68142752",
   "metadata": {},
   "outputs": [],
   "source": [
    "pipe_Tree = Pipeline([\n",
    "    ('preprocessing', preprocessor),\n",
    "    ('linear_regression',DecisionTreeRegressor())\n",
    "])"
   ]
  },
  {
   "cell_type": "code",
   "execution_count": 100,
   "id": "aa03c5c2",
   "metadata": {},
   "outputs": [
    {
     "data": {
      "text/html": [
       "<style>#sk-14f645dc-8185-4c8b-aaef-e48d3c43745b {color: black;background-color: white;}#sk-14f645dc-8185-4c8b-aaef-e48d3c43745b pre{padding: 0;}#sk-14f645dc-8185-4c8b-aaef-e48d3c43745b div.sk-toggleable {background-color: white;}#sk-14f645dc-8185-4c8b-aaef-e48d3c43745b label.sk-toggleable__label {cursor: pointer;display: block;width: 100%;margin-bottom: 0;padding: 0.3em;box-sizing: border-box;text-align: center;}#sk-14f645dc-8185-4c8b-aaef-e48d3c43745b div.sk-toggleable__content {max-height: 0;max-width: 0;overflow: hidden;text-align: left;background-color: #f0f8ff;}#sk-14f645dc-8185-4c8b-aaef-e48d3c43745b div.sk-toggleable__content pre {margin: 0.2em;color: black;border-radius: 0.25em;background-color: #f0f8ff;}#sk-14f645dc-8185-4c8b-aaef-e48d3c43745b input.sk-toggleable__control:checked~div.sk-toggleable__content {max-height: 200px;max-width: 100%;overflow: auto;}#sk-14f645dc-8185-4c8b-aaef-e48d3c43745b div.sk-estimator input.sk-toggleable__control:checked~label.sk-toggleable__label {background-color: #d4ebff;}#sk-14f645dc-8185-4c8b-aaef-e48d3c43745b div.sk-label input.sk-toggleable__control:checked~label.sk-toggleable__label {background-color: #d4ebff;}#sk-14f645dc-8185-4c8b-aaef-e48d3c43745b input.sk-hidden--visually {border: 0;clip: rect(1px 1px 1px 1px);clip: rect(1px, 1px, 1px, 1px);height: 1px;margin: -1px;overflow: hidden;padding: 0;position: absolute;width: 1px;}#sk-14f645dc-8185-4c8b-aaef-e48d3c43745b div.sk-estimator {font-family: monospace;background-color: #f0f8ff;border: 1px dotted black;border-radius: 0.25em;box-sizing: border-box;margin-bottom: 0.5em;}#sk-14f645dc-8185-4c8b-aaef-e48d3c43745b div.sk-estimator:hover {background-color: #d4ebff;}#sk-14f645dc-8185-4c8b-aaef-e48d3c43745b div.sk-parallel-item::after {content: \"\";width: 100%;border-bottom: 1px solid gray;flex-grow: 1;}#sk-14f645dc-8185-4c8b-aaef-e48d3c43745b div.sk-label:hover label.sk-toggleable__label {background-color: #d4ebff;}#sk-14f645dc-8185-4c8b-aaef-e48d3c43745b div.sk-serial::before {content: \"\";position: absolute;border-left: 1px solid gray;box-sizing: border-box;top: 2em;bottom: 0;left: 50%;}#sk-14f645dc-8185-4c8b-aaef-e48d3c43745b div.sk-serial {display: flex;flex-direction: column;align-items: center;background-color: white;padding-right: 0.2em;padding-left: 0.2em;}#sk-14f645dc-8185-4c8b-aaef-e48d3c43745b div.sk-item {z-index: 1;}#sk-14f645dc-8185-4c8b-aaef-e48d3c43745b div.sk-parallel {display: flex;align-items: stretch;justify-content: center;background-color: white;}#sk-14f645dc-8185-4c8b-aaef-e48d3c43745b div.sk-parallel::before {content: \"\";position: absolute;border-left: 1px solid gray;box-sizing: border-box;top: 2em;bottom: 0;left: 50%;}#sk-14f645dc-8185-4c8b-aaef-e48d3c43745b div.sk-parallel-item {display: flex;flex-direction: column;position: relative;background-color: white;}#sk-14f645dc-8185-4c8b-aaef-e48d3c43745b div.sk-parallel-item:first-child::after {align-self: flex-end;width: 50%;}#sk-14f645dc-8185-4c8b-aaef-e48d3c43745b div.sk-parallel-item:last-child::after {align-self: flex-start;width: 50%;}#sk-14f645dc-8185-4c8b-aaef-e48d3c43745b div.sk-parallel-item:only-child::after {width: 0;}#sk-14f645dc-8185-4c8b-aaef-e48d3c43745b div.sk-dashed-wrapped {border: 1px dashed gray;margin: 0 0.4em 0.5em 0.4em;box-sizing: border-box;padding-bottom: 0.4em;background-color: white;position: relative;}#sk-14f645dc-8185-4c8b-aaef-e48d3c43745b div.sk-label label {font-family: monospace;font-weight: bold;background-color: white;display: inline-block;line-height: 1.2em;}#sk-14f645dc-8185-4c8b-aaef-e48d3c43745b div.sk-label-container {position: relative;z-index: 2;text-align: center;}#sk-14f645dc-8185-4c8b-aaef-e48d3c43745b div.sk-container {display: inline-block;position: relative;}</style><div id=\"sk-14f645dc-8185-4c8b-aaef-e48d3c43745b\" class\"sk-top-container\"><div class=\"sk-container\"><div class=\"sk-item sk-dashed-wrapped\"><div class=\"sk-label-container\"><div class=\"sk-label sk-toggleable\"><input class=\"sk-toggleable__control sk-hidden--visually\" id=\"667e7a7e-bf3a-46d7-ae88-91ba5fd23086\" type=\"checkbox\" ><label class=\"sk-toggleable__label\" for=\"667e7a7e-bf3a-46d7-ae88-91ba5fd23086\">Pipeline</label><div class=\"sk-toggleable__content\"><pre>Pipeline(steps=[('preprocessing',\n",
       "                 ColumnTransformer(transformers=[('num_transformer',\n",
       "                                                  Pipeline(steps=[('num_imputer',\n",
       "                                                                   SimpleImputer(strategy='median')),\n",
       "                                                                  ('rb_scaler',\n",
       "                                                                   RobustScaler())]),\n",
       "                                                  <sklearn.compose._column_transformer.make_column_selector object at 0x12ae9fbe0>),\n",
       "                                                 ('cat_multi_transformer',\n",
       "                                                  OneHotEncoder(handle_unknown='ignore',\n",
       "                                                                sparse=False),\n",
       "                                                  ['BookCategory'])])),\n",
       "                ('linear_regression', DecisionTreeRegressor())])</pre></div></div></div><div class=\"sk-serial\"><div class=\"sk-item sk-dashed-wrapped\"><div class=\"sk-label-container\"><div class=\"sk-label sk-toggleable\"><input class=\"sk-toggleable__control sk-hidden--visually\" id=\"4589925a-1c58-43b6-a1a1-8887ef0c0a75\" type=\"checkbox\" ><label class=\"sk-toggleable__label\" for=\"4589925a-1c58-43b6-a1a1-8887ef0c0a75\">preprocessing: ColumnTransformer</label><div class=\"sk-toggleable__content\"><pre>ColumnTransformer(transformers=[('num_transformer',\n",
       "                                 Pipeline(steps=[('num_imputer',\n",
       "                                                  SimpleImputer(strategy='median')),\n",
       "                                                 ('rb_scaler',\n",
       "                                                  RobustScaler())]),\n",
       "                                 <sklearn.compose._column_transformer.make_column_selector object at 0x12ae9fbe0>),\n",
       "                                ('cat_multi_transformer',\n",
       "                                 OneHotEncoder(handle_unknown='ignore',\n",
       "                                               sparse=False),\n",
       "                                 ['BookCategory'])])</pre></div></div></div><div class=\"sk-parallel\"><div class=\"sk-parallel-item\"><div class=\"sk-item\"><div class=\"sk-label-container\"><div class=\"sk-label sk-toggleable\"><input class=\"sk-toggleable__control sk-hidden--visually\" id=\"97da1259-1f7c-41e5-a596-76a213a53b0e\" type=\"checkbox\" ><label class=\"sk-toggleable__label\" for=\"97da1259-1f7c-41e5-a596-76a213a53b0e\">num_transformer</label><div class=\"sk-toggleable__content\"><pre><sklearn.compose._column_transformer.make_column_selector object at 0x12ae9fbe0></pre></div></div></div><div class=\"sk-serial\"><div class=\"sk-item\"><div class=\"sk-serial\"><div class=\"sk-item\"><div class=\"sk-estimator sk-toggleable\"><input class=\"sk-toggleable__control sk-hidden--visually\" id=\"7ecf8762-3f47-4562-9d1e-213b588c8874\" type=\"checkbox\" ><label class=\"sk-toggleable__label\" for=\"7ecf8762-3f47-4562-9d1e-213b588c8874\">SimpleImputer</label><div class=\"sk-toggleable__content\"><pre>SimpleImputer(strategy='median')</pre></div></div></div><div class=\"sk-item\"><div class=\"sk-estimator sk-toggleable\"><input class=\"sk-toggleable__control sk-hidden--visually\" id=\"6213ab98-4ec1-45f7-831d-c84126a98af8\" type=\"checkbox\" ><label class=\"sk-toggleable__label\" for=\"6213ab98-4ec1-45f7-831d-c84126a98af8\">RobustScaler</label><div class=\"sk-toggleable__content\"><pre>RobustScaler()</pre></div></div></div></div></div></div></div></div><div class=\"sk-parallel-item\"><div class=\"sk-item\"><div class=\"sk-label-container\"><div class=\"sk-label sk-toggleable\"><input class=\"sk-toggleable__control sk-hidden--visually\" id=\"fc7f6ad1-709c-4290-82b5-5cc86a085976\" type=\"checkbox\" ><label class=\"sk-toggleable__label\" for=\"fc7f6ad1-709c-4290-82b5-5cc86a085976\">cat_multi_transformer</label><div class=\"sk-toggleable__content\"><pre>['BookCategory']</pre></div></div></div><div class=\"sk-serial\"><div class=\"sk-item\"><div class=\"sk-estimator sk-toggleable\"><input class=\"sk-toggleable__control sk-hidden--visually\" id=\"7698fa61-ebba-42ad-a537-b306cf3999be\" type=\"checkbox\" ><label class=\"sk-toggleable__label\" for=\"7698fa61-ebba-42ad-a537-b306cf3999be\">OneHotEncoder</label><div class=\"sk-toggleable__content\"><pre>OneHotEncoder(handle_unknown='ignore', sparse=False)</pre></div></div></div></div></div></div></div></div><div class=\"sk-item\"><div class=\"sk-estimator sk-toggleable\"><input class=\"sk-toggleable__control sk-hidden--visually\" id=\"19320053-8643-4960-9223-28924a6ca2cb\" type=\"checkbox\" ><label class=\"sk-toggleable__label\" for=\"19320053-8643-4960-9223-28924a6ca2cb\">DecisionTreeRegressor</label><div class=\"sk-toggleable__content\"><pre>DecisionTreeRegressor()</pre></div></div></div></div></div></div></div>"
      ],
      "text/plain": [
       "Pipeline(steps=[('preprocessing',\n",
       "                 ColumnTransformer(transformers=[('num_transformer',\n",
       "                                                  Pipeline(steps=[('num_imputer',\n",
       "                                                                   SimpleImputer(strategy='median')),\n",
       "                                                                  ('rb_scaler',\n",
       "                                                                   RobustScaler())]),\n",
       "                                                  <sklearn.compose._column_transformer.make_column_selector object at 0x12ae9fbe0>),\n",
       "                                                 ('cat_multi_transformer',\n",
       "                                                  OneHotEncoder(handle_unknown='ignore',\n",
       "                                                                sparse=False),\n",
       "                                                  ['BookCategory'])])),\n",
       "                ('linear_regression', DecisionTreeRegressor())])"
      ]
     },
     "execution_count": 100,
     "metadata": {},
     "output_type": "execute_result"
    }
   ],
   "source": [
    "pipe_Tree"
   ]
  },
  {
   "cell_type": "code",
   "execution_count": 101,
   "id": "69889a55",
   "metadata": {},
   "outputs": [
    {
     "data": {
      "text/plain": [
       "array([ 158., 1134.,  203., ...,  399.,  990.,  547.])"
      ]
     },
     "execution_count": 101,
     "metadata": {},
     "output_type": "execute_result"
    }
   ],
   "source": [
    "pipe_Tree.fit(X,y)\n",
    "y_pred_Tree = pipe_Tree.predict(X_test)\n",
    "y_pred_Tree"
   ]
  },
  {
   "cell_type": "code",
   "execution_count": null,
   "id": "ab171845",
   "metadata": {},
   "outputs": [],
   "source": []
  }
 ],
 "metadata": {
  "kernelspec": {
   "display_name": "Python 3 (ipykernel)",
   "language": "python",
   "name": "python3"
  },
  "language_info": {
   "codemirror_mode": {
    "name": "ipython",
    "version": 3
   },
   "file_extension": ".py",
   "mimetype": "text/x-python",
   "name": "python",
   "nbconvert_exporter": "python",
   "pygments_lexer": "ipython3",
   "version": "3.8.6"
  },
  "toc": {
   "base_numbering": 1,
   "nav_menu": {},
   "number_sections": true,
   "sideBar": true,
   "skip_h1_title": false,
   "title_cell": "Table of Contents",
   "title_sidebar": "Contents",
   "toc_cell": false,
   "toc_position": {},
   "toc_section_display": true,
   "toc_window_display": false
  }
 },
 "nbformat": 4,
 "nbformat_minor": 5
}
